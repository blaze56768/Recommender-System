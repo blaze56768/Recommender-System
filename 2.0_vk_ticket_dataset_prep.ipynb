{
 "cells": [
  {
   "cell_type": "markdown",
   "metadata": {},
   "source": [
    "# Filtering DSL & Non-DSL related Tickets\n",
    "\n",
    "The main goal of this notebook is to filter DSL related issue tickets from tickets database for time span of 1st Jan 2020 to April 2021.\n",
    "\n",
    "\n",
    "\n",
    ">Output data format expected:\n",
    "* We would be expecting a dataframe with 3 unique columns i.e., **|assetid|incident_date|label|** which would provide us the DSL tickets reached to the maximum level(expensive solution) for any assetid.\n",
    "\n",
    "\n",
    "\n",
    ">Steps involved:\n",
    "* Get tickets data \n",
    "* Get DSL data for same time span and filter only those tickets which have dsl data in database\n",
    "* Filter all cpe relacement and refurbushed cpe with Issues and keep noproblem one\n"
   ]
  },
  {
   "cell_type": "markdown",
   "metadata": {},
   "source": [
    "## Table Of Contents:\n",
    "* [1. Import packages and config](#sec1)\n",
    "    * [1.1 Spark configuration](#sec2)\n",
    "    * [1.2 Import Packages](#sec3)\n",
    "    * [1.3 Setup style](#sec4)\n",
    "* [2. Load tickets data](#sec5)\n",
    "* [3. Load pol agg data](#sec6)\n",
    "* [4. Load different data](#sec7)\n",
    "    * [4.1 Load Replacement data](#sec8)\n",
    "    * [4.2 Load Refurbishment data](#sec9)\n",
    "    * [4.3 Join Refurbishment & Replacement data](#sec10)\n",
    "    * [4.4 Filter CPEs with \"No Problem\"](#sec11)\n",
    "    * [4.5 Filter CPES with all issues from the data](#sec12)\n",
    "* [5. Filter DSL ticketds data](#sec13)\n",
    "    * [5.1 Filter DSL tickets data with all levels](#sec14)\n",
    "* [6. Filter Non-DSL tickets data](#sec15)"
   ]
  },
  {
   "cell_type": "markdown",
   "metadata": {},
   "source": [
    "## 1. Import packages and config <a class=\"anchor\" id=\"sec1\"></a>"
   ]
  },
  {
   "cell_type": "markdown",
   "metadata": {},
   "source": [
    "###  1.1 Spark configuration <a class=\"anchor\" id=\"sec2\"></a>\n",
    "Lets configure our spark session"
   ]
  },
  {
   "cell_type": "code",
   "execution_count": 1,
   "metadata": {},
   "outputs": [
    {
     "data": {
      "text/html": [
       "Current session configs: <tt>{'conf': {'spark.driver.cores': '6', 'spark.driver.memory': '14g', 'spark.executor.cores': '6', 'spark.executor.memory': '14g', 'spark.dynamicAllocation.enabled': 'true', 'spark.dynamicAllocation.minExecutors': '4', 'spark.driver.maxResultSize': '4g'}, 'kind': 'pyspark'}</tt><br>"
      ],
      "text/plain": [
       "<IPython.core.display.HTML object>"
      ]
     },
     "metadata": {},
     "output_type": "display_data"
    },
    {
     "data": {
      "text/html": [
       "<table>\n",
       "<tr><th>ID</th><th>YARN Application ID</th><th>Kind</th><th>State</th><th>Spark UI</th><th>Driver log</th><th>Current session?</th></tr><tr><td>1458</td><td>application_1620749185953_138131</td><td>pyspark</td><td>idle</td><td><a target=\"_blank\" href=\"http://lxcdhmasterv1d.dc.ht.hr:8088/proxy/application_1620749185953_138131/\">Link</a></td><td><a target=\"_blank\" href=\"http://lxcdhworkerph3d.dc.ht.hr:8042/node/containerlogs/container_e60_1620749185953_138131_01_000002/tsystems_kkeshore\">Link</a></td><td></td></tr></table>"
      ],
      "text/plain": [
       "<IPython.core.display.HTML object>"
      ]
     },
     "metadata": {},
     "output_type": "display_data"
    }
   ],
   "source": [
    "%%configure -f\n",
    "{\"conf\":\n",
    " {\"spark.driver.cores\": \"6\",\n",
    "  \"spark.driver.memory\": \"14g\",\n",
    "  \"spark.executor.cores\": \"6\",\n",
    "  \"spark.executor.memory\": \"14g\",\n",
    "  \"spark.dynamicAllocation.enabled\": \"true\",\n",
    "  \"spark.dynamicAllocation.minExecutors\" : \"4\",\n",
    "  \"spark.driver.maxResultSize\": \"4g\"\n",
    "    }\n",
    "}"
   ]
  },
  {
   "cell_type": "markdown",
   "metadata": {},
   "source": [
    "###  1.2 Import packages <a class=\"anchor\" id=\"sec3\"></a>"
   ]
  },
  {
   "cell_type": "code",
   "execution_count": 2,
   "metadata": {},
   "outputs": [
    {
     "name": "stdout",
     "output_type": "stream",
     "text": [
      "Starting Spark application\n"
     ]
    },
    {
     "data": {
      "text/html": [
       "<table>\n",
       "<tr><th>ID</th><th>YARN Application ID</th><th>Kind</th><th>State</th><th>Spark UI</th><th>Driver log</th><th>Current session?</th></tr><tr><td>1393</td><td>application_1620749185953_137179</td><td>pyspark</td><td>idle</td><td><a target=\"_blank\" href=\"http://lxcdhmasterv1d.dc.ht.hr:8088/proxy/application_1620749185953_137179/\">Link</a></td><td><a target=\"_blank\" href=\"http://lxcdhworkerph5d.dc.ht.hr:8042/node/containerlogs/container_e60_1620749185953_137179_01_000001/tsystems_vkumar\">Link</a></td><td>✔</td></tr></table>"
      ],
      "text/plain": [
       "<IPython.core.display.HTML object>"
      ]
     },
     "metadata": {},
     "output_type": "display_data"
    },
    {
     "data": {
      "application/vnd.jupyter.widget-view+json": {
       "model_id": "",
       "version_major": 2,
       "version_minor": 0
      },
      "text/plain": [
       "FloatProgress(value=0.0, bar_style='info', description='Progress:', layout=Layout(height='25px', width='50%'),…"
      ]
     },
     "metadata": {},
     "output_type": "display_data"
    },
    {
     "name": "stdout",
     "output_type": "stream",
     "text": [
      "SparkSession available as 'spark'.\n"
     ]
    },
    {
     "data": {
      "application/vnd.jupyter.widget-view+json": {
       "model_id": "",
       "version_major": 2,
       "version_minor": 0
      },
      "text/plain": [
       "FloatProgress(value=0.0, bar_style='info', description='Progress:', layout=Layout(height='25px', width='50%'),…"
      ]
     },
     "metadata": {},
     "output_type": "display_data"
    }
   ],
   "source": [
    "# Data Science Packages\n",
    "import sys\n",
    "import matplotlib\n",
    "import matplotlib.pyplot as plt\n",
    "import numpy as np\n",
    "import pandas as pd\n",
    "from  matplotlib import pyplot\n",
    "import seaborn as sns\n",
    "import warnings\n",
    "from datetime import datetime\n",
    "from datetime import timedelta\n",
    "import datetime\n",
    "\n",
    "\n",
    "#Spark Packages\n",
    "from pyspark.sql import SparkSession\n",
    "import pyspark.sql.functions as F\n",
    "from pyspark.sql import DataFrame\n",
    "from pyspark.sql import types \n",
    "import pyspark.sql.types\n",
    "from pyspark.sql.functions import UserDefinedFunction\n",
    "from pyspark.sql.functions import col"
   ]
  },
  {
   "cell_type": "markdown",
   "metadata": {},
   "source": [
    "###  1.3  Let's setup some style!<a class=\"anchor\" id=\"sec3\"></a>\n",
    "This is not a requirement but anyway you know that they say:\n",
    "> \"Fashions fade, style is eternal.\" <br/>\n",
    "_Yves Saint Laurent_"
   ]
  },
  {
   "cell_type": "code",
   "execution_count": 3,
   "metadata": {},
   "outputs": [
    {
     "data": {
      "application/vnd.jupyter.widget-view+json": {
       "model_id": "",
       "version_major": 2,
       "version_minor": 0
      },
      "text/plain": [
       "FloatProgress(value=0.0, bar_style='info', description='Progress:', layout=Layout(height='25px', width='50%'),…"
      ]
     },
     "metadata": {},
     "output_type": "display_data"
    }
   ],
   "source": [
    "# Matplotlib\n",
    "\n",
    "#matplotlib.use('agg')\n",
    "plt.switch_backend('agg')\n",
    "\n",
    "# Seaborn Style\n",
    "sns.set(style='ticks')\n",
    "sns.set_style({'font.family': 'Hiragino Maru Gothic Pro'})\n",
    "sns.set_palette(\"cool\")\n",
    "\n",
    "# Pandas Style\n",
    "pd.set_option(\"display.max_column\", 9999)\n",
    "pd.set_option(\"display.max_row\", 9999)\n",
    "\n",
    "# Ignore annoying warning \n",
    "warnings.filterwarnings('ignore')"
   ]
  },
  {
   "cell_type": "markdown",
   "metadata": {},
   "source": [
    "##  2. Loading Tickets Data  <a class=\"anchor\" id=\"sec5\"></a>\n",
    "\n",
    "Let's load tickets data with some necessary fields"
   ]
  },
  {
   "cell_type": "code",
   "execution_count": 4,
   "metadata": {},
   "outputs": [
    {
     "data": {
      "application/vnd.jupyter.widget-view+json": {
       "model_id": "",
       "version_major": 2,
       "version_minor": 0
      },
      "text/plain": [
       "FloatProgress(value=0.0, bar_style='info', description='Progress:', layout=Layout(height='25px', width='50%'),…"
      ]
     },
     "metadata": {},
     "output_type": "display_data"
    }
   ],
   "source": [
    "path_tickets_1 = \"hdfs://nameservicedev1//user/dt_srajan/predictive_care/tickets/Smetnje_0107-1510_2020.csv\"\n",
    "df_tickets_1 = spark.read.option(\"encoding\", \"ISO-8859-1\").option(\"inferSchema\", \"true\").csv(path_tickets_1,header = True,sep=\";\")\n",
    "df_tickets_1 = df_tickets_1.select('TICKET_ID','START_DATE_TIME_DONAT','ASSET_ID','Uzrok_smetnje', 'WORK_CODE','Vrsta_prijavljene_smetnje','SOURCE','SOLUTION_LEVEL','SUMMARY')\n",
    "\n",
    "path_tickets_2 = \"hdfs://nameservicedev1//user/dt_srajan/predictive_care/tickets/FAULTS_E2E_01102020-31122020.csv\"\n",
    "df_tickets_2 = spark.read.option(\"encoding\", \"ISO-8859-1\").option(\"inferSchema\", \"true\").csv(path_tickets_2,header = True,sep=\";\")\n",
    "df_tickets_2 = df_tickets_2.select('TICKET_ID','START_DATE_TIME_DONAT','ASSET_ID','Uzrok_smetnje', 'WORK_CODE','Vrsta_prijavljene_smetnje','SOURCE','SOLUTION_LEVEL','SUMMARY')\n",
    "\n",
    "path_tickets_3 = \"hdfs://nameservicedev1//user/dt_srajan/predictive_care/tickets/FAULTS_01012020-30062020.csv\"\n",
    "df_tickets_3 = spark.read.option(\"encoding\", \"ISO-8859-1\").option(\"inferSchema\", \"true\").csv(path_tickets_3,header = True,sep=\";\")\n",
    "df_tickets_3 = df_tickets_3.select('TICKET_ID','START_DATE_TIME_DONAT','ASSET_ID','Uzrok_smetnje', 'WORK_CODE','Vrsta_prijavljene_smetnje','SOURCE','SOLUTION_LEVEL','SUMMARY')\n",
    "\n",
    "path_tickets_4 = \"hdfs://nameservicedev1//user/dt_srajan/predictive_care/tickets/FAULTS_01012021-30042021.csv\"\n",
    "df_tickets_4 = spark.read.option(\"encoding\", \"ISO-8859-1\").option(\"inferSchema\", \"true\").csv(path_tickets_4,header = True,sep=\";\")\n",
    "df_tickets_4 = df_tickets_4.select('TICKET_ID','START_DATE_TIME_DONAT','ASSET_ID','Uzrok_smetnje', 'WORK_CODE','Vrsta_prijavljene_smetnje','SOURCE','SOLUTION_LEVEL','SUMMARY')\n",
    "\n",
    "df_tickets_1 = df_tickets_1.select('TICKET_ID','START_DATE_TIME_DONAT','ASSET_ID','Uzrok_smetnje','WORK_CODE','Vrsta_prijavljene_smetnje','SOURCE','SOLUTION_LEVEL','SUMMARY')\n",
    "df_tickets_1 = df_tickets_1.withColumn('START_DATE_TICKET',F.unix_timestamp('START_DATE_TIME_DONAT', \"yyyy-MM-dd'T'HH:mm:ss\").cast(types.TimestampType()))\n",
    "df_tickets_1 = df_tickets_1.withColumn('START_DATE_TICKET',F.date_format(F.col(\"START_DATE_TICKET\"), \"yyy-MM-dd HH:mm:ss\"))\n",
    "\n",
    "df_tickets_2 = df_tickets_2.select('TICKET_ID','START_DATE_TIME_DONAT','ASSET_ID','Uzrok_smetnje','WORK_CODE','Vrsta_prijavljene_smetnje','SOURCE','SOLUTION_LEVEL','SUMMARY')\n",
    "df_tickets_2 = df_tickets_2.withColumn('START_DATE_TICKET',F.unix_timestamp('START_DATE_TIME_DONAT', \"yyyy-MM-dd HH:mm:ss\").cast(types.TimestampType()))\n",
    "df_tickets_2 = df_tickets_2.withColumn('START_DATE_TICKET',F.date_format(F.col(\"START_DATE_TICKET\"), \"yyy-MM-dd HH:mm:ss\"))\n",
    "\n",
    "df_tickets_3 = df_tickets_3.select('TICKET_ID','START_DATE_TIME_DONAT','ASSET_ID','Uzrok_smetnje','WORK_CODE','Vrsta_prijavljene_smetnje','SOURCE','SOLUTION_LEVEL','SUMMARY')\n",
    "df_tickets_3 = df_tickets_3.withColumn('START_DATE_TICKET',F.unix_timestamp('START_DATE_TIME_DONAT', \"yyyy-MM-dd'T'HH:mm:ss\").cast(types.TimestampType()))\n",
    "df_tickets_3 = df_tickets_3.withColumn('START_DATE_TICKET',F.date_format(F.col(\"START_DATE_TICKET\"), \"yyy-MM-dd HH:mm:ss\"))\n",
    "\n",
    "df_tickets_4 = df_tickets_4.select('TICKET_ID','START_DATE_TIME_DONAT','ASSET_ID','Uzrok_smetnje','WORK_CODE','Vrsta_prijavljene_smetnje','SOURCE','SOLUTION_LEVEL','SUMMARY')\n",
    "df_tickets_4 = df_tickets_4.withColumn('START_DATE_TICKET',F.unix_timestamp('START_DATE_TIME_DONAT', \"yyyy-MM-dd'T'HH:mm:ss\").cast(types.TimestampType()))\n",
    "df_tickets_4 = df_tickets_4.withColumn('START_DATE_TICKET',F.date_format(F.col(\"START_DATE_TICKET\"), \"yyy-MM-dd HH:mm:ss\"))\n",
    "\n",
    "df_tickets = df_tickets_1.union(df_tickets_2)\n",
    "df_tickets = df_tickets.union(df_tickets_3)\n",
    "df_tickets = df_tickets.union(df_tickets_4)\n",
    "df_tickets = df_tickets.dropDuplicates()\n",
    "df_tickets = df_tickets.withColumnRenamed('Uzrok_smetnje', 'TICKET_TENTATIVE_ROOT_CAUSE')\n",
    "df_tickets = df_tickets.withColumnRenamed('Vrsta_prijavljene_smetnje', 'Type_of_reported_interference')\n",
    "df_tickets = df_tickets.drop('START_DATE_TIME_DONAT')\n",
    "\n",
    "df_tickets = df_tickets.dropDuplicates()"
   ]
  },
  {
   "cell_type": "code",
   "execution_count": 5,
   "metadata": {},
   "outputs": [
    {
     "data": {
      "application/vnd.jupyter.widget-view+json": {
       "model_id": "",
       "version_major": 2,
       "version_minor": 0
      },
      "text/plain": [
       "FloatProgress(value=0.0, bar_style='info', description='Progress:', layout=Layout(height='25px', width='50%'),…"
      ]
     },
     "metadata": {},
     "output_type": "display_data"
    },
    {
     "name": "stdout",
     "output_type": "stream",
     "text": [
      "+-------------------+\n",
      "|  START_DATE_TICKET|\n",
      "+-------------------+\n",
      "|            1218714|\n",
      "|               null|\n",
      "|               null|\n",
      "|2020-01-01 00:13:34|\n",
      "|2021-04-30 23:57:23|\n",
      "+-------------------+"
     ]
    }
   ],
   "source": [
    "df_tickets.describe().select('START_DATE_TICKET').show()"
   ]
  },
  {
   "cell_type": "code",
   "execution_count": 6,
   "metadata": {},
   "outputs": [
    {
     "data": {
      "application/vnd.jupyter.widget-view+json": {
       "model_id": "",
       "version_major": 2,
       "version_minor": 0
      },
      "text/plain": [
       "FloatProgress(value=0.0, bar_style='info', description='Progress:', layout=Layout(height='25px', width='50%'),…"
      ]
     },
     "metadata": {},
     "output_type": "display_data"
    },
    {
     "name": "stdout",
     "output_type": "stream",
     "text": [
      "('Number of Unique AssetID in tickets dattabase:', 658190)"
     ]
    }
   ],
   "source": [
    "print('Number of Unique AssetID in tickets dattabase:',df_tickets.select('ASSET_ID').distinct().count())"
   ]
  },
  {
   "cell_type": "markdown",
   "metadata": {},
   "source": [
    "##  3. Loading Poll day agg data<a class=\"anchor\" id=\"sec6\"></a>\n",
    "\n",
    "Load pol aggregated dat for the same timeframe as tickets dataset"
   ]
  },
  {
   "cell_type": "code",
   "execution_count": 5,
   "metadata": {},
   "outputs": [
    {
     "data": {
      "application/vnd.jupyter.widget-view+json": {
       "model_id": "",
       "version_major": 2,
       "version_minor": 0
      },
      "text/plain": [
       "FloatProgress(value=0.0, bar_style='info', description='Progress:', layout=Layout(height='25px', width='50%'),…"
      ]
     },
     "metadata": {},
     "output_type": "display_data"
    }
   ],
   "source": [
    "def rename_cols(df, prefix):\n",
    "    \"\"\"Column renameb by adding a prefix.\n",
    "    \n",
    "    Args:\n",
    "        df (dataframe): Input dataframe.\n",
    "        \n",
    "    Returns:\n",
    "        df (dataframe): Output datframe witha ppended prefix to columns.\n",
    "    \"\"\"\n",
    "    for feature in df.columns:\n",
    "        df = df.withColumnRenamed(feature,prefix+feature)\n",
    "    return df\n",
    "\n",
    "def parsing_date_format(datetime_str, target_date_format):\n",
    "    \"\"\"Fuction to modify the date format.\n",
    "    \n",
    "    Args:\n",
    "        datetime_str (str): Date in original format. expected \"%Y-%m-%d\".\n",
    "        target_date_format (str): Desire date format e.g \"%Y%m%d\".\n",
    "    \n",
    "    Returns\n",
    "        str: Date in target format.\n",
    "    \"\"\"\n",
    "    date_obj = datetime.strptime(datetime_str, \"%Y-%m-%d\").date()\n",
    "    return date_obj.strftime(target_date_format)\n",
    "\n",
    "def data_import(database, table, start_time, end_time, spark):\n",
    "    \"\"\"Function to load data from Hive tables based on start time and end time.\n",
    "    \n",
    "    Args:\n",
    "        database (string): Database name in HIVE.\n",
    "        table (string): Table name in HIVE.\n",
    "        start_time (str): Start time for the query.\n",
    "        end_time (str): End time for the query.\n",
    "        spark (obj): Spark session object.\n",
    "        \n",
    "    Returns:\n",
    "        dataframe :  spark dataframe with loaded data.\n",
    "    \"\"\"\n",
    "    #start_time = parsing_date_format(start_time, \"%Y-%m-%d\")\n",
    "    #end_time = parsing_date_format(end_time, \"%Y-%m-%d\")\n",
    "\n",
    "    df = spark.sql(\"select * from {0}.{1} where {2} between '{3}' and '{4}' \" \\\n",
    "              .format(database, table, 'datum', start_time, end_time))\n",
    "    return df\n",
    "\n",
    "def spark_init():\n",
    "    \"\"\"Init Spark session.\n",
    "    Returns:\n",
    "        object: spark session.\n",
    "    \"\"\"\n",
    "    spark = SparkSession.builder \\\n",
    "        .master('yarn') \\\n",
    "        .appName('predictive_care') \\\n",
    "        .enableHiveSupport() \\\n",
    "        .getOrCreate()\n",
    "    spark.sparkContext.setLogLevel(\"ERROR\")\n",
    "    return spark\n",
    "\n",
    "spark=spark_init()\n",
    "start_time, end_time = '2020-01-01', '2021-04-30'\n",
    "df_dslam = data_import('cdl_blos', 'pol_day_aggregation', start_time, end_time, spark) #per day\n",
    "\n",
    "    \n",
    "#dropping missing keys\n",
    "df_dslam =df_dslam.na.drop(subset=['assetid','datum'])\n",
    "    \n",
    "# Drop multiple samples per day\n",
    "df_dslam = df_dslam.dropDuplicates(['assetid','datum'])\n",
    "    \n",
    "#Renamming for conditional join\n",
    "df_dslam = rename_cols(df_dslam, 'dslam_')"
   ]
  },
  {
   "cell_type": "code",
   "execution_count": 10,
   "metadata": {},
   "outputs": [
    {
     "data": {
      "application/vnd.jupyter.widget-view+json": {
       "model_id": "",
       "version_major": 2,
       "version_minor": 0
      },
      "text/plain": [
       "FloatProgress(value=0.0, bar_style='info', description='Progress:', layout=Layout(height='25px', width='50%'),…"
      ]
     },
     "metadata": {},
     "output_type": "display_data"
    },
    {
     "name": "stdout",
     "output_type": "stream",
     "text": [
      "['dslam_date_inserted', 'dslam_dns_device', 'dslam_slot', 'dslam_port', 'dslam_ip_device', 'dslam_dis_device', 'dslam_distinct_modulation', 'dslam_no_of_dominant_modulation', 'dslam_code_of_dominant_modulation', 'dslam_avg_bitrate_us', 'dslam_max_bitrate_us', 'dslam_min_bitrate_us', 'dslam_avg_bitrate_ds', 'dslam_max_bitrate_ds', 'dslam_min_bitrate_ds', 'dslam_avg_attenuation_ds', 'dslam_max_attenuation_ds', 'dslam_min_attenuation_ds', 'dslam_avg_attenuation_us', 'dslam_max_attenuation_us', 'dslam_min_attenuation_us', 'dslam_avg_power_us', 'dslam_max_power_us', 'dslam_min_power_us', 'dslam_avg_power_ds', 'dslam_max_power_ds', 'dslam_min_power_ds', 'dslam_avg_att_bitrate_us', 'dslam_max_att_bitrate_us', 'dslam_min_att_bitrate_us', 'dslam_avg_att_bitrate_ds', 'dslam_max_att_bitrate_ds', 'dslam_min_att_bitrate_ds', 'dslam_avg_snr_us', 'dslam_max_snr_us', 'dslam_min_snr_us', 'dslam_avg_snr_ds', 'dslam_max_snr_ds', 'dslam_min_snr_ds', 'dslam_no_counts', 'dslam_avg_bandline_ds', 'dslam_max_bandline_ds', 'dslam_min_bandline_ds', 'dslam_avg_bandline_us', 'dslam_max_bandline_us', 'dslam_min_bandline_us', 'dslam_avg_net_datarate_ds', 'dslam_max_net_datarate_ds', 'dslam_min_net_datarate_ds', 'dslam_avg_net_datarate_us', 'dslam_max_net_datarate_us', 'dslam_min_net_datarate_us', 'dslam_sum_cv_us', 'dslam_count_cv_us', 'dslam_sum_cv_ds', 'dslam_count_cv_ds', 'dslam_sum_es_ds', 'dslam_count_es_ds', 'dslam_sum_es_us', 'dslam_count_es_us', 'dslam_sum_ses_ds', 'dslam_count_ses_ds', 'dslam_sum_ses_us', 'dslam_count_ses_us', 'dslam_sum_fec_ds', 'dslam_count_fec_ds', 'dslam_sum_fec_us', 'dslam_count_fec_us', 'dslam_inits', 'dslam_platforma', 'dslam_model', 'dslam_dis_dslam_name', 'dslam_dis_dslam_slot_port', 'dslam_em_dslam_name', 'dslam_em_dslam_slot_port', 'dslam_card_type', 'dslam_port_access_id', 'dslam_status_porta', 'dslam_bandwidth', 'dslam_vdsl_adsl', 'dslam_vendor', 'dslam_assetid', 'dslam_status', 'dslam_port_inst_id', 'dslam_internet', 'dslam_iptv', 'dslam_voip', 'dslam_servis', 'dslam_regija', 'dslam_razdjelnik', 'dslam_rg_port', 'dslam_rg_port_inst_id', 'dslam_prim_izvod', 'dslam_prim_izvod_inst_id', 'dslam_prim_parica', 'dslam_sek_izvod', 'dslam_sek_parica', 'dslam_em_profil', 'dslam_datum']"
     ]
    }
   ],
   "source": [
    "df_dslam.columns"
   ]
  },
  {
   "cell_type": "code",
   "execution_count": 6,
   "metadata": {},
   "outputs": [
    {
     "data": {
      "application/vnd.jupyter.widget-view+json": {
       "model_id": "",
       "version_major": 2,
       "version_minor": 0
      },
      "text/plain": [
       "FloatProgress(value=0.0, bar_style='info', description='Progress:', layout=Layout(height='25px', width='50%'),…"
      ]
     },
     "metadata": {},
     "output_type": "display_data"
    }
   ],
   "source": [
    "df_ticket_filtered_dsl = df_tickets.join(df_dslam,df_tickets.ASSET_ID == df_dslam.dslam_assetid, how = 'inner')"
   ]
  },
  {
   "cell_type": "code",
   "execution_count": 12,
   "metadata": {},
   "outputs": [
    {
     "data": {
      "application/vnd.jupyter.widget-view+json": {
       "model_id": "",
       "version_major": 2,
       "version_minor": 0
      },
      "text/plain": [
       "FloatProgress(value=0.0, bar_style='info', description='Progress:', layout=Layout(height='25px', width='50%'),…"
      ]
     },
     "metadata": {},
     "output_type": "display_data"
    },
    {
     "name": "stdout",
     "output_type": "stream",
     "text": [
      "('Number of assetid which are related to DSL issues:', 320253)"
     ]
    }
   ],
   "source": [
    "print('Number of assetid which are related to DSL issues:',df_ticket_filtered_dsl.select('ASSET_ID').distinct().count())"
   ]
  },
  {
   "cell_type": "code",
   "execution_count": 7,
   "metadata": {},
   "outputs": [
    {
     "data": {
      "application/vnd.jupyter.widget-view+json": {
       "model_id": "",
       "version_major": 2,
       "version_minor": 0
      },
      "text/plain": [
       "FloatProgress(value=0.0, bar_style='info', description='Progress:', layout=Layout(height='25px', width='50%'),…"
      ]
     },
     "metadata": {},
     "output_type": "display_data"
    },
    {
     "name": "stdout",
     "output_type": "stream",
     "text": [
      "-RECORD 0----------------------------------------------------\n",
      " TICKET_ID                     | 44888997                    \n",
      " ASSET_ID                      | 2222714                     \n",
      " TICKET_TENTATIVE_ROOT_CAUSE   | Dotrajalost - 1             \n",
      " WORK_CODE                     | FAULTREPAIR                 \n",
      " Type_of_reported_interference | prekid                      \n",
      " SOURCE                        | WWMS                        \n",
      " SOLUTION_LEVEL                | 3                           \n",
      " SUMMARY                       | DSL SINHRONIZACIJA - PREKID \n",
      " START_DATE_TICKET             | 2020-03-10 11:32:47         \n",
      "-RECORD 1----------------------------------------------------\n",
      " TICKET_ID                     | 44888997                    \n",
      " ASSET_ID                      | 2222714                     \n",
      " TICKET_TENTATIVE_ROOT_CAUSE   | Dotrajalost - 1             \n",
      " WORK_CODE                     | FAULTREPAIR                 \n",
      " Type_of_reported_interference | prekid                      \n",
      " SOURCE                        | WWMS                        \n",
      " SOLUTION_LEVEL                | 3                           \n",
      " SUMMARY                       | DSL SINHRONIZACIJA - PREKID \n",
      " START_DATE_TICKET             | 2020-03-10 11:32:47         \n",
      "-RECORD 2----------------------------------------------------\n",
      " TICKET_ID                     | 44888997                    \n",
      " ASSET_ID                      | 2222714                     \n",
      " TICKET_TENTATIVE_ROOT_CAUSE   | Dotrajalost - 1             \n",
      " WORK_CODE                     | FAULTREPAIR                 \n",
      " Type_of_reported_interference | prekid                      \n",
      " SOURCE                        | WWMS                        \n",
      " SOLUTION_LEVEL                | 3                           \n",
      " SUMMARY                       | DSL SINHRONIZACIJA - PREKID \n",
      " START_DATE_TICKET             | 2020-03-10 11:32:47"
     ]
    }
   ],
   "source": [
    "df_ticket_filtered_dsl = df_ticket_filtered_dsl.drop('dslam_date_inserted', 'dslam_dns_device', 'dslam_slot', 'dslam_port', 'dslam_ip_device', 'dslam_dis_device', 'dslam_distinct_modulation', 'dslam_no_of_dominant_modulation', 'dslam_code_of_dominant_modulation', 'dslam_avg_bitrate_us', 'dslam_max_bitrate_us', 'dslam_min_bitrate_us', 'dslam_avg_bitrate_ds', 'dslam_max_bitrate_ds', 'dslam_min_bitrate_ds', 'dslam_avg_attenuation_ds', 'dslam_max_attenuation_ds', 'dslam_min_attenuation_ds', 'dslam_avg_attenuation_us', 'dslam_max_attenuation_us', 'dslam_min_attenuation_us', 'dslam_avg_power_us', 'dslam_max_power_us', 'dslam_min_power_us', 'dslam_avg_power_ds', 'dslam_max_power_ds', 'dslam_min_power_ds', 'dslam_avg_att_bitrate_us', 'dslam_max_att_bitrate_us', 'dslam_min_att_bitrate_us', 'dslam_avg_att_bitrate_ds', 'dslam_max_att_bitrate_ds', 'dslam_min_att_bitrate_ds', 'dslam_avg_snr_us', 'dslam_max_snr_us', 'dslam_min_snr_us', 'dslam_avg_snr_ds', 'dslam_max_snr_ds', 'dslam_min_snr_ds', 'dslam_no_counts', 'dslam_avg_bandline_ds', 'dslam_max_bandline_ds', 'dslam_min_bandline_ds', 'dslam_avg_bandline_us', 'dslam_max_bandline_us', 'dslam_min_bandline_us', 'dslam_avg_net_datarate_ds', 'dslam_max_net_datarate_ds', 'dslam_min_net_datarate_ds', 'dslam_avg_net_datarate_us', 'dslam_max_net_datarate_us', 'dslam_min_net_datarate_us', 'dslam_sum_cv_us', 'dslam_count_cv_us', 'dslam_sum_cv_ds', 'dslam_count_cv_ds', 'dslam_sum_es_ds', 'dslam_count_es_ds', 'dslam_sum_es_us', 'dslam_count_es_us', 'dslam_sum_ses_ds', 'dslam_count_ses_ds', 'dslam_sum_ses_us', 'dslam_count_ses_us', 'dslam_sum_fec_ds', 'dslam_count_fec_ds', 'dslam_sum_fec_us', 'dslam_count_fec_us', 'dslam_inits', 'dslam_platforma', 'dslam_model', 'dslam_dis_dslam_name', 'dslam_dis_dslam_slot_port', 'dslam_em_dslam_name', 'dslam_em_dslam_slot_port', 'dslam_card_type', 'dslam_port_access_id', 'dslam_status_porta', 'dslam_bandwidth', 'dslam_vdsl_adsl', 'dslam_vendor', 'dslam_assetid', 'dslam_status', 'dslam_port_inst_id', 'dslam_internet', 'dslam_iptv', 'dslam_voip', 'dslam_servis', 'dslam_regija', 'dslam_razdjelnik', 'dslam_rg_port', 'dslam_rg_port_inst_id', 'dslam_prim_izvod', 'dslam_prim_izvod_inst_id', 'dslam_prim_parica', 'dslam_sek_izvod', 'dslam_sek_parica', 'dslam_em_profil', 'dslam_datum')\n",
    "df_ticket_filtered_dsl.limit(3).show(200,truncate=False, vertical=True)"
   ]
  },
  {
   "cell_type": "code",
   "execution_count": 13,
   "metadata": {},
   "outputs": [
    {
     "data": {
      "application/vnd.jupyter.widget-view+json": {
       "model_id": "",
       "version_major": 2,
       "version_minor": 0
      },
      "text/plain": [
       "FloatProgress(value=0.0, bar_style='info', description='Progress:', layout=Layout(height='25px', width='50%'),…"
      ]
     },
     "metadata": {},
     "output_type": "display_data"
    },
    {
     "name": "stdout",
     "output_type": "stream",
     "text": [
      "+--------------+-------------+\n",
      "|SOLUTION_LEVEL|count_assetid|\n",
      "+--------------+-------------+\n",
      "|          null|           14|\n",
      "|             1|       130131|\n",
      "|             3|       219888|\n",
      "|             4|        34736|\n",
      "|             2|        79467|\n",
      "|             0|         2277|\n",
      "+--------------+-------------+"
     ]
    }
   ],
   "source": [
    "df_ticket_filtered_dsl.groupBy(\"SOLUTION_LEVEL\") \\\n",
    "    .agg(F.countDistinct(\"ASSET_ID\").alias(\"count_assetid\")).show()"
   ]
  },
  {
   "cell_type": "markdown",
   "metadata": {},
   "source": [
    "## 4. Loading different data<a class=\"anchor\" id=\"sec7\"></a>"
   ]
  },
  {
   "cell_type": "markdown",
   "metadata": {},
   "source": [
    "### 4.1 Loading Replacement data<a class=\"anchor\" id=\"sec8\"></a>"
   ]
  },
  {
   "cell_type": "code",
   "execution_count": 8,
   "metadata": {},
   "outputs": [
    {
     "data": {
      "application/vnd.jupyter.widget-view+json": {
       "model_id": "",
       "version_major": 2,
       "version_minor": 0
      },
      "text/plain": [
       "FloatProgress(value=0.0, bar_style='info', description='Progress:', layout=Layout(height='25px', width='50%'),…"
      ]
     },
     "metadata": {},
     "output_type": "display_data"
    }
   ],
   "source": [
    "path_cpe_replacement1 = \"hdfs://nameservicedev1//user/dt_srajan/predictive_care/replacement/cpe_replacement.csv\"\n",
    "df_cpe_replacement1 = spark.read.option(\"encoding\", \"ISO-8859-1\").option(\"inferSchema\", \"true\").csv(path_cpe_replacement1,header = True,sep=\";\")\n",
    "\n",
    "path_cpe_replacement2 = \"hdfs://nameservicedev1//user/dt_srajan/predictive_care/replacement/replacement_new_data/CPE replacement_2020_01-06.csv\"\n",
    "df_cpe_replacement2 = spark.read.option(\"encoding\", \"ISO-8859-1\").option(\"inferSchema\", \"true\").csv(path_cpe_replacement2,header = True,sep=\";\")\n",
    "\n",
    "path_cpe_replacement3 = \"hdfs://nameservicedev1//user/dt_srajan/predictive_care/replacement/replacement_new_data/CPE replacement_2021_01-07.csv\"\n",
    "df_cpe_replacement3 = spark.read.option(\"encoding\", \"ISO-8859-1\").option(\"inferSchema\", \"true\").csv(path_cpe_replacement3,header = True,sep=\";\")\n",
    "df_cpe_replacement3 = df_cpe_replacement3.filter((df_cpe_replacement3.Month == 1) | (df_cpe_replacement3.Month == 2) | (df_cpe_replacement3.Month == 3) | (df_cpe_replacement3.Month == 4))\n",
    "\n",
    "df_cpe_replacement1 = df_cpe_replacement1.select('TICKET_ID','ASSET_ID', 'CPE_SERIAL_NUMBER')\n",
    "df_cpe_replacement2 = df_cpe_replacement2.select('TICKET_ID','ASSET_ID', 'CPE_SERIAL_NUMBER')\n",
    "df_cpe_replacement3 = df_cpe_replacement3.select('TICKET_ID','ASSET_ID', 'CPE_SERIAL_NUMBER')\n",
    "df_cpe_replacement = df_cpe_replacement1.union(df_cpe_replacement2).union(df_cpe_replacement3)\n",
    "df_cpe_replacement = df_cpe_replacement.dropDuplicates()\n",
    "df_cpe_replacement = df_cpe_replacement.na.drop(subset=['TICKET_ID','ASSET_ID','CPE_SERIAL_NUMBER'])"
   ]
  },
  {
   "cell_type": "markdown",
   "metadata": {},
   "source": [
    "### 4.2 Loading Refurbishment data<a class=\"anchor\" id=\"sec9\"></a>"
   ]
  },
  {
   "cell_type": "code",
   "execution_count": 9,
   "metadata": {},
   "outputs": [
    {
     "data": {
      "application/vnd.jupyter.widget-view+json": {
       "model_id": "",
       "version_major": 2,
       "version_minor": 0
      },
      "text/plain": [
       "FloatProgress(value=0.0, bar_style='info', description='Progress:', layout=Layout(height='25px', width='50%'),…"
      ]
     },
     "metadata": {},
     "output_type": "display_data"
    },
    {
     "name": "stdout",
     "output_type": "stream",
     "text": [
      "+-------+-------------------+-------------------+\n",
      "|summary|    DATE_SCAN_START|      DATE_SCAN_END|\n",
      "+-------+-------------------+-------------------+\n",
      "|  count|              90920|              90920|\n",
      "|   mean|               null|               null|\n",
      "| stddev|               null|               null|\n",
      "|    min|2020-01-02 00:00:00|2020-01-14 00:00:00|\n",
      "|    max|2021-04-23 00:00:00|2021-04-30 00:00:00|\n",
      "+-------+-------------------+-------------------+\n",
      "\n",
      "-RECORD 0------------------------------------------\n",
      " CPE_SERIAL_NUMBER | j835bh004425                  \n",
      " DATE_SCAN_START   | 2020-01-14 00:00:00           \n",
      " DATE_SCAN_END     | 2020-01-14 00:00:00           \n",
      " CPE_ISSUE         | minor_physical_thermal_damage \n",
      "-RECORD 1------------------------------------------\n",
      " CPE_SERIAL_NUMBER | J833BH004104                  \n",
      " DATE_SCAN_START   | 2020-01-14 00:00:00           \n",
      " DATE_SCAN_END     | 2020-01-14 00:00:00           \n",
      " CPE_ISSUE         | minor_physical_thermal_damage \n",
      "-RECORD 2------------------------------------------\n",
      " CPE_SERIAL_NUMBER | J902BH013132                  \n",
      " DATE_SCAN_START   | 2020-01-14 00:00:00           \n",
      " DATE_SCAN_END     | 2020-01-14 00:00:00           \n",
      " CPE_ISSUE         | minor_physical_thermal_damage"
     ]
    }
   ],
   "source": [
    "path_cpe_refurbishment = \"hdfs://nameservicedev1//user/dt_srajan/predictive_care/replacement/CPE_refurbishment_2020_2021.csv\"\n",
    "df_cpe_refurbishment = spark.read.option(\"encoding\", \"ISO-8859-1\").option(\"inferSchema\", \"true\").csv(path_cpe_refurbishment,header = True,sep=\",\")\n",
    "\n",
    "from pyspark.sql.types import *\n",
    "\n",
    "df_cpe_refurbishment = df_cpe_refurbishment.withColumn('DATE_SCAN_END',F.when(F.unix_timestamp('Datum_izlaznog_skeniranja', \"dd/MM/yyyy\").cast(TimestampType()).isNotNull (),\\\n",
    "                                                                      F.unix_timestamp('Datum_izlaznog_skeniranja', \"dd/MM/yyyy\").cast(TimestampType()))\\\n",
    "                                                                .otherwise(None))\\\n",
    "                                            .withColumn('DATE_SCAN_START',F.when(F.unix_timestamp('Datum_ulaznog_skeniranja', \"dd/MM/yyyy\").cast(TimestampType()).isNotNull (),\\\n",
    "                                                                      F.unix_timestamp('Datum_ulaznog_skeniranja', \"dd/MM/yyyy\").cast(TimestampType()))\\\n",
    "                                                                .otherwise(None))\n",
    "\n",
    "df_cpe_refurbishment = df_cpe_refurbishment.withColumn('DATE_SCAN_END',F.date_format(F.col(\"DATE_SCAN_END\"), \"yyyy-MM-dd HH:mm:ss\"))\\\n",
    "                                            .withColumn('DATE_SCAN_START',F.date_format(F.col(\"DATE_SCAN_START\"), \"yyyy-MM-dd HH:mm:ss\"))\n",
    "\n",
    "df_cpe_refurbishment = df_cpe_refurbishment.withColumnRenamed('Vrsta kvara', 'Vrsta_kvara')\n",
    "\n",
    "df_cpe_refurbishment.select('DATE_SCAN_START',  \"DATE_SCAN_END\").describe().show()\n",
    "\n",
    "df_cpe_refurbishment = df_cpe_refurbishment.filter(df_cpe_refurbishment.Vrsta_kvara != 'NULL')\n",
    "df_cpe_refurbishment = df_cpe_refurbishment.withColumn('Vrsta_kvara', F.regexp_replace('Vrsta_kvara', 'Napajanje', 'power_supply')) \\\n",
    "     .withColumn('Vrsta_kvara', F.regexp_replace('Vrsta_kvara', 'ZnaÄajno fiziÄko oÅ¡teÄenje - nepopravljivo', 'significant_physical_damage_irreparable')) \\\n",
    "     .withColumn('Vrsta_kvara', F.regexp_replace('Vrsta_kvara', 'Ne prijavljuje se u ACS', 'does_not_log_into_acs')) \\\n",
    "     .withColumn('Vrsta_kvara', F.regexp_replace('Vrsta_kvara', 'Reset ne radi', 'reset_not_work')) \\\n",
    "     .withColumn('Vrsta_kvara', F.regexp_replace('Vrsta_kvara', 'Manje fiziÄko ili toplinsko oÅ¡teÄenje', 'minor_physical_thermal_damage')) \\\n",
    "     .withColumn('Vrsta_kvara', F.regexp_replace('Vrsta_kvara', 'Ispravan', 'no_problem')) \\\n",
    "     .withColumn('Vrsta_kvara', F.regexp_replace('Vrsta_kvara', 'OptiÄki port', 'optical_port')) \\\n",
    "     .withColumn('Vrsta_kvara', F.regexp_replace('Vrsta_kvara', 'SIM utor', 'sim_slot')) \\\n",
    "     .withColumn('Vrsta_kvara', F.regexp_replace('Vrsta_kvara', 'WIFI', 'wifi')) \\\n",
    "     .withColumn('Vrsta_kvara', F.regexp_replace('Vrsta_kvara', 'Blokiran', 'blocked')) \\\n",
    "     .withColumn('Vrsta_kvara', F.regexp_replace('Vrsta_kvara', 'Resetira se sam', 'reset_itself')) \\\n",
    "     .withColumn('Vrsta_kvara', F.regexp_replace('Vrsta_kvara', 'Internet ne radi', 'internet_not_working')) \\\n",
    "     .withColumn('Vrsta_kvara', F.regexp_replace('Vrsta_kvara', 'DSL port', 'dsl_port')) \\\n",
    "     .withColumn('Vrsta_kvara', F.regexp_replace('Vrsta_kvara', 'Pregrijavanje ureÄaja', 'device_overheating')) \\\n",
    "     .withColumn('Vrsta_kvara', F.regexp_replace('Vrsta_kvara', 'LAN port', 'lan_port')) \\\n",
    "     .withColumn('Vrsta_kvara', F.regexp_replace('Vrsta_kvara', 'Slaba brzina', 'poor_speed')) \\\n",
    "     .withColumn('Vrsta_kvara', F.regexp_replace('Vrsta_kvara', 'Telefon port', 'telefon_port')) \\\n",
    "     .withColumn('Vrsta_kvara', F.regexp_replace('Vrsta_kvara', 'Software', 'software'))\n",
    "\n",
    "df_cpe_refurbishment = df_cpe_refurbishment.withColumnRenamed('Vrsta_kvara', 'CPE_ISSUE')\\\n",
    "                                            .withColumnRenamed('Serijski_broj', 'CPE_SERIAL_NUMBER')\n",
    "spaceDeleteUDF = F.udf(lambda s: s.replace(\"/ \", \"/\"), StringType())\n",
    "df_cpe_refurbishment = df_cpe_refurbishment.withColumn(\"CPE_ISSUE\", spaceDeleteUDF(\"CPE_ISSUE\"))\n",
    "\n",
    "df_cpe_refurbishment = df_cpe_refurbishment.select('CPE_SERIAL_NUMBER', 'DATE_SCAN_START','DATE_SCAN_END','CPE_ISSUE')\n",
    "df_cpe_refurbishment.limit(3).show(200,truncate=False, vertical=True)"
   ]
  },
  {
   "cell_type": "markdown",
   "metadata": {},
   "source": [
    "### 4.3 Joining replacement and refurbishment data <a class=\"anchor\" id=\"sec10\"></a>"
   ]
  },
  {
   "cell_type": "code",
   "execution_count": 10,
   "metadata": {},
   "outputs": [
    {
     "data": {
      "application/vnd.jupyter.widget-view+json": {
       "model_id": "",
       "version_major": 2,
       "version_minor": 0
      },
      "text/plain": [
       "FloatProgress(value=0.0, bar_style='info', description='Progress:', layout=Layout(height='25px', width='50%'),…"
      ]
     },
     "metadata": {},
     "output_type": "display_data"
    },
    {
     "name": "stdout",
     "output_type": "stream",
     "text": [
      "+--------------------+-------------+\n",
      "|           CPE_ISSUE|count_assetid|\n",
      "+--------------------+-------------+\n",
      "|power_supply/lan_...|          128|\n",
      "|          no_problem|        16605|\n",
      "|minor_physical_th...|         1429|\n",
      "|power_supply/dsl_...|          385|\n",
      "|reset_itself/rese...|            1|\n",
      "|telefon_port/powe...|           17|\n",
      "|telefon_port/inte...|            2|\n",
      "|                wifi|          187|\n",
      "|does_not_log_into...|          206|\n",
      "|reset_itself/dsl_...|            5|\n",
      "|telefon_port/dsl_...|           16|\n",
      "|telefon_port/lan_...|           15|\n",
      "|internet_not_work...|            1|\n",
      "|            software|            2|\n",
      "|minor_physical_th...|            1|\n",
      "|        power_supply|         4134|\n",
      "|telefon_port/lan_...|            5|\n",
      "|reset_itself/powe...|            1|\n",
      "|            dsl_port|         4472|\n",
      "|            lan_port|          301|\n",
      "+--------------------+-------------+\n",
      "only showing top 20 rows"
     ]
    }
   ],
   "source": [
    "df = df_cpe_replacement.join(df_cpe_refurbishment, on = 'CPE_SERIAL_NUMBER', how = 'inner' )\n",
    "df.groupBy(\"CPE_ISSUE\") \\\n",
    "    .agg(F.countDistinct(\"ASSET_ID\").alias(\"count_assetid\")).show()"
   ]
  },
  {
   "cell_type": "markdown",
   "metadata": {},
   "source": [
    "### 4.4  Filtering CPEs with no_problem issue type <a class=\"anchor\" id=\"sec11\"></a>"
   ]
  },
  {
   "cell_type": "code",
   "execution_count": 11,
   "metadata": {},
   "outputs": [
    {
     "data": {
      "application/vnd.jupyter.widget-view+json": {
       "model_id": "",
       "version_major": 2,
       "version_minor": 0
      },
      "text/plain": [
       "FloatProgress(value=0.0, bar_style='info', description='Progress:', layout=Layout(height='25px', width='50%'),…"
      ]
     },
     "metadata": {},
     "output_type": "display_data"
    },
    {
     "name": "stdout",
     "output_type": "stream",
     "text": [
      "+--------------------+-------------+\n",
      "|           CPE_ISSUE|count_assetid|\n",
      "+--------------------+-------------+\n",
      "|power_supply/lan_...|          128|\n",
      "|minor_physical_th...|         1429|\n",
      "|power_supply/dsl_...|          385|\n",
      "|reset_itself/rese...|            1|\n",
      "|telefon_port/powe...|           17|\n",
      "|telefon_port/inte...|            2|\n",
      "|                wifi|          187|\n",
      "|does_not_log_into...|          206|\n",
      "|reset_itself/dsl_...|            5|\n",
      "|telefon_port/dsl_...|           16|\n",
      "|telefon_port/lan_...|           15|\n",
      "|internet_not_work...|            1|\n",
      "|            software|            2|\n",
      "|minor_physical_th...|            1|\n",
      "|        power_supply|         4134|\n",
      "|telefon_port/lan_...|            5|\n",
      "|reset_itself/powe...|            1|\n",
      "|            dsl_port|         4472|\n",
      "|            lan_port|          301|\n",
      "|  device_overheating|          114|\n",
      "+--------------------+-------------+\n",
      "only showing top 20 rows"
     ]
    }
   ],
   "source": [
    "df = df.filter(df.CPE_ISSUE != 'no_problem')\n",
    "df.groupBy(\"CPE_ISSUE\") \\\n",
    "    .agg(F.countDistinct(\"ASSET_ID\").alias(\"count_assetid\")).show()"
   ]
  },
  {
   "cell_type": "markdown",
   "metadata": {},
   "source": [
    "### 4.5  Filtering CPEs with some issues  <a class=\"anchor\" id=\"sec12\"></a>\n",
    "\n",
    "We are filtering out the CPEs which are actually had any issues except \"no_problem\""
   ]
  },
  {
   "cell_type": "code",
   "execution_count": 12,
   "metadata": {},
   "outputs": [
    {
     "data": {
      "application/vnd.jupyter.widget-view+json": {
       "model_id": "",
       "version_major": 2,
       "version_minor": 0
      },
      "text/plain": [
       "FloatProgress(value=0.0, bar_style='info', description='Progress:', layout=Layout(height='25px', width='50%'),…"
      ]
     },
     "metadata": {},
     "output_type": "display_data"
    },
    {
     "name": "stdout",
     "output_type": "stream",
     "text": [
      "307036"
     ]
    }
   ],
   "source": [
    "df_ticket_filtered_dsl = df_ticket_filtered_dsl.join(df,on = 'ASSET_ID', how = 'left_anti')\n",
    "df_ticket_filtered_dsl.select('ASSET_ID').distinct().count()"
   ]
  },
  {
   "cell_type": "markdown",
   "metadata": {},
   "source": [
    "## 5. Filtering tickets data for DSL lines with all levels and exluding Thunderstorm cases  <a class=\"anchor\" id=\"sec13\"></a>"
   ]
  },
  {
   "cell_type": "code",
   "execution_count": 15,
   "metadata": {},
   "outputs": [
    {
     "data": {
      "application/vnd.jupyter.widget-view+json": {
       "model_id": "",
       "version_major": 2,
       "version_minor": 0
      },
      "text/plain": [
       "FloatProgress(value=0.0, bar_style='info', description='Progress:', layout=Layout(height='25px', width='50%'),…"
      ]
     },
     "metadata": {},
     "output_type": "display_data"
    }
   ],
   "source": [
    "df_ticket_filtered_dsl_a = df_ticket_filtered_dsl.select('SOURCE','SOLUTION_LEVEL').dropDuplicates() "
   ]
  },
  {
   "cell_type": "code",
   "execution_count": 16,
   "metadata": {},
   "outputs": [
    {
     "data": {
      "application/vnd.jupyter.widget-view+json": {
       "model_id": "",
       "version_major": 2,
       "version_minor": 0
      },
      "text/plain": [
       "FloatProgress(value=0.0, bar_style='info', description='Progress:', layout=Layout(height='25px', width='50%'),…"
      ]
     },
     "metadata": {},
     "output_type": "display_data"
    }
   ],
   "source": [
    "df_ticket_filtered_dsl_p = df_ticket_filtered_dsl_a.toPandas()"
   ]
  },
  {
   "cell_type": "code",
   "execution_count": 17,
   "metadata": {},
   "outputs": [
    {
     "data": {
      "application/vnd.jupyter.widget-view+json": {
       "model_id": "",
       "version_major": 2,
       "version_minor": 0
      },
      "text/plain": [
       "FloatProgress(value=0.0, bar_style='info', description='Progress:', layout=Layout(height='25px', width='50%'),…"
      ]
     },
     "metadata": {},
     "output_type": "display_data"
    },
    {
     "name": "stdout",
     "output_type": "stream",
     "text": [
      "SOURCE\n",
      "0915763509\"                                                                  [nan]\n",
      "098705584\"                                                                   [nan]\n",
      "?\\t?Korisnik potvrdio da nema opasnosti za zdravlje tehnièara?\"              [nan]\n",
      "BBSA                                                                         [0.0]\n",
      "DONAT                                                                        [1.0]\n",
      "Ivana\"                                                                       [nan]\n",
      "KB 385922509978\"                                                             [nan]\n",
      "KB : 385955812189\"                                                           [nan]\n",
      "KB: 0959029975.\"                                                             [nan]\n",
      "KB: 385917909536\"                                                            [nan]\n",
      "Korisnik potvrdio da nema opasnosti za zdravlje tehnièara - da\"              [nan]\n",
      "LP\"                                                                          [nan]\n",
      "Slae se sa dolaskom tehnièara\"                                              [nan]\n",
      "WWMS                                                               [3.0, 2.0, 4.0]\n",
      "pristaje na dplazak tehnicara i nema opasnosti za zdravlje\"                  [nan]\n",
      "zgrada 4. kat\"                                                               [nan]\n",
      "Name: SOLUTION_LEVEL, dtype: object"
     ]
    }
   ],
   "source": [
    "df_ticket_filtered_dsl_p.groupby('SOURCE')['SOLUTION_LEVEL'].unique()"
   ]
  },
  {
   "cell_type": "markdown",
   "metadata": {},
   "source": [
    "**Insights:**\n",
    "> Possible `Source` and `Solution Level` are:-\n",
    "\n",
    "> When `Source` : BBSA possible `Solution Level` : 0\n",
    ">\n",
    "> When `Source` : DONAT possible `Solution Level` : 1\n",
    ">\n",
    "> When `Source` : WWMS possible `Solution Level` : [2,3,4]"
   ]
  },
  {
   "cell_type": "markdown",
   "metadata": {},
   "source": [
    "<div class=\"alert alert-block alert-info\">\n",
    "<b>Check:</b> Let's check if same `TICKET_ID` raised multiple number of times for a particular `ASSET_ID`.\n",
    "</div>"
   ]
  },
  {
   "cell_type": "code",
   "execution_count": 50,
   "metadata": {},
   "outputs": [
    {
     "data": {
      "application/vnd.jupyter.widget-view+json": {
       "model_id": "",
       "version_major": 2,
       "version_minor": 0
      },
      "text/plain": [
       "FloatProgress(value=0.0, bar_style='info', description='Progress:', layout=Layout(height='25px', width='50%'),…"
      ]
     },
     "metadata": {},
     "output_type": "display_data"
    }
   ],
   "source": [
    "c = df_ticket_filtered_dsl.groupby('ASSET_ID','TICKET_ID').count().filter(\"'count'>'1'\")"
   ]
  },
  {
   "cell_type": "code",
   "execution_count": 51,
   "metadata": {},
   "outputs": [
    {
     "data": {
      "application/vnd.jupyter.widget-view+json": {
       "model_id": "",
       "version_major": 2,
       "version_minor": 0
      },
      "text/plain": [
       "FloatProgress(value=0.0, bar_style='info', description='Progress:', layout=Layout(height='25px', width='50%'),…"
      ]
     },
     "metadata": {},
     "output_type": "display_data"
    }
   ],
   "source": [
    "d = c.filter(F.col('count')>1)"
   ]
  },
  {
   "cell_type": "code",
   "execution_count": 52,
   "metadata": {},
   "outputs": [
    {
     "data": {
      "application/vnd.jupyter.widget-view+json": {
       "model_id": "",
       "version_major": 2,
       "version_minor": 0
      },
      "text/plain": [
       "FloatProgress(value=0.0, bar_style='info', description='Progress:', layout=Layout(height='25px', width='50%'),…"
      ]
     },
     "metadata": {},
     "output_type": "display_data"
    },
    {
     "name": "stdout",
     "output_type": "stream",
     "text": [
      "+---------+---------+-----+\n",
      "| ASSET_ID|TICKET_ID|count|\n",
      "+---------+---------+-----+\n",
      "| 32059964| 45310913|  359|\n",
      "| 32722967| 45469880|  420|\n",
      "| 36648835|443542297|  420|\n",
      "| 36736504|419549611|  420|\n",
      "| 36866543| 45939449|  345|\n",
      "| 45092363| 44552188|  316|\n",
      "| 46937250| 44713157|  404|\n",
      "| 49147435| 45753593|  241|\n",
      "| 49461984| 45141151|  111|\n",
      "| 54736452| 46229687|  420|\n",
      "| 56521692| 46720938|  420|\n",
      "| 66388188| 46658637|  376|\n",
      "| 77441114| 46525900|  415|\n",
      "| 94622795|436351803|  417|\n",
      "| 97674011| 45400918|  419|\n",
      "|106886969| 47293176|  343|\n",
      "|109425244| 45670860|  269|\n",
      "| 35874337| 45620723|  333|\n",
      "| 38974238| 45734746|  417|\n",
      "| 44124493|441324294|  420|\n",
      "+---------+---------+-----+\n",
      "only showing top 20 rows"
     ]
    }
   ],
   "source": [
    "d.show()"
   ]
  },
  {
   "cell_type": "markdown",
   "metadata": {},
   "source": [
    "\n",
    "<div class=\"alert alert-block alert-danger\">\n",
    "<b>Alert:</b> It shows a particluar cpes have same tickets raised multiple number of times. So let's get the last ticket raised on same ticketid.\n",
    "</div>"
   ]
  },
  {
   "cell_type": "markdown",
   "metadata": {},
   "source": [
    "> Get the dataset for tickets and save it for future analysis"
   ]
  },
  {
   "cell_type": "code",
   "execution_count": 62,
   "metadata": {},
   "outputs": [
    {
     "data": {
      "application/vnd.jupyter.widget-view+json": {
       "model_id": "",
       "version_major": 2,
       "version_minor": 0
      },
      "text/plain": [
       "FloatProgress(value=0.0, bar_style='info', description='Progress:', layout=Layout(height='25px', width='50%'),…"
      ]
     },
     "metadata": {},
     "output_type": "display_data"
    }
   ],
   "source": [
    "df_tickets = df_ticket_filtered_dsl.select(['ASSET_ID','TICKET_ID','SOURCE','SOLUTION_LEVEL','SUMMARY','TICKET_TENTATIVE_ROOT_CAUSE','START_DATE_TICKET']).dropDuplicates()\n",
    "\n",
    "#Remove the thunderstorm cases and save the data for further analysis\n",
    "df_tickets = df_tickets.filter(F.col('TICKET_TENTATIVE_ROOT_CAUSE') != 'Grmljavina - 7')"
   ]
  },
  {
   "cell_type": "code",
   "execution_count": 68,
   "metadata": {},
   "outputs": [
    {
     "data": {
      "application/vnd.jupyter.widget-view+json": {
       "model_id": "",
       "version_major": 2,
       "version_minor": 0
      },
      "text/plain": [
       "FloatProgress(value=0.0, bar_style='info', description='Progress:', layout=Layout(height='25px', width='50%'),…"
      ]
     },
     "metadata": {},
     "output_type": "display_data"
    }
   ],
   "source": [
    "path = '/user/tsystems_vkumar/dsl_tickets/df_tkts_no_thunder.parquet'\n",
    "df_tickets.repartition(1).write.format('parquet').mode('overwrite').option('header','true').save(path)"
   ]
  },
  {
   "cell_type": "code",
   "execution_count": 33,
   "metadata": {},
   "outputs": [
    {
     "data": {
      "application/vnd.jupyter.widget-view+json": {
       "model_id": "",
       "version_major": 2,
       "version_minor": 0
      },
      "text/plain": [
       "FloatProgress(value=0.0, bar_style='info', description='Progress:', layout=Layout(height='25px', width='50%'),…"
      ]
     },
     "metadata": {},
     "output_type": "display_data"
    }
   ],
   "source": [
    "df_ticket_filtered_dsl_f = df_ticket_filtered_dsl.select(['ASSET_ID','TICKET_ID','SOURCE','SOLUTION_LEVEL','SUMMARY','TICKET_TENTATIVE_ROOT_CAUSE','START_DATE_TICKET']).dropDuplicates()"
   ]
  },
  {
   "cell_type": "code",
   "execution_count": 34,
   "metadata": {},
   "outputs": [
    {
     "data": {
      "application/vnd.jupyter.widget-view+json": {
       "model_id": "",
       "version_major": 2,
       "version_minor": 0
      },
      "text/plain": [
       "FloatProgress(value=0.0, bar_style='info', description='Progress:', layout=Layout(height='25px', width='50%'),…"
      ]
     },
     "metadata": {},
     "output_type": "display_data"
    },
    {
     "name": "stdout",
     "output_type": "stream",
     "text": [
      "+--------+---------+------+--------------+--------------------+---------------------------+-------------------+\n",
      "|ASSET_ID|TICKET_ID|SOURCE|SOLUTION_LEVEL|             SUMMARY|TICKET_TENTATIVE_ROOT_CAUSE|  START_DATE_TICKET|\n",
      "+--------+---------+------+--------------+--------------------+---------------------------+-------------------+\n",
      "|28955953|447128240| DONAT|             1|       Nema podataka|                       null|               null|\n",
      "|39066930|424372441| DONAT|             1|       Nema podataka|                       null|2020-06-05 19:46:15|\n",
      "|42926342|428776832| DONAT|             1|       Nema podataka|                       null|2020-07-27 09:37:50|\n",
      "|46807364| 46208003|  WWMS|             2|NE PROLAZI BOOT P...|               Blokada - 39|2020-11-11 20:47:06|\n",
      "|56654705| 45928223|  WWMS|             4|DSL SINHRONIZACIJ...|       Prekid; odvod; kr...|2020-10-04 12:45:53|\n",
      "+--------+---------+------+--------------+--------------------+---------------------------+-------------------+\n",
      "only showing top 5 rows"
     ]
    }
   ],
   "source": [
    "df_ticket_filtered_dsl_f.show(5)"
   ]
  },
  {
   "cell_type": "markdown",
   "metadata": {},
   "source": [
    " ### 5.1 Filter all DSL lines tickets irrespective of levels  <a class=\"anchor\" id=\"sec14\"></a>"
   ]
  },
  {
   "cell_type": "markdown",
   "metadata": {},
   "source": [
    "Now for predicting issues related to DSL lines we need to do some filtering and need to consider all levels."
   ]
  },
  {
   "cell_type": "markdown",
   "metadata": {},
   "source": [
    "<div class=\"alert alert-block alert-success\">\n",
    "<b>Up to you:</b> If we want to get data for any issue type just we need to summary of the function.\n",
    "</div>\n"
   ]
  },
  {
   "cell_type": "code",
   "execution_count": 12,
   "metadata": {},
   "outputs": [
    {
     "data": {
      "application/vnd.jupyter.widget-view+json": {
       "model_id": "",
       "version_major": 2,
       "version_minor": 0
      },
      "text/plain": [
       "FloatProgress(value=0.0, bar_style='info', description='Progress:', layout=Layout(height='25px', width='50%'),…"
      ]
     },
     "metadata": {},
     "output_type": "display_data"
    }
   ],
   "source": [
    "def get_specific_issue_data(df,summary):\n",
    "    '''This Funtion filter the issue data as per the choice and exclude Thunderstorm cases\n",
    "    \n",
    "    Args:\n",
    "        df (dataframe): Tickets dataset\n",
    "        summary (str): Issue related to CPE\n",
    "        \n",
    "    Returns:\n",
    "        df (dataframe) :  spark dataframe with filtered data.\n",
    "    \n",
    "    '''\n",
    "    df = df.filter(F.col('SUMMARY').contains(summary))\n",
    "    df = df.filter(df_ticket_filtered_dsl_f.SOURCE.isin(['BBSA','DONAT','WWMS']))\n",
    "    df = df.filter(F.col('TICKET_TENTATIVE_ROOT_CAUSE') != 'Grmljavina - 7')\n",
    "    df = df_ticket_filtered_dsl_f.dropDuplicates()\n",
    "    \n",
    "    cols = ['ASSET_ID','TICKET_ID','SOLUTION_LEVEL','START_DATE_TICKET']\n",
    "    df = df.select(['ASSET_ID','TICKET_ID','SOURCE','SOLUTION_LEVEL','START_DATE_TICKET']).distinct()\n",
    "    df = df.orderBy(*cols, ascending=False)\n",
    "    return df"
   ]
  },
  {
   "cell_type": "code",
   "execution_count": 35,
   "metadata": {},
   "outputs": [
    {
     "data": {
      "application/vnd.jupyter.widget-view+json": {
       "model_id": "",
       "version_major": 2,
       "version_minor": 0
      },
      "text/plain": [
       "FloatProgress(value=0.0, bar_style='info', description='Progress:', layout=Layout(height='25px', width='50%'),…"
      ]
     },
     "metadata": {},
     "output_type": "display_data"
    }
   ],
   "source": [
    "df_ticket_filtered_dsl_f = get_specific_issue_data(df_ticket_filtered_dsl_f,summary='DSL SINHRONIZACIJ')"
   ]
  },
  {
   "cell_type": "code",
   "execution_count": 36,
   "metadata": {},
   "outputs": [
    {
     "data": {
      "application/vnd.jupyter.widget-view+json": {
       "model_id": "",
       "version_major": 2,
       "version_minor": 0
      },
      "text/plain": [
       "FloatProgress(value=0.0, bar_style='info', description='Progress:', layout=Layout(height='25px', width='50%'),…"
      ]
     },
     "metadata": {},
     "output_type": "display_data"
    },
    {
     "name": "stdout",
     "output_type": "stream",
     "text": [
      "146083\n",
      "108408"
     ]
    }
   ],
   "source": [
    "print(df_ticket_filtered_dsl_f.count())\n",
    "df_ticket_filtered_dsl_f.select('ASSET_ID').distinct().count()"
   ]
  },
  {
   "cell_type": "code",
   "execution_count": 37,
   "metadata": {},
   "outputs": [
    {
     "data": {
      "application/vnd.jupyter.widget-view+json": {
       "model_id": "",
       "version_major": 2,
       "version_minor": 0
      },
      "text/plain": [
       "FloatProgress(value=0.0, bar_style='info', description='Progress:', layout=Layout(height='25px', width='50%'),…"
      ]
     },
     "metadata": {},
     "output_type": "display_data"
    },
    {
     "name": "stdout",
     "output_type": "stream",
     "text": [
      "+--------+---------+------+--------------+-------------------+\n",
      "|ASSET_ID|TICKET_ID|SOURCE|SOLUTION_LEVEL|  START_DATE_TICKET|\n",
      "+--------+---------+------+--------------+-------------------+\n",
      "|99999823| 44773069|  WWMS|             3|2020-02-17 14:34:16|\n",
      "|99999615| 45716587|  WWMS|             2|2020-08-25 11:13:06|\n",
      "|99999432| 44954962|  WWMS|             2|2020-03-24 08:51:38|\n",
      "|99997653| 45505875|  WWMS|             2|2020-07-11 21:22:39|\n",
      "|99997653| 45310273|  WWMS|             2|2020-06-03 18:35:17|\n",
      "+--------+---------+------+--------------+-------------------+\n",
      "only showing top 5 rows"
     ]
    }
   ],
   "source": [
    "df_ticket_filtered_dsl_f.show(5)"
   ]
  },
  {
   "cell_type": "code",
   "execution_count": 38,
   "metadata": {},
   "outputs": [
    {
     "data": {
      "application/vnd.jupyter.widget-view+json": {
       "model_id": "",
       "version_major": 2,
       "version_minor": 0
      },
      "text/plain": [
       "FloatProgress(value=0.0, bar_style='info', description='Progress:', layout=Layout(height='25px', width='50%'),…"
      ]
     },
     "metadata": {},
     "output_type": "display_data"
    }
   ],
   "source": [
    "path = '/user/tsystems_vkumar/dsl_tickets/filtered_cpe_dsl_all_lvl.parquet'\n",
    "df_ticket_filtered_dsl_f.repartition(1).write.format('parquet').mode('overwrite').option('header','true').save(path)"
   ]
  },
  {
   "cell_type": "code",
   "execution_count": 4,
   "metadata": {},
   "outputs": [
    {
     "data": {
      "application/vnd.jupyter.widget-view+json": {
       "model_id": "",
       "version_major": 2,
       "version_minor": 0
      },
      "text/plain": [
       "FloatProgress(value=0.0, bar_style='info', description='Progress:', layout=Layout(height='25px', width='50%'),…"
      ]
     },
     "metadata": {},
     "output_type": "display_data"
    }
   ],
   "source": [
    "df_ticket_filtered_dsl_f =  spark.read.option(\"header\",\"true\").parquet('hdfs://nameservicedev1////user/tsystems_vkumar/dsl_tickets/filtered_cpe_dsl_all_lvl.parquet')"
   ]
  },
  {
   "cell_type": "markdown",
   "metadata": {},
   "source": [
    "It has been seen that a particular `asset_id` raised issue later also in higher `solution_level` to get fix their DSL lines. So it makes sense to take the highest `solution_level` reached for them."
   ]
  },
  {
   "cell_type": "code",
   "execution_count": 19,
   "metadata": {},
   "outputs": [
    {
     "data": {
      "application/vnd.jupyter.widget-view+json": {
       "model_id": "",
       "version_major": 2,
       "version_minor": 0
      },
      "text/plain": [
       "FloatProgress(value=0.0, bar_style='info', description='Progress:', layout=Layout(height='25px', width='50%'),…"
      ]
     },
     "metadata": {},
     "output_type": "display_data"
    }
   ],
   "source": [
    "df_ticket_filtered_dsl_f2 = df_ticket_filtered_dsl_f.groupby('ASSET_ID').agg(F.max('SOURCE').alias('SOURCE')\\\n",
    "                                                            ,F.max('SOLUTION_LEVEL').alias('SOLUTION_LEVEL')\\\n",
    "                                                             ,F.max('START_DATE_TICKET').alias('START_DATE_TICKET')\n",
    "                                                              )"
   ]
  },
  {
   "cell_type": "code",
   "execution_count": 9,
   "metadata": {},
   "outputs": [
    {
     "data": {
      "application/vnd.jupyter.widget-view+json": {
       "model_id": "",
       "version_major": 2,
       "version_minor": 0
      },
      "text/plain": [
       "FloatProgress(value=0.0, bar_style='info', description='Progress:', layout=Layout(height='25px', width='50%'),…"
      ]
     },
     "metadata": {},
     "output_type": "display_data"
    },
    {
     "name": "stdout",
     "output_type": "stream",
     "text": [
      "root\n",
      " |-- ASSET_ID: string (nullable = true)\n",
      " |-- SOURCE: string (nullable = true)\n",
      " |-- SOLUTION_LEVEL: integer (nullable = true)\n",
      " |-- START_DATE_TICKET: string (nullable = true)"
     ]
    }
   ],
   "source": [
    "df_ticket_filtered_dsl_f2.printSchema()"
   ]
  },
  {
   "cell_type": "code",
   "execution_count": 6,
   "metadata": {},
   "outputs": [
    {
     "data": {
      "application/vnd.jupyter.widget-view+json": {
       "model_id": "",
       "version_major": 2,
       "version_minor": 0
      },
      "text/plain": [
       "FloatProgress(value=0.0, bar_style='info', description='Progress:', layout=Layout(height='25px', width='50%'),…"
      ]
     },
     "metadata": {},
     "output_type": "display_data"
    },
    {
     "name": "stdout",
     "output_type": "stream",
     "text": [
      "108408\n",
      "108408"
     ]
    }
   ],
   "source": [
    "print(df_ticket_filtered_dsl_f2.count())\n",
    "df_ticket_filtered_dsl_f2.select('ASSET_ID').distinct().count()"
   ]
  },
  {
   "cell_type": "code",
   "execution_count": 49,
   "metadata": {},
   "outputs": [
    {
     "data": {
      "application/vnd.jupyter.widget-view+json": {
       "model_id": "",
       "version_major": 2,
       "version_minor": 0
      },
      "text/plain": [
       "FloatProgress(value=0.0, bar_style='info', description='Progress:', layout=Layout(height='25px', width='50%'),…"
      ]
     },
     "metadata": {},
     "output_type": "display_data"
    },
    {
     "name": "stdout",
     "output_type": "stream",
     "text": [
      "('Level 0 tickets:', 0)\n",
      "\n",
      "\n",
      "('Level 1 tickets:', 0)\n",
      "\n",
      "\n",
      "('Level 2 tickets:', 16005)\n",
      "\n",
      "\n",
      "('Level 3 tickets:', 74571)\n",
      "\n",
      "\n",
      "('Level 4 tickets:', 17832)"
     ]
    }
   ],
   "source": [
    "print('Level 0 tickets:',df_ticket_filtered_dsl_f2.filter(F.col('SOLUTION_LEVEL')==0).count())\n",
    "print('\\n')\n",
    "print('Level 1 tickets:',df_ticket_filtered_dsl_f2.filter(F.col('SOLUTION_LEVEL')==1).count())\n",
    "print('\\n')\n",
    "print('Level 2 tickets:',df_ticket_filtered_dsl_f2.filter(F.col('SOLUTION_LEVEL')==2).count())\n",
    "print('\\n')\n",
    "print('Level 3 tickets:',df_ticket_filtered_dsl_f2.filter(F.col('SOLUTION_LEVEL')==3).count())\n",
    "print('\\n')\n",
    "print('Level 4 tickets:',df_ticket_filtered_dsl_f2.filter(F.col('SOLUTION_LEVEL')==4).count())"
   ]
  },
  {
   "cell_type": "code",
   "execution_count": 20,
   "metadata": {},
   "outputs": [
    {
     "data": {
      "application/vnd.jupyter.widget-view+json": {
       "model_id": "",
       "version_major": 2,
       "version_minor": 0
      },
      "text/plain": [
       "FloatProgress(value=0.0, bar_style='info', description='Progress:', layout=Layout(height='25px', width='50%'),…"
      ]
     },
     "metadata": {},
     "output_type": "display_data"
    },
    {
     "name": "stdout",
     "output_type": "stream",
     "text": [
      "+--------+------+--------------+-----------------+\n",
      "|ASSET_ID|SOURCE|SOLUTION_LEVEL|START_DATE_TICKET|\n",
      "+--------+------+--------------+-----------------+\n",
      "|       0|     0|             0|             1093|\n",
      "+--------+------+--------------+-----------------+"
     ]
    }
   ],
   "source": [
    "#Check null values in a dataframe\n",
    "df_ticket_filtered_dsl_f2.select([count(when(isnan(c) | col(c).isNull(), c)).alias(c) for c in df_ticket_filtered_dsl_f2.columns]).show()"
   ]
  },
  {
   "cell_type": "code",
   "execution_count": 21,
   "metadata": {},
   "outputs": [
    {
     "data": {
      "application/vnd.jupyter.widget-view+json": {
       "model_id": "",
       "version_major": 2,
       "version_minor": 0
      },
      "text/plain": [
       "FloatProgress(value=0.0, bar_style='info', description='Progress:', layout=Layout(height='25px', width='50%'),…"
      ]
     },
     "metadata": {},
     "output_type": "display_data"
    }
   ],
   "source": [
    "df_ticket_filtered_dsl_f2 = df_ticket_filtered_dsl_f2.na.drop()"
   ]
  },
  {
   "cell_type": "code",
   "execution_count": 22,
   "metadata": {},
   "outputs": [
    {
     "data": {
      "application/vnd.jupyter.widget-view+json": {
       "model_id": "",
       "version_major": 2,
       "version_minor": 0
      },
      "text/plain": [
       "FloatProgress(value=0.0, bar_style='info', description='Progress:', layout=Layout(height='25px', width='50%'),…"
      ]
     },
     "metadata": {},
     "output_type": "display_data"
    }
   ],
   "source": [
    "df_ticket_filtered_dsl_f2 = df_ticket_filtered_dsl_f2.withColumn('START_DATE_TICKET',F.col('START_DATE_TICKET').cast('date'))"
   ]
  },
  {
   "cell_type": "code",
   "execution_count": 23,
   "metadata": {},
   "outputs": [
    {
     "data": {
      "application/vnd.jupyter.widget-view+json": {
       "model_id": "",
       "version_major": 2,
       "version_minor": 0
      },
      "text/plain": [
       "FloatProgress(value=0.0, bar_style='info', description='Progress:', layout=Layout(height='25px', width='50%'),…"
      ]
     },
     "metadata": {},
     "output_type": "display_data"
    }
   ],
   "source": [
    "df_ticket_filtered_dsl_f2 = df_ticket_filtered_dsl_f2.withColumn('label',F.lit('DSL synchronization'))\n",
    "df_ticket_filtered_dsl_f2 = df_ticket_filtered_dsl_f2.select(F.col('ASSET_ID').alias('assetid')\\\n",
    "                                                             ,F.col('START_DATE_TICKET').alias('incident_date')\\\n",
    "                                                             ,F.col('label').alias('label')\\\n",
    "                                                             ,F.col('SOLUTION_LEVEL').alias('level'))"
   ]
  },
  {
   "cell_type": "code",
   "execution_count": 24,
   "metadata": {},
   "outputs": [
    {
     "data": {
      "application/vnd.jupyter.widget-view+json": {
       "model_id": "",
       "version_major": 2,
       "version_minor": 0
      },
      "text/plain": [
       "FloatProgress(value=0.0, bar_style='info', description='Progress:', layout=Layout(height='25px', width='50%'),…"
      ]
     },
     "metadata": {},
     "output_type": "display_data"
    },
    {
     "name": "stdout",
     "output_type": "stream",
     "text": [
      "+---------+-------------+-------------------+-----+\n",
      "|  assetid|incident_date|              label|level|\n",
      "+---------+-------------+-------------------+-----+\n",
      "|100237078|   2020-03-25|DSL synchronization|    2|\n",
      "|100492624|   2020-11-26|DSL synchronization|    3|\n",
      "|100953000|   2020-09-28|DSL synchronization|    3|\n",
      "|101647812|   2021-02-21|DSL synchronization|    4|\n",
      "|102174423|   2021-02-15|DSL synchronization|    3|\n",
      "+---------+-------------+-------------------+-----+\n",
      "only showing top 5 rows"
     ]
    }
   ],
   "source": [
    "df_ticket_filtered_dsl_f2.show(5)"
   ]
  },
  {
   "cell_type": "code",
   "execution_count": 25,
   "metadata": {},
   "outputs": [
    {
     "data": {
      "application/vnd.jupyter.widget-view+json": {
       "model_id": "",
       "version_major": 2,
       "version_minor": 0
      },
      "text/plain": [
       "FloatProgress(value=0.0, bar_style='info', description='Progress:', layout=Layout(height='25px', width='50%'),…"
      ]
     },
     "metadata": {},
     "output_type": "display_data"
    }
   ],
   "source": [
    "path = '/user/tsystems_vkumar/dsl_tickets/dsl_tkts_all_lvls_uniq_n.parquet'\n",
    "df_ticket_filtered_dsl_f2.repartition(1).write.format('parquet').mode('overwrite').option('header','true').save(path)"
   ]
  },
  {
   "cell_type": "code",
   "execution_count": 13,
   "metadata": {},
   "outputs": [
    {
     "data": {
      "application/vnd.jupyter.widget-view+json": {
       "model_id": "",
       "version_major": 2,
       "version_minor": 0
      },
      "text/plain": [
       "FloatProgress(value=0.0, bar_style='info', description='Progress:', layout=Layout(height='25px', width='50%'),…"
      ]
     },
     "metadata": {},
     "output_type": "display_data"
    }
   ],
   "source": [
    "df_ticket_filtered_dsl_f2 = spark.read.option(\"header\",\"true\").parquet('hdfs://nameservicedev1///user/tsystems_vkumar/dsl_tickets/dsl_tkts_all_lvls_uniq_n.parquet')"
   ]
  },
  {
   "cell_type": "code",
   "execution_count": 14,
   "metadata": {},
   "outputs": [
    {
     "data": {
      "application/vnd.jupyter.widget-view+json": {
       "model_id": "",
       "version_major": 2,
       "version_minor": 0
      },
      "text/plain": [
       "FloatProgress(value=0.0, bar_style='info', description='Progress:', layout=Layout(height='25px', width='50%'),…"
      ]
     },
     "metadata": {},
     "output_type": "display_data"
    }
   ],
   "source": [
    "df_ticket_filtered_dsl_f3 = df_ticket_filtered_dsl_f2.select('assetid','incident_date','label')"
   ]
  },
  {
   "cell_type": "code",
   "execution_count": 16,
   "metadata": {},
   "outputs": [
    {
     "data": {
      "application/vnd.jupyter.widget-view+json": {
       "model_id": "",
       "version_major": 2,
       "version_minor": 0
      },
      "text/plain": [
       "FloatProgress(value=0.0, bar_style='info', description='Progress:', layout=Layout(height='25px', width='50%'),…"
      ]
     },
     "metadata": {},
     "output_type": "display_data"
    }
   ],
   "source": [
    "path = '/user/tsystems_vkumar/dsl_tickets/dsl_tkts_all_lvls_uniq_wlbl.parquet'\n",
    "df_ticket_filtered_dsl_f3.repartition(1).write.format('parquet').mode('overwrite').option('header','true').save(path)"
   ]
  },
  {
   "cell_type": "markdown",
   "metadata": {},
   "source": [
    "## 6. Filter Non DSL tickets for healthy dataset <a class=\"anchor\" id=\"sec15\"></a>"
   ]
  },
  {
   "cell_type": "markdown",
   "metadata": {},
   "source": [
    "Load the created tickets dataset with all issues except Thunderstorm cases."
   ]
  },
  {
   "cell_type": "code",
   "execution_count": 4,
   "metadata": {},
   "outputs": [
    {
     "data": {
      "application/vnd.jupyter.widget-view+json": {
       "model_id": "",
       "version_major": 2,
       "version_minor": 0
      },
      "text/plain": [
       "FloatProgress(value=0.0, bar_style='info', description='Progress:', layout=Layout(height='25px', width='50%'),…"
      ]
     },
     "metadata": {},
     "output_type": "display_data"
    }
   ],
   "source": [
    "df_tickets = spark.read.option(\"header\",\"true\").parquet('hdfs://nameservicedev1//user/tsystems_vkumar/dsl_tickets/df_tkts_no_thunder.parquet')"
   ]
  },
  {
   "cell_type": "markdown",
   "metadata": {},
   "source": [
    "<div class=\"alert alert-block alert-success\">\n",
    "<b>Conditions:</b> We need to consider Non-DSL tickets which can be included in our healthy dataset to add noise. So after shortlisting below are the non-DSL issues which have been included.\n",
    "</div>\n",
    "\n"
   ]
  },
  {
   "cell_type": "code",
   "execution_count": 19,
   "metadata": {},
   "outputs": [
    {
     "data": {
      "application/vnd.jupyter.widget-view+json": {
       "model_id": "",
       "version_major": 2,
       "version_minor": 0
      },
      "text/plain": [
       "FloatProgress(value=0.0, bar_style='info', description='Progress:', layout=Layout(height='25px', width='50%'),…"
      ]
     },
     "metadata": {},
     "output_type": "display_data"
    }
   ],
   "source": [
    "df_tickets_dth = df_tickets.filter(F.col(\"SUMMARY\").contains(\"DTH\"))\n",
    "df_tickets_radi = df_tickets.filter(F.col(\"SUMMARY\")=='BEIÈNA VEZA NE RADI')\n",
    "df_tickets_a = df_tickets.filter(F.col(\"SUMMARY\")=='STALNO ZAUZET')\n",
    "df_tickets_b = df_tickets.filter(F.col(\"SUMMARY\")=='NE RADE DOLAZNI NI ODLAZNI POZIVI (VOIP)')\n",
    "df_tickets_c = df_tickets.filter(F.col(\"SUMMARY\")=='DODATNE USLUGE')\n",
    "df_tickets_d = df_tickets.filter(F.col(\"SUMMARY\")=='2. STB SE NE BOOTA')\n",
    "df_tickets_e = df_tickets.filter(F.col(\"SUMMARY\")=='NEISPRAVAN STB')\n",
    "df_tickets_f = df_tickets.filter(F.col(\"SUMMARY\")=='STB SE POVREMENO GASI')\n",
    "df_tickets_g = df_tickets.filter(F.col(\"SUMMARY\")=='NEISPRAVAN DALJINSKI UPRAVLJAÈ')\n",
    "df_tickets_h = df_tickets.filter(F.col(\"SUMMARY\")=='SMETNJA NA VIDEOTECI')"
   ]
  },
  {
   "cell_type": "code",
   "execution_count": 23,
   "metadata": {},
   "outputs": [
    {
     "data": {
      "application/vnd.jupyter.widget-view+json": {
       "model_id": "",
       "version_major": 2,
       "version_minor": 0
      },
      "text/plain": [
       "FloatProgress(value=0.0, bar_style='info', description='Progress:', layout=Layout(height='25px', width='50%'),…"
      ]
     },
     "metadata": {},
     "output_type": "display_data"
    }
   ],
   "source": [
    "df_tkts_comb = df_tickets_dth.union(df_tickets_radi).union(df_tickets_a).union(df_tickets_c)\\\n",
    "                             .union(df_tickets_d).union(df_tickets_e).union(df_tickets_f).union(df_tickets_g)\\\n",
    "                                .union(df_tickets_h)"
   ]
  },
  {
   "cell_type": "code",
   "execution_count": 24,
   "metadata": {},
   "outputs": [
    {
     "data": {
      "application/vnd.jupyter.widget-view+json": {
       "model_id": "",
       "version_major": 2,
       "version_minor": 0
      },
      "text/plain": [
       "FloatProgress(value=0.0, bar_style='info', description='Progress:', layout=Layout(height='25px', width='50%'),…"
      ]
     },
     "metadata": {},
     "output_type": "display_data"
    },
    {
     "name": "stdout",
     "output_type": "stream",
     "text": [
      "array([u'2. STB SE NE BOOTA', u'DTH - NEMA ZEMALJSKIH KANALA',\n",
      "       u'DTH - NEUSPJE\\x8aNO UPARIVANJE', u'NEISPRAVAN STB',\n",
      "       u'DTH - novi transponder', u'DTH - NEISPRAVNA DEKODERSKA KARTICA',\n",
      "       u'DTH - KANAL KODIRAN', u'STALNO ZAUZET',\n",
      "       u'BE\\x8eI\\xc8NA VEZA NE RADI',\n",
      "       u'DTH - POVREMENO SE GUBI SATELITSKI SIGNAL',\n",
      "       u'SMETNJA NA VIDEOTECI', u'NEISPRAVAN DALJINSKI UPRAVLJA\\xc8',\n",
      "       u'DTH - NEMA SATELITSKOG SIGNALA', u'DODATNE USLUGE',\n",
      "       u'STB SE POVREMENO GASI', u'DTH - O\\x8aTE\\xc6EN ANTENSKI SUSTAV'],\n",
      "      dtype=object)"
     ]
    }
   ],
   "source": [
    "df_tkts_comb.select(F.col('SUMMARY')).distinct().toPandas().SUMMARY.unique()"
   ]
  },
  {
   "cell_type": "code",
   "execution_count": 6,
   "metadata": {},
   "outputs": [
    {
     "data": {
      "application/vnd.jupyter.widget-view+json": {
       "model_id": "",
       "version_major": 2,
       "version_minor": 0
      },
      "text/plain": [
       "FloatProgress(value=0.0, bar_style='info', description='Progress:', layout=Layout(height='25px', width='50%'),…"
      ]
     },
     "metadata": {},
     "output_type": "display_data"
    },
    {
     "name": "stdout",
     "output_type": "stream",
     "text": [
      "53754\n",
      "46783"
     ]
    }
   ],
   "source": [
    "df_tkts_comb = df_tkts_comb.dropDuplicates()\n",
    "print(df_tkts_comb.count())\n",
    "df_tkts_comb.select(F.col('ASSET_ID')).distinct().count()"
   ]
  },
  {
   "cell_type": "code",
   "execution_count": 26,
   "metadata": {},
   "outputs": [
    {
     "data": {
      "application/vnd.jupyter.widget-view+json": {
       "model_id": "",
       "version_major": 2,
       "version_minor": 0
      },
      "text/plain": [
       "FloatProgress(value=0.0, bar_style='info', description='Progress:', layout=Layout(height='25px', width='50%'),…"
      ]
     },
     "metadata": {},
     "output_type": "display_data"
    }
   ],
   "source": [
    "df_tkts_comb = spark.read.option(\"header\",\"true\").parquet('hdfs://nameservicedev1///user/tsystems_vkumar/dsl_tickets/df_tkts_non_dsl.parquet')"
   ]
  },
  {
   "cell_type": "markdown",
   "metadata": {},
   "source": [
    "We need to take the lastest issue recorded for all the filtered issue type"
   ]
  },
  {
   "cell_type": "code",
   "execution_count": 27,
   "metadata": {},
   "outputs": [
    {
     "data": {
      "application/vnd.jupyter.widget-view+json": {
       "model_id": "",
       "version_major": 2,
       "version_minor": 0
      },
      "text/plain": [
       "FloatProgress(value=0.0, bar_style='info', description='Progress:', layout=Layout(height='25px', width='50%'),…"
      ]
     },
     "metadata": {},
     "output_type": "display_data"
    }
   ],
   "source": [
    "df_tkts_comb_agg_1 = df_tkts_comb.groupby('ASSET_ID','SUMMARY').agg(F.max('START_DATE_TICKET').alias('start_date'))"
   ]
  },
  {
   "cell_type": "code",
   "execution_count": 14,
   "metadata": {},
   "outputs": [
    {
     "data": {
      "application/vnd.jupyter.widget-view+json": {
       "model_id": "",
       "version_major": 2,
       "version_minor": 0
      },
      "text/plain": [
       "FloatProgress(value=0.0, bar_style='info', description='Progress:', layout=Layout(height='25px', width='50%'),…"
      ]
     },
     "metadata": {},
     "output_type": "display_data"
    },
    {
     "name": "stdout",
     "output_type": "stream",
     "text": [
      "49896\n",
      "46783"
     ]
    }
   ],
   "source": [
    "print(df_tkts_comb_agg_1.count())\n",
    "df_tkts_comb_agg_1.select(F.col('ASSET_ID')).distinct().count()"
   ]
  },
  {
   "cell_type": "code",
   "execution_count": 28,
   "metadata": {},
   "outputs": [
    {
     "data": {
      "application/vnd.jupyter.widget-view+json": {
       "model_id": "",
       "version_major": 2,
       "version_minor": 0
      },
      "text/plain": [
       "FloatProgress(value=0.0, bar_style='info', description='Progress:', layout=Layout(height='25px', width='50%'),…"
      ]
     },
     "metadata": {},
     "output_type": "display_data"
    },
    {
     "name": "stdout",
     "output_type": "stream",
     "text": [
      "+--------+-------+----------+\n",
      "|ASSET_ID|SUMMARY|start_date|\n",
      "+--------+-------+----------+\n",
      "|       0|      0|       591|\n",
      "+--------+-------+----------+"
     ]
    }
   ],
   "source": [
    "#Check null count\n",
    "df_tkts_comb_agg_1.select([count(when(isnan(c) | col(c).isNull(), c)).alias(c) for c in df_tkts_comb_agg_1.columns]).show()"
   ]
  },
  {
   "cell_type": "code",
   "execution_count": 29,
   "metadata": {},
   "outputs": [
    {
     "data": {
      "application/vnd.jupyter.widget-view+json": {
       "model_id": "",
       "version_major": 2,
       "version_minor": 0
      },
      "text/plain": [
       "FloatProgress(value=0.0, bar_style='info', description='Progress:', layout=Layout(height='25px', width='50%'),…"
      ]
     },
     "metadata": {},
     "output_type": "display_data"
    }
   ],
   "source": [
    "df_tkts_comb_agg_1 = df_tkts_comb_agg_1.na.drop()"
   ]
  },
  {
   "cell_type": "code",
   "execution_count": 30,
   "metadata": {},
   "outputs": [
    {
     "data": {
      "application/vnd.jupyter.widget-view+json": {
       "model_id": "",
       "version_major": 2,
       "version_minor": 0
      },
      "text/plain": [
       "FloatProgress(value=0.0, bar_style='info', description='Progress:', layout=Layout(height='25px', width='50%'),…"
      ]
     },
     "metadata": {},
     "output_type": "display_data"
    },
    {
     "name": "stdout",
     "output_type": "stream",
     "text": [
      "+---------+-------------------+--------------------+\n",
      "|  assetid|      incident_date|               label|\n",
      "+---------+-------------------+--------------------+\n",
      "|100424784|2021-03-26 16:03:55|       STALNO ZAUZET|\n",
      "|101866361|2020-04-04 20:13:56|       STALNO ZAUZET|\n",
      "|102594887|2020-09-22 14:33:38|       STALNO ZAUZET|\n",
      "|103232787|2020-11-27 08:09:41|NEISPRAVAN DALJIN...|\n",
      "|103318378|2021-01-18 17:31:26|BEIÈNA VEZA NE RADI|\n",
      "+---------+-------------------+--------------------+\n",
      "only showing top 5 rows"
     ]
    }
   ],
   "source": [
    "df_tkts_comb_agg = df_tkts_comb_agg_1.select(F.col('ASSET_ID').alias('assetid'),F.col('start_date').alias('incident_date'),F.col('SUMMARY').alias('label'))\n",
    "df_tkts_comb_agg.show(5)"
   ]
  },
  {
   "cell_type": "code",
   "execution_count": 31,
   "metadata": {},
   "outputs": [
    {
     "data": {
      "application/vnd.jupyter.widget-view+json": {
       "model_id": "",
       "version_major": 2,
       "version_minor": 0
      },
      "text/plain": [
       "FloatProgress(value=0.0, bar_style='info', description='Progress:', layout=Layout(height='25px', width='50%'),…"
      ]
     },
     "metadata": {},
     "output_type": "display_data"
    },
    {
     "name": "stdout",
     "output_type": "stream",
     "text": [
      "+--------+-------------------+-------------+\n",
      "| assetid|      incident_date|        label|\n",
      "+--------+-------------------+-------------+\n",
      "|70906512|2020-08-03 12:21:34|Non-DSL issue|\n",
      "|52318977|2020-01-07 19:09:22|Non-DSL issue|\n",
      "|70665323|2020-05-15 18:51:19|Non-DSL issue|\n",
      "|49008735|2020-01-18 14:25:24|Non-DSL issue|\n",
      "|26966526|2020-01-16 10:20:19|Non-DSL issue|\n",
      "+--------+-------------------+-------------+\n",
      "only showing top 5 rows"
     ]
    }
   ],
   "source": [
    "df_tkts_comb_agg_1 = df_tkts_comb_agg.drop('label')\n",
    "df_tkts_comb_agg_1 = df_tkts_comb_agg.withColumn('label',F.lit('Non-DSL issue'))\n",
    "df_tkts_comb_agg_1 = df_tkts_comb_agg_1.dropDuplicates()\n",
    "df_tkts_comb_agg_1.show(5)"
   ]
  },
  {
   "cell_type": "code",
   "execution_count": 34,
   "metadata": {},
   "outputs": [
    {
     "data": {
      "application/vnd.jupyter.widget-view+json": {
       "model_id": "",
       "version_major": 2,
       "version_minor": 0
      },
      "text/plain": [
       "FloatProgress(value=0.0, bar_style='info', description='Progress:', layout=Layout(height='25px', width='50%'),…"
      ]
     },
     "metadata": {},
     "output_type": "display_data"
    }
   ],
   "source": [
    "df_tkts_comb_agg_1 = df_tkts_comb_agg_1.withColumn('incident_date',F.col('incident_date').cast('date'))"
   ]
  },
  {
   "cell_type": "code",
   "execution_count": 33,
   "metadata": {},
   "outputs": [
    {
     "data": {
      "application/vnd.jupyter.widget-view+json": {
       "model_id": "",
       "version_major": 2,
       "version_minor": 0
      },
      "text/plain": [
       "FloatProgress(value=0.0, bar_style='info', description='Progress:', layout=Layout(height='25px', width='50%'),…"
      ]
     },
     "metadata": {},
     "output_type": "display_data"
    },
    {
     "name": "stdout",
     "output_type": "stream",
     "text": [
      "49304\n",
      "46257"
     ]
    }
   ],
   "source": [
    "print(df_tkts_comb_agg_1.count())\n",
    "df_tkts_comb_agg_1.select(F.col('assetid')).distinct().count()"
   ]
  },
  {
   "cell_type": "code",
   "execution_count": 35,
   "metadata": {},
   "outputs": [
    {
     "data": {
      "application/vnd.jupyter.widget-view+json": {
       "model_id": "",
       "version_major": 2,
       "version_minor": 0
      },
      "text/plain": [
       "FloatProgress(value=0.0, bar_style='info', description='Progress:', layout=Layout(height='25px', width='50%'),…"
      ]
     },
     "metadata": {},
     "output_type": "display_data"
    }
   ],
   "source": [
    "path = '/user/tsystems_vkumar/non_dsl_tickets/non_dsl_tkts_n.parquet'\n",
    "df_tkts_comb_agg_1.repartition(1).write.format('parquet').mode('overwrite').option('header','true').save(path)"
   ]
  },
  {
   "cell_type": "code",
   "execution_count": null,
   "metadata": {},
   "outputs": [],
   "source": []
  },
  {
   "cell_type": "code",
   "execution_count": null,
   "metadata": {},
   "outputs": [],
   "source": []
  },
  {
   "cell_type": "code",
   "execution_count": null,
   "metadata": {},
   "outputs": [],
   "source": []
  },
  {
   "cell_type": "code",
   "execution_count": null,
   "metadata": {},
   "outputs": [],
   "source": []
  },
  {
   "cell_type": "code",
   "execution_count": null,
   "metadata": {},
   "outputs": [],
   "source": []
  },
  {
   "cell_type": "code",
   "execution_count": null,
   "metadata": {},
   "outputs": [],
   "source": []
  },
  {
   "cell_type": "code",
   "execution_count": null,
   "metadata": {},
   "outputs": [],
   "source": []
  },
  {
   "cell_type": "code",
   "execution_count": null,
   "metadata": {},
   "outputs": [],
   "source": []
  },
  {
   "cell_type": "code",
   "execution_count": null,
   "metadata": {},
   "outputs": [],
   "source": []
  },
  {
   "cell_type": "code",
   "execution_count": null,
   "metadata": {},
   "outputs": [],
   "source": []
  },
  {
   "cell_type": "code",
   "execution_count": null,
   "metadata": {},
   "outputs": [],
   "source": []
  },
  {
   "cell_type": "code",
   "execution_count": null,
   "metadata": {},
   "outputs": [],
   "source": []
  },
  {
   "cell_type": "code",
   "execution_count": null,
   "metadata": {},
   "outputs": [],
   "source": []
  },
  {
   "cell_type": "markdown",
   "metadata": {},
   "source": [
    "### Not required  but it's for translation"
   ]
  },
  {
   "cell_type": "code",
   "execution_count": 21,
   "metadata": {},
   "outputs": [
    {
     "data": {
      "application/vnd.jupyter.widget-view+json": {
       "model_id": "",
       "version_major": 2,
       "version_minor": 0
      },
      "text/plain": [
       "FloatProgress(value=0.0, bar_style='info', description='Progress:', layout=Layout(height='25px', width='50%'),…"
      ]
     },
     "metadata": {},
     "output_type": "display_data"
    }
   ],
   "source": [
    "mapping = {'NEISPRAVAN MODEM - TEHNIÈAR':'DEFECTIVE MODEM - TECHNICIAN',\n",
    "'OPTIKA - NEISPRAVAN ONT':'OPTICS - DEFECTIVE ONT',\n",
    "'DSL SINHRONIZIRAN: POVREMENI PREKIDI KONEKCIJE':'DSL SYNCHRONIZED, OCCASIONAL INTERRUPTIONS',\n",
    "'NEMA TEL. SIGNALA':'NO TEL. SIGNAL',\n",
    "'NEISPRAVAN MODEM':'DEFECTIVE MODEM',\n",
    "'STALNO ZAUZET':'CONSTANTLY OCCUPIED',\n",
    "'NE PROLAZI BOOT PROCEDURA':'DOES NOT PASS THE BOOT PROCEDURE',\n",
    "'MAXNET MINI':'MAXNET MINI',\n",
    "'KORISNIÈKA OPREMA':'USER EQUIPMENT',\n",
    "'DSL SINHRONIZACIJA - PREKID':'DSL SYNCHRONIZATION - INTERRUPTION',\n",
    "'POTEKOÆA S BRZINOM':'DIFFICULTY WITH SPEED',\n",
    "'NE RADE DOLAZNI NI ODLAZNI POZIVI (VOIP)':'INBOUT OR OUTFLOW CALLS (VOIP) DO NOT WORK',\n",
    "'DSL SINHRONIZACIJA - POVREMENI PREKIDI':'DSL SYNCHRONIZATION - OCCASIONAL INTERRUPTIONS',\n",
    "'DTH - POVREMENO SE GUBI SATELITSKI SIGNAL':'DTH - OCCASIONALLY LOSS SATELLITE SIGNAL',\n",
    "'NEMOGUÆE UTVRDITI':'IMPOSSIBLE TO DETERMINE',\n",
    "'BEIÈNA VEZA NE RADI':'WIRELESS DOES NOT WORK',\n",
    "'MODEM NEISPRAVAN (GRMLJAVINA)':'MODEM FAULT (THUNDERSTORM)',\n",
    "'NEISPRAVAN MODEM (GRMLJAVINA)':'DEFECTIVE MODEM (THUNDERSTORM)',\n",
    "'NE RADE DOLAZNI POZIVI':'INCOMING CALLS DO NOT WORK',\n",
    "'MODEM NEISPRAVAN (GRMLJAVINA) - TEHNIÈAR':'MODEM FAULT (THUNDERSTORM) - TECHNICIAN',\n",
    "'DODATNE USLUGE':'ADDITIONAL SERVICES',\n",
    "'DTH - NEMA SATELITSKOG SIGNALA':'DTH - NO SATELLITE SIGNAL',\n",
    "'NE RADE DOLAZNI NI ODLAZNI POZIVI':'INCOMING OR OUTGOING CALLS DO NOT WORK',\n",
    "'NEISPRAVAN IP TELEFON':'DEFECTIVE IP PHONE',\n",
    "'DTH - NEUSPJENO UPARIVANJE':'DTH - PAIR FAILURE',\n",
    "'NEISPRAVAN MODEM (VoIP) - TEHNIÈAR':'DEFECTIVE MODEM (VoIP) - TECHNICIAN',\n",
    "'2. STB SE NE BOOTA':'2. STB SE NE BOOTA',\n",
    "'NEISPRAVAN STB':'DEFECTIVE STB',\n",
    "'NEISPRAVAN MODEM (GRMLJAVINA) - TEHNIÈAR':'DEFECTIVE MODEM (THUNDERSTORM) - TECHNICIAN',\n",
    "'STB SE POVREMENO GASI':'STB IS OCCASIONALLY EXTINGUISHED',\n",
    "'USER SPOJEN: NE OTVARA STRANICE':'USER CONNECTED, DOES NOT OPEN PAGES',\n",
    "'ZAMRZAVANJE SLIKE':'PICTURE FREEZING',\n",
    "'NEISPRAVAN DALJINSKI UPRAVLJAÈ':'DEFECTIVE REMOTE CONTROL',\n",
    "'NE RADI SWITCH':'SWITCH DOES NOT WORK',\n",
    "'OPTIKA - POVREMENI PREKIDI /NEMA OPTIÈKOG LINKA':'OPTICS - OCCASIONAL INTERRUPTIONS / NO OPTICAL LINK',\n",
    "'SMETNJA NA SNIMALICI':'INTERFERENCE ON THE RECORDER',\n",
    "'DSL SINHRONIZIRAN: USER SE NE SPAJA':'DSL SYNCHRONIZED, USER DOES NOT CONNECT',\n",
    "'NE VIDE SE POJEDINI KANALI':'INDIVIDUAL CHANNELS CANNOT BE SEEN',\n",
    "'OPTIKA - NEMA AKTIVACIJE MODEMA':'OPTICS - NO MODEM ACTIVATION',\n",
    "'NEISPRAVAN STB (GRMLJAVINA)':'DEFECTIVE STB (THUNDERSTORM)',\n",
    "'NEMA ZVUKA':'NO SOUND',\n",
    "'DTH - NEISPRAVNA DEKODERSKA KARTICA':'DTH - DEFECTIVE DECODER CARD',\n",
    "'GREKA NA KUÆNOJ INSTALACIJI':'HOUSEHOLD INSTALLATION ERROR',\n",
    "'NEISPRAVAN MODEM (VoIP)':'FAULT MODEM (VoIP)',\n",
    "'NE RADE SAMO DOLAZNI POZIVI':'ONLY INCOMING CALLS DO NOT WORK',\n",
    "'NEISPRAVAN MEDIATRIX':'DEFECTIVE MEDIATRIX',\n",
    "'PROBLEMI S DALJINSKIM UPRAVLJAÈEM':'REMOTE CONTROL PROBLEMS',\n",
    "'OPTIKA - OTEÆENA KUÆNA OPTIÈKA INSTALACIJA':'OPTICS - DAMAGED HOME OPTICAL INSTALLATION',\n",
    "'OPTIKA - NEISPRAVAN ONT (GRMLJAVINA)':'OPTICS - DEFECTIVE ONT (THUNDER)',\n",
    "'IÈNA VEZA MODEM  - PC NE RADI':'WIRE CONNECTION MODEM - PC DOES NOT WORK',\n",
    "'TRZANJE SLIKE':'PICTURE PICTURE',\n",
    "'SLABA ÈUJNOST':'POOR HEARING',\n",
    "'NE RADE SAMO ODLAZNI POZIVI':'ONLY OUTSTANDING CALLS DO NOT WORK',\n",
    "'DTH - novi transponder':'DTH - new transponder',\n",
    "'Prekid HA usluge':'Termination of HA service',\n",
    "'Prekid usluga i prekid 4G backup-a':'Interruption of services and termination of 4G backup',\n",
    "'PREKID VEZE KOD JAVLJANJA':'DISCONNECTION AT THE REPORT',\n",
    "'DTH - OTEÆEN ANTENSKI SUSTAV':'DTH - DAMAGED ANTENNA SYSTEM',\n",
    "'SMETNJE U TOKU VEZE (UM)':'INTERFERENCE DURING CONNECTION (NOISE)',\n",
    "'NE RADI - JTG':'NOT WORKING - JTG',\n",
    "'STALNO ZVONI':'CONSTANTLY RINGS',\n",
    "'SMETNJA NA USLUZI SIGURAN DOM':'INTERFERENCE WITH SAFE HOME SERVICE',\n",
    "'OPTIKA - IMA LINKA - NEMA AKTIVACIJE ONT-a':'OPTIKA - THERE IS A LINK - NO ONT ACTIVATION',\n",
    "'SMETNJE U TOKU VEZE (JEKA:KANJENJE GLASA)':'INTERFERENCE DURING THE COMMUNICATION (Echo, VOICE DELAY)',\n",
    "'TeraStream ? prekid':'TeraStream? break',\n",
    "'DTH - NEMA ZEMALJSKIH KANALA':'DTH - NO EARTH CHANNELS',\n",
    "'SMETNJA NA VIDEOTECI':'INTERFERENCE AT THE VIDEO LIBRARY',\n",
    "'DTH - KANAL KODIRAN':'DTH - CHANNEL CHANNEL',\n",
    "'PRESLUAVANJE U TOKU RAZGOVORA':'LISTENING DURING THE INTERVIEW',\n",
    "'ZAMJENA BROJEVA':'NUMBER REPLACEMENT',\n",
    "'NE RADE ODLAZNI POZIVI':'DETAILED CALLS DO NOT WORK',\n",
    "'Multi Office - POTEKOÆA KOD PRISTUPA LOKACIJAMA':'Multi Office - DIFFICULTIES IN ACCESSING LOCATIONS',\n",
    "'JEDNOSTRANA ÈUJNOST':'UNILATERAL HEARING',\n",
    "'NE RADI INTERNET (DIAL - UP)':'THE INTERNET DOES NOT WORK (DIAL - UP)',\n",
    "'MaxTv2Go':'MaxTv2Go',\n",
    "'HotSpotFon':'HotSpotFon',\n",
    "'NE RADE DODATNE OPCIJE (TXT: WIDGET: EPG)':'ADDITIONAL OPTIONS (TXT, WIDGET, EPG) DO NOT WORK',\n",
    "'POS APARAT NE RADI':'POS APPLIANCE DOES NOT WORK',\n",
    "'NEISPRAVAN MODEM - TCENTAR':'DEFECTIVE MODEM - TCENTAR',\n",
    "'Nema podataka':'No data',\n",
    "'MODEM NEISPRAVAN (GRMLJAVINA) - DISTRIBUTER':'MODEM DEFECTIVE (THUNDERSTORM) - DISTRIBUTOR',\n",
    "'NEMA REGISTRACIJE BROJA':'NO NUMBER REGISTRATION',\n",
    "'NEISPRAVAN MODEM - DISTRIBUTER':'DEFECTIVE MODEM - DISTRIBUTOR',\n",
    "'MODEM NEISPRAVAN (GRMLJAVINA) - TCENTAR':'MODEM DEFECTIVE (THUNDERSTORM) - TCENTAR',\n",
    "'SPLITER NEISPRAVAN':'SPLITTER DEFECTIVE',\n",
    "'NEISPRAVAN MODEM (GRMLJAVINA) - DISTRIBUTER':'DEFECTIVE MODEM (THUNDERSTORM) - DISTRIBUTOR',\n",
    "'NEISPRAVAN MODEM (VoIP) - TCENTAR':'FAULT MODEM (VoIP) - TCENTAR',\n",
    "'NEISPRAVAN MODEM (GRMLJAVINA) - TCENTAR':'DEFECTIVE MODEM (THUNDERSTORM) - TCENTAR',\n",
    "'NE RADI FAX':'FAX WORKS',\n",
    "'Terastream ? neispravan modem':'Terastream? faulty modem',\n",
    "'NE RADI POS APARAT':'POS APARTMENT DOES NOT WORK',\n",
    "'Terastream ?  degradacija':'Terastream? degradation',\n",
    "'TeraStream - povremeni prekidi':'TeraStream - intermittent interruptions',\n",
    "'NEISPRAVAN MODEM (VoIP) - DISTRIBUTER':'DEFECTIVE MODEM (VoIP) - DISTRIBUTOR'}"
   ]
  },
  {
   "cell_type": "code",
   "execution_count": 22,
   "metadata": {},
   "outputs": [
    {
     "data": {
      "application/vnd.jupyter.widget-view+json": {
       "model_id": "",
       "version_major": 2,
       "version_minor": 0
      },
      "text/plain": [
       "FloatProgress(value=0.0, bar_style='info', description='Progress:', layout=Layout(height='25px', width='50%'),…"
      ]
     },
     "metadata": {},
     "output_type": "display_data"
    }
   ],
   "source": [
    "df_tkts_comb_agg_3 = df_tkts_comb_agg_2.replace(to_replace=mapping,subset=['LABEL'])"
   ]
  },
  {
   "cell_type": "code",
   "execution_count": 23,
   "metadata": {},
   "outputs": [
    {
     "data": {
      "application/vnd.jupyter.widget-view+json": {
       "model_id": "",
       "version_major": 2,
       "version_minor": 0
      },
      "text/plain": [
       "FloatProgress(value=0.0, bar_style='info', description='Progress:', layout=Layout(height='25px', width='50%'),…"
      ]
     },
     "metadata": {},
     "output_type": "display_data"
    },
    {
     "name": "stdout",
     "output_type": "stream",
     "text": [
      "+--------------------+\n",
      "|               LABEL|\n",
      "+--------------------+\n",
      "|  2. STB SE NE BOOTA|\n",
      "|DTH - OCCASIONALL...|\n",
      "|DEFECTIVE REMOTE ...|\n",
      "| ADDITIONAL SERVICES|\n",
      "|DTH - NO EARTH CH...|\n",
      "| CONSTANTLY OCCUPIED|\n",
      "|WIRELESS DOES NOT...|\n",
      "|STB IS OCCASIONAL...|\n",
      "|DTH - DAMAGED ANT...|\n",
      "|  DTH - PAIR FAILURE|\n",
      "|DTH - CHANNEL CHA...|\n",
      "|DTH - NO SATELLIT...|\n",
      "|INTERFERENCE AT T...|\n",
      "|DTH - new transpo...|\n",
      "|DTH - DEFECTIVE D...|\n",
      "|       DEFECTIVE STB|\n",
      "+--------------------+"
     ]
    }
   ],
   "source": [
    "df_tkts_comb_agg_3.select(F.col('LABEL')).distinct().show()"
   ]
  },
  {
   "cell_type": "code",
   "execution_count": 24,
   "metadata": {},
   "outputs": [
    {
     "data": {
      "application/vnd.jupyter.widget-view+json": {
       "model_id": "",
       "version_major": 2,
       "version_minor": 0
      },
      "text/plain": [
       "FloatProgress(value=0.0, bar_style='info', description='Progress:', layout=Layout(height='25px', width='50%'),…"
      ]
     },
     "metadata": {},
     "output_type": "display_data"
    },
    {
     "name": "stdout",
     "output_type": "stream",
     "text": [
      "+---------+-------------------+--------------------+\n",
      "| ASSET_ID|         START_DATE|               LABEL|\n",
      "+---------+-------------------+--------------------+\n",
      "|100424784|2021-03-26 16:03:55| CONSTANTLY OCCUPIED|\n",
      "|101866361|2020-04-04 20:13:56| CONSTANTLY OCCUPIED|\n",
      "|102594887|2020-09-22 14:33:38| CONSTANTLY OCCUPIED|\n",
      "|103232787|2020-11-27 08:09:41|DEFECTIVE REMOTE ...|\n",
      "|103318378|2021-01-18 17:31:26|WIRELESS DOES NOT...|\n",
      "+---------+-------------------+--------------------+\n",
      "only showing top 5 rows"
     ]
    }
   ],
   "source": [
    "df_tkts_comb_agg_3.show(5)"
   ]
  },
  {
   "cell_type": "code",
   "execution_count": 25,
   "metadata": {},
   "outputs": [
    {
     "data": {
      "application/vnd.jupyter.widget-view+json": {
       "model_id": "",
       "version_major": 2,
       "version_minor": 0
      },
      "text/plain": [
       "FloatProgress(value=0.0, bar_style='info', description='Progress:', layout=Layout(height='25px', width='50%'),…"
      ]
     },
     "metadata": {},
     "output_type": "display_data"
    }
   ],
   "source": [
    "path = '/user/tsystems_vkumar/dsl_tickets/df_tkts_non_dsl_sel_final.parquet'\n",
    "df_tkts_comb_agg_3.repartition(1).write.format('parquet').mode('overwrite').option('header','true').save(path)"
   ]
  },
  {
   "cell_type": "code",
   "execution_count": null,
   "metadata": {},
   "outputs": [],
   "source": []
  },
  {
   "cell_type": "code",
   "execution_count": null,
   "metadata": {},
   "outputs": [],
   "source": []
  }
 ],
 "metadata": {
  "kernelspec": {
   "display_name": "PySpark",
   "language": "",
   "name": "pysparkkernel"
  },
  "language_info": {
   "codemirror_mode": {
    "name": "python",
    "version": 3
   },
   "mimetype": "text/x-python",
   "name": "pyspark",
   "pygments_lexer": "python3"
  }
 },
 "nbformat": 4,
 "nbformat_minor": 4
}
