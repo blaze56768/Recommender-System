{
 "cells": [
  {
   "cell_type": "code",
   "execution_count": 2,
   "metadata": {},
   "outputs": [
    {
     "data": {
      "text/html": [
       "Current session configs: <tt>{'conf': {'spark.driver.cores': '6', 'spark.driver.memory': '10g', 'spark.executor.cores': '6', 'spark.executor.memory': '10g', 'spark.dynamicAllocation.enabled': 'true', 'spark.dynamicAllocation.minExecutors': '4', 'spark.driver.maxResultSize': '4g'}, 'kind': 'pyspark'}</tt><br>"
      ],
      "text/plain": [
       "<IPython.core.display.HTML object>"
      ]
     },
     "metadata": {},
     "output_type": "display_data"
    },
    {
     "data": {
      "text/html": [
       "<table>\n",
       "<tr><th>ID</th><th>YARN Application ID</th><th>Kind</th><th>State</th><th>Spark UI</th><th>Driver log</th><th>Current session?</th></tr><tr><td>1519</td><td>application_1620749185953_140308</td><td>pyspark</td><td>idle</td><td><a target=\"_blank\" href=\"http://lxcdhmasterv1d.dc.ht.hr:8088/proxy/application_1620749185953_140308/\">Link</a></td><td><a target=\"_blank\" href=\"http://lxcdhworkerph8d.dc.ht.hr:8042/node/containerlogs/container_e60_1620749185953_140308_01_000001/tsystems_smalhotra\">Link</a></td><td></td></tr><tr><td>1520</td><td>application_1620749185953_140309</td><td>pyspark</td><td>idle</td><td><a target=\"_blank\" href=\"http://lxcdhmasterv1d.dc.ht.hr:8088/proxy/application_1620749185953_140309/\">Link</a></td><td><a target=\"_blank\" href=\"http://lxcdhworkerph3d.dc.ht.hr:8042/node/containerlogs/container_e60_1620749185953_140309_01_000001/tsystems_ssanap\">Link</a></td><td></td></tr><tr><td>1523</td><td>application_1620749185953_140314</td><td>pyspark</td><td>idle</td><td><a target=\"_blank\" href=\"http://lxcdhmasterv1d.dc.ht.hr:8088/proxy/application_1620749185953_140314/\">Link</a></td><td><a target=\"_blank\" href=\"http://lxcdhworkerph7d.dc.ht.hr:8042/node/containerlogs/container_e60_1620749185953_140314_01_000001/dt_srajan\">Link</a></td><td></td></tr><tr><td>1534</td><td>application_1620749185953_140546</td><td>pyspark</td><td>idle</td><td><a target=\"_blank\" href=\"http://lxcdhmasterv1d.dc.ht.hr:8088/proxy/application_1620749185953_140546/\">Link</a></td><td><a target=\"_blank\" href=\"http://lxcdhworkerph5d.dc.ht.hr:8042/node/containerlogs/container_e60_1620749185953_140546_01_000002/tsystems_ssanap\">Link</a></td><td></td></tr><tr><td>1535</td><td>application_1620749185953_140549</td><td>pyspark</td><td>idle</td><td><a target=\"_blank\" href=\"http://lxcdhmasterv1d.dc.ht.hr:8088/proxy/application_1620749185953_140549/\">Link</a></td><td><a target=\"_blank\" href=\"http://lxcdhworkerph5d.dc.ht.hr:8042/node/containerlogs/container_e60_1620749185953_140549_01_000001/dt_srajan\">Link</a></td><td></td></tr><tr><td>1537</td><td>application_1620749185953_140604</td><td>pyspark</td><td>idle</td><td><a target=\"_blank\" href=\"http://lxcdhmasterv1d.dc.ht.hr:8088/proxy/application_1620749185953_140604/\">Link</a></td><td><a target=\"_blank\" href=\"http://lxcdhworkerph2d.dc.ht.hr:8042/node/containerlogs/container_e60_1620749185953_140604_01_000002/tsystems_vkumar\">Link</a></td><td></td></tr><tr><td>1538</td><td>application_1620749185953_140730</td><td>pyspark</td><td>idle</td><td><a target=\"_blank\" href=\"http://lxcdhmasterv1d.dc.ht.hr:8088/proxy/application_1620749185953_140730/\">Link</a></td><td><a target=\"_blank\" href=\"http://lxcdhworkerph2d.dc.ht.hr:8042/node/containerlogs/container_e60_1620749185953_140730_01_000001/tsystems_bchippada\">Link</a></td><td></td></tr><tr><td>1539</td><td>application_1620749185953_140740</td><td>pyspark</td><td>idle</td><td><a target=\"_blank\" href=\"http://lxcdhmasterv1d.dc.ht.hr:8088/proxy/application_1620749185953_140740/\">Link</a></td><td><a target=\"_blank\" href=\"http://lxcdhworkerph7d.dc.ht.hr:8042/node/containerlogs/container_e60_1620749185953_140740_01_000001/etladmin\">Link</a></td><td></td></tr><tr><td>1540</td><td>application_1620749185953_140748</td><td>pyspark</td><td>idle</td><td><a target=\"_blank\" href=\"http://lxcdhmasterv1d.dc.ht.hr:8088/proxy/application_1620749185953_140748/\">Link</a></td><td><a target=\"_blank\" href=\"http://lxcdhworkerph5d.dc.ht.hr:8042/node/containerlogs/container_e60_1620749185953_140748_01_000002/tsystems_ckumar\">Link</a></td><td></td></tr><tr><td>1541</td><td>application_1620749185953_140752</td><td>pyspark</td><td>busy</td><td><a target=\"_blank\" href=\"http://lxcdhmasterv1d.dc.ht.hr:8088/proxy/application_1620749185953_140752/\">Link</a></td><td><a target=\"_blank\" href=\"http://lxcdhworkerph2d.dc.ht.hr:8042/node/containerlogs/container_e60_1620749185953_140752_01_000001/etladmin\">Link</a></td><td></td></tr><tr><td>1552</td><td>application_1620749185953_140788</td><td>pyspark</td><td>idle</td><td><a target=\"_blank\" href=\"http://lxcdhmasterv1d.dc.ht.hr:8088/proxy/application_1620749185953_140788/\">Link</a></td><td><a target=\"_blank\" href=\"http://lxcdhworkerph3d.dc.ht.hr:8042/node/containerlogs/container_e60_1620749185953_140788_01_000001/bus_mpavisic\">Link</a></td><td></td></tr><tr><td>1555</td><td>None</td><td>pyspark</td><td>starting</td><td></td><td></td><td></td></tr></table>"
      ],
      "text/plain": [
       "<IPython.core.display.HTML object>"
      ]
     },
     "metadata": {},
     "output_type": "display_data"
    }
   ],
   "source": [
    "%%configure -f\n",
    "{\"conf\":\n",
    " {\"spark.driver.cores\": \"6\",\n",
    "  \"spark.driver.memory\": \"10g\",\n",
    "  \"spark.executor.cores\": \"6\",\n",
    "  \"spark.executor.memory\": \"10g\",\n",
    "  \"spark.dynamicAllocation.enabled\": \"true\",\n",
    "  \"spark.dynamicAllocation.minExecutors\" : \"4\",\n",
    "  \"spark.driver.maxResultSize\": \"4g\"\n",
    "    }\n",
    "}"
   ]
  },
  {
   "cell_type": "code",
   "execution_count": 3,
   "metadata": {},
   "outputs": [],
   "source": [
    "#%%cleanup -f"
   ]
  },
  {
   "cell_type": "code",
   "execution_count": 4,
   "metadata": {},
   "outputs": [
    {
     "name": "stdout",
     "output_type": "stream",
     "text": [
      "Starting Spark application\n"
     ]
    },
    {
     "data": {
      "text/html": [
       "<table>\n",
       "<tr><th>ID</th><th>YARN Application ID</th><th>Kind</th><th>State</th><th>Spark UI</th><th>Driver log</th><th>Current session?</th></tr><tr><td>1556</td><td>application_1620749185953_140809</td><td>pyspark</td><td>idle</td><td><a target=\"_blank\" href=\"http://lxcdhmasterv1d.dc.ht.hr:8088/proxy/application_1620749185953_140809/\">Link</a></td><td><a target=\"_blank\" href=\"http://lxcdhworkerph2d.dc.ht.hr:8042/node/containerlogs/container_e60_1620749185953_140809_01_000002/tsystems_kkeshore\">Link</a></td><td>✔</td></tr></table>"
      ],
      "text/plain": [
       "<IPython.core.display.HTML object>"
      ]
     },
     "metadata": {},
     "output_type": "display_data"
    },
    {
     "data": {
      "application/vnd.jupyter.widget-view+json": {
       "model_id": "",
       "version_major": 2,
       "version_minor": 0
      },
      "text/plain": [
       "FloatProgress(value=0.0, bar_style='info', description='Progress:', layout=Layout(height='25px', width='50%'),…"
      ]
     },
     "metadata": {},
     "output_type": "display_data"
    },
    {
     "name": "stdout",
     "output_type": "stream",
     "text": [
      "SparkSession available as 'spark'.\n"
     ]
    },
    {
     "data": {
      "application/vnd.jupyter.widget-view+json": {
       "model_id": "",
       "version_major": 2,
       "version_minor": 0
      },
      "text/plain": [
       "FloatProgress(value=0.0, bar_style='info', description='Progress:', layout=Layout(height='25px', width='50%'),…"
      ]
     },
     "metadata": {},
     "output_type": "display_data"
    }
   ],
   "source": [
    "# Data Science Packages\n",
    "import sys\n",
    "import matplotlib\n",
    "import matplotlib.pyplot as plt\n",
    "import numpy as np\n",
    "import pandas as pd\n",
    "from  matplotlib import pyplot\n",
    "import seaborn as sns\n",
    "import warnings\n",
    "from datetime import datetime\n",
    "from datetime import timedelta\n",
    "\n",
    "\n",
    "#Spark Packages\n",
    "from pyspark.sql import SparkSession\n",
    "import pyspark.sql.functions as F\n",
    "from pyspark.sql import DataFrame\n",
    "from pyspark.sql import types \n",
    "import pyspark.sql.types\n",
    "from pyspark.sql.functions import UserDefinedFunction\n",
    "from pyspark.sql.functions import col, avg, sum\n",
    "\n",
    "from pyspark.sql import Window \n",
    "from pyspark.sql import functions as F\n",
    "\n",
    "import random\n",
    "from pyspark.sql.functions import lit"
   ]
  },
  {
   "cell_type": "code",
   "execution_count": 6,
   "metadata": {},
   "outputs": [
    {
     "data": {
      "application/vnd.jupyter.widget-view+json": {
       "model_id": "",
       "version_major": 2,
       "version_minor": 0
      },
      "text/plain": [
       "FloatProgress(value=0.0, bar_style='info', description='Progress:', layout=Layout(height='25px', width='50%'),…"
      ]
     },
     "metadata": {},
     "output_type": "display_data"
    }
   ],
   "source": [
    "# Matplotlib\n",
    "\n",
    "#matplotlib.use('agg')\n",
    "#plt.switch_backend('agg')\n",
    "\n",
    "# Seaborn Style\n",
    "sns.set(style='ticks')\n",
    "sns.set_style({'font.family': 'Hiragino Maru Gothic Pro'})\n",
    "sns.set_palette(\"cool\")\n",
    "\n",
    "# Pandas Style\n",
    "pd.set_option(\"display.max_column\", 9999)\n",
    "pd.set_option(\"display.max_row\", 9999)\n",
    "\n",
    "# Ignore annoying warning \n",
    "warnings.filterwarnings('ignore')"
   ]
  },
  {
   "cell_type": "code",
   "execution_count": 10,
   "metadata": {},
   "outputs": [
    {
     "data": {
      "application/vnd.jupyter.widget-view+json": {
       "model_id": "",
       "version_major": 2,
       "version_minor": 0
      },
      "text/plain": [
       "FloatProgress(value=0.0, bar_style='info', description='Progress:', layout=Layout(height='25px', width='50%'),…"
      ]
     },
     "metadata": {},
     "output_type": "display_data"
    }
   ],
   "source": [
    "config = {\n",
    "    \"spark\": {\n",
    "        \"app_name\": \"pred-care\",\n",
    "        \"master\": \"yarn\"\n",
    "    },\n",
    "\n",
    "    \"path\": {\n",
    "        \"prefiltering_output\": \"hdfs://nameservicedev1//user/tsystems_vkumar/dsl_tickets/dsl_tkts_all_lvls_uniq_n.parquet\",\n",
    "        \"datagathering_output\": \"hdfs://nameservicedev1//user/tsystems_kkeshore/dslfault_data_new_v1.parquet\"\n",
    "    },\n",
    "\n",
    "    \"data_gathering\": {\n",
    "        \"seq_len\": 32,\n",
    "        \"gap\": 1,\n",
    "        \"features\": {\n",
    "            \"dslam\": {\n",
    "                \"measurements\":['dslam_code_of_dominant_modulation', \n",
    "                                'dslam_avg_bitrate_us', 'dslam_avg_bitrate_ds', 'dslam_avg_attenuation_ds', 'dslam_avg_attenuation_us',\n",
    "                                'dslam_avg_power_us', 'dslam_avg_power_ds', 'dslam_avg_att_bitrate_us', 'dslam_avg_att_bitrate_ds', \n",
    "                                'dslam_avg_snr_us', 'dslam_avg_snr_ds', 'dslam_avg_bandline_ds', 'dslam_avg_bandline_us', 'dslam_no_counts',\n",
    "                                'dslam_sum_cv_us', 'dslam_sum_cv_ds', 'dslam_sum_es_ds', 'dslam_sum_es_us', 'dslam_sum_ses_ds', 'dslam_sum_ses_us', \n",
    "                                'dslam_sum_fec_ds', 'dslam_sum_fec_us'],\n",
    "                \n",
    "                \"counters\":['dslam_count_cv_us', 'dslam_count_cv_ds', 'dslam_count_es_ds', 'dslam_count_es_us', 'dslam_count_ses_ds', \n",
    "                             'dslam_count_ses_us', 'dslam_count_fec_ds', 'dslam_count_fec_us', 'dslam_inits'],\n",
    "                \n",
    "                \"categoricals\":['dslam_platforma', 'dslam_model', 'dslam_servis'],\n",
    "                \"grouping_features\": [\"dslam_assetid\", \"dslam_datum\", \"dslam_servis\", 'dslam_platforma', 'dslam_model']\n",
    "            },\n",
    "\n",
    "            \"snmp\": {\n",
    "                \"measurements\":[],\n",
    "                \"counters\":['snmp_no_lossoflink', 'snmp_no_linkup', 'snmp_no_dyinggasp'],\n",
    "                \"categoricals\":[\"snmp_servis\"],\n",
    "                \"grouping_features\": [\"snmp_assetid\", \"snmp_datum\", \"snmp_servis\"]\n",
    "            },\n",
    "\n",
    "             \"acs\": {\n",
    "                \"measurements\":['acs_xdslline_dslUptime', 'acs_xdslline_cpeUptime', \n",
    "                             'acs_xdslline_cpuUsagePercentage', 'acs_xdslline_freeMemoryKb', 'acs_xdslline_totalMemoryKb', \n",
    "                             'acs_xdslline_usedMemoryKb', 'acs_xdslline_natCurrent', 'acs_xdslline_natMax', \n",
    "                             'acs_xdslline_initErrors',\n",
    "                             'acs_xdslline_downAttenuationDb', \n",
    "                             'acs_xdslline_downCurrRateKbps', 'acs_xdslline_downMaxRateKbps', 'acs_xdslline_downNoiseMarginDb', 'acs_xdslline_downPowerDbm', \n",
    "                             'acs_xdslline_upAttenuationDb', 'acs_xdslline_upCurrRateKbps', 'acs_xdslline_upMaxRateKbps', 'acs_xdslline_upNoiseMarginDb', \n",
    "                             'acs_xdslline_upPowerDbm'],\n",
    "                \"counters\":['acs_xdslline_cellDelinDelta', 'acs_xdslline_erroredSecsDelta', 'acs_xdslline_initErrorsDelta', \n",
    "                            'acs_xdslline_initTimeoutsDelta', 'acs_xdslline_severelyErroredSecsDelta', 'acs_xdslline_lossOfFramingDelta', \n",
    "                            'acs_xdslline_transmitBlocksDelta', 'acs_xdslline_receiveBlocksDelta', 'acs_xdslline_atucfecdelta', \n",
    "                            'acs_xdslline_atuchecdelta', 'acs_xdslline_crcdelta', 'acs_xdslline_fecdelta', 'acs_xdslline_hecdelta'],\n",
    "                \"categoricals\":['acs_crm_productClass'], \n",
    "                \"grouping_features\": [\"acs_crm_assetId\", \"acs_datum\", \"acs_crm_productClass\"]\n",
    "            },\n",
    "\n",
    "             \"tdm\": {\n",
    "                \"preprocessing_col1\": ['id', 'bssid', 'min_rssi_per_cpe', 'max_rssi_per_cpe', 'avg_rssi_per_cpe', 'perc5_rssi_per_cpe', 'perc25_rssi_per_cpe', 'perc50_rssi_per_cpe', 'perc75_rssi_per_cpe', 'perc95_rssi_per_cpe'],\n",
    "                \"preprocessing_col2\": ['id', 'bssid', 'channel', 'channelsinuse', 'operatingfrequencyband', 'ssid', 'operatingstandard', 'status', 'transmitpower', 'radioenable', 'radiostatus', 'ssidenable', 'enable', 'min_rssi_per_cpe', 'max_rssi_per_cpe', 'avg_rssi_per_cpe', 'perc5_rssi_per_cpe', 'perc25_rssi_per_cpe', 'perc50_rssi_per_cpe', 'perc75_rssi_per_cpe', 'perc95_rssi_per_cpe'],\n",
    "                \"preprocessing_col3\": ['id', 'networkdeviceid', 'eventdate', 'eventtime', 'bssid', 'channel', 'channelsinuse', 'transmitpower', 'min_rssi_per_cpe', 'max_rssi_per_cpe', 'avg_rssi_per_cpe', 'perc5_rssi_per_cpe', 'perc25_rssi_per_cpe', 'perc50_rssi_per_cpe', 'perc75_rssi_per_cpe', 'perc95_rssi_per_cpe',  'bytesreceived', 'bytessent', 'errorsreceived', 'errorssent', 'packetsreceived', 'packetssent', 'bytesreceiveddelta', 'bytessentdelta', 'errorsreceiveddelta', 'errorssentdelta', 'packetsreceiveddelta', 'packetssentdelta', 'connecteddevicescount'],\n",
    "                \"measurements\":['lb_transmitpower', 'lb_min_rssi_per_cpe', 'lb_max_rssi_per_cpe', 'lb_avg_rssi_per_cpe', 'lb_perc5_rssi_per_cpe', 'lb_perc25_rssi_per_cpe', 'lb_perc50_rssi_per_cpe', 'lb_perc75_rssi_per_cpe', 'lb_perc95_rssi_per_cpe',  'lb_bytesreceived', 'lb_bytessent', 'lb_errorsreceived', 'lb_errorssent', 'lb_packetsreceived', 'lb_packetssent', 'lb_connecteddevicescount', \n",
    "                                'ub_transmitpower', 'ub_min_rssi_per_cpe', 'ub_max_rssi_per_cpe', 'ub_avg_rssi_per_cpe', 'ub_perc5_rssi_per_cpe', 'ub_perc25_rssi_per_cpe', 'ub_perc50_rssi_per_cpe', 'ub_perc75_rssi_per_cpe', 'ub_perc95_rssi_per_cpe',  'ub_bytesreceived', 'ub_bytessent', 'ub_errorsreceived', 'ub_errorssent', 'ub_packetsreceived', 'ub_packetssent', 'ub_connecteddevicescount'],\n",
    "                \"counters\": ['lb_bytesreceiveddelta', 'lb_bytessentdelta', 'lb_errorsreceiveddelta', 'lb_errorssentdelta', 'lb_packetsreceiveddelta', 'lb_packetssentdelta', 'ub_bytesreceiveddelta', 'ub_bytessentdelta', 'ub_errorsreceiveddelta', 'ub_errorssentdelta', 'ub_packetsreceiveddelta', 'ub_packetssentdelta'],\n",
    "                \"categoricals\":['bssid', 'channel', 'channelsinuse'],\n",
    "                \"grouping_features\": ['lb_networkdeviceid', 'lb_eventdate']\n",
    "            },\n",
    "    }\n",
    "    }\n",
    "}"
   ]
  },
  {
   "cell_type": "code",
   "execution_count": 11,
   "metadata": {},
   "outputs": [
    {
     "data": {
      "application/vnd.jupyter.widget-view+json": {
       "model_id": "",
       "version_major": 2,
       "version_minor": 0
      },
      "text/plain": [
       "FloatProgress(value=0.0, bar_style='info', description='Progress:', layout=Layout(height='25px', width='50%'),…"
      ]
     },
     "metadata": {},
     "output_type": "display_data"
    }
   ],
   "source": [
    "# Util functions\n",
    "def spark_init():\n",
    "    \"\"\"Init Spark session.\n",
    "    Returns:\n",
    "        object: spark session.\n",
    "    \"\"\"\n",
    "    spark = SparkSession.builder \\\n",
    "        .master('yarn') \\\n",
    "        .appName('predictive_care') \\\n",
    "        .enableHiveSupport() \\\n",
    "        .getOrCreate()\n",
    "    spark.sparkContext.setLogLevel(\"ERROR\")\n",
    "    return spark\n",
    "\n",
    "# Load data for TDM and Raw_table\n",
    "def data_import(database, table, spark):\n",
    "    \"\"\"Function to load data from Hive tables based on start time and end time.\n",
    "    \n",
    "    Args:\n",
    "        database (string): Database name in HIVE.\n",
    "        table (string): Table name in HIVE.\n",
    "        spark (obj): Spark session object.\n",
    "        \n",
    "    Returns:\n",
    "        dataframe :  spark dataframe with loaded data.\n",
    "    \"\"\"\n",
    "    \n",
    "    df = spark.sql(\"select * from {0}.{1}\" \\\n",
    "              .format(database, table))\n",
    "    return df\n",
    "\n",
    "def filter_null_values_on_join_features(df, session_id, bssid):\n",
    "    \"\"\"Filter Null values on columns which are used to join different tables.\n",
    "    Args:\n",
    "        df (dataframe): Input spark df.\n",
    "        id (string): Session id across different tables.\n",
    "        bssid (string): BSSID feature from df.\n",
    "    Returns:\n",
    "        dataframe: spark dataframe.\n",
    "    \"\"\"\n",
    "    df = df.filter((df[session_id] != '') & (df[bssid] != ''))\n",
    "    return df\n",
    "\n",
    "def filter_radio(df, operatingfrequencyband, band):\n",
    "    \"\"\" Function to filter df on radio lower band & upper band.\n",
    "    Args:\n",
    "        df (dataframe): Input spark dataframe.\n",
    "        band (string): Band specifiying 2.4Ghz or 5Ghz.\n",
    "    Returns:\n",
    "        dataframe :  spark dataframe.\n",
    "    \"\"\"\n",
    "    df = df.filter(df[operatingfrequencyband] == band)\n",
    "    return df\n",
    "\n",
    "def add_prefix_to_cols(df, table):\n",
    "    \"\"\" Function to add table name as prefix to all cols.\n",
    "    Args:\n",
    "        df (dataframe): Input spark df.\n",
    "        table (string): Denotes required prefix, here the table name is added as prefix.\n",
    "    Returns:\n",
    "        dataframe :  spark dataframe.\n",
    "    \"\"\"\n",
    "    for cols in df.columns:\n",
    "        df = df.withColumnRenamed(cols, table + cols)\n",
    "    return df\n",
    "\n",
    "def generate_date_series(start, stop):\n",
    "    return [start + timedelta(days=x) for x in range(0, (stop-start).days + 1)] \n",
    "\n",
    "def parsing_date_format(datetime_str, target_date_format):\n",
    "    \"\"\"Fuction to modify the date format.\n",
    "    \n",
    "    Args:\n",
    "        datetime_str (str): Date in original format. expected \"%Y-%m-%d\".\n",
    "        target_date_format (str): Desire date format e.g \"%Y%m%d\".\n",
    "    \n",
    "    Returns\n",
    "        str: Date in target format.\n",
    "    \"\"\"\n",
    "    date_obj = datetime.strptime(datetime_str, \"%Y-%m-%d\").date()\n",
    "    return date_obj.strftime(target_date_format)\n",
    "\n",
    "def flatten_df(df):\n",
    "    \"\"\"This funtion flat a nested dataframe.\n",
    "    \n",
    "    Args:\n",
    "        df (dataframe): Input nested dataframe.\n",
    "        \n",
    "    Returns:\n",
    "        flat_df (dataframe): Output flatted datframe.\n",
    "    \"\"\"\n",
    "    flat_cols = [col[0] for col in df.dtypes if col[1][:6] != 'struct']\n",
    "    nested_cols = [col[0] for col in df.dtypes if col[1][:6] == 'struct']\n",
    "    flat_df = df.select(flat_cols +\\\n",
    "                   [F.col(root_col+'.'+nested_col).alias(root_col+'_'+nested_col)\\\n",
    "                    for root_col in nested_cols\\\n",
    "                    for nested_col in df.select(root_col+'.*').columns])\n",
    "    return flat_df\n",
    "\n",
    "def rename_cols(df, prefix):\n",
    "    \"\"\"Column renameb by adding a prefix.\n",
    "    \n",
    "    Args:\n",
    "        df (dataframe): Input dataframe.\n",
    "        \n",
    "    Returns:\n",
    "        df (dataframe): Output datframe witha ppended prefix to columns.\n",
    "    \"\"\"\n",
    "    for feature in df.columns:\n",
    "        df = df.withColumnRenamed(feature,prefix+feature)\n",
    "    return df\n",
    "\n",
    "def change_data_type(df, cols_to_convert, datatype):\n",
    "    \"\"\" Change data type for columns from one type to another.\n",
    "    Args:\n",
    "        df (dataframe): Input spark dataframe. \n",
    "        cols_to_convert (list): list of columns.\n",
    "        datatype(object): Intended data type.\n",
    "    Returns:\n",
    "        df (dataframe): Spark df with proper datatype.\n",
    "    \"\"\"\n",
    "    for col_name in cols_to_convert:\n",
    "        df = df.withColumn(col_name, F.col(col_name).cast(datatype))\n",
    "    return df\n",
    "\n",
    "def get_window_end(event_dt, config):\n",
    "    \"\"\"Function to extrat the prediction gap to the date in which the ticket was raise.\n",
    "    \n",
    "    Arg:\n",
    "        event_dt (str): Date in which the ticket was raise\n",
    "        prediction_gap (int): Predction gap in days.\n",
    "    \n",
    "    Returns:\n",
    "        str: date of the window end.\n",
    "    \"\"\"\n",
    "    prediction_gap = config[\"data_gathering\"][\"gap\"] - 1\n",
    "    event_dt = datetime.strptime(str(event_dt), \"%Y-%m-%d\").date()\n",
    "    end_time_dt = (event_dt - timedelta(days=prediction_gap+1))\n",
    "    end_time = end_time_dt.strftime(\"%Y-%m-%d\")\n",
    "    return end_time\n",
    "\n",
    "def get_window_start(event_dt, window_plus_gap):\n",
    "    \"\"\"Function to extrat the prediction gap plus the window of historical data\n",
    "    to the date in which the ticket was raised.\n",
    "    \n",
    "    Arg:\n",
    "        event_dt (str): Date in which the ticket was raise\n",
    "        window_plus_gap (int): Prediction gap plus window of historical data in days.\n",
    "    \n",
    "    Returns:\n",
    "        str: date of the window start.\n",
    "    \"\"\"\n",
    "    event_dt = datetime.strptime(str(event_dt), \"%Y-%m-%d\").date()\n",
    "    start_time_dt = (event_dt - timedelta(days=window_plus_gap))\n",
    "    start_time = start_time_dt.strftime(\"%Y-%m-%d\")\n",
    "    return start_time\n",
    "\n",
    "def udf_window_end(config):\n",
    "    \"\"\"User Defined Funtion to calculate the window end with respect to the\n",
    "    date in which the ticket was raised\"\"\"\n",
    "    prediction_gap = config[\"data_gathering\"][\"gap\"] - 1\n",
    "    return F.udf(lambda l: get_window_end(l,config))\n",
    "\n",
    "def udf_window_start(window_plus_gap):\n",
    "    \"\"\"User Defined Funtion to calculate the window start with respect to the\n",
    "    date in which the ticket was raised\"\"\"\n",
    "    return F.udf(lambda l: get_window_start(l,window_plus_gap))\n",
    "\n",
    "# Lets aggregate the data in ACS table per day \n",
    "def agg_acs_per_day(df_acs, config):\n",
    "    mm_list_acs = config['data_gathering']['features']['acs']['measurements']\n",
    "    counter_list_acs = config['data_gathering']['features']['acs']['counters']\n",
    "    df_acs_mm = df_acs.groupBy(config['data_gathering']['features']['acs']['grouping_features']).agg(*[avg(c).alias(c) for c in mm_list_acs])\n",
    "    df_acs_counter= df_acs.groupBy(config['data_gathering']['features']['acs']['grouping_features']).agg(*[sum(c).alias(c) for c in counter_list_acs])\n",
    "    df_acs = df_acs_mm.join(df_acs_counter, config['data_gathering']['features']['acs']['grouping_features'], how=\"inner\")\n",
    "    return df_acs\n",
    "\n",
    "def agg_dslam_per_day(df_dslam, config):\n",
    "    mm_list_dslam = config['data_gathering']['features']['dslam']['measurements']\n",
    "    counter_list_dslam = config['data_gathering']['features']['dslam']['counters']\n",
    "    df_dslam_mm = df_dslam.groupBy(config['data_gathering']['features']['dslam']['grouping_features']).agg(*[avg(c).alias(c) for c in mm_list_dslam])\n",
    "    df_dslam_counter= df_dslam.groupBy(config['data_gathering']['features']['dslam']['grouping_features']).agg(*[sum(c).alias(c) for c in counter_list_dslam])\n",
    "    df_dslam = df_dslam_mm.join(df_dslam_counter, config['data_gathering']['features']['dslam']['grouping_features'], how=\"inner\")\n",
    "    return df_dslam\n",
    "\n",
    "def agg_snmp_per_day(df_snmp, config):\n",
    "    mm_list_snmp = config['data_gathering']['features']['snmp']['measurements']\n",
    "    counter_list_snmp = config['data_gathering']['features']['snmp']['counters']\n",
    "    df_snmp= df_snmp.groupBy(config['data_gathering']['features']['snmp']['grouping_features']).agg(*[sum(c).alias(c) for c in counter_list_snmp])\n",
    "    return df_snmp\n",
    "\n",
    "\n",
    "# Lets aggregate the data in TDM table per day \n",
    "def agg_tdm_per_day(df_tdm, config):\n",
    "    mm_list_tdm = config['data_gathering']['features']['tdm']['measurements']\n",
    "    counter_list_tdm = config['data_gathering']['features']['tdm']['counters']\n",
    "    df_stats_client_radio_mm = df_tdm.groupBy(config['data_gathering']['features']['tdm']['grouping_features']).agg(*[avg(c).alias(c) for c in mm_list_tdm])\n",
    "    df_stats_client_radio_counter = df_tdm.groupBy(config['data_gathering']['features']['tdm']['grouping_features']).agg(*[sum(c).alias(c) for c in counter_list_tdm])\n",
    "    df_stats_client_radio = df_stats_client_radio_mm.join(df_stats_client_radio_counter, config['data_gathering']['features']['tdm']['grouping_features'], how=\"inner\")\n",
    "    return df_stats_client_radio\n",
    "\n",
    "\n",
    "# Create Start date and end date which equates to 32 days for each assetid\n",
    "def create_windowing_per_assetid(df, config):\n",
    "    # df is input  from prefiltering\n",
    "    df_key = df.select('assetid', \"incident_date\").distinct()\n",
    "    df_key = df_key.withColumn(\"end_date\", udf_window_end(config)(F.col(\"incident_date\")))\\\n",
    "                                .withColumn(\"start_date\", udf_window_start(config[\"data_gathering\"][\"gap\"]+config[\"data_gathering\"][\"seq_len\"])(F.col(\"incident_date\")))\n",
    "\n",
    "    df_key = df_key.withColumn('start_date', F.col('start_date').cast(types.DateType()))\n",
    "    df_key = df_key.withColumn('end_date', F.col('end_date').cast(types.DateType()))\n",
    "\n",
    "    spark.udf.register(\"generate_date_series\", generate_date_series, types.ArrayType(types.DateType()) )\n",
    "    df_key.createOrReplaceTempView(\"keydf\")\n",
    "    df_key = spark.sql(\"SELECT assetid, explode(generate_date_series(start_date, end_date)) as date FROM keydf\")\n",
    "    return df_key\n",
    "\n",
    "# Load and Preprocess TDM data\n",
    "def loading_tdm(config, spark):\n",
    "        df_radio_table_raw = data_import(\"cdl_tdata_model\", \"wifiaccesspointrole\", spark)\n",
    "        df_client_table_raw = data_import(\"cdl_tdata_model\", \"wificlientperformance\", spark)\n",
    "        df_stats_table_raw = data_import(\"cdl_tdata_model\", \"wifiaccesspointperformance\", spark)\n",
    "        #Replace N/A with None\n",
    "        df_radio_table_raw = df_radio_table_raw.withColumn(\"bssid\", F.when(col(\"bssid\").isin('n/a', 'N/A'), None).otherwise(col(\"bssid\"))) \\\n",
    "                                                .withColumn(\"id\", F.when(col(\"id\").isin('n/a', 'N/A'), None).otherwise(col(\"id\"))) \n",
    "        df_client_table_raw = df_client_table_raw.withColumn(\"bssid\", F.when(col(\"bssid\").isin('n/a', 'N/A'), None).otherwise(col(\"bssid\"))) \\\n",
    "                                                .withColumn(\"id\", F.when(col(\"id\").isin('n/a', 'N/A'), None).otherwise(col(\"id\"))) \n",
    "        df_stats_table_raw = df_stats_table_raw.withColumn(\"bssid\", F.when(col(\"bssid\").isin('n/a', 'N/A'), None).otherwise(col(\"bssid\"))) \\\n",
    "                                                .withColumn(\"id\", F.when(col(\"id\").isin('n/a', 'N/A'), None).otherwise(col(\"id\"))) \n",
    "        # Filtering null values on Join features\n",
    "        df_radio_clean = filter_null_values_on_join_features(df_radio_table_raw, 'id', 'bssid')\n",
    "        df_client_clean = filter_null_values_on_join_features(df_client_table_raw, 'id', 'bssid')\n",
    "        df_stats_clean = filter_null_values_on_join_features(df_stats_table_raw, 'id', 'bssid')\n",
    "        #dropping missing keys\n",
    "        df_radio_clean =df_radio_clean.na.drop(subset=['networkdeviceid','eventdate', 'id', 'bssid'])\n",
    "        df_client_clean =df_client_clean.na.drop(subset=['networkdeviceid','eventdate', 'id', 'bssid' ])\n",
    "        df_stats_clean = df_stats_clean.na.drop(subset=['networkdeviceid','eventdate', 'id', 'bssid'])\n",
    "        #Drop multiple samples per day\n",
    "        df_radio_clean = df_radio_clean.dropDuplicates()\n",
    "        df_client_clean = df_client_clean.dropDuplicates()\n",
    "        df_stats_clean = df_stats_clean.dropDuplicates()\n",
    "    \n",
    "        quantiles_for_rssi =  \"(0.05, 0.25, 0.50, 0.75, 0.95)\"\n",
    "        field = 'signalstrength'\n",
    "        df_client_clean = df_client_clean.groupby('id', 'bssid').agg(F.expr('percentile('+field+', array'+ str(quantiles_for_rssi) +')'). \\\n",
    "                                alias('rssi_per_cpe'), F.min(field).alias('min_rssi_per_cpe'), F.max(field).alias('max_rssi_per_cpe'), F.avg(field).alias('avg_rssi_per_cpe'))\n",
    "        df_client_clean = df_client_clean.withColumn('perc5_rssi_per_cpe', df_client_clean.rssi_per_cpe[0]) \\\n",
    "            .withColumn('perc25_rssi_per_cpe', df_client_clean.rssi_per_cpe[1]) \\\n",
    "            .withColumn('perc50_rssi_per_cpe', df_client_clean.rssi_per_cpe[2]) \\\n",
    "            .withColumn('perc75_rssi_per_cpe', df_client_clean.rssi_per_cpe[3]) \\\n",
    "            .withColumn('perc95_rssi_per_cpe', df_client_clean.rssi_per_cpe[4])\n",
    "    \n",
    "        df_client_clean =  df_client_clean.select(config['data_gathering']['features']['tdm']['preprocessing_col1'])\n",
    "        \n",
    "        df_radio1 = filter_radio(df_radio_clean, 'operatingfrequencyband', '2.4GHz')\n",
    "        df_radio2 = filter_radio(df_radio_clean, 'operatingfrequencyband', '5GHz')\n",
    "        \n",
    "        df_client_radio1 = df_radio1.join(df_client_clean, ['id', 'bssid'], how='left')\n",
    "        df_client_radio2 = df_radio2.join(df_client_clean, ['id', 'bssid'], how='left')\n",
    "        \n",
    "        client_radio_cols = config['data_gathering']['features']['tdm']['preprocessing_col2']\n",
    "        df_client_radio1 = df_client_radio1.select(client_radio_cols)\n",
    "        df_client_radio2 = df_client_radio2.select(client_radio_cols)\n",
    "        \n",
    "        df_stats_client_radio1 = df_client_radio1.join(df_stats_clean, ['id', 'bssid'], how = 'left')\n",
    "        df_stats_client_radio2 = df_client_radio2.join(df_stats_clean, ['id', 'bssid'], how = 'left')\n",
    "        \n",
    "        final_cols = config['data_gathering']['features']['tdm']['preprocessing_col3']\n",
    "        \n",
    "        df_stats_client_radio1 = df_stats_client_radio1.select(final_cols)\n",
    "        df_stats_client_radio2 = df_stats_client_radio2.select(final_cols)\n",
    "        df_stats_client_radio1 = add_prefix_to_cols(df_stats_client_radio1, 'lb_')\n",
    "        df_stats_client_radio2 = add_prefix_to_cols(df_stats_client_radio2, 'ub_')\n",
    "    \n",
    "        df_stats_client_radio = df_stats_client_radio1.join(df_stats_client_radio2, (df_stats_client_radio1.lb_id == df_stats_client_radio2.ub_id) \\\n",
    "                    , how='left')\n",
    "        \n",
    "        return df_stats_client_radio"
   ]
  },
  {
   "cell_type": "code",
   "execution_count": 12,
   "metadata": {},
   "outputs": [
    {
     "data": {
      "application/vnd.jupyter.widget-view+json": {
       "model_id": "",
       "version_major": 2,
       "version_minor": 0
      },
      "text/plain": [
       "FloatProgress(value=0.0, bar_style='info', description='Progress:', layout=Layout(height='25px', width='50%'),…"
      ]
     },
     "metadata": {},
     "output_type": "display_data"
    }
   ],
   "source": [
    "def gather_data (df, config, spark):\n",
    "    \"\"\"This Funtion gather the relevant information from HDFS in the relevant time frame.\n",
    "    \n",
    "    Args:\n",
    "        df (dataframe): Output from pre filtering.\n",
    "        config (dict): Configuration file.\n",
    "        spark (obj): Spark session object.\n",
    "        \n",
    "    Returns:\n",
    "        dataframe :  spark dataframe with loaded data.\n",
    "    \n",
    "    \"\"\"\n",
    "    # loading data\n",
    "    df_dslam = data_import('cdl_blos', 'pol_day_aggregation', spark) #per day\n",
    "    df_snmp = data_import('cdl_blos', 'snmp_traps_agg', spark) #per day\n",
    "    df_acs = data_import('cdl_acscoll', 'cdl_acscoll_xdsl_line_prq', spark)# cat, mm, counter/delta\n",
    "    df_tdm = loading_tdm(config, spark) # Preprocess TDM data with aggregations\n",
    "    \n",
    "    #flattening acs\n",
    "    df_acs = flatten_df(df_acs)\n",
    "    #Renaming for conditional join\n",
    "    df_dslam = rename_cols(df_dslam, 'dslam_')\n",
    "    df_snmp = rename_cols(df_snmp, 'snmp_')\n",
    "    df_acs = rename_cols(df_acs, 'acs_')\n",
    "    #change data type \n",
    "    df_dslam = change_data_type(df_dslam, cols_to_convert=config[\"data_gathering\"][\"features\"][\"dslam\"][\"measurements\"] + config[\"data_gathering\"][\"features\"][\"dslam\"][\"counters\"], datatype=types.LongType())\n",
    "    df_snmp = change_data_type(df_snmp, cols_to_convert=config[\"data_gathering\"][\"features\"][\"snmp\"][\"measurements\"] + config[\"data_gathering\"][\"features\"][\"snmp\"][\"counters\"], datatype=types.LongType())\n",
    "    df_acs = change_data_type(df_acs, cols_to_convert=config[\"data_gathering\"][\"features\"][\"acs\"][\"measurements\"] + config[\"data_gathering\"][\"features\"][\"acs\"][\"counters\"], datatype=types.LongType())\n",
    "    #aggregating all tables fields\n",
    "    df_acs = agg_acs_per_day(df_acs, config)\n",
    "    df_dslam = agg_dslam_per_day(df_dslam, config)\n",
    "    df_snmp = agg_snmp_per_day(df_snmp, config)     \n",
    "    df_tdm = agg_tdm_per_day(df_tdm, config) # Lets aggregate the data in TDM table per day \n",
    "    \n",
    "    \n",
    "    #dropping missing keys\n",
    "    df_dslam =df_dslam.na.drop(subset=['dslam_assetid','dslam_datum'])\n",
    "    df_snmp =df_snmp.na.drop(subset=['snmp_assetid','snmp_datum'])\n",
    "    df_acs = df_acs.na.drop(subset=['acs_crm_assetId','acs_datum'])\n",
    "    \n",
    "    # Drop multiple samples per day\n",
    "    df_dslam = df_dslam.dropDuplicates(['dslam_assetid','dslam_datum'])\n",
    "    df_snmp = df_snmp.dropDuplicates(['snmp_assetid','snmp_datum'])\n",
    "    df_acs = df_acs.dropDuplicates(['acs_crm_assetId','acs_datum'])\n",
    "    \n",
    "    # create key\n",
    "    df_key = create_windowing_per_assetid(df, config)\n",
    "    \n",
    "    #Join\n",
    "    df = df_key.join(df_dslam, [(df_key.assetid == df_dslam.dslam_assetid) & (df_key.date == df_dslam.dslam_datum)], how='left')\n",
    "    df = df.join(df_snmp, [(df.assetid == df_snmp.snmp_assetid) & (df.date == df_snmp.snmp_datum)], how='left')\n",
    "    df = df.join(df_acs, [(df.assetid == df_acs.acs_crm_assetId) & (df.date == df_acs.acs_datum)], how='left')\n",
    "    df = df.join(df_tdm, [(df.assetid == df_tdm.lb_networkdeviceid) & (df.date == df_tdm.lb_eventdate)], how='left')\n",
    "    \n",
    "    # We drop duplicate column and perform the renaming of columns\n",
    "    df = df.drop('dslam_assetid', 'acs_crm_assetId','acs_datum','snmp_assetid', 'snmp_datum', 'lb_networkdeviceid', 'ub_networkdeviceid')\n",
    "    df = df.withColumnRenamed('date','datum')\n",
    "    df = df.withColumnRenamed('acs_crm_serialnumber', 'cpe_serial_number')\n",
    "    \n",
    "    #Sorting by date\n",
    "    df = df.orderBy(['assetid', 'datum'], asc = True)\n",
    "    #df = df.withColumn(\"time_index\", counter from 1 to 32 per assetid)\n",
    "    \n",
    "    return df"
   ]
  },
  {
   "cell_type": "code",
   "execution_count": 7,
   "metadata": {},
   "outputs": [
    {
     "data": {
      "application/vnd.jupyter.widget-view+json": {
       "model_id": "",
       "version_major": 2,
       "version_minor": 0
      },
      "text/plain": [
       "FloatProgress(value=0.0, bar_style='info', description='Progress:', layout=Layout(height='25px', width='50%'),…"
      ]
     },
     "metadata": {},
     "output_type": "display_data"
    },
    {
     "name": "stdout",
     "output_type": "stream",
     "text": [
      "Starting Data gathering pipeline..\n",
      "Data gathering is finished and writing to HDFS..\n",
      "Writing to HDFS is finished and spark session is closing.."
     ]
    }
   ],
   "source": [
    "#def main(args):\n",
    "#    \"\"\"Main function\"\"\"\n",
    "    # start Spark application and get Spark session, logger and config\n",
    "spark = spark_init()\n",
    "config = config\n",
    "\n",
    "df = spark.read.parquet(config[\"path\"][\"prefiltering_output\"])#.limit(5)\n",
    "# log that main ETL job is starting\n",
    "print('Starting Data gathering pipeline..')\n",
    "df = gather_data (df, config, spark)\n",
    "# log the success and terminate Spark application\n",
    "print('Data gathering is finished and writing to HDFS..')\n",
    "df.write.parquet(config[\"path\"][\"datagathering_output\"], mode='overwrite')\n",
    "print('Writing to HDFS is finished and spark session is closing..')\n",
    "spark.stop()"
   ]
  },
  {
   "cell_type": "code",
   "execution_count": null,
   "metadata": {},
   "outputs": [],
   "source": []
  },
  {
   "cell_type": "markdown",
   "metadata": {},
   "source": [
    "#### Rough Work"
   ]
  },
  {
   "cell_type": "code",
   "execution_count": 21,
   "metadata": {},
   "outputs": [
    {
     "data": {
      "application/vnd.jupyter.widget-view+json": {
       "model_id": "",
       "version_major": 2,
       "version_minor": 0
      },
      "text/plain": [
       "FloatProgress(value=0.0, bar_style='info', description='Progress:', layout=Layout(height='25px', width='50%'),…"
      ]
     },
     "metadata": {},
     "output_type": "display_data"
    }
   ],
   "source": [
    "data = spark.read.parquet(config[\"path\"][\"datagathering_output\"])\n",
    "data = data.select([i for i in data.columns if not 'lb_' in i and not 'ub_' in i])\n",
    "tickets = spark.read.parquet(config[\"path\"][\"prefiltering_output\"])\n",
    "data_null_count = data.groupby(\"assetid\")\\\n",
    "                      .agg(*(F.sum(F.col(c).isNull().cast(\"int\")).alias(c) for c in ['dslam_avg_attenuation_ds', 'snmp_no_lossoflink', 'acs_xdslline_downAttenuationDb']))\\\n",
    "                      .sort(['dslam_avg_attenuation_ds', 'acs_xdslline_downAttenuationDb', 'snmp_no_lossoflink'], ascending = False)\n",
    "data_null = data_null_count.join(tickets, on = ['assetid'], how='inner')[[data_null_count.columns + ['incident_date']]]"
   ]
  },
  {
   "cell_type": "code",
   "execution_count": 30,
   "metadata": {},
   "outputs": [
    {
     "data": {
      "application/vnd.jupyter.widget-view+json": {
       "model_id": "",
       "version_major": 2,
       "version_minor": 0
      },
      "text/plain": [
       "FloatProgress(value=0.0, bar_style='info', description='Progress:', layout=Layout(height='25px', width='50%'),…"
      ]
     },
     "metadata": {},
     "output_type": "display_data"
    }
   ],
   "source": [
    "def get_max_date(cols):\n",
    "    assetid, incident_date = cols[0], cols[1]\n",
    "    return str(spark.sql(\"select max(datum) from cdl_blos.pol_day_aggregation where assetid == {} and incident_date <= {}\".format(assetid, incident_date)).rdd.map(lambda x: x[0]).collect()[0])\n",
    "\n",
    "max_date_udf = F.udf(get_max_date, types.StringType())"
   ]
  },
  {
   "cell_type": "code",
   "execution_count": 31,
   "metadata": {},
   "outputs": [
    {
     "data": {
      "application/vnd.jupyter.widget-view+json": {
       "model_id": "",
       "version_major": 2,
       "version_minor": 0
      },
      "text/plain": [
       "FloatProgress(value=0.0, bar_style='info', description='Progress:', layout=Layout(height='25px', width='50%'),…"
      ]
     },
     "metadata": {},
     "output_type": "display_data"
    },
    {
     "name": "stderr",
     "output_type": "stream",
     "text": [
      "An error was encountered:\n",
      "u\"\\nmismatched input 'incident_date' expecting <EOF>(line 1, pos 145)\\n\\n== SQL ==\\nselect max(datum) from cdl_blos.pol_day_aggregation where assetid == Column<named_struct(assetid, assetid, incident_date, incident_date)[0]> and incident_date <= Column<named_struct(assetid, assetid, incident_date, incident_date)[1]>\\n-------------------------------------------------------------------------------------------------------------------------------------------------^^^\\n\"\n",
      "Traceback (most recent call last):\n",
      "  File \"<stdin>\", line 3, in get_max_date\n",
      "  File \"/opt/cloudera/parcels/SPARK2-2.3.0.cloudera4-1.cdh5.13.3.p0.611179/lib/spark2/python/lib/pyspark.zip/pyspark/sql/session.py\", line 744, in sql\n",
      "    return DataFrame(self._jsparkSession.sql(sqlQuery), self._wrapped)\n",
      "  File \"/opt/cloudera/parcels/SPARK2-2.3.0.cloudera4-1.cdh5.13.3.p0.611179/lib/spark2/python/lib/py4j-0.10.7-src.zip/py4j/java_gateway.py\", line 1257, in __call__\n",
      "    answer, self.gateway_client, self.target_id, self.name)\n",
      "  File \"/opt/cloudera/parcels/SPARK2-2.3.0.cloudera4-1.cdh5.13.3.p0.611179/lib/spark2/python/lib/pyspark.zip/pyspark/sql/utils.py\", line 73, in deco\n",
      "    raise ParseException(s.split(': ', 1)[1], stackTrace)\n",
      "ParseException: u\"\\nmismatched input 'incident_date' expecting <EOF>(line 1, pos 145)\\n\\n== SQL ==\\nselect max(datum) from cdl_blos.pol_day_aggregation where assetid == Column<named_struct(assetid, assetid, incident_date, incident_date)[0]> and incident_date <= Column<named_struct(assetid, assetid, incident_date, incident_date)[1]>\\n-------------------------------------------------------------------------------------------------------------------------------------------------^^^\\n\"\n",
      "\n"
     ]
    }
   ],
   "source": [
    "data_null.limit(1).withColumn(\"date\", get_max_date(F.struct(data_null['assetid'], data_null['incident_date'])))"
   ]
  },
  {
   "cell_type": "code",
   "execution_count": null,
   "metadata": {},
   "outputs": [],
   "source": []
  },
  {
   "cell_type": "code",
   "execution_count": null,
   "metadata": {},
   "outputs": [],
   "source": []
  },
  {
   "cell_type": "code",
   "execution_count": null,
   "metadata": {},
   "outputs": [],
   "source": []
  },
  {
   "cell_type": "code",
   "execution_count": null,
   "metadata": {},
   "outputs": [],
   "source": []
  },
  {
   "cell_type": "code",
   "execution_count": null,
   "metadata": {},
   "outputs": [],
   "source": []
  },
  {
   "cell_type": "code",
   "execution_count": null,
   "metadata": {},
   "outputs": [],
   "source": []
  },
  {
   "cell_type": "code",
   "execution_count": null,
   "metadata": {},
   "outputs": [],
   "source": []
  },
  {
   "cell_type": "code",
   "execution_count": null,
   "metadata": {},
   "outputs": [],
   "source": []
  },
  {
   "cell_type": "code",
   "execution_count": null,
   "metadata": {},
   "outputs": [],
   "source": []
  },
  {
   "cell_type": "code",
   "execution_count": null,
   "metadata": {},
   "outputs": [],
   "source": []
  },
  {
   "cell_type": "code",
   "execution_count": null,
   "metadata": {},
   "outputs": [],
   "source": []
  },
  {
   "cell_type": "code",
   "execution_count": null,
   "metadata": {},
   "outputs": [],
   "source": []
  },
  {
   "cell_type": "code",
   "execution_count": null,
   "metadata": {},
   "outputs": [],
   "source": []
  },
  {
   "cell_type": "code",
   "execution_count": null,
   "metadata": {},
   "outputs": [],
   "source": []
  },
  {
   "cell_type": "code",
   "execution_count": 10,
   "metadata": {},
   "outputs": [
    {
     "data": {
      "application/vnd.jupyter.widget-view+json": {
       "model_id": "",
       "version_major": 2,
       "version_minor": 0
      },
      "text/plain": [
       "FloatProgress(value=0.0, bar_style='info', description='Progress:', layout=Layout(height='25px', width='50%'),…"
      ]
     },
     "metadata": {},
     "output_type": "display_data"
    }
   ],
   "source": [
    "# df_tdm = loading_tdm(config, spark) # Preprocess TDM data with aggregations\n",
    "# df_tdm = agg_tdm_per_day(df_tdm, config)\n",
    "# df_tdm.write.parquet(\"hdfs://nameservicedev1//user/tsystems_kkeshore/sample_data_tdm.parquet\", mode=\"overwrite\")"
   ]
  },
  {
   "cell_type": "code",
   "execution_count": 8,
   "metadata": {},
   "outputs": [
    {
     "data": {
      "application/vnd.jupyter.widget-view+json": {
       "model_id": "",
       "version_major": 2,
       "version_minor": 0
      },
      "text/plain": [
       "FloatProgress(value=0.0, bar_style='info', description='Progress:', layout=Layout(height='25px', width='50%'),…"
      ]
     },
     "metadata": {},
     "output_type": "display_data"
    }
   ],
   "source": [
    "df_tdm = spark.read.parquet(\"hdfs://nameservicedev1//user/tsystems_kkeshore/sample_data_tdm.parquet\")\n",
    "df = spark.read.parquet(\"hdfs://nameservicedev1//user/tsystems_vkumar/dsl_tickets/dsl_tkts_all_lvls_uniq_n.parquet\")\n",
    "df_key = create_windowing_per_assetid(df, config)"
   ]
  },
  {
   "cell_type": "code",
   "execution_count": 9,
   "metadata": {},
   "outputs": [
    {
     "data": {
      "application/vnd.jupyter.widget-view+json": {
       "model_id": "",
       "version_major": 2,
       "version_minor": 0
      },
      "text/plain": [
       "FloatProgress(value=0.0, bar_style='info', description='Progress:', layout=Layout(height='25px', width='50%'),…"
      ]
     },
     "metadata": {},
     "output_type": "display_data"
    },
    {
     "name": "stdout",
     "output_type": "stream",
     "text": [
      "+------------------+------------+----------------+-------------------+-------------------+-------------------+---------------------+----------------------+----------------------+----------------------+----------------------+--------------------+--------------------+-----------------+-------------+--------------------+--------------------+------------------------+----------------+-------------------+-------------------+-------------------+---------------------+----------------------+----------------------+----------------------+----------------------+--------------------+--------------------+-----------------+-------------+------------------+--------------------+------------------------+---------------------+-----------------+----------------------+------------------+-----------------------+-------------------+---------------------+-----------------+----------------------+------------------+-----------------------+-------------------+\n",
      "|lb_networkdeviceid|lb_eventdate|lb_transmitpower|lb_min_rssi_per_cpe|lb_max_rssi_per_cpe|lb_avg_rssi_per_cpe|lb_perc5_rssi_per_cpe|lb_perc25_rssi_per_cpe|lb_perc50_rssi_per_cpe|lb_perc75_rssi_per_cpe|lb_perc95_rssi_per_cpe|    lb_bytesreceived|        lb_bytessent|lb_errorsreceived|lb_errorssent|  lb_packetsreceived|      lb_packetssent|lb_connecteddevicescount|ub_transmitpower|ub_min_rssi_per_cpe|ub_max_rssi_per_cpe|ub_avg_rssi_per_cpe|ub_perc5_rssi_per_cpe|ub_perc25_rssi_per_cpe|ub_perc50_rssi_per_cpe|ub_perc75_rssi_per_cpe|ub_perc95_rssi_per_cpe|    ub_bytesreceived|        ub_bytessent|ub_errorsreceived|ub_errorssent|ub_packetsreceived|      ub_packetssent|ub_connecteddevicescount|lb_bytesreceiveddelta|lb_bytessentdelta|lb_errorsreceiveddelta|lb_errorssentdelta|lb_packetsreceiveddelta|lb_packetssentdelta|ub_bytesreceiveddelta|ub_bytessentdelta|ub_errorsreceiveddelta|ub_errorssentdelta|ub_packetsreceiveddelta|ub_packetssentdelta|\n",
      "+------------------+------------+----------------+-------------------+-------------------+-------------------+---------------------+----------------------+----------------------+----------------------+----------------------+--------------------+--------------------+-----------------+-------------+--------------------+--------------------+------------------------+----------------+-------------------+-------------------+-------------------+---------------------+----------------------+----------------------+----------------------+----------------------+--------------------+--------------------+-----------------+-------------+------------------+--------------------+------------------------+---------------------+-----------------+----------------------+------------------+-----------------------+-------------------+---------------------+-----------------+----------------------+------------------+-----------------------+-------------------+\n",
      "|         100000086|    20200106|           100.0|               null|               null|               null|                 null|                  null|                  null|                  null|                  null|         2.3993204E7|        1.77247292E8|           1730.0|        854.0|            116228.0|            275289.0|                     2.0|           100.0|               null|               null|               null|                 null|                  null|                  null|                  null|                  null|                 0.0|                 0.0|              0.0|          0.0|               0.0|                 0.0|                     0.0|             14024975|         93138597|                   436|               643|                  66433|             146829|                    0|                0|                     0|                 0|                      0|                  0|\n",
      "|         100000191|    20200515|            null|              -30.0|              -30.0|              -30.0|                -30.0|                 -30.0|                 -30.0|                 -30.0|                 -30.0|        7.66621285E8|       3.192925729E9|              0.0|         10.0|           6347664.0|         1.4231434E7|                     1.0|            null|               null|               null|               null|                 null|                  null|                  null|                  null|                  null|                null|                null|             null|         null|              null|                null|                    null|                97553|          1146105|                     0|                 0|                   1713|              13731|                 null|             null|                  null|              null|                   null|               null|\n",
      "|         100000191|    20200625|            null|-33.666666666666664|-25.666666666666668|-29.166666666666668|   -33.31666666666667|   -31.916666666666668|   -28.666666666666668|   -25.916666666666668|    -25.71666666666667| 6.830733083333334E8|       3.016024574E9|              0.0|          0.0|  4123950.3333333335|   9067897.333333334|                     2.0|            null|               null|               null|               null|                 null|                  null|                  null|                  null|                  null|                null|                null|             null|         null|              null|                null|                    null|             94362991|       1093489518|                     0|                 0|                 708251|            1390435|                 null|             null|                  null|              null|                   null|               null|\n",
      "|         100000191|    20200711|            null|              -26.0|              -26.0|              -26.0|                -26.0|                 -26.0|                 -26.0|                 -26.0|                 -26.0|1.6940381256666667E9|3.9226823673333335E9|              0.0|       1453.0|   9157716.333333334|         2.0531484E7|                     1.0|            null|               null|               null|               null|                 null|                  null|                  null|                  null|                  null|                null|                null|             null|         null|              null|                null|                    null|            185396915|       1401490092|                     0|                 0|                 571276|            1588567|                 null|             null|                  null|              null|                   null|               null|\n",
      "|         100000191|    20210803|            null|              -30.5|              -15.5|              -22.5|  -29.612499999999997|              -26.0625|                 -22.0|              -18.4375|   -16.087500000000002|     2.76235132675E9|      1.1121313825E9|              0.0|        407.0|       1.998037675E7|         4.7005221E7|                     2.0|            null|               null|               null|               null|                 null|                  null|                  null|                  null|                  null|                null|                null|             null|         null|              null|                null|                    null|             62963618|        908370910|                     0|                 0|                 469062|             992893|                 null|             null|                  null|              null|                   null|               null|\n",
      "|         100000466|    20210608|            null|              -52.0|              -52.0|              -52.0|                -52.0|                 -52.0|                 -52.0|                 -52.0|                 -52.0|      2.2233101415E9|      2.7226543815E9|              0.0|      19724.0|           9405736.5|        1.94512935E7|                     1.0|            null|               null|               null|               null|                 null|                  null|                  null|                  null|                  null|                null|                null|             null|         null|              null|                null|                    null|             16417347|        473465690|                     0|                 0|                 181081|             382008|                 null|             null|                  null|              null|                   null|               null|\n",
      "|         100000466|    20210717|            null|              -56.0|              -48.0|              -52.0|  -55.599999999999994|                 -54.0|                 -52.0|                 -50.0|                 -48.4|         1.0003546E7|          7.522699E7|              0.0|          0.0|             93640.0|            379337.0|                     2.0|            null|               null|               null|               null|                 null|                  null|                  null|                  null|                  null|                null|                null|             null|         null|              null|                null|                    null|              6269358|         24449685|                     0|                 0|                  59852|             233621|                 null|             null|                  null|              null|                   null|               null|\n",
      "|         100000491|    20200207|            null|               null|               null|               null|                 null|                  null|                  null|                  null|                  null|1.4299876326666667E9|1.3670823163333333E9|              0.0|     218150.0|         1.0458564E7|1.9244560666666668E7|      1.3333333333333333|            null|               null|               null|               null|                 null|                  null|                  null|                  null|                  null|1.4299876326666667E9|1.3670823163333333E9|              0.0|     218150.0|       1.0458564E7|1.9244560666666668E7|                     0.0|              9114796|        198299577|                     0|                 0|                  92644|             200196|              9114796|        198299577|                     0|                 0|                  92644|             200196|\n",
      "|         100000964|    20200819|           100.0|               40.0|               40.0|               40.0|                 40.0|                  40.0|                  40.0|                  40.0|                  40.0|            818825.0|            865925.0|           2623.0|          0.0|              9284.0|              9541.0|                     1.0|           100.0|               null|               null|               null|                 null|                  null|                  null|                  null|                  null|                 0.0|                 0.0|              0.0|          0.0|               0.0|                 0.0|                     0.0|               667937|           703591|                  2214|                 0|                   7586|               7800|                    0|                0|                     0|                 0|                      0|                  0|\n",
      "|         100000964|    20200822|           100.0|               44.0|               44.0|               44.0|                 44.0|                  44.0|                  44.0|                  44.0|                  44.0|           3335407.0|           3523386.0|           9335.0|          4.0|             37810.0|             38819.0|                     1.0|           100.0|               null|               null|               null|                 null|                  null|                  null|                  null|                  null|                 0.0|                 0.0|              0.0|          0.0|               0.0|                 0.0|                     0.0|               833775|           879913|                  1691|                 0|                   9474|               9741|                    0|                0|                     0|                 0|                      0|                  0|\n",
      "|         100001167|    20200525|           100.0|               null|               null|               null|                 null|                  null|                  null|                  null|                  null|       2.801414484E9|       2.259339263E9|           4003.0|       1237.0|1.0325297333333333E8|1.3954126666666666E8|      3.6666666666666665|           100.0|               null|               null|               null|                 null|                  null|                  null|                  null|                  null|                 0.0|                 0.0|              0.0|          0.0|               0.0|                 0.0|                     0.0|            271837752|       2240674787|                     0|                 0|                1954091|            2481691|                    0|                0|                     0|                 0|                      0|                  0|\n",
      "|         100001167|    20200619|           100.0|               null|               null|               null|                 null|                  null|                  null|                  null|                  null|       4.151881823E9|        4.92389537E8|          28414.0|       1237.0|        1.28707028E8|        1.72076811E8|                     0.0|           100.0|               null|               null|               null|                 null|                  null|                  null|                  null|                  null|                 0.0|                 0.0|              0.0|          0.0|               0.0|                 0.0|                     0.0|             60785355|                0|                  1436|                 0|                 469582|             480570|                    0|                0|                     0|                 0|                      0|                  0|\n",
      "|         100001316|    20210714|           100.0|               null|               null|               null|                 null|                  null|                  null|                  null|                  null|       7.319306895E8|      1.4089740815E9|              1.0|       2169.0|           4244461.5|         1.6806282E7|                     3.5|            null|               null|               null|               null|                 null|                  null|                  null|                  null|                  null|                null|                null|             null|         null|              null|                null|                    null|            295922102|                0|                     0|                 0|                2467954|           10678677|                 null|             null|                  null|              null|                   null|               null|\n",
      "|         100001349|    20210810|           100.0|               null|               null|               null|                 null|                  null|                  null|                  null|                  null|       1.352646632E9|        2.74948172E9|          18820.0|       5091.0|           3571652.0|           5848760.0|                     2.0|           100.0|               null|               null|               null|                 null|                  null|                  null|                  null|                  null|                 0.0|                 0.0|              0.0|          0.0|               0.0|                 0.0|                     0.0|            312122456|        863612026|                     0|               238|                 618452|             890889|                    0|                0|                     0|                 0|                      0|                  0|\n",
      "|         100001650|    20210423|           100.0|               null|               null|               null|                 null|                  null|                  null|                  null|                  null|         2.9417475E7|       7.950684465E8|              0.0|          0.0|            200854.0|            722301.5|                     0.5|            null|               null|               null|               null|                 null|                  null|                  null|                  null|                  null|                null|                null|             null|         null|              null|                null|                    null|              6634475|         44541483|                     0|                 0|                  32231|              78798|                 null|             null|                  null|              null|                   null|               null|\n",
      "|         100001650|    20210708|           100.0|               null|               null|               null|                 null|                  null|                  null|                  null|                  null|       8.315386845E8|       3.370790319E9|              3.0|       1236.0|           4483389.0|        1.13202715E7|                     0.0|            null|               null|               null|               null|                 null|                  null|                  null|                  null|                  null|                null|                null|             null|         null|              null|                null|                    null|              6725843|        134094391|                     0|                10|                  43222|             117079|                 null|             null|                  null|              null|                   null|               null|\n",
      "|         100001980|    20200630|           100.0|               46.0|               50.0|  48.16666666666667|                46.25|                 47.25|                  48.5|                 49.25|                 49.85|        1.41966016E9|      2.5978992035E9|              0.0|      45413.0|       1.700486595E8|       2.359781385E8|                     3.0|           100.0|               null|               null|               null|                 null|                  null|                  null|                  null|                  null|                 0.0|                 0.0|              0.0|          0.0|               0.0|                 0.0|                     0.0|            998419816|       2354565107|                     0|                 0|                2264624|            3017506|                    0|                0|                     0|                 0|                      0|                  0|\n",
      "|         100001980|    20210323|           100.0|               null|               null|               null|                 null|                  null|                  null|                  null|                  null|         2.7483003E7|        3.02599682E8|          63587.0|        612.0|            134054.0|           1236314.0|                     0.0|           100.0|               null|               null|               null|                 null|                  null|                  null|                  null|                  null|       1.697259112E9|       3.931913403E9|              0.0|        258.0|         2924281.0|           7291651.0|                     0.0|                    0|                0|                     0|                 0|                      0|                  0|                    0|                0|                     0|                 0|                      0|                  0|\n",
      "|         100001980|    20210628|           100.0|               null|               null|               null|                 null|                  null|                  null|                  null|                  null|                 0.0|                 0.0|              0.0|          0.0|                 0.0|                 0.0|                     0.0|           100.0|               null|               null|               null|                 null|                  null|                  null|                  null|                  null|                 0.0|                 0.0|              0.0|          0.0|               0.0|                 0.0|                     0.0|                    0|                0|                     0|                 0|                      0|                  0|                    0|                0|                     0|                 0|                      0|                  0|\n",
      "|         100002271|    20210405|           100.0|               null|               null|               null|                 null|                  null|                  null|                  null|                  null|                 0.0|                 0.0|              0.0|          0.0|                 0.0|                 0.0|                     0.0|           100.0|               null|               null|               null|                 null|                  null|                  null|                  null|                  null|                 0.0|                 0.0|              0.0|          0.0|               0.0|                 0.0|                     0.0|                    0|                0|                     0|                 0|                      0|                  0|                    0|                0|                     0|                 0|                      0|                  0|\n",
      "+------------------+------------+----------------+-------------------+-------------------+-------------------+---------------------+----------------------+----------------------+----------------------+----------------------+--------------------+--------------------+-----------------+-------------+--------------------+--------------------+------------------------+----------------+-------------------+-------------------+-------------------+---------------------+----------------------+----------------------+----------------------+----------------------+--------------------+--------------------+-----------------+-------------+------------------+--------------------+------------------------+---------------------+-----------------+----------------------+------------------+-----------------------+-------------------+---------------------+-----------------+----------------------+------------------+-----------------------+-------------------+\n",
      "only showing top 20 rows"
     ]
    }
   ],
   "source": [
    "df_tdm.join(df_key, on = [df_tdm['']])"
   ]
  },
  {
   "cell_type": "code",
   "execution_count": 7,
   "metadata": {},
   "outputs": [
    {
     "data": {
      "application/vnd.jupyter.widget-view+json": {
       "model_id": "",
       "version_major": 2,
       "version_minor": 0
      },
      "text/plain": [
       "FloatProgress(value=0.0, bar_style='info', description='Progress:', layout=Layout(height='25px', width='50%'),…"
      ]
     },
     "metadata": {},
     "output_type": "display_data"
    },
    {
     "name": "stdout",
     "output_type": "stream",
     "text": [
      "+--------+----------+\n",
      "| assetid|      date|\n",
      "+--------+----------+\n",
      "|81641693|2020-01-06|\n",
      "|81641693|2020-01-07|\n",
      "|81641693|2020-01-08|\n",
      "|81641693|2020-01-09|\n",
      "|81641693|2020-01-10|\n",
      "|81641693|2020-01-11|\n",
      "|81641693|2020-01-12|\n",
      "|81641693|2020-01-13|\n",
      "|81641693|2020-01-14|\n",
      "|81641693|2020-01-15|\n",
      "|81641693|2020-01-16|\n",
      "|81641693|2020-01-17|\n",
      "|81641693|2020-01-18|\n",
      "|81641693|2020-01-19|\n",
      "|81641693|2020-01-20|\n",
      "|81641693|2020-01-21|\n",
      "|81641693|2020-01-22|\n",
      "|81641693|2020-01-23|\n",
      "|81641693|2020-01-24|\n",
      "|81641693|2020-01-25|\n",
      "+--------+----------+\n",
      "only showing top 20 rows"
     ]
    }
   ],
   "source": [
    "df_key.show()"
   ]
  },
  {
   "cell_type": "code",
   "execution_count": null,
   "metadata": {},
   "outputs": [],
   "source": []
  },
  {
   "cell_type": "code",
   "execution_count": null,
   "metadata": {},
   "outputs": [],
   "source": []
  },
  {
   "cell_type": "code",
   "execution_count": 7,
   "metadata": {},
   "outputs": [
    {
     "data": {
      "application/vnd.jupyter.widget-view+json": {
       "model_id": "",
       "version_major": 2,
       "version_minor": 0
      },
      "text/plain": [
       "FloatProgress(value=0.0, bar_style='info', description='Progress:', layout=Layout(height='25px', width='50%'),…"
      ]
     },
     "metadata": {},
     "output_type": "display_data"
    }
   ],
   "source": [
    "data = spark.read.parquet(config[\"path\"][\"datagathering_output\"])"
   ]
  },
  {
   "cell_type": "code",
   "execution_count": 8,
   "metadata": {},
   "outputs": [
    {
     "data": {
      "application/vnd.jupyter.widget-view+json": {
       "model_id": "",
       "version_major": 2,
       "version_minor": 0
      },
      "text/plain": [
       "FloatProgress(value=0.0, bar_style='info', description='Progress:', layout=Layout(height='25px', width='50%'),…"
      ]
     },
     "metadata": {},
     "output_type": "display_data"
    },
    {
     "name": "stdout",
     "output_type": "stream",
     "text": [
      "+--------+----------+-----------+--------------------+---------------+------------------+---------------------------------+--------------------+--------------------+------------------------+------------------------+------------------+------------------+------------------------+------------------------+----------------+----------------+---------------------+---------------------+---------------+---------------+---------------+---------------+---------------+----------------+----------------+----------------+----------------+-----------------+-----------------+-----------------+-----------------+------------------+------------------+------------------+------------------+-----------+--------------------+------------------+--------------+-----------------+--------------------+----------------------+----------------------+-------------------------------+-------------------------+--------------------------+-------------------------+-----------------------+-------------------+-----------------------+------------------------------+-----------------------------+----------------------------+------------------------------+-------------------------+----------------------------+---------------------------+--------------------------+----------------------------+-----------------------+---------------------------+-----------------------------+----------------------------+------------------------------+-------------------------------------+-------------------------------+--------------------------------+-------------------------------+-------------------------+-------------------------+---------------------+---------------------+---------------------+------------+----------------+-------------------+-------------------+-------------------+---------------------+----------------------+----------------------+----------------------+----------------------+----------------+------------+-----------------+-------------+------------------+--------------+------------------------+----------------+-------------------+-------------------+-------------------+---------------------+----------------------+----------------------+----------------------+----------------------+----------------+------------+-----------------+-------------+------------------+--------------+------------------------+---------------------+-----------------+----------------------+------------------+-----------------------+-------------------+---------------------+-----------------+----------------------+------------------+-----------------------+-------------------+\n",
      "| assetid|     datum|dslam_datum|        dslam_servis|dslam_platforma|       dslam_model|dslam_code_of_dominant_modulation|dslam_avg_bitrate_us|dslam_avg_bitrate_ds|dslam_avg_attenuation_ds|dslam_avg_attenuation_us|dslam_avg_power_us|dslam_avg_power_ds|dslam_avg_att_bitrate_us|dslam_avg_att_bitrate_ds|dslam_avg_snr_us|dslam_avg_snr_ds|dslam_avg_bandline_ds|dslam_avg_bandline_us|dslam_no_counts|dslam_sum_cv_us|dslam_sum_cv_ds|dslam_sum_es_ds|dslam_sum_es_us|dslam_sum_ses_ds|dslam_sum_ses_us|dslam_sum_fec_ds|dslam_sum_fec_us|dslam_count_cv_us|dslam_count_cv_ds|dslam_count_es_ds|dslam_count_es_us|dslam_count_ses_ds|dslam_count_ses_us|dslam_count_fec_ds|dslam_count_fec_us|dslam_inits|         snmp_servis|snmp_no_lossoflink|snmp_no_linkup|snmp_no_dyinggasp|acs_crm_productClass|acs_xdslline_dslUptime|acs_xdslline_cpeUptime|acs_xdslline_cpuUsagePercentage|acs_xdslline_freeMemoryKb|acs_xdslline_totalMemoryKb|acs_xdslline_usedMemoryKb|acs_xdslline_natCurrent|acs_xdslline_natMax|acs_xdslline_initErrors|acs_xdslline_downAttenuationDb|acs_xdslline_downCurrRateKbps|acs_xdslline_downMaxRateKbps|acs_xdslline_downNoiseMarginDb|acs_xdslline_downPowerDbm|acs_xdslline_upAttenuationDb|acs_xdslline_upCurrRateKbps|acs_xdslline_upMaxRateKbps|acs_xdslline_upNoiseMarginDb|acs_xdslline_upPowerDbm|acs_xdslline_cellDelinDelta|acs_xdslline_erroredSecsDelta|acs_xdslline_initErrorsDelta|acs_xdslline_initTimeoutsDelta|acs_xdslline_severelyErroredSecsDelta|acs_xdslline_lossOfFramingDelta|acs_xdslline_transmitBlocksDelta|acs_xdslline_receiveBlocksDelta|acs_xdslline_atucfecdelta|acs_xdslline_atuchecdelta|acs_xdslline_crcdelta|acs_xdslline_fecdelta|acs_xdslline_hecdelta|lb_eventdate|lb_transmitpower|lb_min_rssi_per_cpe|lb_max_rssi_per_cpe|lb_avg_rssi_per_cpe|lb_perc5_rssi_per_cpe|lb_perc25_rssi_per_cpe|lb_perc50_rssi_per_cpe|lb_perc75_rssi_per_cpe|lb_perc95_rssi_per_cpe|lb_bytesreceived|lb_bytessent|lb_errorsreceived|lb_errorssent|lb_packetsreceived|lb_packetssent|lb_connecteddevicescount|ub_transmitpower|ub_min_rssi_per_cpe|ub_max_rssi_per_cpe|ub_avg_rssi_per_cpe|ub_perc5_rssi_per_cpe|ub_perc25_rssi_per_cpe|ub_perc50_rssi_per_cpe|ub_perc75_rssi_per_cpe|ub_perc95_rssi_per_cpe|ub_bytesreceived|ub_bytessent|ub_errorsreceived|ub_errorssent|ub_packetsreceived|ub_packetssent|ub_connecteddevicescount|lb_bytesreceiveddelta|lb_bytessentdelta|lb_errorsreceiveddelta|lb_errorssentdelta|lb_packetsreceiveddelta|lb_packetssentdelta|ub_bytesreceiveddelta|ub_bytessentdelta|ub_errorsreceiveddelta|ub_errorssentdelta|ub_packetsreceiveddelta|ub_packetssentdelta|\n",
      "+--------+----------+-----------+--------------------+---------------+------------------+---------------------------------+--------------------+--------------------+------------------------+------------------------+------------------+------------------+------------------------+------------------------+----------------+----------------+---------------------+---------------------+---------------+---------------+---------------+---------------+---------------+----------------+----------------+----------------+----------------+-----------------+-----------------+-----------------+-----------------+------------------+------------------+------------------+------------------+-----------+--------------------+------------------+--------------+-----------------+--------------------+----------------------+----------------------+-------------------------------+-------------------------+--------------------------+-------------------------+-----------------------+-------------------+-----------------------+------------------------------+-----------------------------+----------------------------+------------------------------+-------------------------+----------------------------+---------------------------+--------------------------+----------------------------+-----------------------+---------------------------+-----------------------------+----------------------------+------------------------------+-------------------------------------+-------------------------------+--------------------------------+-------------------------------+-------------------------+-------------------------+---------------------+---------------------+---------------------+------------+----------------+-------------------+-------------------+-------------------+---------------------+----------------------+----------------------+----------------------+----------------------+----------------+------------+-----------------+-------------+------------------+--------------+------------------------+----------------+-------------------+-------------------+-------------------+---------------------+----------------------+----------------------+----------------------+----------------------+----------------+------------+-----------------+-------------+------------------+--------------+------------------------+---------------------+-----------------+----------------------+------------------+-----------------------+-------------------+---------------------+-----------------+----------------------+------------------+-----------------------+-------------------+\n",
      "|36771964|2020-09-25| 2020-09-25|        IPTV+IMSVoIP|   ERICSSON EDA|EDA MEDIUM SUBRACK|                              3.0|               773.0|              5120.0|                     0.0|                     5.0|              13.0|              12.0|                  1423.0|                 23972.0|            29.0|            33.0|                 null|                 null|           22.0|            0.0|            0.0|            0.0|            0.0|             0.0|             0.0|             0.0|            25.0|               32|               29|                0|                0|                 0|                 0|                 0|                10|          0|                null|              null|          null|             null|   Speedport Plus181|              163067.0|              163170.5|                            0.0|                  14838.0|                   81460.0|                  66622.0|                    7.0|             8000.0|                   null|                           0.0|                       5087.0|                     23972.0|                          null|                     13.0|                         4.0|                      765.0|                    1434.0|                        null|                   16.0|                          0|                            0|                           0|                             0|                                    0|                              0|                               0|                              0|                       46|                        0|                    0|                    0|                    0|        null|            null|               null|               null|               null|                 null|                  null|                  null|                  null|                  null|            null|        null|             null|         null|              null|          null|                    null|            null|               null|               null|               null|                 null|                  null|                  null|                  null|                  null|            null|        null|             null|         null|              null|          null|                    null|                 null|             null|                  null|              null|                   null|               null|                 null|             null|                  null|              null|                   null|               null|\n",
      "|36771964|2020-09-26| 2020-09-26|        IPTV+IMSVoIP|   ERICSSON EDA|EDA MEDIUM SUBRACK|                              3.0|               773.0|              5120.0|                     0.0|                     5.0|              13.0|              12.0|                  1420.0|                 23972.0|            29.0|            33.0|                 null|                 null|           23.0|            0.0|            0.0|            0.0|            0.0|             0.0|             0.0|             0.0|            33.0|               32|               29|                0|                0|                 0|                 0|                 0|                13|          0|                null|              null|          null|             null|   Speedport Plus181|               54724.0|              281629.0|                            0.0|                  15870.0|                   81460.0|                  65590.0|                    8.0|             8000.0|                   null|                           0.0|                       5087.0|                     23972.0|                          null|                     13.0|                         4.0|                      765.0|                    1434.0|                        null|                   16.0|                          0|                            0|                           0|                             0|                                    0|                              0|                               0|                              0|                      118|                        0|                    0|                    0|                    0|        null|            null|               null|               null|               null|                 null|                  null|                  null|                  null|                  null|            null|        null|             null|         null|              null|          null|                    null|            null|               null|               null|               null|                 null|                  null|                  null|                  null|                  null|            null|        null|             null|         null|              null|          null|                    null|                 null|             null|                  null|              null|                   null|               null|                 null|             null|                  null|              null|                   null|               null|\n",
      "|36771964|2020-09-27| 2020-09-27|        IPTV+IMSVoIP|   ERICSSON EDA|EDA MEDIUM SUBRACK|                              3.0|               773.0|              5120.0|                     0.0|                     5.0|              13.0|              12.0|                  1426.0|                 23972.0|            29.0|            33.0|                 null|                 null|           20.0|            0.0|            0.0|            0.0|            0.0|             0.0|             0.0|             0.0|            21.0|               24|               26|                0|                0|                 0|                 0|                 0|                 9|          0|                null|              null|          null|             null|   Speedport Plus181|              108724.0|              335628.0|                            0.0|                  16000.0|                   81460.0|                  65460.0|                    7.0|             8000.0|                   null|                           0.0|                       5087.0|                     23972.0|                          null|                     13.0|                         4.0|                      765.0|                    1434.0|                        null|                   16.0|                          0|                            0|                           0|                             0|                                    0|                              0|                               0|                              0|                       47|                        0|                    0|                    0|                    0|        null|            null|               null|               null|               null|                 null|                  null|                  null|                  null|                  null|            null|        null|             null|         null|              null|          null|                    null|            null|               null|               null|               null|                 null|                  null|                  null|                  null|                  null|            null|        null|             null|         null|              null|          null|                    null|                 null|             null|                  null|              null|                   null|               null|                 null|             null|                  null|              null|                   null|               null|\n",
      "|36771964|2020-09-28| 2020-09-28|        IPTV+IMSVoIP|   ERICSSON EDA|EDA MEDIUM SUBRACK|                              3.0|               773.0|              5120.0|                     0.0|                     5.0|              13.0|              12.0|                  1431.0|                 23972.0|            30.0|            33.0|                 null|                 null|           23.0|            0.0|            0.0|            0.0|            0.0|             0.0|             0.0|             0.0|            14.0|               32|               34|                0|                0|                 0|                 0|                 0|                 6|          0|                null|              null|          null|             null|   Speedport Plus181|             114123.25|              454428.5|                            0.0|                  15676.0|                   81460.0|                  65784.0|                    7.5|             8000.0|                   null|                           0.0|                       5087.0|                     23972.0|                          null|                     13.0|                         4.0|                      765.0|                    1434.0|                        null|                   16.0|                          0|                            0|                           0|                             0|                                    0|                              0|                               0|                              0|                      125|                        0|                    0|                    0|                    0|        null|            null|               null|               null|               null|                 null|                  null|                  null|                  null|                  null|            null|        null|             null|         null|              null|          null|                    null|            null|               null|               null|               null|                 null|                  null|                  null|                  null|                  null|            null|        null|             null|         null|              null|          null|                    null|                 null|             null|                  null|              null|                   null|               null|                 null|             null|                  null|              null|                   null|               null|\n",
      "|36771964|2020-09-29| 2020-09-29|        IPTV+IMSVoIP|   ERICSSON EDA|EDA MEDIUM SUBRACK|                              3.0|               773.0|              5120.0|                     0.0|                     5.0|              13.0|              12.0|                  1432.0|                 23972.0|            30.0|            34.0|                 null|                 null|           23.0|            0.0|            0.0|            0.0|            0.0|             0.0|             0.0|             0.0|            14.0|               29|               30|                0|                0|                 0|                 0|                 0|                 6|          0|                null|              null|          null|             null|   Speedport Plus181|              108722.5|              562429.0|                            0.0|                  15310.0|                   81460.0|                  66150.0|                    7.0|             8000.0|                   null|                           0.0|                       5087.0|                     23972.0|                          null|                     13.0|                         4.0|                      765.0|                    1434.0|                        null|                   16.0|                          0|                            0|                           0|                             0|                                    0|                              0|                               0|                              0|                       44|                        0|                    0|                    0|                    0|        null|            null|               null|               null|               null|                 null|                  null|                  null|                  null|                  null|            null|        null|             null|         null|              null|          null|                    null|            null|               null|               null|               null|                 null|                  null|                  null|                  null|                  null|            null|        null|             null|         null|              null|          null|                    null|                 null|             null|                  null|              null|                   null|               null|                 null|             null|                  null|              null|                   null|               null|\n",
      "|36771964|2020-09-30| 2020-09-30|        IPTV+IMSVoIP|   ERICSSON EDA|EDA MEDIUM SUBRACK|                              3.0|               773.0|              5120.0|                     0.0|                     5.0|              13.0|              12.0|                  1418.0|                 23881.0|            28.0|            34.0|                 null|                 null|           23.0|            0.0|            0.0|            0.0|            0.0|             0.0|             0.0|             0.0|            16.0|               30|               32|                0|                0|                 0|                 0|                 0|                 6|          0|        IPTV+IMSVoIP|                 1|             1|                0|   Speedport Plus181|    59410.333333333336|              616429.0|                            0.0|                  15244.0|                   81460.0|                  66216.0|      8.333333333333334|             8000.0|                   null|                           0.0|                       5087.0|          23865.333333333332|                          null|                     13.0|                         4.0|                      765.0|                    1414.0|                        null|                   16.0|                          0|                            0|                           0|                             0|                                    0|                              0|                               0|                              0|                       31|                        0|                    0|                    0|                    0|        null|            null|               null|               null|               null|                 null|                  null|                  null|                  null|                  null|            null|        null|             null|         null|              null|          null|                    null|            null|               null|               null|               null|                 null|                  null|                  null|                  null|                  null|            null|        null|             null|         null|              null|          null|                    null|                 null|             null|                  null|              null|                   null|               null|                 null|             null|                  null|              null|                   null|               null|\n",
      "|36771964|2020-10-01| 2020-10-01|        IPTV+IMSVoIP|   ERICSSON EDA|EDA MEDIUM SUBRACK|                              3.0|               773.0|              5120.0|                     0.0|                     5.0|              13.0|              12.0|                  1413.0|                 23812.0|            27.0|            33.0|                 null|                 null|           22.0|            0.0|            0.0|            0.0|            0.0|             0.0|             0.0|             0.0|            21.0|               32|               34|                0|                0|                 0|                 0|                 0|                 9|          0|                null|              null|          null|             null|   Speedport Plus181|              115755.0|              724429.0|                            0.0|                  14828.0|                   81460.0|                  66632.0|                    7.5|             8000.0|                   null|                           0.0|                       5087.0|                     23812.0|                          null|                     13.0|                         4.0|                      765.0|                    1404.0|                        null|                   16.0|                          0|                            0|                           0|                             0|                                    0|                              0|                               0|                              0|                       84|                        0|                    0|                    0|                    0|        null|            null|               null|               null|               null|                 null|                  null|                  null|                  null|                  null|            null|        null|             null|         null|              null|          null|                    null|            null|               null|               null|               null|                 null|                  null|                  null|                  null|                  null|            null|        null|             null|         null|              null|          null|                    null|                 null|             null|                  null|              null|                   null|               null|                 null|             null|                  null|              null|                   null|               null|\n",
      "|36771964|2020-10-02| 2020-10-02|        IPTV+IMSVoIP|   ERICSSON EDA|EDA MEDIUM SUBRACK|                              3.0|               773.0|              5120.0|                     0.0|                     5.0|              13.0|              12.0|                  1415.0|                 23812.0|            27.0|            33.0|                 null|                 null|           21.0|            0.0|            0.0|            0.0|            0.0|             0.0|             0.0|             0.0|            17.0|               37|               36|                0|                0|                 0|                 0|                 0|                 7|          0|                null|              null|          null|             null|   Speedport Plus181|              180554.0|              789228.5|                            0.0|                  14840.0|                   81460.0|                  66620.0|                    8.5|             8000.0|                   null|                           0.0|                       5087.0|                     23812.0|                          null|                     13.0|                         4.0|                      765.0|                    1404.0|                        null|                   16.0|                          0|                            0|                           0|                             0|                                    0|                              0|                               0|                              0|                       33|                        0|                    0|                    0|                    0|        null|            null|               null|               null|               null|                 null|                  null|                  null|                  null|                  null|            null|        null|             null|         null|              null|          null|                    null|            null|               null|               null|               null|                 null|                  null|                  null|                  null|                  null|            null|        null|             null|         null|              null|          null|                    null|                 null|             null|                  null|              null|                   null|               null|                 null|             null|                  null|              null|                   null|               null|\n",
      "|36771964|2020-10-03| 2020-10-03|        IPTV+IMSVoIP|   ERICSSON EDA|EDA MEDIUM SUBRACK|                              3.0|               773.0|              5120.0|                     0.0|                     5.0|              13.0|              12.0|                  1414.0|                 23812.0|            27.0|            33.0|                 null|                 null|           23.0|            0.0|            0.0|            0.0|            0.0|             0.0|             0.0|             0.0|            24.0|               36|               39|                0|                0|                 0|                 0|                 0|                10|          0|                null|              null|          null|             null|   Speedport Plus181|               40153.0|              875629.0|                            0.0|                  14830.0|                   81460.0|                  66630.0|                    7.5|             8000.0|                   null|                           0.0|                       5087.0|                     23812.0|                          null|                     13.0|                         4.0|                      765.0|                    1404.0|                        null|                   16.0|                          0|                            0|                           0|                             0|                                    0|                              0|                               0|                              0|                       75|                        0|                    0|                    0|                    0|        null|            null|               null|               null|               null|                 null|                  null|                  null|                  null|                  null|            null|        null|             null|         null|              null|          null|                    null|            null|               null|               null|               null|                 null|                  null|                  null|                  null|                  null|            null|        null|             null|         null|              null|          null|                    null|                 null|             null|                  null|              null|                   null|               null|                 null|             null|                  null|              null|                   null|               null|\n",
      "|36771964|2020-10-04| 2020-10-04|        IPTV+IMSVoIP|   ERICSSON EDA|EDA MEDIUM SUBRACK|                              3.0|               773.0|              5120.0|                     0.0|                     5.0|              13.0|              12.0|                  1415.0|                 23812.0|            27.0|            33.0|                 null|                 null|           21.0|            0.0|            0.0|            0.0|            0.0|             0.0|             0.0|             0.0|            19.0|               33|               30|                0|                0|                 0|                 0|                 0|                 6|          0|                null|              null|          null|             null|   Speedport Plus181|              137354.0|              972829.0|                            0.0|                  14744.0|                   81460.0|                  66716.0|                    7.5|             8000.0|                   null|                           0.0|                       5087.0|                     23812.0|                          null|                     13.0|                         4.0|                      765.0|                    1404.0|                        null|                   16.0|                          0|                            0|                           0|                             0|                                    0|                              0|                               0|                              0|                       72|                        0|                    0|                    0|                    0|        null|            null|               null|               null|               null|                 null|                  null|                  null|                  null|                  null|            null|        null|             null|         null|              null|          null|                    null|            null|               null|               null|               null|                 null|                  null|                  null|                  null|                  null|            null|        null|             null|         null|              null|          null|                    null|                 null|             null|                  null|              null|                   null|               null|                 null|             null|                  null|              null|                   null|               null|\n",
      "|36771964|2020-10-05| 2020-10-05|        IPTV+IMSVoIP|   ERICSSON EDA|EDA MEDIUM SUBRACK|                              3.0|               773.0|              5120.0|                     0.0|                     4.0|              13.0|              12.0|                  1403.0|                 23681.0|            27.0|            33.0|                 null|                 null|           22.0|            0.0|            0.0|            0.0|            0.0|             0.0|             0.0|             0.0|            40.0|               37|               35|                0|                0|                 0|                 0|                 0|                13|          2|        IPTV+IMSVoIP|                 2|             2|                1|   Speedport Plus181|     85396.66666666667|     363957.3333333333|                            0.0|                  15236.0|                   81460.0|                  66224.0|                    8.5|             8000.0|                   null|                           0.0|                       5087.0|                     23652.0|                          null|                     13.0|                         4.0|                      765.0|        1395.3333333333333|                        null|                   16.0|                          0|                            0|                           0|                             0|                                    0|                              0|                               0|                              0|                       47|                        0|                    0|                    0|                    0|        null|            null|               null|               null|               null|                 null|                  null|                  null|                  null|                  null|            null|        null|             null|         null|              null|          null|                    null|            null|               null|               null|               null|                 null|                  null|                  null|                  null|                  null|            null|        null|             null|         null|              null|          null|                    null|                 null|             null|                  null|              null|                   null|               null|                 null|             null|                  null|              null|                   null|               null|\n",
      "|36771964|2020-10-06| 2020-10-06|        IPTV+IMSVoIP|   ERICSSON EDA|EDA MEDIUM SUBRACK|                              3.0|               773.0|              5120.0|                     0.0|                     4.0|              13.0|              12.0|                  1403.0|                 23704.0|            28.0|            33.0|                 null|                 null|           22.0|            0.0|            0.0|            0.0|            0.0|             0.0|             0.0|             0.0|            18.0|               35|               33|                0|                0|                 0|                 0|                 0|                 7|          0|                null|              null|          null|             null|   Speedport Plus181|    50417.333333333336|    50521.333333333336|                            0.0|       15441.333333333334|                   81460.0|        66018.66666666667|      7.333333333333333|             8000.0|                   null|                           0.0|                       5087.0|                     23704.0|                          null|                     13.0|                         4.0|                      765.0|                    1394.0|                        null|                   16.0|                          0|                            0|                           0|                             0|                                    0|                              0|                               0|                              0|                       30|                        0|                    0|                    0|                    0|        null|            null|               null|               null|               null|                 null|                  null|                  null|                  null|                  null|            null|        null|             null|         null|              null|          null|                    null|            null|               null|               null|               null|                 null|                  null|                  null|                  null|                  null|            null|        null|             null|         null|              null|          null|                    null|                 null|             null|                  null|              null|                   null|               null|                 null|             null|                  null|              null|                   null|               null|\n",
      "|36771964|2020-10-07| 2020-10-07|        IPTV+IMSVoIP|   ERICSSON EDA|EDA MEDIUM SUBRACK|                              3.0|               773.0|              5120.0|                     0.0|                     5.0|              13.0|              12.0|                  1400.0|                 23704.0|            28.0|            34.0|                 null|                 null|           20.0|            0.0|            0.0|            0.0|            0.0|             0.0|             0.0|             0.0|            27.0|               30|               32|                0|                0|                 0|                 0|                 0|                12|          0|                null|              null|          null|             null|   Speedport Plus181|              172818.0|              172921.0|                            0.0|                  15400.0|                   81460.0|                  66060.0|                    7.0|             8000.0|                   null|                           0.0|                       5087.0|                     23704.0|                          null|                     13.0|                         4.0|                      765.0|                    1394.0|                        null|                   16.0|                          0|                            0|                           0|                             0|                                    0|                              0|                               0|                              0|                       85|                        0|                    0|                    0|                    0|        null|            null|               null|               null|               null|                 null|                  null|                  null|                  null|                  null|            null|        null|             null|         null|              null|          null|                    null|            null|               null|               null|               null|                 null|                  null|                  null|                  null|                  null|            null|        null|             null|         null|              null|          null|                    null|                 null|             null|                  null|              null|                   null|               null|                 null|             null|                  null|              null|                   null|               null|\n",
      "|36771964|2020-10-08| 2020-10-08|        IPTV+IMSVoIP|   ERICSSON EDA|EDA MEDIUM SUBRACK|                              3.0|               773.0|              5120.0|                     0.0|                     5.0|              13.0|              12.0|                  1401.0|                 23704.0|            28.0|            34.0|                 null|                 null|           22.0|            0.0|            0.0|            0.0|            0.0|             0.0|             0.0|             0.0|            14.0|               32|               28|                0|                0|                 0|                 0|                 0|                 6|          0|                null|              null|          null|             null|   Speedport Plus181|              147617.0|              223321.0|                            0.0|       15334.666666666666|                   81460.0|        66125.33333333333|      7.666666666666667|             8000.0|                   null|                           0.0|                       5087.0|                     23704.0|                          null|                     13.0|                         4.0|                      765.0|                    1394.0|                        null|                   16.0|                          0|                            0|                           0|                             0|                                    0|                              0|                               0|                              0|                       65|                        0|                    0|                    0|                    0|        null|            null|               null|               null|               null|                 null|                  null|                  null|                  null|                  null|            null|        null|             null|         null|              null|          null|                    null|            null|               null|               null|               null|                 null|                  null|                  null|                  null|                  null|            null|        null|             null|         null|              null|          null|                    null|                 null|             null|                  null|              null|                   null|               null|                 null|             null|                  null|              null|                   null|               null|\n",
      "|36771975|2020-10-27| 2020-10-27|INTERNET-50Mb / 1...| HUAWEI SMARTAX|           MA5600T|                              7.0|              8000.0|             49307.0|                     7.0|                     4.0|               9.0|              14.0|                 32243.0|                 75208.0|            24.0|            16.0|                 75.0|                 41.0|           20.0|            0.0|            7.0|            0.0|            0.0|             0.0|             0.0|          1041.0|             0.0|                0|                1|                0|                0|                 0|                 0|                 7|                 0|          0|                null|              null|          null|             null|                null|                  null|                  null|                           null|                     null|                      null|                     null|                   null|               null|                   null|                          null|                         null|                        null|                          null|                     null|                        null|                       null|                      null|                        null|                   null|                       null|                         null|                        null|                          null|                                 null|                           null|                            null|                           null|                     null|                     null|                 null|                 null|                 null|        null|            null|               null|               null|               null|                 null|                  null|                  null|                  null|                  null|            null|        null|             null|         null|              null|          null|                    null|            null|               null|               null|               null|                 null|                  null|                  null|                  null|                  null|            null|        null|             null|         null|              null|          null|                    null|                 null|             null|                  null|              null|                   null|               null|                 null|             null|                  null|              null|                   null|               null|\n",
      "|36771975|2020-10-28| 2020-10-28|INTERNET-50Mb / 1...| HUAWEI SMARTAX|           MA5600T|                              7.0|              8000.0|             49870.0|                     7.0|                     4.0|               9.0|              14.0|                 30409.0|                 71821.0|            23.0|            15.0|                 74.0|                 40.0|           16.0|            0.0|        11998.0|           73.0|            0.0|            20.0|             0.0|           440.0|           371.0|                0|                3|                3|                0|                 1|                 0|                 8|                 1|          1|INTERNET-50Mb / 1...|                 4|             5|                1|                null|                  null|                  null|                           null|                     null|                      null|                     null|                   null|               null|                   null|                          null|                         null|                        null|                          null|                     null|                        null|                       null|                      null|                        null|                   null|                       null|                         null|                        null|                          null|                                 null|                           null|                            null|                           null|                     null|                     null|                 null|                 null|                 null|        null|            null|               null|               null|               null|                 null|                  null|                  null|                  null|                  null|            null|        null|             null|         null|              null|          null|                    null|            null|               null|               null|               null|                 null|                  null|                  null|                  null|                  null|            null|        null|             null|         null|              null|          null|                    null|                 null|             null|                  null|              null|                   null|               null|                 null|             null|                  null|              null|                   null|               null|\n",
      "|36771975|2020-10-29| 2020-10-29|INTERNET-50Mb / 1...| HUAWEI SMARTAX|           MA5600T|                              7.0|              8000.0|             53810.0|                     6.0|                     3.0|               9.0|              14.0|                 28606.0|                 69054.0|            23.0|            11.0|                 64.0|                 32.0|           20.0|            0.0|            0.0|            0.0|            0.0|             0.0|             0.0|          1921.0|             0.0|                0|                0|                0|                0|                 0|                 0|                 7|                 0|          1|INTERNET-50Mb / 1...|                10|            11|                1|                null|                  null|                  null|                           null|                     null|                      null|                     null|                   null|               null|                   null|                          null|                         null|                        null|                          null|                     null|                        null|                       null|                      null|                        null|                   null|                       null|                         null|                        null|                          null|                                 null|                           null|                            null|                           null|                     null|                     null|                 null|                 null|                 null|        null|            null|               null|               null|               null|                 null|                  null|                  null|                  null|                  null|            null|        null|             null|         null|              null|          null|                    null|            null|               null|               null|               null|                 null|                  null|                  null|                  null|                  null|            null|        null|             null|         null|              null|          null|                    null|                 null|             null|                  null|              null|                   null|               null|                 null|             null|                  null|              null|                   null|               null|\n",
      "|36771975|2020-10-30| 2020-10-30|INTERNET-50Mb / 1...| HUAWEI SMARTAX|           MA5600T|                              7.0|              8000.0|             53809.0|                     6.0|                     3.0|               9.0|              14.0|                 34197.0|                 74320.0|            25.0|            12.0|                 64.0|                 33.0|           21.0|            0.0|        70939.0|          358.0|            0.0|           115.0|             0.0|          2080.0|             0.0|                0|               11|               10|                0|                11|                 0|                 6|                 0|          4|INTERNET-50Mb / 1...|                14|            19|                5|                null|                  null|                  null|                           null|                     null|                      null|                     null|                   null|               null|                   null|                          null|                         null|                        null|                          null|                     null|                        null|                       null|                      null|                        null|                   null|                       null|                         null|                        null|                          null|                                 null|                           null|                            null|                           null|                     null|                     null|                 null|                 null|                 null|        null|            null|               null|               null|               null|                 null|                  null|                  null|                  null|                  null|            null|        null|             null|         null|              null|          null|                    null|            null|               null|               null|               null|                 null|                  null|                  null|                  null|                  null|            null|        null|             null|         null|              null|          null|                    null|                 null|             null|                  null|              null|                   null|               null|                 null|             null|                  null|              null|                   null|               null|\n",
      "|36771975|2020-10-31| 2020-10-31|INTERNET-50Mb / 1...| HUAWEI SMARTAX|           MA5600T|                              7.0|              8000.0|             53809.0|                     6.0|                     3.0|               9.0|              14.0|                 33461.0|                 72096.0|            25.0|            11.0|                 66.0|                 34.0|           21.0|            0.0|        54008.0|          185.0|            0.0|            41.0|             0.0|          2060.0|             0.0|                0|                8|                8|                0|                 5|                 0|                 9|                 0|          3|INTERNET-50Mb / 1...|                 6|             6|                0|                null|                  null|                  null|                           null|                     null|                      null|                     null|                   null|               null|                   null|                          null|                         null|                        null|                          null|                     null|                        null|                       null|                      null|                        null|                   null|                       null|                         null|                        null|                          null|                                 null|                           null|                            null|                           null|                     null|                     null|                 null|                 null|                 null|        null|            null|               null|               null|               null|                 null|                  null|                  null|                  null|                  null|            null|        null|             null|         null|              null|          null|                    null|            null|               null|               null|               null|                 null|                  null|                  null|                  null|                  null|            null|        null|             null|         null|              null|          null|                    null|                 null|             null|                  null|              null|                   null|               null|                 null|             null|                  null|              null|                   null|               null|\n",
      "|36771975|2020-11-01| 2020-11-01|INTERNET-50Mb / 1...| HUAWEI SMARTAX|           MA5600T|                              7.0|              8000.0|             53809.0|                     6.0|                     3.0|               9.0|              14.0|                 31266.0|                 72507.0|            23.0|            10.0|                 67.0|                 35.0|           21.0|            0.0|        16658.0|           32.0|            0.0|             7.0|             0.0|           662.0|             0.0|                0|                6|                6|                0|                 2|                 0|                 5|                 0|          2|INTERNET-50Mb / 1...|                 4|             4|                0|                null|                  null|                  null|                           null|                     null|                      null|                     null|                   null|               null|                   null|                          null|                         null|                        null|                          null|                     null|                        null|                       null|                      null|                        null|                   null|                       null|                         null|                        null|                          null|                                 null|                           null|                            null|                           null|                     null|                     null|                 null|                 null|                 null|        null|            null|               null|               null|               null|                 null|                  null|                  null|                  null|                  null|            null|        null|             null|         null|              null|          null|                    null|            null|               null|               null|               null|                 null|                  null|                  null|                  null|                  null|            null|        null|             null|         null|              null|          null|                    null|                 null|             null|                  null|              null|                   null|               null|                 null|             null|                  null|              null|                   null|               null|\n",
      "+--------+----------+-----------+--------------------+---------------+------------------+---------------------------------+--------------------+--------------------+------------------------+------------------------+------------------+------------------+------------------------+------------------------+----------------+----------------+---------------------+---------------------+---------------+---------------+---------------+---------------+---------------+----------------+----------------+----------------+----------------+-----------------+-----------------+-----------------+-----------------+------------------+------------------+------------------+------------------+-----------+--------------------+------------------+--------------+-----------------+--------------------+----------------------+----------------------+-------------------------------+-------------------------+--------------------------+-------------------------+-----------------------+-------------------+-----------------------+------------------------------+-----------------------------+----------------------------+------------------------------+-------------------------+----------------------------+---------------------------+--------------------------+----------------------------+-----------------------+---------------------------+-----------------------------+----------------------------+------------------------------+-------------------------------------+-------------------------------+--------------------------------+-------------------------------+-------------------------+-------------------------+---------------------+---------------------+---------------------+------------+----------------+-------------------+-------------------+-------------------+---------------------+----------------------+----------------------+----------------------+----------------------+----------------+------------+-----------------+-------------+------------------+--------------+------------------------+----------------+-------------------+-------------------+-------------------+---------------------+----------------------+----------------------+----------------------+----------------------+----------------+------------+-----------------+-------------+------------------+--------------+------------------------+---------------------+-----------------+----------------------+------------------+-----------------------+-------------------+---------------------+-----------------+----------------------+------------------+-----------------------+-------------------+\n",
      "only showing top 20 rows"
     ]
    }
   ],
   "source": [
    "data.show()"
   ]
  },
  {
   "cell_type": "code",
   "execution_count": null,
   "metadata": {},
   "outputs": [],
   "source": []
  },
  {
   "cell_type": "code",
   "execution_count": null,
   "metadata": {},
   "outputs": [],
   "source": []
  },
  {
   "cell_type": "code",
   "execution_count": 6,
   "metadata": {},
   "outputs": [
    {
     "data": {
      "application/vnd.jupyter.widget-view+json": {
       "model_id": "",
       "version_major": 2,
       "version_minor": 0
      },
      "text/plain": [
       "FloatProgress(value=0.0, bar_style='info', description='Progress:', layout=Layout(height='25px', width='50%'),…"
      ]
     },
     "metadata": {},
     "output_type": "display_data"
    }
   ],
   "source": [
    "df = spark.read.parquet(\"hdfs://nameservicedev1//user/tsystems_vkumar/dsl_tickets/dsl_tkts_all_lvls_uniq_n.parquet\")\n",
    "#df = df[df['incident_date'] > '2021-03-01'].limit(5)\n",
    "df_dslam = data_import('cdl_blos', 'pol_day_aggregation', spark) #per day\n",
    "df_snmp = data_import('cdl_blos', 'snmp_traps_agg', spark) #per day\n",
    "df_acs = flatten_df(data_import('cdl_acscoll', 'cdl_acscoll_xdsl_line_prq', spark))# cat, mm, counter/delta\n",
    "#df_tdm = loading_tdm(config, spark) # Preprocess TDM data with aggregations\n",
    "df_dslam = rename_cols(df_dslam, 'dslam_')\n",
    "df_snmp = rename_cols(df_snmp, 'snmp_')\n",
    "df_acs = rename_cols(df_acs, 'acs_')\n",
    "df_dslam = change_data_type(df_dslam, cols_to_convert=config[\"data_gathering\"][\"features\"][\"dslam\"][\"measurements\"] + config[\"data_gathering\"][\"features\"][\"dslam\"][\"counters\"], datatype=types.LongType())\n",
    "df_snmp = change_data_type(df_snmp, cols_to_convert=config[\"data_gathering\"][\"features\"][\"snmp\"][\"measurements\"] + config[\"data_gathering\"][\"features\"][\"snmp\"][\"counters\"], datatype=types.LongType())\n",
    "df_acs = change_data_type(df_acs, cols_to_convert=config[\"data_gathering\"][\"features\"][\"acs\"][\"measurements\"] + config[\"data_gathering\"][\"features\"][\"acs\"][\"counters\"], datatype=types.LongType())\n",
    "df_acs = agg_acs_per_day(df_acs, config)\n",
    "df_dslam = agg_dslam_per_day(df_dslam, config)\n",
    "df_snmp = agg_snmp_per_day(df_snmp, config)     \n",
    "#df_tdm = agg_tdm_per_day(df_tdm, config)\n",
    "df_dslam =df_dslam.na.drop(subset=['dslam_assetid','dslam_datum'])\n",
    "df_snmp =df_snmp.na.drop(subset=['snmp_assetid','snmp_datum'])\n",
    "df_acs = df_acs.na.drop(subset=['acs_crm_assetId','acs_datum'])\n",
    "df_dslam = df_dslam.dropDuplicates(['dslam_assetid','dslam_datum'])\n",
    "df_snmp = df_snmp.dropDuplicates(['snmp_assetid','snmp_datum'])\n",
    "df_acs = df_acs.dropDuplicates(['acs_crm_assetId','acs_datum'])\n",
    "df_key = create_windowing_per_assetid(df, config)\n",
    "df = df_key.join(df_dslam, [(df_key.assetid == df_dslam.dslam_assetid) & (df_key.date == df_dslam.dslam_datum)], how='left')\n",
    "df = df.join(df_snmp, [(df.assetid == df_snmp.snmp_assetid) & (df.date == df_snmp.snmp_datum)], how='left')\n",
    "df = df.join(df_acs, [(df.assetid == df_acs.acs_crm_assetId) & (df.date == df_acs.acs_datum)], how='left')\n",
    "#df = df.join(df_tdm, ((df.assetid == df_tdm.lb_networkdeviceid) & (df.date == df_tdm.lb_eventdate)), how='left')\n",
    "df.write.parquet(\"hdfs://nameservicedev1//user/tsystems_kkeshore/sample_data.parquet\", mode=\"overwrite\")"
   ]
  },
  {
   "cell_type": "code",
   "execution_count": 7,
   "metadata": {},
   "outputs": [
    {
     "data": {
      "application/vnd.jupyter.widget-view+json": {
       "model_id": "",
       "version_major": 2,
       "version_minor": 0
      },
      "text/plain": [
       "FloatProgress(value=0.0, bar_style='info', description='Progress:', layout=Layout(height='25px', width='50%'),…"
      ]
     },
     "metadata": {},
     "output_type": "display_data"
    }
   ],
   "source": [
    "data = spark.read.parquet(\"hdfs://nameservicedev1//user/tsystems_kkeshore/sample_data.parquet\")"
   ]
  },
  {
   "cell_type": "code",
   "execution_count": 9,
   "metadata": {},
   "outputs": [
    {
     "data": {
      "application/vnd.jupyter.widget-view+json": {
       "model_id": "",
       "version_major": 2,
       "version_minor": 0
      },
      "text/plain": [
       "FloatProgress(value=0.0, bar_style='info', description='Progress:', layout=Layout(height='25px', width='50%'),…"
      ]
     },
     "metadata": {},
     "output_type": "display_data"
    }
   ],
   "source": [
    "data.coalesce(1).write.parquet(\"hdfs://nameservicedev1//user/tsystems_kkeshore/sample_data_coalesced.parquet\")"
   ]
  },
  {
   "cell_type": "code",
   "execution_count": 29,
   "metadata": {},
   "outputs": [
    {
     "data": {
      "application/vnd.jupyter.widget-view+json": {
       "model_id": "",
       "version_major": 2,
       "version_minor": 0
      },
      "text/plain": [
       "FloatProgress(value=0.0, bar_style='info', description='Progress:', layout=Layout(height='25px', width='50%'),…"
      ]
     },
     "metadata": {},
     "output_type": "display_data"
    },
    {
     "name": "stdout",
     "output_type": "stream",
     "text": [
      "+--------+----------+-------------+-----------+------------+---------------+-----------+---------------------------------+--------------------+--------------------+------------------------+------------------------+------------------+------------------+------------------------+------------------------+----------------+----------------+---------------------+---------------------+---------------+---------------+---------------+---------------+---------------+----------------+----------------+----------------+----------------+-----------------+-----------------+-----------------+-----------------+------------------+------------------+------------------+------------------+-----------+------------+----------+-----------+------------------+--------------+-----------------+---------------+---------+--------------------+----------------------+----------------------+-------------------------------+-------------------------+--------------------------+-------------------------+-----------------------+-------------------+-----------------------+------------------------------+-----------------------------+----------------------------+------------------------------+-------------------------+----------------------------+---------------------------+--------------------------+----------------------------+-----------------------+---------------------------+-----------------------------+----------------------------+------------------------------+-------------------------------------+-------------------------------+--------------------------------+-------------------------------+-------------------------+-------------------------+---------------------+---------------------+---------------------+\n",
      "| assetid|      date|dslam_assetid|dslam_datum|dslam_servis|dslam_platforma|dslam_model|dslam_code_of_dominant_modulation|dslam_avg_bitrate_us|dslam_avg_bitrate_ds|dslam_avg_attenuation_ds|dslam_avg_attenuation_us|dslam_avg_power_us|dslam_avg_power_ds|dslam_avg_att_bitrate_us|dslam_avg_att_bitrate_ds|dslam_avg_snr_us|dslam_avg_snr_ds|dslam_avg_bandline_ds|dslam_avg_bandline_us|dslam_no_counts|dslam_sum_cv_us|dslam_sum_cv_ds|dslam_sum_es_ds|dslam_sum_es_us|dslam_sum_ses_ds|dslam_sum_ses_us|dslam_sum_fec_ds|dslam_sum_fec_us|dslam_count_cv_us|dslam_count_cv_ds|dslam_count_es_ds|dslam_count_es_us|dslam_count_ses_ds|dslam_count_ses_us|dslam_count_fec_ds|dslam_count_fec_us|dslam_inits|snmp_assetid|snmp_datum|snmp_servis|snmp_no_lossoflink|snmp_no_linkup|snmp_no_dyinggasp|acs_crm_assetId|acs_datum|acs_crm_productClass|acs_xdslline_dslUptime|acs_xdslline_cpeUptime|acs_xdslline_cpuUsagePercentage|acs_xdslline_freeMemoryKb|acs_xdslline_totalMemoryKb|acs_xdslline_usedMemoryKb|acs_xdslline_natCurrent|acs_xdslline_natMax|acs_xdslline_initErrors|acs_xdslline_downAttenuationDb|acs_xdslline_downCurrRateKbps|acs_xdslline_downMaxRateKbps|acs_xdslline_downNoiseMarginDb|acs_xdslline_downPowerDbm|acs_xdslline_upAttenuationDb|acs_xdslline_upCurrRateKbps|acs_xdslline_upMaxRateKbps|acs_xdslline_upNoiseMarginDb|acs_xdslline_upPowerDbm|acs_xdslline_cellDelinDelta|acs_xdslline_erroredSecsDelta|acs_xdslline_initErrorsDelta|acs_xdslline_initTimeoutsDelta|acs_xdslline_severelyErroredSecsDelta|acs_xdslline_lossOfFramingDelta|acs_xdslline_transmitBlocksDelta|acs_xdslline_receiveBlocksDelta|acs_xdslline_atucfecdelta|acs_xdslline_atuchecdelta|acs_xdslline_crcdelta|acs_xdslline_fecdelta|acs_xdslline_hecdelta|\n",
      "+--------+----------+-------------+-----------+------------+---------------+-----------+---------------------------------+--------------------+--------------------+------------------------+------------------------+------------------+------------------+------------------------+------------------------+----------------+----------------+---------------------+---------------------+---------------+---------------+---------------+---------------+---------------+----------------+----------------+----------------+----------------+-----------------+-----------------+-----------------+-----------------+------------------+------------------+------------------+------------------+-----------+------------+----------+-----------+------------------+--------------+-----------------+---------------+---------+--------------------+----------------------+----------------------+-------------------------------+-------------------------+--------------------------+-------------------------+-----------------------+-------------------+-----------------------+------------------------------+-----------------------------+----------------------------+------------------------------+-------------------------+----------------------------+---------------------------+--------------------------+----------------------------+-----------------------+---------------------------+-----------------------------+----------------------------+------------------------------+-------------------------------------+-------------------------------+--------------------------------+-------------------------------+-------------------------+-------------------------+---------------------+---------------------+---------------------+\n",
      "|31102439|2020-04-15|         null|       null|        null|           null|       null|                             null|                null|                null|                    null|                    null|              null|              null|                    null|                    null|            null|            null|                 null|                 null|           null|           null|           null|           null|           null|            null|            null|            null|            null|             null|             null|             null|             null|              null|              null|              null|              null|       null|        null|      null|       null|              null|          null|             null|           null|     null|                null|                  null|                  null|                           null|                     null|                      null|                     null|                   null|               null|                   null|                          null|                         null|                        null|                          null|                     null|                        null|                       null|                      null|                        null|                   null|                       null|                         null|                        null|                          null|                                 null|                           null|                            null|                           null|                     null|                     null|                 null|                 null|                 null|\n",
      "|31102439|2020-04-07|         null|       null|        null|           null|       null|                             null|                null|                null|                    null|                    null|              null|              null|                    null|                    null|            null|            null|                 null|                 null|           null|           null|           null|           null|           null|            null|            null|            null|            null|             null|             null|             null|             null|              null|              null|              null|              null|       null|        null|      null|       null|              null|          null|             null|           null|     null|                null|                  null|                  null|                           null|                     null|                      null|                     null|                   null|               null|                   null|                          null|                         null|                        null|                          null|                     null|                        null|                       null|                      null|                        null|                   null|                       null|                         null|                        null|                          null|                                 null|                           null|                            null|                           null|                     null|                     null|                 null|                 null|                 null|\n",
      "|31102439|2020-04-26|         null|       null|        null|           null|       null|                             null|                null|                null|                    null|                    null|              null|              null|                    null|                    null|            null|            null|                 null|                 null|           null|           null|           null|           null|           null|            null|            null|            null|            null|             null|             null|             null|             null|              null|              null|              null|              null|       null|        null|      null|       null|              null|          null|             null|           null|     null|                null|                  null|                  null|                           null|                     null|                      null|                     null|                   null|               null|                   null|                          null|                         null|                        null|                          null|                     null|                        null|                       null|                      null|                        null|                   null|                       null|                         null|                        null|                          null|                                 null|                           null|                            null|                           null|                     null|                     null|                 null|                 null|                 null|\n",
      "|31102439|2020-04-03|         null|       null|        null|           null|       null|                             null|                null|                null|                    null|                    null|              null|              null|                    null|                    null|            null|            null|                 null|                 null|           null|           null|           null|           null|           null|            null|            null|            null|            null|             null|             null|             null|             null|              null|              null|              null|              null|       null|        null|      null|       null|              null|          null|             null|           null|     null|                null|                  null|                  null|                           null|                     null|                      null|                     null|                   null|               null|                   null|                          null|                         null|                        null|                          null|                     null|                        null|                       null|                      null|                        null|                   null|                       null|                         null|                        null|                          null|                                 null|                           null|                            null|                           null|                     null|                     null|                 null|                 null|                 null|\n",
      "|31102439|2020-04-13|         null|       null|        null|           null|       null|                             null|                null|                null|                    null|                    null|              null|              null|                    null|                    null|            null|            null|                 null|                 null|           null|           null|           null|           null|           null|            null|            null|            null|            null|             null|             null|             null|             null|              null|              null|              null|              null|       null|        null|      null|       null|              null|          null|             null|           null|     null|                null|                  null|                  null|                           null|                     null|                      null|                     null|                   null|               null|                   null|                          null|                         null|                        null|                          null|                     null|                        null|                       null|                      null|                        null|                   null|                       null|                         null|                        null|                          null|                                 null|                           null|                            null|                           null|                     null|                     null|                 null|                 null|                 null|\n",
      "|31102439|2020-04-11|         null|       null|        null|           null|       null|                             null|                null|                null|                    null|                    null|              null|              null|                    null|                    null|            null|            null|                 null|                 null|           null|           null|           null|           null|           null|            null|            null|            null|            null|             null|             null|             null|             null|              null|              null|              null|              null|       null|        null|      null|       null|              null|          null|             null|           null|     null|                null|                  null|                  null|                           null|                     null|                      null|                     null|                   null|               null|                   null|                          null|                         null|                        null|                          null|                     null|                        null|                       null|                      null|                        null|                   null|                       null|                         null|                        null|                          null|                                 null|                           null|                            null|                           null|                     null|                     null|                 null|                 null|                 null|\n",
      "|31102439|2020-04-08|         null|       null|        null|           null|       null|                             null|                null|                null|                    null|                    null|              null|              null|                    null|                    null|            null|            null|                 null|                 null|           null|           null|           null|           null|           null|            null|            null|            null|            null|             null|             null|             null|             null|              null|              null|              null|              null|       null|        null|      null|       null|              null|          null|             null|           null|     null|                null|                  null|                  null|                           null|                     null|                      null|                     null|                   null|               null|                   null|                          null|                         null|                        null|                          null|                     null|                        null|                       null|                      null|                        null|                   null|                       null|                         null|                        null|                          null|                                 null|                           null|                            null|                           null|                     null|                     null|                 null|                 null|                 null|\n",
      "|31102439|2020-04-17|         null|       null|        null|           null|       null|                             null|                null|                null|                    null|                    null|              null|              null|                    null|                    null|            null|            null|                 null|                 null|           null|           null|           null|           null|           null|            null|            null|            null|            null|             null|             null|             null|             null|              null|              null|              null|              null|       null|        null|      null|       null|              null|          null|             null|           null|     null|                null|                  null|                  null|                           null|                     null|                      null|                     null|                   null|               null|                   null|                          null|                         null|                        null|                          null|                     null|                        null|                       null|                      null|                        null|                   null|                       null|                         null|                        null|                          null|                                 null|                           null|                            null|                           null|                     null|                     null|                 null|                 null|                 null|\n",
      "|31102439|2020-04-28|         null|       null|        null|           null|       null|                             null|                null|                null|                    null|                    null|              null|              null|                    null|                    null|            null|            null|                 null|                 null|           null|           null|           null|           null|           null|            null|            null|            null|            null|             null|             null|             null|             null|              null|              null|              null|              null|       null|        null|      null|       null|              null|          null|             null|           null|     null|                null|                  null|                  null|                           null|                     null|                      null|                     null|                   null|               null|                   null|                          null|                         null|                        null|                          null|                     null|                        null|                       null|                      null|                        null|                   null|                       null|                         null|                        null|                          null|                                 null|                           null|                            null|                           null|                     null|                     null|                 null|                 null|                 null|\n",
      "|31102439|2020-04-14|         null|       null|        null|           null|       null|                             null|                null|                null|                    null|                    null|              null|              null|                    null|                    null|            null|            null|                 null|                 null|           null|           null|           null|           null|           null|            null|            null|            null|            null|             null|             null|             null|             null|              null|              null|              null|              null|       null|        null|      null|       null|              null|          null|             null|           null|     null|                null|                  null|                  null|                           null|                     null|                      null|                     null|                   null|               null|                   null|                          null|                         null|                        null|                          null|                     null|                        null|                       null|                      null|                        null|                   null|                       null|                         null|                        null|                          null|                                 null|                           null|                            null|                           null|                     null|                     null|                 null|                 null|                 null|\n",
      "|31102439|2020-04-01|         null|       null|        null|           null|       null|                             null|                null|                null|                    null|                    null|              null|              null|                    null|                    null|            null|            null|                 null|                 null|           null|           null|           null|           null|           null|            null|            null|            null|            null|             null|             null|             null|             null|              null|              null|              null|              null|       null|        null|      null|       null|              null|          null|             null|           null|     null|                null|                  null|                  null|                           null|                     null|                      null|                     null|                   null|               null|                   null|                          null|                         null|                        null|                          null|                     null|                        null|                       null|                      null|                        null|                   null|                       null|                         null|                        null|                          null|                                 null|                           null|                            null|                           null|                     null|                     null|                 null|                 null|                 null|\n",
      "|31102439|2020-04-27|         null|       null|        null|           null|       null|                             null|                null|                null|                    null|                    null|              null|              null|                    null|                    null|            null|            null|                 null|                 null|           null|           null|           null|           null|           null|            null|            null|            null|            null|             null|             null|             null|             null|              null|              null|              null|              null|       null|        null|      null|       null|              null|          null|             null|           null|     null|                null|                  null|                  null|                           null|                     null|                      null|                     null|                   null|               null|                   null|                          null|                         null|                        null|                          null|                     null|                        null|                       null|                      null|                        null|                   null|                       null|                         null|                        null|                          null|                                 null|                           null|                            null|                           null|                     null|                     null|                 null|                 null|                 null|\n",
      "|31102439|2020-04-20|         null|       null|        null|           null|       null|                             null|                null|                null|                    null|                    null|              null|              null|                    null|                    null|            null|            null|                 null|                 null|           null|           null|           null|           null|           null|            null|            null|            null|            null|             null|             null|             null|             null|              null|              null|              null|              null|       null|        null|      null|       null|              null|          null|             null|           null|     null|                null|                  null|                  null|                           null|                     null|                      null|                     null|                   null|               null|                   null|                          null|                         null|                        null|                          null|                     null|                        null|                       null|                      null|                        null|                   null|                       null|                         null|                        null|                          null|                                 null|                           null|                            null|                           null|                     null|                     null|                 null|                 null|                 null|\n",
      "|31102439|2020-04-09|         null|       null|        null|           null|       null|                             null|                null|                null|                    null|                    null|              null|              null|                    null|                    null|            null|            null|                 null|                 null|           null|           null|           null|           null|           null|            null|            null|            null|            null|             null|             null|             null|             null|              null|              null|              null|              null|       null|        null|      null|       null|              null|          null|             null|           null|     null|                null|                  null|                  null|                           null|                     null|                      null|                     null|                   null|               null|                   null|                          null|                         null|                        null|                          null|                     null|                        null|                       null|                      null|                        null|                   null|                       null|                         null|                        null|                          null|                                 null|                           null|                            null|                           null|                     null|                     null|                 null|                 null|                 null|\n",
      "|31102439|2020-04-06|         null|       null|        null|           null|       null|                             null|                null|                null|                    null|                    null|              null|              null|                    null|                    null|            null|            null|                 null|                 null|           null|           null|           null|           null|           null|            null|            null|            null|            null|             null|             null|             null|             null|              null|              null|              null|              null|       null|        null|      null|       null|              null|          null|             null|           null|     null|                null|                  null|                  null|                           null|                     null|                      null|                     null|                   null|               null|                   null|                          null|                         null|                        null|                          null|                     null|                        null|                       null|                      null|                        null|                   null|                       null|                         null|                        null|                          null|                                 null|                           null|                            null|                           null|                     null|                     null|                 null|                 null|                 null|\n",
      "|31102439|2020-05-02|         null|       null|        null|           null|       null|                             null|                null|                null|                    null|                    null|              null|              null|                    null|                    null|            null|            null|                 null|                 null|           null|           null|           null|           null|           null|            null|            null|            null|            null|             null|             null|             null|             null|              null|              null|              null|              null|       null|        null|      null|       null|              null|          null|             null|           null|     null|                null|                  null|                  null|                           null|                     null|                      null|                     null|                   null|               null|                   null|                          null|                         null|                        null|                          null|                     null|                        null|                       null|                      null|                        null|                   null|                       null|                         null|                        null|                          null|                                 null|                           null|                            null|                           null|                     null|                     null|                 null|                 null|                 null|\n",
      "|31102439|2020-05-03|         null|       null|        null|           null|       null|                             null|                null|                null|                    null|                    null|              null|              null|                    null|                    null|            null|            null|                 null|                 null|           null|           null|           null|           null|           null|            null|            null|            null|            null|             null|             null|             null|             null|              null|              null|              null|              null|       null|        null|      null|       null|              null|          null|             null|           null|     null|                null|                  null|                  null|                           null|                     null|                      null|                     null|                   null|               null|                   null|                          null|                         null|                        null|                          null|                     null|                        null|                       null|                      null|                        null|                   null|                       null|                         null|                        null|                          null|                                 null|                           null|                            null|                           null|                     null|                     null|                 null|                 null|                 null|\n",
      "|31102439|2020-05-01|         null|       null|        null|           null|       null|                             null|                null|                null|                    null|                    null|              null|              null|                    null|                    null|            null|            null|                 null|                 null|           null|           null|           null|           null|           null|            null|            null|            null|            null|             null|             null|             null|             null|              null|              null|              null|              null|       null|        null|      null|       null|              null|          null|             null|           null|     null|                null|                  null|                  null|                           null|                     null|                      null|                     null|                   null|               null|                   null|                          null|                         null|                        null|                          null|                     null|                        null|                       null|                      null|                        null|                   null|                       null|                         null|                        null|                          null|                                 null|                           null|                            null|                           null|                     null|                     null|                 null|                 null|                 null|\n",
      "|31102439|2020-04-24|         null|       null|        null|           null|       null|                             null|                null|                null|                    null|                    null|              null|              null|                    null|                    null|            null|            null|                 null|                 null|           null|           null|           null|           null|           null|            null|            null|            null|            null|             null|             null|             null|             null|              null|              null|              null|              null|       null|        null|      null|       null|              null|          null|             null|           null|     null|                null|                  null|                  null|                           null|                     null|                      null|                     null|                   null|               null|                   null|                          null|                         null|                        null|                          null|                     null|                        null|                       null|                      null|                        null|                   null|                       null|                         null|                        null|                          null|                                 null|                           null|                            null|                           null|                     null|                     null|                 null|                 null|                 null|\n",
      "|31102439|2020-04-02|         null|       null|        null|           null|       null|                             null|                null|                null|                    null|                    null|              null|              null|                    null|                    null|            null|            null|                 null|                 null|           null|           null|           null|           null|           null|            null|            null|            null|            null|             null|             null|             null|             null|              null|              null|              null|              null|       null|        null|      null|       null|              null|          null|             null|           null|     null|                null|                  null|                  null|                           null|                     null|                      null|                     null|                   null|               null|                   null|                          null|                         null|                        null|                          null|                     null|                        null|                       null|                      null|                        null|                   null|                       null|                         null|                        null|                          null|                                 null|                           null|                            null|                           null|                     null|                     null|                 null|                 null|                 null|\n",
      "|31102439|2020-04-05|         null|       null|        null|           null|       null|                             null|                null|                null|                    null|                    null|              null|              null|                    null|                    null|            null|            null|                 null|                 null|           null|           null|           null|           null|           null|            null|            null|            null|            null|             null|             null|             null|             null|              null|              null|              null|              null|       null|        null|      null|       null|              null|          null|             null|           null|     null|                null|                  null|                  null|                           null|                     null|                      null|                     null|                   null|               null|                   null|                          null|                         null|                        null|                          null|                     null|                        null|                       null|                      null|                        null|                   null|                       null|                         null|                        null|                          null|                                 null|                           null|                            null|                           null|                     null|                     null|                 null|                 null|                 null|\n",
      "|31102439|2020-04-16|         null|       null|        null|           null|       null|                             null|                null|                null|                    null|                    null|              null|              null|                    null|                    null|            null|            null|                 null|                 null|           null|           null|           null|           null|           null|            null|            null|            null|            null|             null|             null|             null|             null|              null|              null|              null|              null|       null|        null|      null|       null|              null|          null|             null|           null|     null|                null|                  null|                  null|                           null|                     null|                      null|                     null|                   null|               null|                   null|                          null|                         null|                        null|                          null|                     null|                        null|                       null|                      null|                        null|                   null|                       null|                         null|                        null|                          null|                                 null|                           null|                            null|                           null|                     null|                     null|                 null|                 null|                 null|\n",
      "|31102439|2020-04-18|         null|       null|        null|           null|       null|                             null|                null|                null|                    null|                    null|              null|              null|                    null|                    null|            null|            null|                 null|                 null|           null|           null|           null|           null|           null|            null|            null|            null|            null|             null|             null|             null|             null|              null|              null|              null|              null|       null|        null|      null|       null|              null|          null|             null|           null|     null|                null|                  null|                  null|                           null|                     null|                      null|                     null|                   null|               null|                   null|                          null|                         null|                        null|                          null|                     null|                        null|                       null|                      null|                        null|                   null|                       null|                         null|                        null|                          null|                                 null|                           null|                            null|                           null|                     null|                     null|                 null|                 null|                 null|\n",
      "|31102439|2020-04-19|         null|       null|        null|           null|       null|                             null|                null|                null|                    null|                    null|              null|              null|                    null|                    null|            null|            null|                 null|                 null|           null|           null|           null|           null|           null|            null|            null|            null|            null|             null|             null|             null|             null|              null|              null|              null|              null|       null|        null|      null|       null|              null|          null|             null|           null|     null|                null|                  null|                  null|                           null|                     null|                      null|                     null|                   null|               null|                   null|                          null|                         null|                        null|                          null|                     null|                        null|                       null|                      null|                        null|                   null|                       null|                         null|                        null|                          null|                                 null|                           null|                            null|                           null|                     null|                     null|                 null|                 null|                 null|\n",
      "|31102439|2020-04-21|         null|       null|        null|           null|       null|                             null|                null|                null|                    null|                    null|              null|              null|                    null|                    null|            null|            null|                 null|                 null|           null|           null|           null|           null|           null|            null|            null|            null|            null|             null|             null|             null|             null|              null|              null|              null|              null|       null|        null|      null|       null|              null|          null|             null|           null|     null|                null|                  null|                  null|                           null|                     null|                      null|                     null|                   null|               null|                   null|                          null|                         null|                        null|                          null|                     null|                        null|                       null|                      null|                        null|                   null|                       null|                         null|                        null|                          null|                                 null|                           null|                            null|                           null|                     null|                     null|                 null|                 null|                 null|\n",
      "|31102439|2020-04-10|         null|       null|        null|           null|       null|                             null|                null|                null|                    null|                    null|              null|              null|                    null|                    null|            null|            null|                 null|                 null|           null|           null|           null|           null|           null|            null|            null|            null|            null|             null|             null|             null|             null|              null|              null|              null|              null|       null|        null|      null|       null|              null|          null|             null|           null|     null|                null|                  null|                  null|                           null|                     null|                      null|                     null|                   null|               null|                   null|                          null|                         null|                        null|                          null|                     null|                        null|                       null|                      null|                        null|                   null|                       null|                         null|                        null|                          null|                                 null|                           null|                            null|                           null|                     null|                     null|                 null|                 null|                 null|\n",
      "|31102439|2020-04-22|         null|       null|        null|           null|       null|                             null|                null|                null|                    null|                    null|              null|              null|                    null|                    null|            null|            null|                 null|                 null|           null|           null|           null|           null|           null|            null|            null|            null|            null|             null|             null|             null|             null|              null|              null|              null|              null|       null|        null|      null|       null|              null|          null|             null|           null|     null|                null|                  null|                  null|                           null|                     null|                      null|                     null|                   null|               null|                   null|                          null|                         null|                        null|                          null|                     null|                        null|                       null|                      null|                        null|                   null|                       null|                         null|                        null|                          null|                                 null|                           null|                            null|                           null|                     null|                     null|                 null|                 null|                 null|\n",
      "|31102439|2020-04-23|         null|       null|        null|           null|       null|                             null|                null|                null|                    null|                    null|              null|              null|                    null|                    null|            null|            null|                 null|                 null|           null|           null|           null|           null|           null|            null|            null|            null|            null|             null|             null|             null|             null|              null|              null|              null|              null|       null|        null|      null|       null|              null|          null|             null|           null|     null|                null|                  null|                  null|                           null|                     null|                      null|                     null|                   null|               null|                   null|                          null|                         null|                        null|                          null|                     null|                        null|                       null|                      null|                        null|                   null|                       null|                         null|                        null|                          null|                                 null|                           null|                            null|                           null|                     null|                     null|                 null|                 null|                 null|\n",
      "|31102439|2020-04-29|         null|       null|        null|           null|       null|                             null|                null|                null|                    null|                    null|              null|              null|                    null|                    null|            null|            null|                 null|                 null|           null|           null|           null|           null|           null|            null|            null|            null|            null|             null|             null|             null|             null|              null|              null|              null|              null|       null|        null|      null|       null|              null|          null|             null|           null|     null|                null|                  null|                  null|                           null|                     null|                      null|                     null|                   null|               null|                   null|                          null|                         null|                        null|                          null|                     null|                        null|                       null|                      null|                        null|                   null|                       null|                         null|                        null|                          null|                                 null|                           null|                            null|                           null|                     null|                     null|                 null|                 null|                 null|\n",
      "|31102439|2020-04-25|         null|       null|        null|           null|       null|                             null|                null|                null|                    null|                    null|              null|              null|                    null|                    null|            null|            null|                 null|                 null|           null|           null|           null|           null|           null|            null|            null|            null|            null|             null|             null|             null|             null|              null|              null|              null|              null|       null|        null|      null|       null|              null|          null|             null|           null|     null|                null|                  null|                  null|                           null|                     null|                      null|                     null|                   null|               null|                   null|                          null|                         null|                        null|                          null|                     null|                        null|                       null|                      null|                        null|                   null|                       null|                         null|                        null|                          null|                                 null|                           null|                            null|                           null|                     null|                     null|                 null|                 null|                 null|\n",
      "|31102439|2020-04-04|         null|       null|        null|           null|       null|                             null|                null|                null|                    null|                    null|              null|              null|                    null|                    null|            null|            null|                 null|                 null|           null|           null|           null|           null|           null|            null|            null|            null|            null|             null|             null|             null|             null|              null|              null|              null|              null|       null|        null|      null|       null|              null|          null|             null|           null|     null|                null|                  null|                  null|                           null|                     null|                      null|                     null|                   null|               null|                   null|                          null|                         null|                        null|                          null|                     null|                        null|                       null|                      null|                        null|                   null|                       null|                         null|                        null|                          null|                                 null|                           null|                            null|                           null|                     null|                     null|                 null|                 null|                 null|\n",
      "|31102439|2020-04-12|         null|       null|        null|           null|       null|                             null|                null|                null|                    null|                    null|              null|              null|                    null|                    null|            null|            null|                 null|                 null|           null|           null|           null|           null|           null|            null|            null|            null|            null|             null|             null|             null|             null|              null|              null|              null|              null|       null|        null|      null|       null|              null|          null|             null|           null|     null|                null|                  null|                  null|                           null|                     null|                      null|                     null|                   null|               null|                   null|                          null|                         null|                        null|                          null|                     null|                        null|                       null|                      null|                        null|                   null|                       null|                         null|                        null|                          null|                                 null|                           null|                            null|                           null|                     null|                     null|                 null|                 null|                 null|\n",
      "|31102439|2020-04-30|         null|       null|        null|           null|       null|                             null|                null|                null|                    null|                    null|              null|              null|                    null|                    null|            null|            null|                 null|                 null|           null|           null|           null|           null|           null|            null|            null|            null|            null|             null|             null|             null|             null|              null|              null|              null|              null|       null|        null|      null|       null|              null|          null|             null|           null|     null|                null|                  null|                  null|                           null|                     null|                      null|                     null|                   null|               null|                   null|                          null|                         null|                        null|                          null|                     null|                        null|                       null|                      null|                        null|                   null|                       null|                         null|                        null|                          null|                                 null|                           null|                            null|                           null|                     null|                     null|                 null|                 null|                 null|\n",
      "+--------+----------+-------------+-----------+------------+---------------+-----------+---------------------------------+--------------------+--------------------+------------------------+------------------------+------------------+------------------+------------------------+------------------------+----------------+----------------+---------------------+---------------------+---------------+---------------+---------------+---------------+---------------+----------------+----------------+----------------+----------------+-----------------+-----------------+-----------------+-----------------+------------------+------------------+------------------+------------------+-----------+------------+----------+-----------+------------------+--------------+-----------------+---------------+---------+--------------------+----------------------+----------------------+-------------------------------+-------------------------+--------------------------+-------------------------+-----------------------+-------------------+-----------------------+------------------------------+-----------------------------+----------------------------+------------------------------+-------------------------+----------------------------+---------------------------+--------------------------+----------------------------+-----------------------+---------------------------+-----------------------------+----------------------------+------------------------------+-------------------------------------+-------------------------------+--------------------------------+-------------------------------+-------------------------+-------------------------+---------------------+---------------------+---------------------+"
     ]
    }
   ],
   "source": [
    "data[data['assetid'] == 31102439].show(100)"
   ]
  },
  {
   "cell_type": "code",
   "execution_count": 21,
   "metadata": {},
   "outputs": [
    {
     "data": {
      "application/vnd.jupyter.widget-view+json": {
       "model_id": "",
       "version_major": 2,
       "version_minor": 0
      },
      "text/plain": [
       "FloatProgress(value=0.0, bar_style='info', description='Progress:', layout=Layout(height='25px', width='50%'),…"
      ]
     },
     "metadata": {},
     "output_type": "display_data"
    },
    {
     "name": "stdout",
     "output_type": "stream",
     "text": [
      "+---------+-----+\n",
      "|  assetid|count|\n",
      "+---------+-----+\n",
      "|104806498|   15|\n",
      "|107119604|   22|\n",
      "|108014473|   33|\n",
      "|109440723|   15|\n",
      "|111299703|   26|\n",
      "| 18173458|   17|\n",
      "| 27370063|   33|\n",
      "| 31102439|   33|\n",
      "| 33447491|   21|\n",
      "| 35792484|   13|\n",
      "| 37050266|   18|\n",
      "| 37367702|    9|\n",
      "| 43346596|   27|\n",
      "| 46345615|   33|\n",
      "| 46625676|    1|\n",
      "| 47087068|   17|\n",
      "| 48647794|   11|\n",
      "| 48705979|   23|\n",
      "| 48979630|   15|\n",
      "| 54987910|   21|\n",
      "+---------+-----+\n",
      "only showing top 20 rows"
     ]
    }
   ],
   "source": [
    "data[data['dslam_assetid'].isNull()].groupby('assetid').count().show()"
   ]
  },
  {
   "cell_type": "code",
   "execution_count": 26,
   "metadata": {},
   "outputs": [
    {
     "data": {
      "application/vnd.jupyter.widget-view+json": {
       "model_id": "",
       "version_major": 2,
       "version_minor": 0
      },
      "text/plain": [
       "FloatProgress(value=0.0, bar_style='info', description='Progress:', layout=Layout(height='25px', width='50%'),…"
      ]
     },
     "metadata": {},
     "output_type": "display_data"
    }
   ],
   "source": [
    "df_tickets = spark.read.parquet(\"hdfs://nameservicedev1//user/tsystems_vkumar/dsl_tickets/dsl_tkts_all_lvls_uniq_n.parquet\")"
   ]
  },
  {
   "cell_type": "code",
   "execution_count": 28,
   "metadata": {},
   "outputs": [
    {
     "data": {
      "application/vnd.jupyter.widget-view+json": {
       "model_id": "",
       "version_major": 2,
       "version_minor": 0
      },
      "text/plain": [
       "FloatProgress(value=0.0, bar_style='info', description='Progress:', layout=Layout(height='25px', width='50%'),…"
      ]
     },
     "metadata": {},
     "output_type": "display_data"
    },
    {
     "name": "stdout",
     "output_type": "stream",
     "text": [
      "+--------+-------------+-------------------+-----+\n",
      "| assetid|incident_date|              label|level|\n",
      "+--------+-------------+-------------------+-----+\n",
      "|31102439|   2020-05-04|DSL synchronization|    3|\n",
      "+--------+-------------+-------------------+-----+"
     ]
    }
   ],
   "source": [
    "df_tickets[df_tickets['assetid'] == 31102439].show()"
   ]
  },
  {
   "cell_type": "code",
   "execution_count": 36,
   "metadata": {},
   "outputs": [
    {
     "data": {
      "application/vnd.jupyter.widget-view+json": {
       "model_id": "",
       "version_major": 2,
       "version_minor": 0
      },
      "text/plain": [
       "FloatProgress(value=0.0, bar_style='info', description='Progress:', layout=Layout(height='25px', width='50%'),…"
      ]
     },
     "metadata": {},
     "output_type": "display_data"
    }
   ],
   "source": [
    "def data_import(database, table, spark):\n",
    "    df = spark.sql(\"select * from {0}.{1}\".format(database, table))\n",
    "    return df"
   ]
  },
  {
   "cell_type": "code",
   "execution_count": 37,
   "metadata": {},
   "outputs": [
    {
     "data": {
      "application/vnd.jupyter.widget-view+json": {
       "model_id": "",
       "version_major": 2,
       "version_minor": 0
      },
      "text/plain": [
       "FloatProgress(value=0.0, bar_style='info', description='Progress:', layout=Layout(height='25px', width='50%'),…"
      ]
     },
     "metadata": {},
     "output_type": "display_data"
    },
    {
     "name": "stdout",
     "output_type": "stream",
     "text": [
      "Total distinct AssetIds: 107315"
     ]
    }
   ],
   "source": [
    "df = spark.read.parquet(\"hdfs://nameservicedev1//user/tsystems_vkumar/dsl_tickets/dsl_tkts_all_lvls_uniq_n.parquet\")\n",
    "print(\"Total distinct AssetIds: {}\".format(df[['assetid']].distinct().count()))"
   ]
  },
  {
   "cell_type": "code",
   "execution_count": 38,
   "metadata": {},
   "outputs": [
    {
     "data": {
      "application/vnd.jupyter.widget-view+json": {
       "model_id": "",
       "version_major": 2,
       "version_minor": 0
      },
      "text/plain": [
       "FloatProgress(value=0.0, bar_style='info', description='Progress:', layout=Layout(height='25px', width='50%'),…"
      ]
     },
     "metadata": {},
     "output_type": "display_data"
    },
    {
     "name": "stdout",
     "output_type": "stream",
     "text": [
      "107315"
     ]
    }
   ],
   "source": [
    "df_dslam = data_import('cdl_blos', 'pol_day_aggregation', spark)\n",
    "df.join(df_dslam, on = ['assetid'], how = 'inner')[['assetid']].distinct().count()"
   ]
  },
  {
   "cell_type": "code",
   "execution_count": 39,
   "metadata": {},
   "outputs": [
    {
     "data": {
      "application/vnd.jupyter.widget-view+json": {
       "model_id": "",
       "version_major": 2,
       "version_minor": 0
      },
      "text/plain": [
       "FloatProgress(value=0.0, bar_style='info', description='Progress:', layout=Layout(height='25px', width='50%'),…"
      ]
     },
     "metadata": {},
     "output_type": "display_data"
    },
    {
     "name": "stdout",
     "output_type": "stream",
     "text": [
      "107285"
     ]
    }
   ],
   "source": [
    "df_snmp = data_import('cdl_blos', 'snmp_traps_agg', spark) #per day\n",
    "df.join(df_snmp, on = ['assetid'], how = 'inner')[['assetid']].distinct().count()"
   ]
  },
  {
   "cell_type": "code",
   "execution_count": 40,
   "metadata": {},
   "outputs": [
    {
     "data": {
      "application/vnd.jupyter.widget-view+json": {
       "model_id": "",
       "version_major": 2,
       "version_minor": 0
      },
      "text/plain": [
       "FloatProgress(value=0.0, bar_style='info', description='Progress:', layout=Layout(height='25px', width='50%'),…"
      ]
     },
     "metadata": {},
     "output_type": "display_data"
    },
    {
     "name": "stdout",
     "output_type": "stream",
     "text": [
      "104887"
     ]
    }
   ],
   "source": [
    "df_acs = flatten_df(data_import('cdl_acscoll', 'cdl_acscoll_xdsl_line_prq', spark))\n",
    "df.join(df_acs, on = (df_acs['crm_assetId'] == df['assetid']), how = 'inner')[['assetid']].distinct().count()"
   ]
  },
  {
   "cell_type": "code",
   "execution_count": null,
   "metadata": {},
   "outputs": [],
   "source": []
  },
  {
   "cell_type": "code",
   "execution_count": null,
   "metadata": {},
   "outputs": [],
   "source": []
  },
  {
   "cell_type": "code",
   "execution_count": null,
   "metadata": {},
   "outputs": [],
   "source": []
  },
  {
   "cell_type": "code",
   "execution_count": null,
   "metadata": {},
   "outputs": [],
   "source": []
  },
  {
   "cell_type": "code",
   "execution_count": null,
   "metadata": {},
   "outputs": [],
   "source": []
  },
  {
   "cell_type": "code",
   "execution_count": null,
   "metadata": {},
   "outputs": [],
   "source": []
  },
  {
   "cell_type": "code",
   "execution_count": 17,
   "metadata": {},
   "outputs": [
    {
     "data": {
      "application/vnd.jupyter.widget-view+json": {
       "model_id": "",
       "version_major": 2,
       "version_minor": 0
      },
      "text/plain": [
       "FloatProgress(value=0.0, bar_style='info', description='Progress:', layout=Layout(height='25px', width='50%'),…"
      ]
     },
     "metadata": {},
     "output_type": "display_data"
    },
    {
     "name": "stdout",
     "output_type": "stream",
     "text": [
      "+--------+\n",
      "| assetid|\n",
      "+--------+\n",
      "|33442319|\n",
      "|48843620|\n",
      "|48954125|\n",
      "|33445142|\n",
      "| 2883935|\n",
      "+--------+"
     ]
    }
   ],
   "source": [
    "data[['assetid']].distinct().show()"
   ]
  },
  {
   "cell_type": "code",
   "execution_count": null,
   "metadata": {},
   "outputs": [],
   "source": []
  },
  {
   "cell_type": "code",
   "execution_count": null,
   "metadata": {},
   "outputs": [],
   "source": []
  },
  {
   "cell_type": "code",
   "execution_count": 6,
   "metadata": {},
   "outputs": [
    {
     "data": {
      "application/vnd.jupyter.widget-view+json": {
       "model_id": "",
       "version_major": 2,
       "version_minor": 0
      },
      "text/plain": [
       "FloatProgress(value=0.0, bar_style='info', description='Progress:', layout=Layout(height='25px', width='50%'),…"
      ]
     },
     "metadata": {},
     "output_type": "display_data"
    }
   ],
   "source": [
    "def gather_data (df, config, spark):\n",
    "    \"\"\"This Funtion gather the relevant information from HDFS in the relevant time frame.\n",
    "    \n",
    "    Args:\n",
    "        df (dataframe): Output from pre filtering.\n",
    "        config (dict): Configuration file.\n",
    "        spark (obj): Spark session object.\n",
    "        \n",
    "    Returns:\n",
    "        dataframe :  spark dataframe with loaded data.\n",
    "    \n",
    "    \"\"\"\n",
    "    # loading data\n",
    "    df_dslam = data_import('cdl_blos', 'pol_day_aggregation', spark) #per day\n",
    "    df_snmp = data_import('cdl_blos', 'snmp_traps_agg', spark) #per day\n",
    "    df_acs = data_import('cdl_acscoll', 'cdl_acscoll_xdsl_line_prq', spark)# cat, mm, counter/delta\n",
    "    df_tdm = loading_tdm(config, spark) # Preprocess TDM data with aggregations\n",
    "    \n",
    "    #flattening acs\n",
    "    df_acs = flatten_df(df_acs)\n",
    "    #Renaming for conditional join\n",
    "    df_dslam = rename_cols(df_dslam, 'dslam_')\n",
    "    df_snmp = rename_cols(df_snmp, 'snmp_')\n",
    "    df_acs = rename_cols(df_acs, 'acs_')\n",
    "    #change data type \n",
    "    df_dslam = change_data_type(df_dslam, cols_to_convert=config[\"data_gathering\"][\"features\"][\"dslam\"][\"measurements\"] + config[\"data_gathering\"][\"features\"][\"dslam\"][\"counters\"], datatype=types.LongType())\n",
    "    df_snmp = change_data_type(df_snmp, cols_to_convert=config[\"data_gathering\"][\"features\"][\"snmp\"][\"measurements\"] + config[\"data_gathering\"][\"features\"][\"snmp\"][\"counters\"], datatype=types.LongType())\n",
    "    df_acs = change_data_type(df_acs, cols_to_convert=config[\"data_gathering\"][\"features\"][\"acs\"][\"measurements\"] + config[\"data_gathering\"][\"features\"][\"acs\"][\"counters\"], datatype=types.LongType())\n",
    "    #aggregating all tables fields\n",
    "    df_acs = agg_acs_per_day(df_acs, config)\n",
    "    df_dslam = agg_dslam_per_day(df_dslam, config)\n",
    "    df_snmp = agg_snmp_per_day(df_snmp, config)     \n",
    "    df_tdm = agg_tdm_per_day(df_tdm, config) # Lets aggregate the data in TDM table per day \n",
    "    \n",
    "    \n",
    "    #dropping missing keys\n",
    "    df_dslam =df_dslam.na.drop(subset=['dslam_assetid','dslam_datum'])\n",
    "    df_snmp =df_snmp.na.drop(subset=['snmp_assetid','snmp_datum'])\n",
    "    df_acs = df_acs.na.drop(subset=['acs_crm_assetId','acs_datum'])\n",
    "    \n",
    "    # Drop multiple samples per day\n",
    "    df_dslam = df_dslam.dropDuplicates(['dslam_assetid','dslam_datum'])\n",
    "    df_snmp = df_snmp.dropDuplicates(['snmp_assetid','snmp_datum'])\n",
    "    df_acs = df_acs.dropDuplicates(['acs_crm_assetId','acs_datum'])\n",
    "    \n",
    "    # create key\n",
    "    df_key = create_windowing_per_assetid(df, config)\n",
    "    \n",
    "    #Join\n",
    "    df = df_key.join(df_dslam, [(df_key.assetid == df_dslam.dslam_assetid) & (df_key.date == df_dslam.dslam_datum)], how='left')\n",
    "    df = df.join(df_snmp, [(df.assetid == df_snmp.snmp_assetid) & (df.date == df_snmp.snmp_datum)], how='left')\n",
    "    df = df.join(df_acs, [(df.assetid == df_acs.acs_crm_assetId) & (df.date == df_acs.acs_datum)], how='left')\n",
    "    df = df.join(df_tdm, ((df.assetid == df_tdm.lb_networkdeviceid) & (df.assetid == df_tdm.ub_networkdeviceid) & (df.date == df_tdm.lb_eventdate) & (df.date == df_tdm.ub_eventdate)), how='left')\n",
    "    \n",
    "    # We drop duplicate column and perform the renaming of columns\n",
    "    df = df.drop('dslam_assetid', 'acs_crm_assetId','acs_datum','snmp_assetid', 'snmp_datum', 'lb_networkdeviceid', 'ub_networkdeviceid')\n",
    "    df = df.withColumnRenamed('date','datum')\n",
    "    df = df.withColumnRenamed('acs_crm_serialnumber', 'cpe_serial_number')\n",
    "    \n",
    "    #Sorting by date\n",
    "    df = df.orderBy(['assetid', 'datum'], asc = True)\n",
    "    #df = df.withColumn(\"time_index\", counter from 1 to 32 per assetid)\n",
    "    \n",
    "    return df"
   ]
  },
  {
   "cell_type": "code",
   "execution_count": 7,
   "metadata": {},
   "outputs": [
    {
     "data": {
      "application/vnd.jupyter.widget-view+json": {
       "model_id": "",
       "version_major": 2,
       "version_minor": 0
      },
      "text/plain": [
       "FloatProgress(value=0.0, bar_style='info', description='Progress:', layout=Layout(height='25px', width='50%'),…"
      ]
     },
     "metadata": {},
     "output_type": "display_data"
    },
    {
     "name": "stdout",
     "output_type": "stream",
     "text": [
      "Starting Data gathering pipeline..\n",
      "Data gathering is finished and writing to HDFS..\n",
      "Writing to HDFS is finished and spark session is closing.."
     ]
    }
   ],
   "source": [
    "#def main(args):\n",
    "#    \"\"\"Main function\"\"\"\n",
    "    # start Spark application and get Spark session, logger and config\n",
    "spark = spark_init()\n",
    "config = config\n",
    "\n",
    "df = spark.read.parquet(config[\"path\"][\"prefiltering_output\"])#.limit(5)\n",
    "# log that main ETL job is starting\n",
    "print('Starting Data gathering pipeline..')\n",
    "df = gather_data (df, config, spark)\n",
    "# log the success and terminate Spark application\n",
    "print('Data gathering is finished and writing to HDFS..')\n",
    "df.write.parquet(config[\"path\"][\"datagathering_output\"], mode='overwrite')\n",
    "print('Writing to HDFS is finished and spark session is closing..')\n",
    "spark.stop()"
   ]
  },
  {
   "cell_type": "code",
   "execution_count": 6,
   "metadata": {},
   "outputs": [
    {
     "data": {
      "application/vnd.jupyter.widget-view+json": {
       "model_id": "",
       "version_major": 2,
       "version_minor": 0
      },
      "text/plain": [
       "FloatProgress(value=0.0, bar_style='info', description='Progress:', layout=Layout(height='25px', width='50%'),…"
      ]
     },
     "metadata": {},
     "output_type": "display_data"
    }
   ],
   "source": [
    "spark.read.parquet(config[\"path\"][\"datagathering_output\"]).coalesce(1).write.parquet(config[\"path\"][\"datagathering_output\"]+\"_coalesced\")"
   ]
  },
  {
   "cell_type": "code",
   "execution_count": 8,
   "metadata": {},
   "outputs": [
    {
     "name": "stderr",
     "output_type": "stream",
     "text": [
      "The code failed because of a fatal error:\n",
      "\tSession 1426 unexpectedly reached final status 'killed'. See logs:\n",
      "stdout: \n",
      "\n",
      "stderr: \n",
      "21/10/20 15:41:02 INFO yarn.Client: Requesting a new application from cluster with 8 NodeManagers\n",
      "21/10/20 15:41:02 INFO yarn.Client: Verifying our application has not requested more than the maximum memory capability of the cluster (16384 MB per container)\n",
      "21/10/20 15:41:02 INFO yarn.Client: Will allocate AM container, with 11264 MB memory including 1024 MB overhead\n",
      "21/10/20 15:41:02 INFO yarn.Client: Setting up container launch context for our AM\n",
      "21/10/20 15:41:02 INFO yarn.Client: Setting up the launch environment for our AM container\n",
      "21/10/20 15:41:02 INFO yarn.Client: Preparing resources for our AM container\n",
      "21/10/20 15:41:02 INFO yarn.Client: Uploading resource file:/opt/cloudera/parcels/UT_HALO_TS-1.4.4.1/bin/apache-livy-0.7.0-incubating-bin/rsc-jars/livy-rsc-0.7.0-incubating.jar -> hdfs://nameservicedev1/user/tsystems_kkeshore/.sparkStaging/application_1620749185953_137727/livy-rsc-0.7.0-incubating.jar\n",
      "21/10/20 15:41:02 INFO yarn.Client: Uploading resource file:/opt/cloudera/parcels/UT_HALO_TS-1.4.4.1/bin/apache-livy-0.7.0-incubating-bin/rsc-jars/netty-all-4.0.37.Final.jar -> hdfs://nameservicedev1/user/tsystems_kkeshore/.sparkStaging/application_1620749185953_137727/netty-all-4.0.37.Final.jar\n",
      "21/10/20 15:41:03 INFO yarn.Client: Uploading resource file:/opt/cloudera/parcels/UT_HALO_TS-1.4.4.1/bin/apache-livy-0.7.0-incubating-bin/rsc-jars/livy-api-0.7.0-incubating.jar -> hdfs://nameservicedev1/user/tsystems_kkeshore/.sparkStaging/application_1620749185953_137727/livy-api-0.7.0-incubating.jar\n",
      "21/10/20 15:41:03 INFO yarn.Client: Uploading resource file:/opt/cloudera/parcels/UT_HALO_TS-1.4.4.1/bin/apache-livy-0.7.0-incubating-bin/rsc-jars/livy-thriftserver-session-0.7.0-incubating.jar -> hdfs://nameservicedev1/user/tsystems_kkeshore/.sparkStaging/application_1620749185953_137727/livy-thriftserver-session-0.7.0-incubating.jar\n",
      "21/10/20 15:41:03 INFO yarn.Client: Uploading resource file:/opt/cloudera/parcels/UT_HALO_TS-1.4.4.1/bin/apache-livy-0.7.0-incubating-bin/repl_2.11-jars/commons-codec-1.9.jar -> hdfs://nameservicedev1/user/tsystems_kkeshore/.sparkStaging/application_1620749185953_137727/commons-codec-1.9.jar\n",
      "21/10/20 15:41:03 INFO yarn.Client: Uploading resource file:/opt/cloudera/parcels/UT_HALO_TS-1.4.4.1/bin/apache-livy-0.7.0-incubating-bin/repl_2.11-jars/livy-core_2.11-0.7.0-incubating.jar -> hdfs://nameservicedev1/user/tsystems_kkeshore/.sparkStaging/application_1620749185953_137727/livy-core_2.11-0.7.0-incubating.jar\n",
      "21/10/20 15:41:03 INFO yarn.Client: Uploading resource file:/opt/cloudera/parcels/UT_HALO_TS-1.4.4.1/bin/apache-livy-0.7.0-incubating-bin/repl_2.11-jars/livy-repl_2.11-0.7.0-incubating.jar -> hdfs://nameservicedev1/user/tsystems_kkeshore/.sparkStaging/application_1620749185953_137727/livy-repl_2.11-0.7.0-incubating.jar\n",
      "21/10/20 15:41:04 INFO yarn.Client: Uploading resource file:/opt/cloudera/parcels/SPARK2-2.3.0.cloudera4-1.cdh5.13.3.p0.611179/lib/spark2/jars/datanucleus-api-jdo-3.2.6.jar -> hdfs://nameservicedev1/user/tsystems_kkeshore/.sparkStaging/application_1620749185953_137727/datanucleus-api-jdo-3.2.6.jar\n",
      "21/10/20 15:41:04 INFO yarn.Client: Uploading resource file:/opt/cloudera/parcels/SPARK2-2.3.0.cloudera4-1.cdh5.13.3.p0.611179/lib/spark2/jars/datanucleus-rdbms-3.2.9.jar -> hdfs://nameservicedev1/user/tsystems_kkeshore/.sparkStaging/application_1620749185953_137727/datanucleus-rdbms-3.2.9.jar\n",
      "21/10/20 15:41:04 INFO yarn.Client: Uploading resource file:/opt/cloudera/parcels/SPARK2-2.3.0.cloudera4-1.cdh5.13.3.p0.611179/lib/spark2/jars/datanucleus-core-3.2.10.jar -> hdfs://nameservicedev1/user/tsystems_kkeshore/.sparkStaging/application_1620749185953_137727/datanucleus-core-3.2.10.jar\n",
      "21/10/20 15:41:04 INFO yarn.Client: Uploading resource file:/etc/spark2/conf.cloudera.spark2_on_yarn/yarn-conf/hive-site.xml -> hdfs://nameservicedev1/user/tsystems_kkeshore/.sparkStaging/application_1620749185953_137727/hive-site.xml\n",
      "21/10/20 15:41:05 INFO yarn.Client: Uploading resource file:/tmp/spark-442ca555-6527-4687-baa2-f3e912630e29/__spark_conf__2620699703837831132.zip -> hdfs://nameservicedev1/user/tsystems_kkeshore/.sparkStaging/application_1620749185953_137727/__spark_conf__.zip\n",
      "21/10/20 15:41:05 INFO spark.SecurityManager: Changing view acls to: ut_halo_ts,tsystems_kkeshore\n",
      "21/10/20 15:41:05 INFO spark.SecurityManager: Changing modify acls to: ut_halo_ts,tsystems_kkeshore\n",
      "21/10/20 15:41:05 INFO spark.SecurityManager: Changing view acls groups to: \n",
      "21/10/20 15:41:05 INFO spark.SecurityManager: Changing modify acls groups to: \n",
      "21/10/20 15:41:05 INFO spark.SecurityManager: SecurityManager: authentication disabled; ui acls disabled; users  with view permissions: Set(ut_halo_ts, tsystems_kkeshore); groups with view permissions: Set(); users  with modify permissions: Set(ut_halo_ts, tsystems_kkeshore); groups with modify permissions: Set()\n",
      "21/10/20 15:41:05 INFO security.HadoopFSDelegationTokenProvider: getting token for: DFS[DFSClient[clientName=DFSClient_NONMAPREDUCE_993978725_1, ugi=tsystems_kkeshore (auth:PROXY) via ut_halo_ts/lxcdhworkerph7d.dc.ht.hr@CDHDEV1.DC.HT.HR (auth:KERBEROS)]]\n",
      "21/10/20 15:41:05 INFO hdfs.DFSClient: Created token for tsystems_kkeshore: HDFS_DELEGATION_TOKEN owner=tsystems_kkeshore, renewer=yarn, realUser=ut_halo_ts/lxcdhworkerph7d.dc.ht.hr@CDHDEV1.DC.HT.HR, issueDate=1634737265515, maxDate=1635342065515, sequenceNumber=758698, masterKeyId=964 on ha-hdfs:nameservicedev1\n",
      "21/10/20 15:41:05 INFO security.HadoopFSDelegationTokenProvider: getting token for: DFS[DFSClient[clientName=DFSClient_NONMAPREDUCE_993978725_1, ugi=tsystems_kkeshore (auth:PROXY) via ut_halo_ts/lxcdhworkerph7d.dc.ht.hr@CDHDEV1.DC.HT.HR (auth:KERBEROS)]]\n",
      "21/10/20 15:41:06 INFO hive.metastore: Trying to connect to metastore with URI thrift://lxcdhmasterv2d.dc.ht.hr:9083\n",
      "21/10/20 15:41:06 INFO hive.metastore: Opened a connection to metastore, current connections: 1\n",
      "21/10/20 15:41:06 INFO hive.metastore: Connected to metastore.\n",
      "21/10/20 15:41:06 INFO hive.metastore: Closed a connection to metastore, current connections: 0\n",
      "21/10/20 15:41:07 INFO zookeeper.RecoverableZooKeeper: Process identifier=hconnection-0x14d8e132 connecting to ZooKeeper ensemble=lxcdhkafkav1d.dc.ht.hr:2181,lxcdhkafkav3d.dc.ht.hr:2181,lxcdhkafkav2d.dc.ht.hr:2181\n",
      "21/10/20 15:41:07 INFO zookeeper.ZooKeeper: Client environment:zookeeper.version=3.4.5-cdh5.15.1--1, built on 08/09/2018 16:19 GMT\n",
      "21/10/20 15:41:07 INFO zookeeper.ZooKeeper: Client environment:host.name=lxcdhworkerph7d.dc.ht.hr\n",
      "21/10/20 15:41:07 INFO zookeeper.ZooKeeper: Client environment:java.version=1.8.0_162\n",
      "21/10/20 15:41:07 INFO zookeeper.ZooKeeper: Client environment:java.vendor=Oracle Corporation\n",
      "21/10/20 15:41:07 INFO zookeeper.ZooKeeper: Client environment:java.home=/usr/java/jdk1.8.0_162/jre\n",
      "21/10/20 15:41:07 INFO zookeeper.ZooKeeper: Client environment:java.class.path=/etc/spark2/conf/:/opt/cloudera/parcels/SPARK2-2.3.0.cloudera4-1.cdh5.13.3.p0.611179/lib/spark2/jars/joda-time-2.9.3.jar:/opt/cloudera/parcels/SPARK2-2.3.0.cloudera4-1.cdh5.13.3.p0.611179/lib/spark2/jars/jersey-server-2.22.2.jar:/opt/cloudera/parcels/SPARK2-2.3.0.cloudera4-1.cdh5.13.3.p0.611179/lib/spark2/jars/aopalliance-repackaged-2.4.0-b34.jar:/opt/cloudera/parcels/SPARK2-2.3.0.cloudera4-1.cdh5.13.3.p0.611179/lib/spark2/jars/commons-pool-1.5.4.jar:/opt/cloudera/parcels/SPARK2-2.3.0.cloudera4-1.cdh5.13.3.p0.611179/lib/spark2/jars/spark-lineage_2.11-2.3.0.cloudera4.jar:/opt/cloudera/parcels/SPARK2-2.3.0.cloudera4-1.cdh5.13.3.p0.611179/lib/spark2/jars/antlr-runtime-3.4.jar:/opt/cloudera/parcels/SPARK2-2.3.0.cloudera4-1.cdh5.13.3.p0.611179/lib/spark2/jars/jackson-core-2.6.7.jar:/opt/cloudera/parcels/SPARK2-2.3.0.cloudera4-1.cdh5.13.3.p0.611179/lib/spark2/jars/apache-log4j-extras-1.2.17.jar:/opt/cloudera/parcels/SPARK2-2.3.0.cloudera4-1.cdh5.13.3.p0.611179/lib/spark2/jars/lz4-java-1.4.0.jar:/opt/cloudera/parcels/SPARK2-2.3.0.cloudera4-1.cdh5.13.3.p0.611179/lib/spark2/jars/stringtemplate-3.2.1.jar:/opt/cloudera/parcels/SPARK2-2.3.0.cloudera4-1.cdh5.13.3.p0.611179/lib/spark2/jars/jackson-annotations-2.6.7.jar:/opt/cloudera/parcels/SPARK2-2.3.0.cloudera4-1.cdh5.13.3.p0.611179/lib/spark2/jars/flatbuffers-1.2.0-3f79e055.jar:/opt/cloudera/parcels/SPARK2-2.3.0.cloudera4-1.cdh5.13.3.p0.611179/lib/spark2/jars/spark-mllib_2.11-2.3.0.cloudera4.jar:/opt/cloudera/parcels/SPARK2-2.3.0.cloudera4-1.cdh5.13.3.p0.611179/lib/spark2/jars/validation-api-1.1.0.Final.jar:/opt/cloudera/parcels/SPARK2-2.3.0.cloudera4-1.cdh5.13.3.p0.611179/lib/spark2/jars/commons-codec-1.10.jar:/opt/cloudera/parcels/SPARK2-2.3.0.cloudera4-1.cdh5.13.3.p0.611179/lib/spark2/jars/datanucleus-api-jdo-3.2.6.jar:/opt/cloudera/parcels/SPARK2-2.3.0.cloudera4-1.cdh5.13.3.p0.611179/lib/spark2/jars/spark-sketch_2.11-2.3.0.cloudera4.jar:/opt/cloudera/parcels/SPARK2-2.3.0.cloudera4-1.cdh5.13.3.p0.611179/lib/spark2/jars/calcite-avatica-1.0.0-incubating.jar:/opt/cloudera/parcels/SPARK2-2.3.0.cloudera4-1.cdh5.13.3.p0.611179/lib/spark2/jars/macro-compat_2.11-1.1.1.jar:/opt/cloudera/parcels/SPARK2-2.3.0.cloudera4-1.cdh5.13.3.p0.611179/lib/spark2/jars/compress-lzf-1.0.3.jar:/opt/cloudera/parcels/SPARK2-2.3.0.cloudera4-1.cdh5.13.3.p0.611179/lib/spark2/jars/commons-lang-2.6.jar:/opt/cloudera/parcels/SPARK2-2.3.0.cloudera4-1.cdh5.13.3.p0.611179/lib/spark2/jars/snappy-0.2.jar:/opt/cloudera/parcels/SPARK2-2.3.0.cloudera4-1.cdh5.13.3.p0.611179/lib/spark2/jars/stax-api-1.0.1.jar:/opt/cloudera/parcels/SPARK2-2.3.0.cloudera4-1.cdh5.13.3.p0.611179/lib/spark2/jars/machinist_2.11-0.6.1.jar:/opt/cloudera/parcels/SPARK2-2.3.0.cloudera4-1.cdh5.13.3.p0.611179/lib/spark2/jars/jcl-over-slf4j-1.7.5.jar:/opt/cloudera/parcels/SPARK2-2.3.0.cloudera4-1.cdh5.13.3.p0.611179/lib/spark2/jars/spark-tags_2.11-2.3.0.cloudera4.jar:/opt/cloudera/parcels/SPARK2-2.3.0.cloudera4-1.cdh5.13.3.p0.611179/lib/spark2/jars/jetty-6.1.26.cloudera.4.jar:/opt/cloudera/parcels/SPARK2-2.3.0.cloudera4-1.cdh5.13.3.p0.611179/lib/spark2/jars/datanucleus-rdbms-3.2.9.jar:/opt/cloudera/parcels/SPARK2-2.3.0.cloudera4-1.cdh5.13.3.p0.611179/lib/spark2/jars/JavaEWAH-0.3.2.jar:/opt/cloudera/parcels/SPARK2-2.3.0.cloudera4-1.cdh5.13.3.p0.611179/lib/spark2/jars/opencsv-2.3.jar:/opt/cloudera/parcels/SPARK2-2.3.0.cloudera4-1.cdh5.13.3.p0.611179/lib/spark2/jars/spark-catalyst_2.11-2.3.0.cloudera4.jar:/opt/cloudera/parcels/SPARK2-2.3.0.cloudera4-1.cdh5.13.3.p0.611179/lib/spark2/jars/datanucleus-core-3.2.10.jar:/opt/cloudera/parcels/SPARK2-2.3.0.cloudera4-1.cdh5.13.3.p0.611179/lib/spark2/jars/parquet-common-1.5.0-cdh5.13.3.jar:/opt/cloudera/parcels/SPARK2-2.3.0.cloudera4-1.cdh5.13.3.p0.611179/lib/spark2/jars/parquet-hadoop-bundle-1.5.0-cdh5.13.3.jar:/opt/cloudera/parcels/SPARK2-2.3.0.cloudera4-1.cdh5.13.3.p0.611179/lib/spark2/jars/gson-2.2.4.jar:/opt/cloudera/parcels/SPARK2-2.3.0.cloudera4-1.cdh5.13.3.p0.611179/lib/spark2/jars/xz-1.0.jar:/opt/cloudera/parcels/SPARK2-2.3.0.cloudera4-1.cdh5.13.3.p0.611179/lib/spark2/jars/logredactor-1.0.3.jar:/opt/cloudera/parcels/SPARK2-2.3.0.cloudera4-1.cdh5.13.3.p0.611179/lib/spark2/jars/scala-compiler-2.11.8.jar:/opt/cloudera/parcels/SPARK2-2.3.0.cloudera4-1.cdh5.13.3.p0.611179/lib/spark2/jars/jetty-util-6.1.26.cloudera.4.jar:/opt/cloudera/parcels/SPARK2-2.3.0.cloudera4-1.cdh5.13.3.p0.611179/lib/spark2/jars/derby-10.12.1.1.jar:/opt/cloudera/parcels/SPARK2-2.3.0.cloudera4-1.cdh5.13.3.p0.611179/lib/spark2/jars/hppc-0.7.2.jar:/opt/cloudera/parcels/SPARK2-2.3.0.cloudera4-1.cdh5.13.3.p0.611179/lib/spark2/jars/spark-network-common_2.11-2.3.0.cloudera4.jar:/opt/cloudera/parcels/SPARK2-2.3.0.cloudera4-1.cdh5.13.3.p0.611179/lib/spark2/jars/parquet-column-1.5.0-cdh5.13.3.jar:/opt/cloudera/parcels/SPARK2-2.3.0.cloudera4-1.cdh5.13.3.p0.611179/lib/spark2/jars/libfb303-0.9.3.jar:/opt/cloudera/parcels/SPARK2-2.3.0.cloudera4-1.cdh5.13.3.p0.611179/lib/spark2/jars/spark-sql_2.11-2.3.0.cloudera4.jar:/opt/cloudera/parcels/SPARK2-2.3.0.cloudera4-1.cdh5.13.3.p0.611179/lib/spark2/jars/calcite-core-1.0.0-incubating.jar:/opt/cloudera/parcels/SPARK2-2.3.0.cloudera4-1.cdh5.13.3.p0.611179/lib/spark2/jars/spark-kvstore_2.11-2.3.0.cloudera4.jar:/opt/cloudera/parcels/SPARK2-2.3.0.cloudera4-1.cdh5.13.3.p0.611179/lib/spark2/jars/javax.servlet-api-3.1.0.jar:/opt/cloudera/parcels/SPARK2-2.3.0.cloudera4-1.cdh5.13.3.p0.611179/lib/spark2/jars/scala-reflect-2.11.8.jar:/opt/cloudera/parcels/SPARK2-2.3.0.cloudera4-1.cdh5.13.3.p0.611179/lib/spark2/jars/commons-crypto-1.0.0.jar:/opt/cloudera/parcels/SPARK2-2.3.0.cloudera4-1.cdh5.13.3.p0.611179/lib/spark2/jars/spark-streaming-flume-sink_2.11-2.3.0.cloudera4.jar:/opt/cloudera/parcels/SPARK2-2.3.0.cloudera4-1.cdh5.13.3.p0.611179/lib/spark2/jars/pyrolite-4.13.jar:/opt/cloudera/parcels/SPARK2-2.3.0.cloudera4-1.cdh5.13.3.p0.611179/lib/spark2/jars/antlr4-runtime-4.7.jar:/opt/cloudera/parcels/SPARK2-2.3.0.cloudera4-1.cdh5.13.3.p0.611179/lib/spark2/jars/zstd-jni-1.3.2-2.jar:/opt/cloudera/parcels/SPARK2-2.3.0.cloudera4-1.cdh5.13.3.p0.611179/lib/spark2/jars/spark-streaming_2.11-2.3.0.cloudera4.jar:/opt/cloudera/parcels/SPARK2-2.3.0.cloudera4-1.cdh5.13.3.p0.611179/lib/spark2/jars/commons-dbcp-1.4.jar:/opt/cloudera/parcels/SPARK2-2.3.0.cloudera4-1.cdh5.13.3.p0.611179/lib/spark2/jars/jersey-container-servlet-2.22.2.jar:/opt/cloudera/parcels/SPARK2-2.3.0.cloudera4-1.cdh5.13.3.p0.611179/lib/spark2/jars/ivy-2.4.0.jar:/opt/cloudera/parcels/SPARK2-2.3.0.cloudera4-1.cdh5.13.3.p0.611179/lib/spark2/jars/chill_2.11-0.8.0.jar:/opt/cloudera/parcels/SPARK2-2.3.0.cloudera4-1.cdh5.13.3.p0.611179/lib/spark2/jars/aircompressor-0.8.jar:/opt/cloudera/parcels/SPARK2-2.3.0.cloudera4-1.cdh5.13.3.p0.611179/lib/spark2/jars/jackson-module-scala_2.11-2.6.7.1.jar:/opt/cloudera/parcels/SPARK2-2.3.0.cloudera4-1.cdh5.13.3.p0.611179/lib/spark2/jars/hive-shims-0.23-1.1.0-cdh5.13.3.jar:/opt/cloudera/parcels/SPARK2-2.3.0.cloudera4-1.cdh5.13.3.p0.611179/lib/spark2/jars/commons-lang3-3.5.jar:/opt/cloudera/parcels/SPARK2-2.3.0.cloudera4-1.cdh5.13.3.p0.611179/lib/spark2/jars/scala-xml_2.11-1.0.5.jar:/opt/cloudera/parcels/SPARK2-2.3.0.cloudera4-1.cdh5.13.3.p0.611179/lib/spark2/jars/spark-yarn_2.11-2.3.0.cloudera4.jar:/opt/cloudera/parcels/SPARK2-2.3.0.cloudera4-1.cdh5.13.3.p0.611179/lib/spark2/jars/hive-shims-1.1.0-cdh5.13.3.jar:/opt/cloudera/parcels/SPARK2-2.3.0.cloudera4-1.cdh5.13.3.p0.611179/lib/spark2/jars/javax.ws.rs-api-2.0.1.jar:/opt/cloudera/parcels/SPARK2-2.3.0.cloudera4-1.cdh5.13.3.p0.611179/lib/spark2/jars/jodd-core-3.5.2.jar:/opt/cloudera/parcels/SPARK2-2.3.0.cloudera4-1.cdh5.13.3.p0.611179/lib/spark2/jars/snappy-java-1.1.4.jar:/opt/cloudera/parcels/SPARK2-2.3.0.cloudera4-1.cdh5.13.3.p0.611179/lib/spark2/jars/spark-repl_2.11-2.3.0.cloudera4.jar:/opt/cloudera/parcels/SPARK2-2.3.0.cloudera4-1.cdh5.13.3.p0.611179/lib/spark2/jars/hive-shims-common-1.1.0-cdh5.13.3.jar:/opt/cloudera/parcels/SPARK2-2.3.0.cloudera4-1.cdh5.13.3.p0.611179/lib/spark2/jars/minlog-1.3.0.jar:/opt/cloudera/parcels/SPARK2-2.3.0.cloudera4-1.cdh5.13.3.p0.611179/lib/spark2/jars/hk2-api-2.4.0-b34.jar:/opt/cloudera/parcels/SPARK2-2.3.0.cloudera4-1.cdh5.13.3.p0.611179/lib/spark2/jars/spark-launcher_2.11-2.3.0.cloudera4.jar:/opt/cloudera/parcels/SPARK2-2.3.0.cloudera4-1.cdh5.13.3.p0.611179/lib/spark2/jars/kryo-shaded-3.0.3.jar:/opt/cloudera/parcels/SPARK2-2.3.0.cloudera4-1.cdh5.13.3.p0.611179/lib/spark2/jars/parquet-format-2.1.0-cdh5.13.3.jar:/opt/cloudera/parcels/SPARK2-2.3.0.cloudera4-1.cdh5.13.3.p0.611179/lib/spark2/jars/parquet-encoding-1.5.0-cdh5.13.3.jar:/opt/cloudera/parcels/SPARK2-2.3.0.cloudera4-1.cdh5.13.3.p0.611179/lib/spark2/jars/flume-ng-core-1.6.0-cdh5.13.3.jar:/opt/cloudera/parcels/SPARK2-2.3.0.cloudera4-1.cdh5.13.3.p0.611179/lib/spark2/jars/jta-1.1.jar:/opt/cloudera/parcels/SPARK2-2.3.0.cloudera4-1.cdh5.13.3.p0.611179/lib/spark2/jars/jdo-api-3.0.1.jar:/opt/cloudera/parcels/SPARK2-2.3.0.cloudera4-1.cdh5.13.3.p0.611179/lib/spark2/jars/orc-mapreduce-1.4.4-nohive.jar:/opt/cloudera/parcels/SPARK2-2.3.0.cloudera4-1.cdh5.13.3.p0.611179/lib/spark2/jars/jersey-media-jaxb-2.22.2.jar:/opt/cloudera/parcels/SPARK2-2.3.0.cloudera4-1.cdh5.13.3.p0.611179/lib/spark2/jars/spire_2.11-0.13.0.jar:/opt/cloudera/parcels/SPARK2-2.3.0.cloudera4-1.cdh5.13.3.p0.611179/lib/spark2/jars/osgi-resource-locator-1.0.1.jar:/opt/cloudera/parcels/SPARK2-2.3.0.cloudera4-1.cdh5.13.3.p0.611179/lib/spark2/jars/javax.inject-2.4.0-b34.jar:/opt/cloudera/parcels/SPARK2-2.3.0.cloudera4-1.cdh5.13.3.p0.611179/lib/spark2/jars/commons-net-2.2.jar:/opt/cloudera/parcels/SPARK2-2.3.0.cloudera4-1.cdh5.13.3.p0.611179/lib/spark2/jars/netty-all-4.1.17.Final.jar:/opt/cloudera/parcels/SPARK2-2.3.0.cloudera4-1.cdh5.13.3.p0.611179/lib/spark2/jars/chill-java-0.8.0.jar:/opt/cloudera/parcels/SPARK2-2.3.0.cloudera4-1.cdh5.13.3.p0.611179/lib/spark2/jars/metrics-graphite-3.1.5.jar:/opt/cloudera/parcels/SPARK2-2.3.0.cloudera4-1.cdh5.13.3.p0.611179/lib/spark2/jars/arpack_combined_all-0.1.jar:/opt/cloudera/parcels/SPARK2-2.3.0.cloudera4-1.cdh5.13.3.p0.611179/lib/spark2/jars/antlr-2.7.7.jar:/opt/cloudera/parcels/SPARK2-2.3.0.cloudera4-1.cdh5.13.3.p0.611179/lib/spark2/jars/univocity-parsers-2.5.9.jar:/opt/cloudera/parcels/SPARK2-2.3.0.cloudera4-1.cdh5.13.3.p0.611179/lib/spark2/jars/core-1.1.2.jar:/opt/cloudera/parcels/SPARK2-2.3.0.cloudera4-1.cdh5.13.3.p0.611179/lib/spark2/jars/metrics-json-3.1.5.jar:/opt/cloudera/parcels/SPARK2-2.3.0.cloudera4-1.cdh5.13.3.p0.611179/lib/spark2/jars/janino-3.0.8.jar:/opt/cloudera/parcels/SPARK2-2.3.0.cloudera4-1.cdh5.13.3.p0.611179/lib/spark2/jars/hk2-locator-2.4.0-b34.jar:/opt/cloudera/parcels/SPARK2-2.3.0.cloudera4-1.cdh5.13.3.p0.611179/lib/spark2/jars/breeze-macros_2.11-0.13.2.jar:/opt/cloudera/parcels/SPARK2-2.3.0.cloudera4-1.cdh5.13.3.p0.611179/lib/spark2/jars/flume-ng-configuration-1.6.0-cdh5.13.3.jar:/opt/cloudera/parcels/SPARK2-2.3.0.cloudera4-1.cdh5.13.3.p0.611179/lib/spark2/jars/jackson-databind-2.6.7.1.jar:/opt/cloudera/parcels/SPARK2-2.3.0.cloudera4-1.cdh5.13.3.p0.611179/lib/spark2/jars/avro-1.7.6-cdh5.13.3.jar:/opt/cloudera/parcels/SPARK2-2.3.0.cloudera4-1.cdh5.13.3.p0.611179/lib/spark2/jars/arrow-memory-0.8.0.jar:/opt/cloudera/parcels/SPARK2-2.3.0.cloudera4-1.cdh5.13.3.p0.611179/lib/spark2/jars/commons-collections-3.2.2.jar:/opt/cloudera/parcels/SPARK2-2.3.0.cloudera4-1.cdh5.13.3.p0.611179/lib/spark2/jars/parquet-jackson-1.5.0-cdh5.13.3.jar:/opt/cloudera/parcels/SPARK2-2.3.0.cloudera4-1.cdh5.13.3.p0.611179/lib/spark2/jars/jul-to-slf4j-1.7.5.jar:/opt/cloudera/parcels/SPARK2-2.3.0.cloudera4-1.cdh5.13.3.p0.611179/lib/spark2/jars/hive-metastore-1.1.0-cdh5.13.3.jar:/opt/cloudera/parcels/SPARK2-2.3.0.cloudera4-1.cdh5.13.3.p0.611179/lib/spark2/jars/javolution-5.5.1.jar:/opt/cloudera/parcels/SPARK2-2.3.0.cloudera4-1.cdh5.13.3.p0.611179/lib/spark2/jars/spark-streaming-flume_2.11-2.3.0.cloudera4.jar:/opt/cloudera/parcels/SPARK2-2.3.0.cloudera4-1.cdh5.13.3.p0.611179/lib/spark2/jars/commons-compiler-3.0.8.jar:/opt/cloudera/parcels/SPARK2-2.3.0.cloudera4-1.cdh5.13.3.p0.611179/lib/spark2/jars/spark-hive_2.11-2.3.0.cloudera4.jar:/opt/cloudera/parcels/SPARK2-2.3.0.cloudera4-1.cdh5.13.3.p0.611179/lib/spark2/jars/commons-io-2.4.jar:/opt/cloudera/parcels/SPARK2-2.3.0.cloudera4-1.cdh5.13.3.p0.611179/lib/spark2/jars/parquet-hadoop-1.5.0-cdh5.13.3.jar:/opt/cloudera/parcels/SPARK2-2.3.0.cloudera4-1.cdh5.13.3.p0.611179/lib/spark2/jars/calcite-linq4j-1.0.0-incubating.jar:/opt/cloudera/parcels/SPARK2-2.3.0.cloudera4-1.cdh5.13.3.p0.611179/lib/spark2/jars/javax.annotation-api-1.2.jar:/opt/cloudera/parcels/SPARK2-2.3.0.cloudera4-1.cdh5.13.3.p0.611179/lib/spark2/jars/breeze_2.11-0.13.2.jar:/opt/cloudera/parcels/SPARK2-2.3.0.cloudera4-1.cdh5.13.3.p0.611179/lib/spark2/jars/eigenbase-properties-1.1.4.jar:/opt/cloudera/parcels/SPARK2-2.3.0.cloudera4-1.cdh5.13.3.p0.611179/lib/spark2/jars/arrow-vector-0.8.0.jar:/opt/cloudera/parcels/SPARK2-2.3.0.cloudera4-1.cdh5.13.3.p0.611179/lib/spark2/jars/commons-math3-3.4.1.jar:/opt/cloudera/parcels/SPARK2-2.3.0.cloudera4-1.cdh5.13.3.p0.611179/lib/spark2/jars/avro-ipc-1.7.6-cdh5.13.3.jar:/opt/cloudera/parcels/SPARK2-2.3.0.cloudera4-1.cdh5.13.3.p0.611179/lib/spark2/jars/jackson-jaxrs-1.8.8.jar:/opt/cloudera/parcels/SPARK2-2.3.0.cloudera4-1.cdh5.13.3.p0.611179/lib/spark2/jars/stream-2.7.0.jar:/opt/cloudera/parcels/SPARK2-2.3.0.cloudera4-1.cdh5.13.3.p0.611179/lib/spark2/jars/libthrift-0.9.3.jar:/opt/cloudera/parcels/SPARK2-2.3.0.cloudera4-1.cdh5.13.3.p0.611179/lib/spark2/jars/spark-mllib-local_2.11-2.3.0.cloudera4.jar:/opt/cloudera/parcels/SPARK2-2.3.0.cloudera4-1.cdh5.13.3.p0.611179/lib/spark2/jars/json4s-core_2.11-3.2.11.jar:/opt/cloudera/parcels/SPARK2-2.3.0.cloudera4-1.cdh5.13.3.p0.611179/lib/spark2/jars/jtransforms-2.4.0.jar:/opt/cloudera/parcels/SPARK2-2.3.0.cloudera4-1.cdh5.13.3.p0.611179/lib/spark2/jars/jersey-common-2.22.2.jar:/opt/cloudera/parcels/SPARK2-2.3.0.cloudera4-1.cdh5.13.3.p0.611179/lib/spark2/jars/xbean-asm5-shaded-4.4.jar:/opt/cloudera/parcels/SPARK2-2.3.0.cloudera4-1.cdh5.13.3.p0.611179/lib/spark2/jars/commons-compress-1.4.1.jar:/opt/cloudera/parcels/SPARK2-2.3.0.cloudera4-1.cdh5.13.3.p0.611179/lib/spark2/jars/spark-hive-exec_2.11-2.3.0.cloudera4.jar:/opt/cloudera/parcels/SPARK2-2.3.0.cloudera4-1.cdh5.13.3.p0.611179/lib/spark2/jars/scala-library-2.11.8.jar:/opt/cloudera/parcels/SPARK2-2.3.0.cloudera4-1.cdh5.13.3.p0.611179/lib/spark2/jars/commons-httpclient-3.1.jar:/opt/cloudera/parcels/SPARK2-2.3.0.cloudera4-1.cdh5.13.3.p0.611179/lib/spark2/jars/mina-core-2.0.0-M5.jar:/opt/cloudera/parcels/SPARK2-2.3.0.cloudera4-1.cdh5.13.3.p0.611179/lib/spark2/jars/commons-cli-1.2.jar:/opt/cloudera/parcels/SPARK2-2.3.0.cloudera4-1.cdh5.13.3.p0.611179/lib/spark2/jars/hive-shims-scheduler-1.1.0-cdh5.13.3.jar:/opt/cloudera/parcels/SPARK2-2.3.0.cloudera4-1.cdh5.13.3.p0.611179/lib/spark2/jars/jersey-client-2.22.2.jar:/opt/cloudera/parcels/SPARK2-2.3.0.cloudera4-1.cdh5.13.3.p0.611179/lib/spark2/jars/jackson-module-paranamer-2.7.9.jar:/opt/cloudera/parcels/SPARK2-2.3.0.cloudera4-1.cdh5.13.3.p0.611179/lib/spark2/jars/spark-graphx_2.11-2.3.0.cloudera4.jar:/opt/cloudera/parcels/SPARK2-2.3.0.cloudera4-1.cdh5.13.3.p0.611179/lib/spark2/jars/jackson-xc-1.8.8.jar:/opt/cloudera/parcels/SPARK2-2.3.0.cloudera4-1.cdh5.13.3.p0.611179/lib/spark2/jars/json-20090211.jar:/opt/cloudera/parcels/SPARK2-2.3.0.cloudera4-1.cdh5.13.3.p0.611179/lib/spark2/jars/netty-3.9.9.Final.jar:/opt/cloudera/parcels/SPARK2-2.3.0.cloudera4-1.cdh5.13.3.p0.611179/lib/spark2/jars/fastutil-6.3.jar:/opt/cloudera/parcels/SPARK2-2.3.0.cloudera4-1.cdh5.13.3.p0.611179/lib/spark2/jars/objenesis-2.1.jar:/opt/cloudera/parcels/SPARK2-2.3.0.cloudera4-1.cdh5.13.3.p0.611179/lib/spark2/jars/spark-core_2.11-2.3.0.cloudera4.jar:/opt/cloudera/parcels/SPARK2-2.3.0.cloudera4-1.cdh5.13.3.p0.611179/lib/spark2/jars/scala-parser-combinators_2.11-1.0.4.jar:/opt/cloudera/parcels/SPARK2-2.3.0.cloudera4-1.cdh5.13.3.p0.611179/lib/spark2/jars/httpcore-4.4.8.jar:/opt/cloudera/parcels/SPARK2-2.3.0.cloudera4-1.cdh5.13.3.p0.611179/lib/spark2/jars/py4j-0.10.7.jar:/opt/cloudera/parcels/SPARK2-2.3.0.cloudera4-1.cdh5.13.3.p0.611179/lib/spark2/jars/shapeless_2.11-2.3.2.jar:/opt/cloudera/parcels/SPARK2-2.3.0.cloudera4-1.cdh5.13.3.p0.611179/lib/spark2/jars/scalap-2.11.8.jar:/opt/cloudera/parcels/SPARK2-2.3.0.cloudera4-1.cdh5.13.3.p0.611179/lib/spark2/jars/spark-network-shuffle_2.11-2.3.0.cloudera4.jar:/opt/cloudera/parcels/SPARK2-2.3.0.cloudera4-1.cdh5.13.3.p0.611179/lib/spark2/jars/commons-logging-1.1.3.jar:/opt/cloudera/parcels/SPARK2-2.3.0.cloudera4-1.cdh5.13.3.p0.611179/lib/spark2/jars/jersey-guava-2.22.2.jar:/opt/cloudera/parcels/SPARK2-2.3.0.cloudera4-1.cdh5.13.3.p0.611179/lib/spark2/jars/parquet-avro-1.5.0-cdh5.13.3.jar:/opt/cloudera/parcels/SPARK2-2.3.0.cloudera4-1.cdh5.13.3.p0.611179/lib/spark2/jars/flume-ng-sdk-1.6.0-cdh5.13.3.jar:/opt/cloudera/parcels/SPARK2-2.3.0.cloudera4-1.cdh5.13.3.p0.611179/lib/spark2/jars/avro-mapred-1.7.6-cdh5.13.3-hadoop2.jar:/opt/cloudera/parcels/SPARK2-2.3.0.cloudera4-1.cdh5.13.3.p0.611179/lib/spark2/jars/metrics-core-3.1.5.jar:/opt/cloudera/parcels/SPARK2-2.3.0.cloudera4-1.cdh5.13.3.p0.611179/lib/spark2/jars/RoaringBitmap-0.5.11.jar:/opt/cloudera/parcels/SPARK2-2.3.0.cloudera4-1.cdh5.13.3.p0.611179/lib/spark2/jars/paranamer-2.8.jar:/opt/cloudera/parcels/SPARK2-2.3.0.cloudera4-1.cdh5.13.3.p0.611179/lib/spark2/jars/spark-unsafe_2.11-2.3.0.cloudera4.jar:/opt/cloudera/parcels/SPARK2-2.3.0.cloudera4-1.cdh5.13.3.p0.611179/lib/spark2/jars/metrics-jvm-3.1.5.jar:/opt/cloudera/parcels/SPARK2-2.3.0.cloudera4-1.cdh5.13.3.p0.611179/lib/spark2/jars/hk2-utils-2.4.0-b34.jar:/opt/cloudera/parcels/SPARK2-2.3.0.cloudera4-1.cdh5.13.3.p0.611179/lib/spark2/jars/ST4-4.0.4.jar:/opt/cloudera/parcels/SPARK2-2.3.0.cloudera4-1.cdh5.13.3.p0.611179/lib/spark2/jars/hive-serde-1.1.0-cdh5.13.3.jar:/opt/cloudera/parcels/SPARK2-2.3.0.cloudera4-1.cdh5.13.3.p0.611179/lib/spark2/jars/json4s-ast_2.11-3.2.11.jar:/opt/cloudera/parcels/SPARK2-2.3.0.cloudera4-1.cdh5.13.3.p0.611179/lib/spark2/jars/orc-core-1.4.4-nohive.jar:/opt/cloudera/parcels/SPARK2-2.3.0.cloudera4-1.cdh5.13.3.p0.611179/lib/spark2/jars/json4s-jackson_2.11-3.2.11.jar:/opt/cloudera/parcels/SPARK2-2.3.0.cloudera4-1.cdh5.13.3.p0.611179/lib/spark2/jars/oro-2.0.8.jar:/opt/cloudera/parcels/SPARK2-2.3.0.cloudera4-1.cdh5.13.3.p0.611179/lib/spark2/jars/arrow-format-0.8.0.jar:/opt/cloudera/parcels/SPARK2-2.3.0.cloudera4-1.cdh5.13.3.p0.611179/lib/spark2/jars/spire-macros_2.11-0.13.0.jar:/opt/cloudera/parcels/SPARK2-2.3.0.cloudera4-1.cdh5.13.3.p0.611179/lib/spark2/jars/javassist-3.18.1-GA.jar:/opt/cloudera/parcels/SPARK2-2.3.0.cloudera4-1.cdh5.13.3.p0.611179/lib/spark2/jars/bonecp-0.7.1.RELEASE.jar:/opt/cloudera/parcels/SPARK2-2.3.0.cloudera4-1.cdh5.13.3.p0.611179/lib/spark2/jars/jersey-container-servlet-core-2.22.2.jar:/etc/spark2/conf/yarn-conf/:/opt/cloudera/parcels/SPARK2-2.3.0.cloudera4-1.cdh5.13.3.p0.611179/lib/spark2/kafka-0.9/metrics-core-2.2.0.jar:/opt/cloudera/parcels/SPARK2-2.3.0.cloudera4-1.cdh5.13.3.p0.611179/lib/spark2/kafka-0.9/kafka_2.11-0.9.0-kafka-2.0.2.jar:/opt/cloudera/parcels/SPARK2-2.3.0.cloudera4-1.cdh5.13.3.p0.611179/lib/spark2/kafka-0.9/zkclient-0.7.jar:/opt/cloudera/parcels/SPARK2-2.3.0.cloudera4-1.cdh5.13.3.p0.611179/lib/spark2/kafka-0.9/spark-streaming-kafka-0-8_2.11-2.3.0.cloudera4.jar:/opt/cloudera/parcels/SPARK2-2.3.0.cloudera4-1.cdh5.13.3.p0.611179/lib/spark2/kafka-0.9/lz4-1.3.0.jar:/opt/cloudera/parcels/SPARK2-2.3.0.cloudera4-1.cdh5.13.3.p0.611179/lib/spark2/kafka-0.9/kafka-clients-0.9.0-kafka-2.0.2.jar:/opt/cloudera/parcels/CDH-5.15.1-1.cdh5.15.1.p0.4/jars/activation-1.1.jar:/opt/cloudera/parcels/CDH-5.15.1-1.cdh5.15.1.p0.4/jars/aopalliance-1.0.jar:/opt/cloudera/parcels/CDH-5.15.1-1.cdh5.15.1.p0.4/jars/apacheds-i18n-2.0.0-M15.jar:/opt/cloudera/parcels/CDH-5.15.1-1.cdh5.15.1.p0.4/jars/apacheds-kerberos-codec-2.0.0-M15.jar:/opt/cloudera/parcels/CDH-5.15.1-1.cdh5.15.1.p0.4/jars/api-asn1-api-1.0.0-M20.jar:/opt/cloudera/parcels/CDH-5.15.1-1.cdh5.15.1.p0.4/jars/api-util-1.0.0-M20.jar:/opt/cloudera/parcels/CDH-5.15.1-1.cdh5.15.1.p0.4/jars/asm-3.2.jar:/opt/cloudera/parcels/CDH-5.15.1-1.cdh5.15.1.p0.4/jars/avro-1.7.6-cdh5.15.1.jar:/opt/cloudera/parcels/CDH-5.15.1-1.cdh5.15.1.p0.4/jars/aws-java-sdk-bundle-1.11.134.jar:/opt/cloudera/parcels/CDH-5.15.1-1.cdh5.15.1.p0.4/jars/azure-data-lake-store-sdk-2.2.9.jar:/opt/cloudera/parcels/CDH-5.15.1-1.cdh5.15.1.p0.4/jars/commons-beanutils-1.9.2.jar:/opt/cloudera/parcels/CDH-5.15.1-1.cdh5.15.1.p0.4/jars/commons-beanutils-core-1.8.0.jar:/opt/cloudera/parcels/CDH-5.15.1-1.cdh5.15.1.p0.4/jars/commons-codec-1.4.jar:/opt/cloudera/parcels/CDH-5.15.1-1.cdh5.15.1.p0.4/jars/commons-codec-1.9.jar:/opt/cloudera/parcels/CDH-5.15.1-1.cdh5.15.1.p0.4/jars/commons-configuration-1.6.jar:/opt/cloudera/parcels/CDH-5.15.1-1.cdh5.15.1.p0.4/jars/commons-daemon-1.0.13.jar:/opt/cloudera/parcels/CDH-5.15.1-1.cdh5.15.1.p0.4/jars/commons-digester-1.8.jar:/opt/cloudera/parcels/CDH-5.15.1-1.cdh5.15.1.p0.4/jars/commons-el-1.0.jar:/opt/cloudera/parcels/CDH-5.15.1-1.cdh5.15.1.p0.4/jars/commons-logging-1.2.jar:/opt/cloudera/parcels/CDH-5.15.1-1.cdh5.15.1.p0.4/jars/commons-math-2.1.jar:/opt/cloudera/parcels/CDH-5.15.1-1.cdh5.15.1.p0.4/jars/commons-math3-3.1.1.jar:/opt/cloudera/parcels/CDH-5.15.1-1.cdh5.15.1.p0.4/jars/commons-net-3.1.jar:/opt/cloudera/parcels/CDH-5.15.1-1.cdh5.15.1.p0.4/jars/core-3.1.1.jar:/opt/cloudera/parcels/CDH-5.15.1-1.cdh5.15.1.p0.4/jars/curator-client-2.7.1.jar:/opt/cloudera/parcels/CDH-5.15.1-1.cdh5.15.1.p0.4/jars/curator-framework-2.7.1.jar:/opt/cloudera/parcels/CDH-5.15.1-1.cdh5.15.1.p0.4/jars/curator-recipes-2.7.1.jar:/opt/cloudera/parcels/CDH-5.15.1-1.cdh5.15.1.p0.4/jars/disruptor-3.3.0.jar:/opt/cloudera/parcels/CDH-5.15.1-1.cdh5.15.1.p0.4/jars/findbugs-annotations-1.3.9-1.jar:/opt/cloudera/parcels/CDH-5.15.1-1.cdh5.15.1.p0.4/jars/guava-11.0.2.jar:/opt/cloudera/parcels/CDH-5.15.1-1.cdh5.15.1.p0.4/jars/guava-12.0.1.jar:/opt/cloudera/parcels/CDH-5.15.1-1.cdh5.15.1.p0.4/jars/guice-3.0.jar:/opt/cloudera/parcels/CDH-5.15.1-1.cdh5.15.1.p0.4/jars/hadoop-annotations-2.6.0-cdh5.15.1.jar:/opt/cloudera/parcels/CDH-5.15.1-1.cdh5.15.1.p0.4/jars/hadoop-ant-2.6.0-cdh5.15.1.jar:/opt/cloudera/parcels/CDH-5.15.1-1.cdh5.15.1.p0.4/jars/hadoop-archive-logs-2.6.0-cdh5.15.1.jar:/opt/cloudera/parcels/CDH-5.15.1-1.cdh5.15.1.p0.4/jars/hadoop-archives-2.6.0-cdh5.15.1.jar:/opt/cloudera/parcels/CDH-5.15.1-1.cdh5.15.1.p0.4/jars/hadoop-auth-2.6.0-cdh5.15.1.jar:/opt/cloudera/parcels/CDH-5.15.1-1.cdh5.15.1.p0.4/jars/hadoop-aws-2.6.0-cdh5.15.1.jar:/opt/cloudera/parcels/CDH-5.15.1-1.cdh5.15.1.p0.4/jars/hadoop-azure-2.6.0-cdh5.15.1.jar:/opt/cloudera/parcels/CDH-5.15.1-1.cdh5.15.1.p0.4/jars/hadoop-azure-datalake-2.6.0-cdh5.15.1.jar:/opt/cloudera/parcels/CDH-5.15.1-1.cdh5.15.1.p0.4/jars/hadoop-common-2.6.0-cdh5.15.1.jar:/opt/cloudera/parcels/CDH-5.15.1-1.cdh5.15.1.p0.4/jars/hadoop-datajoin-2.6.0-cdh5.15.1.jar:/opt/cloudera/parcels/CDH-5.15.1-1.cdh5.15.1.p0.4/jars/hadoop-distcp-2.6.0-cdh5.15.1.jar:/opt/cloudera/parcels/CDH-5.15.1-1.cdh5.15.1.p0.4/jars/hadoop-extras-2.6.0-cdh5.15.1.jar:/opt/cloudera/parcels/CDH-5.15.1-1.cdh5.15.1.p0.4/jars/hadoop-gridmix-2.6.0-cdh5.15.1.jar:/opt/cloudera/parcels/CDH-5.15.1-1.cdh5.15.1.p0.4/jars/hadoop-hdfs-2.6.0-cdh5.15.1.jar:/opt/cloudera/parcels/CDH-5.15.1-1.cdh5.15.1.p0.4/jars/hadoop-hdfs-nfs-2.6.0-cdh5.15.1.jar:/opt/cloudera/parcels/CDH-5.15.1-1.cdh5.15.1.p0.4/jars/hadoop-mapreduce-client-app-2.6.0-cdh5.15.1.jar:/opt/cloudera/parcels/CDH-5.15.1-1.cdh5.15.1.p0.4/jars/hadoop-mapreduce-client-common-2.6.0-cdh5.15.1.jar:/opt/cloudera/parcels/CDH-5.15.1-1.cdh5.15.1.p0.4/jars/hadoop-mapreduce-client-core-2.6.0-cdh5.15.1.jar:/opt/cloudera/parcels/CDH-5.15.1-1.cdh5.15.1.p0.4/jars/hadoop-mapreduce-client-hs-2.6.0-cdh5.15.1.jar:/opt/cloudera/parcels/CDH-5.15.1-1.cdh5.15.1.p0.4/jars/hadoop-mapreduce-client-hs-plugins-2.6.0-cdh5.15.1.jar:/opt/cloudera/parcels/CDH-5.15.1-1.cdh5.15.1.p0.4/jars/hadoop-mapreduce-client-jobclient-2.6.0-cdh5.15.1.jar:/opt/cloudera/parcels/CDH-5.15.1-1.cdh5.15.1.p0.4/jars/hadoop-mapreduce-client-nativetask-2.6.0-cdh5.15.1.jar:/opt/cloudera/parcels/CDH-5.15.1-1.cdh5.15.1.p0.4/jars/hadoop-mapreduce-client-shuffle-2.6.0-cdh5.15.1.jar:/opt/cloudera/parcels/CDH-5.15.1-1.cdh5.15.1.p0.4/jars/hadoop-mapreduce-examples-2.6.0-cdh5.15.1.jar:/opt/cloudera/parcels/CDH-5.15.1-1.cdh5.15.1.p0.4/jars/hadoop-nfs-2.6.0-cdh5.15.1.jar:/opt/cloudera/parcels/CDH-5.15.1-1.cdh5.15.1.p0.4/jars/hadoop-openstack-2.6.0-cdh5.15.1.jar:/opt/cloudera/parcels/CDH-5.15.1-1.cdh5.15.1.p0.4/jars/hadoop-rumen-2.6.0-cdh5.15.1.jar:/opt/cloudera/parcels/CDH-5.15.1-1.cdh5.15.1.p0.4/jars/hadoop-sls-2.6.0-cdh5.15.1.jar:/opt/cloudera/parcels/CDH-5.15.1-1.cdh5.15.1.p0.4/jars/hadoop-streaming-2.6.0-cdh5.15.1.jar:/opt/cloudera/parcels/CDH-5.15.1-1.cdh5.15.1.p0.4/jars/hadoop-yarn-api-2.6.0-cdh5.15.1.jar:/opt/cloudera/parcels/CDH-5.15.1-1.cdh5.15.1.p0.4/jars/hadoop-yarn-applications-distributedshell-2.6.0-cdh5.15.1.jar:/opt/cloudera/parcels/CDH-5.15.1-1.cdh5.15.1.p0.4/jars/hadoop-yarn-applications-unmanaged-am-launcher-2.6.0-cdh5.15.1.jar:/opt/cloudera/parcels/CDH-5.15.1-1.cdh5.15.1.p0.4/jars/hadoop-yarn-client-2.6.0-cdh5.15.1.jar:/opt/cloudera/parcels/CDH-5.15.1-1.cdh5.15.1.p0.4/jars/hadoop-yarn-common-2.6.0-cdh5.15.1.jar:/opt/cloudera/parcels/CDH-5.15.1-1.cdh5.15.1.p0.4/jars/hadoop-yarn-registry-2.6.0-cdh5.15.1.jar:/opt/cloudera/parcels/CDH-5.15.1-1.cdh5.15.1.p0.4/jars/hadoop-yarn-server-applicationhistoryservice-2.6.0-cdh5.15.1.jar:/opt/cloudera/parcels/CDH-5.15.1-1.cdh5.15.1.p0.4/jars/hadoop-yarn-server-common-2.6.0-cdh5.15.1.jar:/opt/cloudera/parcels/CDH-5.15.1-1.cdh5.15.1.p0.4/jars/hadoop-yarn-server-nodemanager-2.6.0-cdh5.15.1.jar:/opt/cloudera/parcels/CDH-5.15.1-1.cdh5.15.1.p0.4/jars/hadoop-yarn-server-resourcemanager-2.6.0-cdh5.15.1.jar:/opt/cloudera/parcels/CDH-5.15.1-1.cdh5.15.1.p0.4/jars/hadoop-yarn-server-web-proxy-2.6.0-cdh5.15.1.jar:/opt/cloudera/parcels/CDH-5.15.1-1.cdh5.15.1.p0.4/jars/hamcrest-core-1.3.jar:/opt/cloudera/parcels/CDH-5.15.1-1.cdh5.15.1.p0.4/jars/hbase-annotations-1.2.0-cdh5.15.1.jar:/opt/cloudera/parcels/CDH-5.15.1-1.cdh5.15.1.p0.4/jars/hbase-client-1.2.0-cdh5.15.1.jar:/opt/cloudera/parcels/CDH-5.15.1-1.cdh5.15.1.p0.4/jars/hbase-common-1.2.0-cdh5.15.1.jar:/opt/cloudera/parcels/CDH-5.15.1-1.cdh5.15.1.p0.4/jars/hbase-examples-1.2.0-cdh5.15.1.jar:/opt/cloudera/parcels/CDH-5.15.1-1.cdh5.15.1.p0.4/jars/hbase-external-blockcache-1.2.0-cdh5.15.1.jar:/opt/cloudera/parcels/CDH-5.15.1-1.cdh5.15.1.p0.4/jars/hbase-hadoop-compat-1.2.0-cdh5.15.1.jar:/opt/cloudera/parcels/CDH-5.15.1-1.cdh5.15.1.p0.4/jars/hbase-hadoop2-compat-1.2.0-cdh5.15.1.jar:/opt/cloudera/parcels/CDH-5.15.1-1.cdh5.15.1.p0.4/jars/hbase-it-1.2.0-cdh5.15.1.jar:/opt/cloudera/parcels/CDH-5.15.1-1.cdh5.15.1.p0.4/jars/hbase-prefix-tree-1.2.0-cdh5.15.1.jar:/opt/cloudera/parcels/CDH-5.15.1-1.cdh5.15.1.p0.4/jars/hbase-procedure-1.2.0-cdh5.15.1.jar:/opt/cloudera/parcels/CDH-5.15.1-1.cdh5.15.1.p0.4/jars/hbase-protocol-1.2.0-cdh5.15.1.jar:/opt/cloudera/parcels/CDH-5.15.1-1.cdh5.15.1.p0.4/jars/hbase-resource-bundle-1.2.0-cdh5.15.1.jar:/opt/cloudera/parcels/CDH-5.15.1-1.cdh5.15.1.p0.4/jars/hbase-rest-1.2.0-cdh5.15.1.jar:/opt/cloudera/parcels/CDH-5.15.1-1.cdh5.15.1.p0.4/jars/hbase-rsgroup-1.2.0-cdh5.15.1.jar:/opt/cloudera/parcels/CDH-5.15.1-1.cdh5.15.1.p0.4/jars/hbase-server-1.2.0-cdh5.15.1.jar:/opt/cloudera/parcels/CDH-5.15.1-1.cdh5.15.1.p0.4/jars/hbase-shell-1.2.0-cdh5.15.1.jar:/opt/cloudera/parcels/CDH-5.15.1-1.cdh5.15.1.p0.4/jars/hbase-thrift-1.2.0-cdh5.15.1.jar:/opt/cloudera/parcels/CDH-5.15.1-1.cdh5.15.1.p0.4/jars/high-scale-lib-1.1.1.jar:/opt/cloudera/parcels/CDH-5.15.1-1.cdh5.15.1.p0.4/jars/hsqldb-1.8.0.10.jar:/opt/cloudera/parcels/CDH-5.15.1-1.cdh5.15.1.p0.4/jars/htrace-core-3.2.0-incubating.jar:/opt/cloudera/parcels/CDH-5.15.1-1.cdh5.15.1.p0.4/jars/htrace-core4-4.0.1-incubating.jar:/opt/cloudera/parcels/CDH-5.15.1-1.cdh5.15.1.p0.4/jars/httpclient-4.2.5.jar:/opt/cloudera/parcels/CDH-5.15.1-1.cdh5.15.1.p0.4/jars/httpcore-4.2.5.jar:/opt/cloudera/parcels/CDH-5.15.1-1.cdh5.15.1.p0.4/jars/hue-plugins-3.9.0-cdh5.15.1.jar:/opt/cloudera/parcels/CDH-5.15.1-1.cdh5.15.1.p0.4/jars/jackson-annotations-2.2.3.jar:/opt/cloudera/parcels/CDH-5.15.1-1.cdh5.15.1.p0.4/jars/jackson-core-2.2.3.jar:/opt/cloudera/parcels/CDH-5.15.1-1.cdh5.15.1.p0.4/jars/jackson-core-asl-1.8.8.jar:/opt/cloudera/parcels/CDH-5.15.1-1.cdh5.15.1.p0.4/jars/jackson-databind-2.2.3.jar:/opt/cloudera/parcels/CDH-5.15.1-1.cdh5.15.1.p0.4/jars/jackson-mapper-asl-1.8.8.jar:/opt/cloudera/parcels/CDH-5.15.1-1.cdh5.15.1.p0.4/jars/jamon-runtime-2.4.1.jar:/opt/cloudera/parcels/CDH-5.15.1-1.cdh5.15.1.p0.4/jars/jasper-compiler-5.5.23.jar:/opt/cloudera/parcels/CDH-5.15.1-1.cdh5.15.1.p0.4/jars/jasper-runtime-5.5.23.jar:/opt/cloudera/parcels/CDH-5.15.1-1.cdh5.15.1.p0.4/jars/java-xmlbuilder-0.4.jar:/opt/cloudera/parcels/CDH-5.15.1-1.cdh5.15.1.p0.4/jars/javax.inject-1.jar:/opt/cloudera/parcels/CDH-5.15.1-1.cdh5.15.1.p0.4/jars/jaxb-api-2.1.jar:/opt/cloudera/parcels/CDH-5.15.1-1.cdh5.15.1.p0.4/jars/jaxb-api-2.2.2.jar:/opt/cloudera/parcels/CDH-5.15.1-1.cdh5.15.1.p0.4/jars/jaxb-impl-2.2.3-1.jar:/opt/cloudera/parcels/CDH-5.15.1-1.cdh5.15.1.p0.4/jars/jcodings-1.0.8.jar:/opt/cloudera/parcels/CDH-5.15.1-1.cdh5.15.1.p0.4/jars/jets3t-0.9.0.jar:/opt/cloudera/parcels/CDH-5.15.1-1.cdh5.15.1.p0.4/jars/jettison-1.1.jar:/opt/cloudera/parcels/CDH-5.15.1-1.cdh5.15.1.p0.4/jars/jettison-1.3.3.jar:/opt/cloudera/parcels/CDH-5.15.1-1.cdh5.15.1.p0.4/jars/jline-2.11.jar:/opt/cloudera/parcels/CDH-5.15.1-1.cdh5.15.1.p0.4/jars/joni-2.1.2.jar:/opt/cloudera/parcels/CDH-5.15.1-1.cdh5.15.1.p0.4/jars/jruby-cloudera-1.0.0.jar:/opt/cloudera/parcels/CDH-5.15.1-1.cdh5.15.1.p0.4/jars/jsch-0.1.42.jar:/opt/cloudera/parcels/CDH-5.15.1-1.cdh5.15.1.p0.4/jars/jsp-2.1-6.1.14.jar:/opt/cloudera/parcels/CDH-5.15.1-1.cdh5.15.1.p0.4/jars/jsp-api-2.1-6.1.14.jar:/opt/cloudera/parcels/CDH-5.15.1-1.cdh5.15.1.p0.4/jars/jsp-api-2.1.jar:/opt/cloudera/parcels/CDH-5.15.1-1.cdh5.15.1.p0.4/jars/jsr305-3.0.0.jar:/opt/cloudera/parcels/CDH-5.15.1-1.cdh5.15.1.p0.4/jars/leveldbjni-all-1.8.jar:/opt/cloudera/parcels/CDH-5.15.1-1.cdh5.15.1.p0.4/jars/log4j-1.2.16.jar:/opt/cloudera/parcels/CDH-5.15.1-1.cdh5.15.1.p0.4/jars/log4j-1.2.17.jar:/opt/cloudera/parcels/CDH-5.15.1-1.cdh5.15.1.p0.4/jars/metrics-core-2.2.0.jar:/opt/cloudera/parcels/CDH-5.15.1-1.cdh5.15.1.p0.4/jars/metrics-core-3.0.2.jar:/opt/cloudera/parcels/CDH-5.15.1-1.cdh5.15.1.p0.4/jars/microsoft-windowsazure-storage-sdk-0.6.0.jar:/opt/cloudera/parcels/CDH-5.15.1-1.cdh5.15.1.p0.4/jars/mockito-all-1.8.5.jar:/opt/cloudera/parcels/CDH-5.15.1-1.cdh5.15.1.p0.4/jars/netty-3.10.5.Final.jar:/opt/cloudera/parcels/CDH-5.15.1-1.cdh5.15.1.p0.4/jars/netty-all-4.0.23.Final.jar:/opt/cloudera/parcels/CDH-5.15.1-1.cdh5.15.1.p0.4/jars/okhttp-2.4.0.jar:/opt/cloudera/parcels/CDH-5.15.1-1.cdh5.15.1.p0.4/jars/okio-1.4.0.jar:/opt/cloudera/parcels/CDH-5.15.1-1.cdh5.15.1.p0.4/jars/paranamer-2.3.jar:/opt/cloudera/parcels/CDH-5.15.1-1.cdh5.15.1.p0.4/jars/protobuf-java-2.5.0.jar:/opt/cloudera/parcels/CDH-5.15.1-1.cdh5.15.1.p0.4/jars/slf4j-api-1.7.5.jar:/opt/cloudera/parcels/CDH-5.15.1-1.cdh5.15.1.p0.4/jars/slf4j-log4j12-1.7.5.jar:/opt/cloudera/parcels/CDH-5.15.1-1.cdh5.15.1.p0.4/jars/snappy-java-1.0.4.1.jar:/opt/cloudera/parcels/CDH-5.15.1-1.cdh5.15.1.p0.4/jars/spark-1.6.0-cdh5.15.1-yarn-shuffle.jar:/opt/cloudera/parcels/CDH-5.15.1-1.cdh5.15.1.p0.4/jars/spymemcached-2.11.6.jar:/opt/cloudera/parcels/CDH-5.15.1-1.cdh5.15.1.p0.4/jars/stax-api-1.0-2.jar:/opt/cloudera/parcels/CDH-5.15.1-1.cdh5.15.1.p0.4/jars/xercesImpl-2.9.1.jar:/opt/cloudera/parcels/CDH-5.15.1-1.cdh5.15.1.p0.4/jars/xml-apis-1.3.04.jar:/opt/cloudera/parcels/CDH-5.15.1-1.cdh5.15.1.p0.4/jars/xmlenc-0.52.jar:/opt/cloudera/parcels/CDH-5.15.1-1.cdh5.15.1.p0.4/jars/zookeeper-3.4.5-cdh5.15.1.jar:/opt/cloudera/parcels/CDH-5.15.1-1.cdh5.15.1.p0.4/lib/hadoop/LICENSE.txt:/opt/cloudera/parcels/CDH-5.15.1-1.cdh5.15.1.p0.4/lib/hadoop/NOTICE.txt:/usr/java/jdk1.8.0_162/lib/tools.jar\n",
      "21/10/20 15:41:07 INFO zookeeper.ZooKeeper: Client environment:java.library.path=:/opt/cloudera/parcels/CDH-5.15.1-1.cdh5.15.1.p0.4/lib/hadoop/lib/native:/opt/cloudera/parcels/CDH-5.15.1-1.cdh5.15.1.p0.4/lib/hadoop/lib/native:/usr/java/packages/lib/amd64:/usr/lib64:/lib64:/lib:/usr/lib\n",
      "21/10/20 15:41:07 INFO zookeeper.ZooKeeper: Client environment:java.io.tmpdir=/tmp\n",
      "21/10/20 15:41:07 INFO zookeeper.ZooKeeper: Client environment:java.compiler=<NA>\n",
      "21/10/20 15:41:07 INFO zookeeper.ZooKeeper: Client environment:os.name=Linux\n",
      "21/10/20 15:41:07 INFO zookeeper.ZooKeeper: Client environment:os.arch=amd64\n",
      "21/10/20 15:41:07 INFO zookeeper.ZooKeeper: Client environment:os.version=3.10.0-1127.18.2.el7.x86_64\n",
      "21/10/20 15:41:07 INFO zookeeper.ZooKeeper: Client environment:user.name=ut_halo_ts\n",
      "21/10/20 15:41:07 INFO zookeeper.ZooKeeper: Client environment:user.home=/var/lib/ut_halo_ts\n",
      "21/10/20 15:41:07 INFO zookeeper.ZooKeeper: Client environment:user.dir=/run/cloudera-scm-agent/process/8036-ut_halo_ts-LIVY_TS\n",
      "21/10/20 15:41:07 INFO zookeeper.ZooKeeper: Initiating client connection, connectString=lxcdhkafkav1d.dc.ht.hr:2181,lxcdhkafkav3d.dc.ht.hr:2181,lxcdhkafkav2d.dc.ht.hr:2181 sessionTimeout=60000 watcher=hconnection-0x14d8e1320x0, quorum=lxcdhkafkav1d.dc.ht.hr:2181,lxcdhkafkav3d.dc.ht.hr:2181,lxcdhkafkav2d.dc.ht.hr:2181, baseZNode=/hbase\n",
      "21/10/20 15:41:07 INFO zookeeper.ClientCnxn: Opening socket connection to server lxcdhkafkav1d.dc.ht.hr/10.240.151.192:2181. Will not attempt to authenticate using SASL (unknown error)\n",
      "21/10/20 15:41:07 INFO zookeeper.ClientCnxn: Socket connection established, initiating session, client: /10.240.151.64:40730, server: lxcdhkafkav1d.dc.ht.hr/10.240.151.192:2181\n",
      "21/10/20 15:41:07 INFO zookeeper.ClientCnxn: Session establishment complete on server lxcdhkafkav1d.dc.ht.hr/10.240.151.192:2181, sessionid = 0x1783fbf53ad696b, negotiated timeout = 60000\n",
      "21/10/20 15:41:07 INFO client.ConnectionManager$HConnectionImplementation: Closing zookeeper sessionid=0x1783fbf53ad696b\n",
      "21/10/20 15:41:07 INFO zookeeper.ZooKeeper: Session: 0x1783fbf53ad696b closed\n",
      "21/10/20 15:41:07 INFO zookeeper.ClientCnxn: EventThread shut down\n",
      "21/10/20 15:41:07 INFO security.HBaseDelegationTokenProvider: Get token from HBase: Kind: HBASE_AUTH_TOKEN, Service: c825f891-ee43-4b84-bec7-b9c8f4357ab2, Ident: (org.apache.hadoop.hbase.security.token.AuthenticationTokenIdentifier@3301)\n",
      "21/10/20 15:41:07 INFO yarn.Client: Submitting application application_1620749185953_137727 to ResourceManager\n",
      "21/10/20 15:41:07 INFO impl.YarnClientImpl: Submitted application application_1620749185953_137727\n",
      "21/10/20 15:41:07 INFO yarn.Client: Application report for application_1620749185953_137727 (state: ACCEPTED)\n",
      "21/10/20 15:41:07 INFO yarn.Client: \n",
      "\t client token: N/A\n",
      "\t diagnostics: N/A\n",
      "\t ApplicationMaster host: N/A\n",
      "\t ApplicationMaster RPC port: -1\n",
      "\t queue: root.users.tsystems_kkeshore\n",
      "\t start time: 1634737267518\n",
      "\t final status: UNDEFINED\n",
      "\t tracking URL: http://lxcdhmasterv1d.dc.ht.hr:8088/proxy/application_1620749185953_137727/\n",
      "\t user: tsystems_kkeshore\n",
      "21/10/20 15:41:07 INFO util.ShutdownHookManager: Shutdown hook called\n",
      "21/10/20 15:41:07 INFO util.ShutdownHookManager: Deleting directory /tmp/spark-ac7a553e-4f02-4b08-8b24-7617436dbc97\n",
      "21/10/20 15:41:07 INFO util.ShutdownHookManager: Deleting directory /tmp/spark-442ca555-6527-4687-baa2-f3e912630e29\n",
      "\n",
      "YARN Diagnostics: \n",
      "Application killed by user..\n",
      "\n",
      "Some things to try:\n",
      "a) Make sure Spark has enough available resources for Jupyter to create a Spark context.\n",
      "b) Contact your Jupyter administrator to make sure the Spark magics library is configured correctly.\n",
      "c) Restart the kernel.\n"
     ]
    }
   ],
   "source": [
    "# if __name__ == '__main__':\n",
    "#     main(sys.argv)"
   ]
  },
  {
   "cell_type": "code",
   "execution_count": null,
   "metadata": {},
   "outputs": [],
   "source": []
  },
  {
   "cell_type": "code",
   "execution_count": null,
   "metadata": {},
   "outputs": [],
   "source": []
  },
  {
   "cell_type": "code",
   "execution_count": null,
   "metadata": {},
   "outputs": [],
   "source": []
  },
  {
   "cell_type": "code",
   "execution_count": null,
   "metadata": {},
   "outputs": [],
   "source": []
  },
  {
   "cell_type": "code",
   "execution_count": null,
   "metadata": {},
   "outputs": [],
   "source": []
  },
  {
   "cell_type": "code",
   "execution_count": null,
   "metadata": {},
   "outputs": [],
   "source": []
  }
 ],
 "metadata": {
  "kernelspec": {
   "display_name": "PySpark",
   "language": "",
   "name": "pysparkkernel"
  },
  "language_info": {
   "codemirror_mode": {
    "name": "python",
    "version": 3
   },
   "mimetype": "text/x-python",
   "name": "pyspark",
   "pygments_lexer": "python3"
  }
 },
 "nbformat": 4,
 "nbformat_minor": 4
}
