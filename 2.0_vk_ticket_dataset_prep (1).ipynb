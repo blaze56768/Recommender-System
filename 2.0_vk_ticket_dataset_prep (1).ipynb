{
 "cells": [
  {
   "cell_type": "markdown",
   "metadata": {},
   "source": [
    "# Filtering DSL & Non-DSL related Tickets\n",
    "\n",
    "The main goal of this notebook is to filter DSL related issue tickets from tickets database for time span of 1st Jan 2020 to April 2021.\n",
    "\n",
    "\n",
    "\n",
    ">Output data format expected:\n",
    "* We would be expecting a dataframe with 3 unique columns i.e., **|assetid|incident_date|label|** which would provide us the DSL tickets reached to the maximum level(expensive solution) for any assetid.\n",
    "\n",
    "\n",
    "\n",
    ">Steps involved:\n",
    "* Get tickets data \n",
    "* Get DSL data for same time span and filter only those tickets which have dsl data in database\n",
    "* Filter all cpe relacement and refurbushed cpe with Issues and keep noproblem one\n"
   ]
  },
  {
   "cell_type": "markdown",
   "metadata": {},
   "source": [
    "## Table Of Contents:\n",
    "* [1. Import packages and config](#sec1)\n",
    "    * [1.1 Spark configuration](#sec2)\n",
    "    * [1.2 Import Packages](#sec3)\n",
    "    * [1.3 Setup style](#sec4)\n",
    "* [2. Load tickets data](#sec5)\n",
    "* [3. Load pol agg data](#sec6)\n",
    "* [4. Load different data](#sec7)\n",
    "    * [4.1 Load Replacement data](#sec8)\n",
    "    * [4.2 Load Refurbishment data](#sec9)\n",
    "    * [4.3 Join Refurbishment & Replacement data](#sec10)\n",
    "    * [4.4 Filter CPEs with \"No Problem\"](#sec11)\n",
    "    * [4.5 Filter CPES with all issues from the data](#sec12)\n",
    "* [5. Filter DSL ticketds data](#sec13)\n",
    "    * [5.1 Filter DSL tickets data with all levels](#sec14)\n",
    "* [6. Filter Non-DSL tickets data](#sec15)"
   ]
  },
  {
   "cell_type": "markdown",
   "metadata": {},
   "source": [
    "## 1. Import packages and config <a class=\"anchor\" id=\"sec1\"></a>"
   ]
  },
  {
   "cell_type": "markdown",
   "metadata": {},
   "source": [
    "###  1.1 Spark configuration <a class=\"anchor\" id=\"sec2\"></a>\n",
    "Lets configure our spark session"
   ]
  },
  {
   "cell_type": "code",
   "execution_count": 1,
   "metadata": {},
   "outputs": [
    {
     "data": {
      "text/html": [
       "Current session configs: <tt>{'conf': {'spark.driver.cores': '6', 'spark.driver.memory': '14g', 'spark.executor.cores': '6', 'spark.executor.memory': '14g', 'spark.dynamicAllocation.enabled': 'true', 'spark.dynamicAllocation.minExecutors': '4', 'spark.driver.maxResultSize': '4g'}, 'kind': 'pyspark'}</tt><br>"
      ],
      "text/plain": [
       "<IPython.core.display.HTML object>"
      ]
     },
     "metadata": {},
     "output_type": "display_data"
    },
    {
     "data": {
      "text/html": [
       "<table>\n",
       "<tr><th>ID</th><th>YARN Application ID</th><th>Kind</th><th>State</th><th>Spark UI</th><th>Driver log</th><th>Current session?</th></tr><tr><td>1572</td><td>application_1620749185953_146498</td><td>pyspark</td><td>idle</td><td><a target=\"_blank\" href=\"http://lxcdhmasterv1d.dc.ht.hr:8088/proxy/application_1620749185953_146498/\">Link</a></td><td><a target=\"_blank\" href=\"http://lxcdhworkerph4d.dc.ht.hr:8042/node/containerlogs/container_e60_1620749185953_146498_01_000001/tsystems_abhide\">Link</a></td><td></td></tr></table>"
      ],
      "text/plain": [
       "<IPython.core.display.HTML object>"
      ]
     },
     "metadata": {},
     "output_type": "display_data"
    }
   ],
   "source": [
    "%%configure -f\n",
    "{\"conf\":\n",
    " {\"spark.driver.cores\": \"6\",\n",
    "  \"spark.driver.memory\": \"14g\",\n",
    "  \"spark.executor.cores\": \"6\",\n",
    "  \"spark.executor.memory\": \"14g\",\n",
    "  \"spark.dynamicAllocation.enabled\": \"true\",\n",
    "  \"spark.dynamicAllocation.minExecutors\" : \"4\",\n",
    "  \"spark.driver.maxResultSize\": \"4g\"\n",
    "    }\n",
    "}"
   ]
  },
  {
   "cell_type": "markdown",
   "metadata": {},
   "source": [
    "###  1.2 Import packages <a class=\"anchor\" id=\"sec3\"></a>"
   ]
  },
  {
   "cell_type": "code",
   "execution_count": 2,
   "metadata": {},
   "outputs": [
    {
     "name": "stdout",
     "output_type": "stream",
     "text": [
      "Starting Spark application\n"
     ]
    },
    {
     "data": {
      "text/html": [
       "<table>\n",
       "<tr><th>ID</th><th>YARN Application ID</th><th>Kind</th><th>State</th><th>Spark UI</th><th>Driver log</th><th>Current session?</th></tr><tr><td>1573</td><td>application_1620749185953_146533</td><td>pyspark</td><td>idle</td><td><a target=\"_blank\" href=\"http://lxcdhmasterv1d.dc.ht.hr:8088/proxy/application_1620749185953_146533/\">Link</a></td><td><a target=\"_blank\" href=\"http://lxcdhworkerph5d.dc.ht.hr:8042/node/containerlogs/container_e60_1620749185953_146533_01_000001/tsystems_vkumar\">Link</a></td><td>✔</td></tr></table>"
      ],
      "text/plain": [
       "<IPython.core.display.HTML object>"
      ]
     },
     "metadata": {},
     "output_type": "display_data"
    },
    {
     "data": {
      "application/vnd.jupyter.widget-view+json": {
       "model_id": "",
       "version_major": 2,
       "version_minor": 0
      },
      "text/plain": [
       "FloatProgress(value=0.0, bar_style='info', description='Progress:', layout=Layout(height='25px', width='50%'),…"
      ]
     },
     "metadata": {},
     "output_type": "display_data"
    },
    {
     "name": "stdout",
     "output_type": "stream",
     "text": [
      "SparkSession available as 'spark'.\n"
     ]
    },
    {
     "data": {
      "application/vnd.jupyter.widget-view+json": {
       "model_id": "",
       "version_major": 2,
       "version_minor": 0
      },
      "text/plain": [
       "FloatProgress(value=0.0, bar_style='info', description='Progress:', layout=Layout(height='25px', width='50%'),…"
      ]
     },
     "metadata": {},
     "output_type": "display_data"
    }
   ],
   "source": [
    "# Data Science Packages\n",
    "import sys\n",
    "import matplotlib\n",
    "import matplotlib.pyplot as plt\n",
    "import numpy as np\n",
    "import pandas as pd\n",
    "from  matplotlib import pyplot\n",
    "import seaborn as sns\n",
    "import warnings\n",
    "from datetime import datetime\n",
    "from datetime import timedelta\n",
    "import datetime\n",
    "\n",
    "\n",
    "#Spark Packages\n",
    "from pyspark.sql import SparkSession\n",
    "import pyspark.sql.functions as F\n",
    "from pyspark.sql import DataFrame\n",
    "from pyspark.sql import types \n",
    "import pyspark.sql.types\n",
    "from pyspark.sql.functions import UserDefinedFunction\n",
    "from pyspark.sql.functions import col"
   ]
  },
  {
   "cell_type": "markdown",
   "metadata": {},
   "source": [
    "###  1.3  Let's setup some style!<a class=\"anchor\" id=\"sec3\"></a>\n",
    "This is not a requirement but anyway you know that they say:\n",
    "> \"Fashions fade, style is eternal.\" <br/>\n",
    "_Yves Saint Laurent_"
   ]
  },
  {
   "cell_type": "code",
   "execution_count": 3,
   "metadata": {},
   "outputs": [
    {
     "data": {
      "application/vnd.jupyter.widget-view+json": {
       "model_id": "",
       "version_major": 2,
       "version_minor": 0
      },
      "text/plain": [
       "FloatProgress(value=0.0, bar_style='info', description='Progress:', layout=Layout(height='25px', width='50%'),…"
      ]
     },
     "metadata": {},
     "output_type": "display_data"
    }
   ],
   "source": [
    "# Matplotlib\n",
    "\n",
    "#matplotlib.use('agg')\n",
    "plt.switch_backend('agg')\n",
    "\n",
    "# Seaborn Style\n",
    "sns.set(style='ticks')\n",
    "sns.set_style({'font.family': 'Hiragino Maru Gothic Pro'})\n",
    "sns.set_palette(\"cool\")\n",
    "\n",
    "# Pandas Style\n",
    "pd.set_option(\"display.max_column\", 9999)\n",
    "pd.set_option(\"display.max_row\", 9999)\n",
    "\n",
    "# Ignore annoying warning \n",
    "warnings.filterwarnings('ignore')"
   ]
  },
  {
   "cell_type": "markdown",
   "metadata": {},
   "source": [
    "##  2. Loading Tickets Data  <a class=\"anchor\" id=\"sec5\"></a>\n",
    "\n",
    "Let's load tickets data with some necessary fields"
   ]
  },
  {
   "cell_type": "code",
   "execution_count": 4,
   "metadata": {},
   "outputs": [
    {
     "data": {
      "application/vnd.jupyter.widget-view+json": {
       "model_id": "",
       "version_major": 2,
       "version_minor": 0
      },
      "text/plain": [
       "FloatProgress(value=0.0, bar_style='info', description='Progress:', layout=Layout(height='25px', width='50%'),…"
      ]
     },
     "metadata": {},
     "output_type": "display_data"
    }
   ],
   "source": [
    "path_tickets_1 = \"hdfs://nameservicedev1//user/dt_srajan/predictive_care/tickets/Smetnje_0107-1510_2020.csv\"\n",
    "df_tickets_1 = spark.read.option(\"encoding\", \"ISO-8859-1\").option(\"inferSchema\", \"true\").csv(path_tickets_1,header = True,sep=\";\")"
   ]
  },
  {
   "cell_type": "code",
   "execution_count": 5,
   "metadata": {},
   "outputs": [
    {
     "data": {
      "application/vnd.jupyter.widget-view+json": {
       "model_id": "",
       "version_major": 2,
       "version_minor": 0
      },
      "text/plain": [
       "FloatProgress(value=0.0, bar_style='info', description='Progress:', layout=Layout(height='25px', width='50%'),…"
      ]
     },
     "metadata": {},
     "output_type": "display_data"
    },
    {
     "name": "stdout",
     "output_type": "stream",
     "text": [
      "['SOURCE', 'SOURCE_ID', 'TICKET_ID', 'START_PERIOD', 'START_DATE', 'START_DATE_TIME_DONAT', 'FAULT_END_DATE', 'FAULT_END_DATE_TIME', 'COMPLAINT_PROCESS_END_DATE', 'COMPLAINT_PROCESS_END_TIME', 'DISPETCH_DATE', 'DISPETCH_TIME', 'DISPETCH_DATE_TIME', 'ASSET_ID', 'EXEC_REG', 'EXEC_GA', 'EXEC_FG', 'EXEC_FG_DESCR', 'EXECUTOR_ID', 'EXECUTOR_NAME', 'S_REG', 'FRC_SERVICE', 'SERVICE_TYPE', 'SEGMENT_ID', 'COMPLAINT_STATUS_ID', 'COMPL_KEY_STATION_ID', 'COMPL_KEY_REASON_ID', 'COMPL_KEY_LOGOFF_ID', 'COMPL_KEY_TYPE_ID', 'COMPL_KEY_DEFLECTION_ID', 'FAULT_DURATION', 'KPI_DURATION', 'FAULT_HANDLING_DURATION', 'NETWORK_DURATION', 'CC_DURATION', 'FAULT_END_TO_END_DURATION', 'TECHNOLOGY', 'CLEARED_TEMPORARELY', 'SMETNJA_GRUPIRANA', 'SMETNJA_OTKLONJENA_IZLASKOM', 'RISING_SITE', 'COMPL_DISCONN', 'NUMBER_COME_BACK', 'FAULT_RESOLUTION', 'WORK_CODE', 'ACTION_TYPE', 'COMPLAINT_SOURCE', 'ADSL_MODEM_CHANGE', 'ADSL_MODEM_PRICE', 'DISPETCH_SMC', 'FR_DISPETCH_EXEC', 'FR_DISPETCH_SMC', 'SUMMARY', 'FDM', 'CX_TYPE', 'INSTALLATION_COUNTY', 'TERRITORY_GEOGRAFIC_AREA_ID', 'TERRITORY_FIELD_GROUP_ID', 'ZONE_NAME', 'SPECIJALNI_BROJEVI', 'SOLUTION_LEVEL', 'ID_IZVODA', 'ASSET_PHONE_KEY', 'PONOVILA_SE_ZA_DANA', 'PONOVLJENA_NAKON_DANA', 'DUPLICATE_ROW', 'DURATION_WAITING_TO_USER', 'DURATION_2LEVEL', 'IVR_OUT', 'SUMMARY_DESCR', 'PONOVLJENA_NAKON_DANA_WWMS', 'PONOVILA_SE_ZA_DANA_WWMS', 'EXECUTOR_LVL1_ID', 'EXECUTOR_LVL1_NAME', 'SOURCE_NEW', 'TICKET_ID_PRIJE', 'TICKET_ID_POSLIJE', 'SOURCE_PRIJE', 'SOURCE_POSLIJE', 'SOURCE_FROM', 'EXECUTOR_AGENT_COMP_ID', 'TICKET_ID_PRIJE_WWMS', 'TICKET_ID_POSLIJE_WWMS', 'VRSTA_VELEPRODAJNE_SMETNJE', 'SMETNJA_RIJESENA', 'SMETNJA_STORNIRANA', 'ATTACHMENT', 'PARKING_PLANNED_END_DATE', 'PARKING_PLANNED_END_TIME', 'STATUS_SMETNJE', 'CPE_TYPE', 'COMPLAINT_PROCESS_END_DATETIME', 'FDM_ID', 'HELP_MODUL_KEY', 'TIP_SMETNJE', 'COMPL_TYPE_ID', 'COMPL_TYPE_END_ID', 'SMC_DISPECIRAO', 'ZEUS_SMETNJA', 'PONOVLJENA_NAKON_DANA_C1_WWMS', 'PONOVILA_SE_ZA_DANA_C1_WWMS', 'PONOVLJENA_NAKON_DANA_C1', 'PONOVILA_SE_ZA_DANA_C1', 'PARKING_DUR_EMPLOYEE_IN_DANGER', 'COMPL_TYPE_COV_ID', 'TP', 'DURATION_ENTS', 'NUMBER_FR_MDF', 'DATUM_PRIJAVE_SMETNJE', 'Mjesto_smetnje', 'Uzrok_smetnje', 'Vrsta_prijavljene_smetnje', 'Konacna_odjava', 'Nacin_otklona']"
     ]
    }
   ],
   "source": [
    "df_tickets_1.columns"
   ]
  },
  {
   "cell_type": "code",
   "execution_count": 7,
   "metadata": {},
   "outputs": [
    {
     "data": {
      "application/vnd.jupyter.widget-view+json": {
       "model_id": "",
       "version_major": 2,
       "version_minor": 0
      },
      "text/plain": [
       "FloatProgress(value=0.0, bar_style='info', description='Progress:', layout=Layout(height='25px', width='50%'),…"
      ]
     },
     "metadata": {},
     "output_type": "display_data"
    }
   ],
   "source": [
    "df_tickets_1p = df_tickets_1.toPandas()"
   ]
  },
  {
   "cell_type": "code",
   "execution_count": 12,
   "metadata": {},
   "outputs": [
    {
     "data": {
      "application/vnd.jupyter.widget-view+json": {
       "model_id": "",
       "version_major": 2,
       "version_minor": 0
      },
      "text/plain": [
       "FloatProgress(value=0.0, bar_style='info', description='Progress:', layout=Layout(height='25px', width='50%'),…"
      ]
     },
     "metadata": {},
     "output_type": "display_data"
    },
    {
     "name": "stdout",
     "output_type": "stream",
     "text": [
      "array([u'Uklanjanje smetnje ADSL (Max TV) - prekid',\n",
      "       u'Uklanjanje smetnje ADSL (Max TV) - prekid - SMART',\n",
      "       u'Uklanjanje smetnje ULL - prekid- Komercijalna, Regulirana',\n",
      "       u'Uklanjanje smetnje ADSL (VoIP, Max TV) - prekid- Hybrid Access',\n",
      "       u'Uklanjanje smetnji (FTTH:Internet,Net Phone paketi) - SMART',\n",
      "       u'Uklanjanje smetnje ADSL (VoIP, Max TV) - prekid, nije migriran IPTV korisnik',\n",
      "       u'Zamjena opreme preko tehni\\xe8ara- Hybrid Access',\n",
      "       u'Uklanjanje smetnje ADSL (VoIP, Max TV) - degradacija- Premium podr\\x9aka',\n",
      "       u'Uklanjanje smetnje ADSL (VoIP) - prekid',\n",
      "       u'Uklanjanje smetnje Bitstream - prekid- Regulirana, Komercijalna',\n",
      "       u'Uklanjanje smetnje ADSL (VoIP, Max TV) - prekid',\n",
      "       u'Uklanjanje smetnji (FTTH:Internet,Halo,MAXTV)',\n",
      "       u'Uklanjanje smetnje (NetPhone paket) - prekid - SMART',\n",
      "       u'Uklanjanje smetnje ADSL (VoIP) - degradacija',\n",
      "       u'Uklanjanje smetnji (FTTH:Veleprodajni FTTH)- Komercijalna',\n",
      "       u'Uklanjanje smetnje ADSL - prekid',\n",
      "       u'Uklanjanje smetnje Bitstream - prekid- Komercijalna',\n",
      "       u'Uklanjanje smetnje ULL - prekid- Komercijalna',\n",
      "       u'Uklanjanje smetnje (MSAN) - prekid',\n",
      "       u'Uklanjanje smetnje Bitstream - prekid- Komercijalna, Regulirana',\n",
      "       u'Uklanjanje smetnji (FTTH:Internet,MAXTV,Net Phone paketi) - SMART',\n",
      "       u'Uklanjanje smetnje MAXtv Sat (bez ADSL pristupa) - degradacija',\n",
      "       u'Uklanjanje smetnje MAXnet mini - degradacija',\n",
      "       u'Uklanjanje smetnje MAXnet mini - prekid',\n",
      "       u'Uklanjanje smetnje ADSL (VoIP, Max TV) - degradacija',\n",
      "       u'Uklanjanje smetnje ULL - prekid- Regulirana, Komercijalna',\n",
      "       u'Uklanjanje smetnje (NetPhone paket) - prekid',\n",
      "       u'Uklanjanje smetnje ADSL (VoIP) - prekid- Hybrid Access',\n",
      "       u'Uklanjanje smetnje (HotSpot) - prekid',\n",
      "       u'Uklanjanje smetnje ADSL (VoIP) - degradacija- Hybrid Access',\n",
      "       u'Uklanjanje smetnje ADSL (Max TV SA) - degradacija',\n",
      "       u'Zamjena opreme preko tehni\\xe8ara - SMART- 4G Backup',\n",
      "       u'Uklanjanje smetnje ADSL (Max TV SA) - prekid',\n",
      "       u'Uklanjanje smetnje ADSL (VoIP, Max TV) - degradacija- Hybrid Access',\n",
      "       u'Uklanjanje smetnje ADSL - prekid - SMART- 4G Backup',\n",
      "       u'Uklanjanje smetnje ADSL - degradacija- Hybrid Access',\n",
      "       u'Uklanjanje smetnje Bitstream - prekid - WS_SLA1- Regulirana, Komercijalna',\n",
      "       u'Uklanjanje smetnje ADSL (VoIP, Max TV SA) - degradacija',\n",
      "       u'Uklanjanje smetnje MAXtv Sat (bez ADSL pristupa) - prekid',\n",
      "       u'Uklanjanje smetnje ADSL (VoIP, Max TV SA) - prekid',\n",
      "       u'Uklanjanje smetnje ULL - prekid- Komercijalna- reopen',\n",
      "       u'Uklanjanje smetnje ADSL (MaxTV DTH) - prekid',\n",
      "       u'Uklanjanje smetnji (FTTH:Internet,Halo,MAXTV)- reopen',\n",
      "       u'Uklanjanje smetnje Bitstream - prekid- Komercijalna, Regulirana- reopen',\n",
      "       u'Uklanjanje smetnje ADSL (VoIP, Max TV) - prekid- Hybrid Access, nije migriran IPTV korisnik',\n",
      "       u'Uklanjanje smetnje ADSL (VoIP, Max TV) - prekid- reopen',\n",
      "       u'Uklanjanje smetnje ADSL (VoIP, Max TV) - degradacija- Hybrid Access- reopen',\n",
      "       u'Uklanjanje smetnje ADSL (Max TV) - prekid- reopen',\n",
      "       u'Uklanjanje smetnji (FTTH:Internet,Halo,MAXTV)- OM Drugi operator- reopen',\n",
      "       u'Uklanjanje smetnje ADSL (Max TV) - prekid- SMART- 4G Backup- reopen',\n",
      "       u'Uklanjanje smetnji (FTTH:Internet,Halo)',\n",
      "       u'Uklanjanje smetnje ADSL - prekid - OLD_SMART- 4G Backup',\n",
      "       u'Uklanjanje smetnje ADSL (VoIP) (MaxTV DTH) - prekid- Hybrid Access',\n",
      "       u'Uklanjanje smetnje ADSL (Max TV) - degradacija- Hybrid Access, nije migriran IPTV korisnik - SMART',\n",
      "       u'Uklanjanje smetnje ADSL (VoIP, Max TV) - degradacija- reopen',\n",
      "       u'Uklanjanje smetnje ADSL - prekid - SMART',\n",
      "       u'Zamjena opreme preko tehni\\xe8ara',\n",
      "       u'Uklanjanje smetnje MAXtv Sat (bez ADSL pristupa) - prekid - Premium podr\\x9aka',\n",
      "       u'Uklanjanje smetnje (MSAN) - prekid- reopen',\n",
      "       u'Uklanjanje smetnje (NetPhone paket) - degradacija - SMART',\n",
      "       u'Uklanjanje smetnje (NetPhone paket) - prekid- reopen',\n",
      "       u'Uklanjanje smetnje ADSL (Max TV) - prekid- Hybrid Access, nije migriran IPTV korisnik - SMART- reope',\n",
      "       u'Uklanjanje smetnje ADSL (Max TV) - prekid, nije migriran IPTV korisnik - SMART',\n",
      "       u'Uklanjanje smetnje ADSL - degradacija - SMART',\n",
      "       u'Uklanjanje smetnje Bitstream - prekid- Regulirana, Komercijalna- reopen',\n",
      "       u'Uklanjanje smetnje ADSL (Max TV) - prekid - SMART- 4G Backup',\n",
      "       u'Uklanjanje smetnje ADSL (VoIP) (MaxTV DTH) - prekid',\n",
      "       u'Zamjena opreme preko tehni\\xe8ara- Hybrid Access- reopen',\n",
      "       u'Uklanjanje smetnje ADSL - prekid- Hybrid Access',\n",
      "       u'Uklanjanje smetnje ADSL - degradacija - SMART- 4G Backup',\n",
      "       u'Uklanjanje smetnje ADSL (Max TV) - prekid- Hybrid Access',\n",
      "       u'Uklanjanje smetnje ADSL (VoIP, Max TV) - degradacija- Premium podr\\x9aka- reopen',\n",
      "       u'Uklanjanje smetnje ADSL (MaxTV DTH) - prekid- Hybrid Access',\n",
      "       u'Uklanjanje smetnje ADSL (MaxTV DTH) - prekid - OLD_SMART- 4G Backup',\n",
      "       u'Uklanjanje smetnje ADSL (VoIP, Max TV) - prekid- Hybrid Access- reopen',\n",
      "       u'Uklanjanje smetnji (FTTH:Internet,Halo,MAXTV)- Premium podr\\x9aka',\n",
      "       u'Uklanjanje smetnje ADSL (Max TV) - degradacija',\n",
      "       u'Uklanjanje smetnje ADSL (MaxTV DTH) - degradacija- Hybrid Access',\n",
      "       u'Uklanjanje smetnje ADSL (VoIP, Max TV) - degradacija - SMART',\n",
      "       u'Uklanjanje smetnje (NetPhone paket) - prekid - PROSURF',\n",
      "       u'Uklanjanje smetnje ADSL (Max TV) - degradacija, nije migriran IPTV korisnik - SMART- 4G Backup',\n",
      "       u'Uklanjanje smetnje ADSL (VoIP) - prekid- reopen',\n",
      "       u'Zamjena opreme preko tehni\\xe8ara- reopen',\n",
      "       u'Uklanjanje smetnje ADSL - degradacija',\n",
      "       u'Uklanjanje smetnje ADSL (VoIP) - degradacija- Premium podr\\x9aka- reopen',\n",
      "       u'Uklanjanje smetnje ADSL (VoIP, Max TV) - degradacija- Hybrid Access, nije migriran IPTV korisnik- re',\n",
      "       u'Uklanjanje smetnji (FTTH:Internet,Net Phone paketi)- OM - SMART',\n",
      "       u'Zamjena opreme preko PS-a',\n",
      "       u'Zamjena opreme preko tehni\\xe8ara - SMART',\n",
      "       u'Uklanjanje smetnje ADSL (Max TV) - degradacija- reopen',\n",
      "       u'Uklanjanje smetnje ADSL (VoIP, Max TV) - degradacija- Premium podr\\x9aka - Hybrid Access- reopen',\n",
      "       u'Uklanjanje smetnje ADSL (VoIP) - degradacija- Premium podr\\x9aka',\n",
      "       u'Uklanjanje smetnje ADSL - degradacija- Hybrid Access - SMART',\n",
      "       u'Uklanjanje smetnje ADSL (VoIP) (MaxTV DTH) - prekid- Hybrid Access- reopen',\n",
      "       u'Uklanjanje smetnje ADSL (VoIP, Max TV) - degradacija- Premium podr\\x9aka - Hybrid Access',\n",
      "       u'Uklanjanje smetnji (FTTH:Internet,Halo,MAXTV), nije migriran IPTV korisnik - OM- reopen',\n",
      "       u'Uklanjanje smetnji (FTTH:Internet,Halo,MAXTV), nije migriran IPTV korisnik - OM',\n",
      "       u'Uklanjanje smetnje ADSL (VoIP, Max TV) - degradacija- Premium podr\\x9aka, nije migriran IPTV korisnik',\n",
      "       u'Uklanjanje smetnje ADSL (Max TV) - degradacija- Premium podr\\x9aka - SMART',\n",
      "       u'Uklanjanje smetnje ADSL (Max TV) - degradacija - SMART- 4G Backup',\n",
      "       u'Uklanjanje smetnje ADSL (VoIP) - prekid- Hybrid Access- reopen',\n",
      "       u'Uklanjanje smetnje ADSL - prekid- Hybrid Access - SMART',\n",
      "       u'Uklanjanje smetnje ADSL - degradacija- Premium podr\\x9aka - SMART- 4G Backup',\n",
      "       u'Zamjena opreme preko tehni\\xe8ara - OLD_SMART',\n",
      "       u'Uklanjanje smetnje ADSL (VoIP, Max TV) - degradacija- Hybrid Access, nije migriran IPTV korisnik',\n",
      "       u'Uklanjanje smetnji (FTTH:Internet,Halo,MAXTV)- OM',\n",
      "       u'Uklanjanje smetnje ADSL (VoIP, Max TV) - prekid, nije migriran IPTV korisnik- reopen',\n",
      "       u'Uklanjanje smetnje POTS - prekid',\n",
      "       u'Uklanjanje smetnje ADSL (VoIP) (MaxTV DTH) - prekid- reopen',\n",
      "       u'Uklanjanje smetnji (FTTH:Internet,Halo)- OM',\n",
      "       u'Uklanjanje smetnje ADSL (VoIP) - degradacija- reopen',\n",
      "       u'Uklanjanje smetnje ADSL (VoIP) (MaxTV DTH) - degradacija- Hybrid Access',\n",
      "       u'Uklanjanje smetnje ADSL - degradacija- Premium podr\\x9aka',\n",
      "       u'Uklanjanje smetnje ADSL (Max TV) - prekid- Hybrid Access - SMART',\n",
      "       u'Uklanjanje smetnji (FTTH:Internet,Halo,MAXTV), nije migriran IPTV korisnik',\n",
      "       u'Uklanjanje smetnje ADSL - prekid- Hybrid Access- reopen',\n",
      "       u'Uklanjanje smetnji (FTTH:Internet,Halo,MAXTV)- OM- reopen',\n",
      "       u'Uklanjanje smetnji (FTTH:Internet,MAXTV)',\n",
      "       u'Uklanjanje smetnje ADSL (Max TV) - degradacija - SMART',\n",
      "       u'Uklanjanje smetnje ADSL (Max TV) - prekid- Hybrid Access, nije migriran IPTV korisnik',\n",
      "       u'Uklanjanje smetnje ADSL - prekid- reopen',\n",
      "       u'Uklanjanje smetnje ADSL (Max TV) - prekid, nije migriran IPTV korisnik- reopen',\n",
      "       u'Uklanjanje smetnje ADSL (VoIP, Max TV) - degradacija, nije migriran IPTV korisnik',\n",
      "       u'Uklanjanje smetnje ADSL (Max TV) - prekid, nije migriran IPTV korisnik',\n",
      "       u'Uklanjanje smetnje ADSL (Max TV) - degradacija- Hybrid Access - SMART',\n",
      "       u'Uklanjanje smetnje ADSL (Max TV) - prekid, nije migriran IPTV korisnik - SMART- 4G Backup',\n",
      "       u'Uklanjanje smetnje (MSAN) - degradacija',\n",
      "       u'Uklanjanje smetnje ADSL (Max TV) - degradacija- Hybrid Access',\n",
      "       u'Uklanjanje smetnje ADSL (MaxTV DTH) - prekid- Hybrid Access - SMART',\n",
      "       u'Uklanjanje smetnje ADSL - prekid - OLD_SMART',\n",
      "       u'Uklanjanje smetnje ADSL (VoIP) - degradacija- Premium podr\\x9aka - Hybrid Access',\n",
      "       u'Uklanjanje smetnje MAXnet mini - degradacija- Premium podr\\x9aka- reopen',\n",
      "       u'Uklanjanje smetnje ADSL (MaxTV DTH) - degradacija- Hybrid Access- reopen',\n",
      "       u'Uklanjanje smetnje ADSL (MaxTV DTH) - degradacija',\n",
      "       u'Uklanjanje smetnje ADSL (VoIP) (MaxTV DTH) - prekid- Premium podr\\x9aka - Hybrid Access',\n",
      "       u'Uklanjanje smetnji (FTTB_FTTDP:Internet,Halo)',\n",
      "       u'Uklanjanje smetnje ADSL (VoIP) - degradacija- Hybrid Access- reopen',\n",
      "       u'Uklanjanje smetnje ADSL (Max TV, HotSpot) - prekid - SMART- 4G Backup',\n",
      "       u'Uklanjanje smetnje ADSL (MaxTV DTH) - degradacija- Premium podr\\x9aka',\n",
      "       u'Uklanjanje smetnje ADSL (VoIP, Max TV SA) - prekid- reopen',\n",
      "       u'Uklanjanje smetnje ADSL (VoIP, Max TV) - degradacija, nije migriran IPTV korisnik- reopen',\n",
      "       u'Uklanjanje smetnje ADSL (Max TV) - degradacija- Hybrid Access, nije migriran IPTV korisnik',\n",
      "       u'Uklanjanje smetnje ADSL (Max TV) - prekid- Hybrid Access- reopen',\n",
      "       u'Uklanjanje smetnji (FTTH:Internet,MAXTV)- reopen',\n",
      "       u'Uklanjanje smetnji (FTTH:Internet,MAXTV), nije migriran IPTV korisnik- reopen',\n",
      "       u'Uklanjanje smetnji (FTTH:Veleprodajni FTTH)- Komercijalna, Regulirana',\n",
      "       u'Uklanjanje smetnje ADSL - prekid - PROSURF- 4G Backup',\n",
      "       u'Uklanjanje smetnje (NetPhone paket) - prekid - HALO BAS',\n",
      "       u'Uklanjanje smetnji (FTTH:Internet)',\n",
      "       u'Uklanjanje smetnje MAXnet mini - degradacija- reopen',\n",
      "       u'Uklanjanje smetnje ADSL - degradacija - OLD_SMART',\n",
      "       u'Uklanjanje smetnje ADSL (Max TV) - prekid- SMART- reopen',\n",
      "       u'Uklanjanje smetnje ADSL - degradacija- Premium podr\\x9aka - SMART',\n",
      "       u'Uklanjanje smetnje ADSL (VoIP, Max TV) - degradacija- Premium podr\\x9aka, nije migriran IPTV korisnik- ',\n",
      "       u'Uklanjanje smetnje ADSL - prekid- OLD_SMART- 4G Backup- reopen',\n",
      "       u'Uklanjanje smetnje ADSL (Max TV SA) - degradacija, nije migriran IPTV korisnik',\n",
      "       u'Uklanjanje smetnje ADSL (Max TV) - degradacija- Premium podr\\x9aka',\n",
      "       u'Uklanjanje smetnje ADSL - degradacija- SMART- 4G Backup- reopen',\n",
      "       u'Uklanjanje smetnji (FTTH:Internet,Halo)- reopen',\n",
      "       u'Uklanjanje smetnje ADSL - prekid- SMART- reopen',\n",
      "       u'Uklanjanje smetnji (FTTH:Internet,MAXTV)- OM',\n",
      "       u'Uklanjanje smetnje ADSL (Max TV) - degradacija- Premium podr\\x9aka - SMART- 4G Backup- reopen',\n",
      "       u'Zamjena opreme preko tehni\\xe8ara, nije migriran IPTV korisnik',\n",
      "       u'Uklanjanje smetnje ADSL (Max TV) - degradacija- SMART- 4G Backup- reopen',\n",
      "       u'Uklanjanje smetnje ADSL (VoIP, Max TV SA) - degradacija, nije migriran IPTV korisnik',\n",
      "       u'Uklanjanje smetnje ADSL (Max TV) - degradacija- Hybrid Access- reopen',\n",
      "       u'Uklanjanje smetnje ADSL (VoIP, Max TV SA) - prekid- Premium podr\\x9aka',\n",
      "       u'Uklanjanje smetnje Bitstream - prekid- Komercijalna- reopen',\n",
      "       u'Uklanjanje smetnji (FTTH:Veleprodajni FTTH)- Komercijalna - OM',\n",
      "       u'Uklanjanje smetnji (FTTH:Internet,Halo,MAXTV)- Premium podr\\x9aka - OM',\n",
      "       u'Uklanjanje smetnje ADSL - degradacija- Hybrid Access - SMART- reopen',\n",
      "       u'Uklanjanje smetnje ADSL - prekid - HALO BAS',\n",
      "       u'Uklanjanje smetnje ADSL - degradacija - PROSURF- 4G Backup',\n",
      "       u'Uklanjanje smetnje ADSL (Max TV) - degradacija- Premium podr\\x9aka - SMART- 4G Backup',\n",
      "       u'Uklanjanje smetnje ADSL - degradacija- reopen',\n",
      "       u'Uklanjanje smetnje ADSL (Max TV) - degradacija, nije migriran IPTV korisnik',\n",
      "       u'Uklanjanje smetnje ADSL (Max TV) - degradacija, nije migriran IPTV korisnik - SMART',\n",
      "       u'Uklanjanje smetnji (FTTH:Internet,Net Phone paketi)- OM - SMART- reopen',\n",
      "       u'Uklanjanje smetnje ULL - prekid- Komercijalna, Regulirana- reopen',\n",
      "       u'Uklanjanje smetnji (FTTH:Internet,Halo,MAXTV)- OM Drugi operator',\n",
      "       u'Uklanjanje smetnje ADSL (VoIP, Max TV SA) - prekid, nije migriran IPTV korisnik',\n",
      "       u'Uklanjanje smetnje ADSL - degradacija - PROSURF',\n",
      "       u'Uklanjanje smetnje ADSL - prekid- SMART- 4G Backup- reopen',\n",
      "       u'Uklanjanje smetnji (FTTB_FTTDP:Internet,Halo,MAXTV)',\n",
      "       u'Uklanjanje smetnje ADSL - prekid- OLD_SMART',\n",
      "       u'Uklanjanje smetnji (FTTH:Internet,MAXTV)- OM Drugi operator',\n",
      "       u'Uklanjanje smetnje ADSL (Max TV SA) - prekid, pokrenuta IPTV migracija po kartici, 38859970',\n",
      "       u'Uklanjanje smetnje MAXnet mini - prekid- reopen',\n",
      "       u'Uklanjanje smetnje ADSL (Max TV) - prekid, nije migriran IPTV korisnik - PROSURF',\n",
      "       u'Uklanjanje smetnje ULL - prekid - WS_SLA1- Komercijalna, Regulirana',\n",
      "       u'Uklanjanje smetnje ADSL (VoIP) (MaxTV DTH) - degradacija- reopen',\n",
      "       u'Uklanjanje smetnje (HotSpot) - prekid - SMART',\n",
      "       u'Uklanjanje smetnje ADSL - prekid - PROSURF',\n",
      "       u'Uklanjanje smetnje ADSL (VoIP) (MaxTV DTH) - degradacija',\n",
      "       u'Uklanjanje smetnji (FTTH:Internet,MAXTV) - SMART',\n",
      "       u'Uklanjanje smetnji (FTTH:Internet,Net Phone paketi)- Premium podr\\x9aka - OM - SMART',\n",
      "       u'Uklanjanje smetnje ADSL (Max TV) - degradacija, nije migriran IPTV korisnik - SMART- 4G Backup- reop',\n",
      "       u'Uklanjanje smetnji (FTTH:Internet,MAXTV), nije migriran IPTV korisnik',\n",
      "       u'Uklanjanje smetnje ADSL (MaxTV DTH) - degradacija - SMART',\n",
      "       u'Uklanjanje smetnje ADSL (Max TV) - prekid- Hybrid Access - SMART- reopen',\n",
      "       u'Uklanjanje smetnje Bitstream - prekid - WS_SLA1- Regulirana, Komercijalna- reopen',\n",
      "       u'Uklanjanje smetnje ADSL (MaxTV DTH) - prekid- Premium podr\\x9aka',\n",
      "       u'Uklanjanje smetnje ADSL - degradacija - OLD_SMART- 4G Backup',\n",
      "       u'Uklanjanje smetnje MAXnet mini - degradacija- Premium podr\\x9aka',\n",
      "       u'Zamjena opreme preko tehni\\xe8ara- OM - SMART',\n",
      "       u'Uklanjanje smetnje ADSL (Max TV) - prekid, nije migriran IPTV korisnik - PROSURF- 4G Backup',\n",
      "       u'Uklanjanje smetnje ADSL (Max TV) - prekid- Hybrid Access, nije migriran IPTV korisnik - SMART',\n",
      "       u'Uklanjanje smetnje Bitstream - prekid - WS_SLA1- Komercijalna, Regulirana',\n",
      "       u'Uklanjanje smetnje ADSL (MaxTV DTH) - prekid - SMART',\n",
      "       u'Uklanjanje smetnje ADSL (VoIP, Max TV) - prekid- Hybrid Access, nije migriran IPTV korisnik- reopen',\n",
      "       u'Uklanjanje smetnji (FTTH:Internet,Halo)- Premium podr\\x9aka',\n",
      "       u'Uklanjanje smetnji (FTTH:Veleprodajni FTTH)- Regulirana, Komercijalna',\n",
      "       u'Zamjena opreme preko tehni\\xe8ara- Hybrid Access, nije migriran IPTV korisnik',\n",
      "       u'Uklanjanje smetnje ADSL (MaxTV DTH) - degradacija- Premium podr\\x9aka - Hybrid Access',\n",
      "       u'Uklanjanje smetnje (MSAN) - degradacija- Premium podr\\x9aka',\n",
      "       u'Uklanjanje smetnje ADSL - degradacija- Hybrid Access - PROSURF',\n",
      "       u'Uklanjanje smetnje (NetPhone paket) - prekid- SMART- reopen',\n",
      "       u'Zamjena opreme preko tehni\\xe8ara- OM',\n",
      "       u'Uklanjanje smetnji (FTTH:Internet,Net Phone paketi)- Premium podr\\x9aka - SMART',\n",
      "       u'Uklanjanje smetnje ADSL (VoIP) (MaxTV DTH) - degradacija- Premium podr\\x9aka - Hybrid Access',\n",
      "       u'Uklanjanje smetnje ADSL (Max TV) - degradacija- Premium podr\\x9aka - Hybrid Access',\n",
      "       u'Uklanjanje smetnje ADSL (VoIP, Max TV SA) - degradacija- reopen',\n",
      "       u'Uklanjanje smetnje ADSL (VoIP) (MaxTV DTH) - prekid- Premium podr\\x9aka - Hybrid Access- reopen',\n",
      "       u'Uklanjanje smetnje ADSL (VoIP) (MaxTV DTH) - degradacija- Premium podr\\x9aka - Hybrid Access- reopen',\n",
      "       u'Uklanjanje smetnje ADSL - degradacija- SMART- reopen',\n",
      "       u'Uklanjanje smetnje ADSL - degradacija- Premium podr\\x9aka- reopen',\n",
      "       u'Uklanjanje smetnji (FTTH:Internet,Halo,MAXTV), nije migriran IPTV korisnik- reopen',\n",
      "       u'Uklanjanje smetnje ADSL (VoIP, Max TV SA) - prekid, nije migriran IPTV korisnik- reopen',\n",
      "       u'Uklanjanje smetnji (FTTH:Internet,Halo)- Premium podr\\x9aka- reopen',\n",
      "       u'Uklanjanje smetnje ADSL (MaxTV DTH) - prekid- Premium podr\\x9aka - Hybrid Access',\n",
      "       u'Uklanjanje smetnji (FTTH:Veleprodajni FTTH)- Regulirana',\n",
      "       u'Uklanjanje smetnje ADSL - degradacija- 4G Backup',\n",
      "       u'Uklanjanje smetnje ADSL (Max TV) - degradacija- Premium podr\\x9aka, nije migriran IPTV korisnik',\n",
      "       u'Uklanjanje smetnje ADSL (VoIP, Max TV) - prekid, pokrenuta IPTV migracija po kartici, UNKNOWN',\n",
      "       u'Uklanjanje smetnje ADSL (VoIP) (MaxTV DTH) - degradacija- Hybrid Access- reopen',\n",
      "       u'Uklanjanje smetnje ADSL (Max TV) - degradacija- Premium podr\\x9aka- reopen',\n",
      "       u'Uklanjanje smetnje ADSL (VoIP, Max TV) - prekid, automigracija u zavr\\x9anoj fazi po kartici , 14494839',\n",
      "       u'Uklanjanje smetnje ADSL (VoIP, Max TV) - prekid, automigracija u zavr\\x9anoj fazi po kartici , 14516700',\n",
      "       u'Uklanjanje smetnje ADSL (MaxTV DTH) - prekid- reopen',\n",
      "       u'Uklanjanje smetnje ADSL - prekid- Hybrid Access - SMART- reopen',\n",
      "       u'Uklanjanje smetnji (FTTH:Internet,Halo,MAXTV)- Premium podr\\x9aka- reopen',\n",
      "       u'Uklanjanje smetnje ADSL (Max TV, HotSpot) - prekid',\n",
      "       u'Uklanjanje smetnje ADSL (Max TV SA) - prekid- Premium podr\\x9aka',\n",
      "       u'Uklanjanje smetnje ADSL - degradacija- Premium podr\\x9aka - Hybrid Access - SMART',\n",
      "       u'Uklanjanje smetnje (NetPhone paket) - degradacija',\n",
      "       u'Uklanjanje smetnji (FTTH:Internet,Net Phone paketi)- SMART- reopen',\n",
      "       u'Uklanjanje smetnje ADSL - degradacija- PROSURF- 4G Backup- reopen',\n",
      "       u'Uklanjanje smetnji (FTTH:Internet,Halo,MAXTV)- Premium podr\\x9aka, nije migriran IPTV korisnik',\n",
      "       u'Uklanjanje smetnji (FTTH:Internet,Halo,MAXTV), nije migriran IPTV korisnik - OM Drugi operator',\n",
      "       u'Uklanjanje smetnji (FTTH:Internet,Halo)- OM- reopen',\n",
      "       u'Uklanjanje smetnje ADSL (VoIP) - prekid- Hybrid Access, nije migriran IPTV korisnik',\n",
      "       u'Uklanjanje smetnji (FTTH:Internet,Halo,MAXTV)- Premium podr\\x9aka - OM Drugi operator',\n",
      "       u'Uklanjanje smetnje ADSL (Max TV) - degradacija, automigracija u zavr\\x9anoj fazi po kartici , 14284216-',\n",
      "       u'Uklanjanje smetnji (FTTH:Internet,Halo)- OM Drugi operator',\n",
      "       u'Uklanjanje smetnji (FTTH:Internet,MAXTV)- Premium podr\\x9aka - OM',\n",
      "       u'Uklanjanje smetnje (NetPhone paket) - degradacija - PROSURF',\n",
      "       u'Uklanjanje smetnje ADSL (Max TV) - degradacija- SMART- reopen',\n",
      "       u'Uklanjanje smetnji (FTTH:Internet,MAXTV)- OM- reopen',\n",
      "       u'Uklanjanje smetnji (FTTB_FTTDP:Internet,MAXTV,Net Phone paketi) - SMART',\n",
      "       u'Uklanjanje smetnji (FTTH:Internet,MAXTV)- Premium podr\\x9aka- reopen',\n",
      "       u'Uklanjanje smetnje ADSL (Max TV) - prekid- Hybrid Access - SMART- 4G Backup',\n",
      "       u'Uklanjanje smetnje ADSL (Max TV) - prekid - PROSURF',\n",
      "       u'Uklanjanje smetnji (FTTH:Internet,MAXtv Sat,Net Phone paketi) - PROSURF',\n",
      "       u'Uklanjanje smetnji (FTTH:Internet,MAXTV,Net Phone paketi)- SMART- reopen',\n",
      "       u'Uklanjanje smetnje ADSL (VoIP) (MaxTV DTH) - degradacija- Premium podr\\x9aka',\n",
      "       u'Zamjena opreme preko tehni\\xe8ara, nije migriran IPTV korisnik - SMART',\n",
      "       u'Uklanjanje smetnje ULL - prekid- Regulirana, Komercijalna- reopen',\n",
      "       u'Uklanjanje smetnji (FTTH:Internet,MAXTV)- Premium podr\\x9aka, nije migriran IPTV korisnik',\n",
      "       u'Uklanjanje smetnje ADSL - degradacija- Premium podr\\x9aka - Hybrid Access',\n",
      "       u'Uklanjanje smetnje ADSL - prekid, - DATA backup',\n",
      "       u'Uklanjanje smetnje (NetPhone paket) - prekid- PROSURF- reopen',\n",
      "       u'Uklanjanje smetnje ADSL - prekid- 4G Backup',\n",
      "       u'Uklanjanje smetnje ADSL - prekid- Hybrid Access - PROSURF',\n",
      "       u'Uklanjanje smetnje (MSAN) - prekid, nije migriran IPTV korisnik',\n",
      "       u'Uklanjanje smetnji (FTTH:Internet,MAXTV,Net Phone paketi), nije migriran IPTV korisnik - SMART',\n",
      "       u'Uklanjanje smetnje ADSL (Max TV) - degradacija - HALO BAS',\n",
      "       u'Uklanjanje smetnje MAXtv Sat (bez ADSL pristupa) - degradacija - Premium podr\\x9aka',\n",
      "       u'Uklanjanje smetnje ADSL (Max TV SA) - prekid- reopen',\n",
      "       u'Uklanjanje smetnje ADSL (Max TV) - degradacija- Premium podr\\x9aka - HALO BAS',\n",
      "       u'Uklanjanje smetnji (FTTH:Internet,MAXTV,Net Phone paketi)- OM - SMART',\n",
      "       u'Uklanjanje smetnje ADSL (VoIP) (MaxTV DTH) - prekid- Premium podr\\x9aka',\n",
      "       u'Uklanjanje smetnje ADSL (Max TV) - prekid- Premium podr\\x9aka',\n",
      "       u'Uklanjanje smetnje ADSL (Max TV) - degradacija, nije migriran IPTV korisnik - PROSURF',\n",
      "       u'Uklanjanje smetnje ADSL - prekid- PROSURF- reopen',\n",
      "       u'Uklanjanje smetnje (MSAN) - degradacija- reopen',\n",
      "       u'Uklanjanje smetnji (FTTH:Veleprodajni FTTH)- Komercijalna- reopen',\n",
      "       u'Uklanjanje smetnje ADSL (Max TV SA) - prekid, nije migriran IPTV korisnik',\n",
      "       u'Uklanjanje smetnje ADSL (VoIP, Max TV) - prekid, pokrenuta INS migracija po kartici, 45778877',\n",
      "       u'Uklanjanje smetnje ADSL (Max TV, HotSpot) - prekid - SMART',\n",
      "       u'Uklanjanje smetnji (FTTH:Internet,MAXTV)- Premium podr\\x9aka',\n",
      "       u'Uklanjanje smetnje ADSL (MaxTV DTH) - degradacija- Hybrid Access - SMART',\n",
      "       u'Uklanjanje smetnje ADSL - degradacija- Premium podr\\x9aka - OLD_SMART- 4G Backup',\n",
      "       u'Uklanjanje smetnje (NetPhone paket) - degradacija- SMART- reopen',\n",
      "       u'Uklanjanje smetnje ADSL (VoIP, Max TV) - degradacija, pokrenuta INS migracija po kartici, 45781507, ',\n",
      "       u'Uklanjanje smetnji (FTTH:Veleprodajni FTTH)- Komercijalna, Regulirana - OM',\n",
      "       u'Uklanjanje smetnje ADSL (Max TV) - degradacija- Premium podr\\x9aka - OLD_SMART- 4G Backup',\n",
      "       u'Uklanjanje smetnji (FTTB_FTTDP:Internet,Halo,MAXTV), nije migriran IPTV korisnik',\n",
      "       u'Uklanjanje smetnje ADSL (MaxTV DTH) - prekid- Premium podr\\x9aka - Hybrid Access- reopen',\n",
      "       u'Uklanjanje smetnje ADSL (VoIP) - prekid, pokrenuta INS migracija po kartici, 45820298',\n",
      "       u'Uklanjanje smetnji (FTTH:Internet,Net Phone paketi) - PROSURF',\n",
      "       u'Uklanjanje smetnje ADSL - degradacija- Hybrid Access- reopen',\n",
      "       u'Uklanjanje smetnji (FTTH:Veleprodajni FTTH)- Komercijalna - OM- reopen',\n",
      "       u'Uklanjanje smetnji (FTTH:Internet,MAXTV), nije migriran IPTV korisnik - OM- reopen',\n",
      "       u'Uklanjanje smetnje ULL - prekid - WS_SLA1- Regulirana, Komercijalna',\n",
      "       u'Uklanjanje smetnje ADSL (VoIP, Max TV) - prekid, pokrenuta INS migracija po kartici, 45821140, nije ',\n",
      "       u'Uklanjanje smetnji (FTTB_FTTDP:Internet,Halo,MAXTV)- reopen',\n",
      "       u'Uklanjanje smetnje ADSL (MaxTV DTH) - degradacija- reopen',\n",
      "       u'Uklanjanje smetnje ADSL (VoIP) - prekid, pokrenuta INS migracija po kartici, 45835345',\n",
      "       u'Uklanjanje smetnje ADSL (VoIP, Max TV) - degradacija- Premium podr\\x9aka - Hybrid Access, nije migriran',\n",
      "       u'Uklanjanje smetnje ADSL (VoIP, Max TV SA) - degradacija- Premium podr\\x9aka',\n",
      "       u'Uklanjanje smetnje ADSL (VoIP, Max TV) - prekid, pokrenuta INS migracija po kartici, 45833853, nije ',\n",
      "       u'Uklanjanje smetnje ADSL (Max TV) - prekid - PROSURF- 4G Backup',\n",
      "       u'Uklanjanje smetnje ADSL (VoIP, Max TV SA) - prekid- Hybrid Access',\n",
      "       u'Uklanjanje smetnje ADSL (VoIP, Max TV) - prekid, pokrenuta INS migracija po kartici, 45821336',\n",
      "       u'Zamjena opreme preko Tcentra',\n",
      "       u'Uklanjanje smetnje (HotSpot) (MaxTV DTH) - prekid- Premium podr\\x9aka - SMART',\n",
      "       u'Uklanjanje smetnje ADSL (Max TV) - prekid- Hybrid Access, nije migriran IPTV korisnik- reopen',\n",
      "       u'Uklanjanje smetnje ADSL (VoIP) - prekid, pokrenuta INS migracija po kartici, 45834671',\n",
      "       u'Uklanjanje smetnje ADSL (Max TV) - degradacija- Hybrid Access, nije migriran IPTV korisnik- reopen',\n",
      "       u'Uklanjanje smetnje ADSL (Max TV) - degradacija- Premium podr\\x9aka - Hybrid Access - SMART',\n",
      "       u'Uklanjanje smetnje (NetPhone paket) - prekid, hitna slu\\x9eba194',\n",
      "       u'Uklanjanje smetnje ADSL (Max TV) - prekid- SMART- 4G Backup',\n",
      "       u'Uklanjanje smetnje ADSL (Max TV) - degradacija - PROSURF- 4G Backup',\n",
      "       u'Uklanjanje smetnje (NetPhone paket) - degradacija - HALO BAS',\n",
      "       u'Uklanjanje smetnji (FTTB_FTTDP:Internet,MAXTV)',\n",
      "       u'Uklanjanje smetnji (FTTH:Internet,MAXTV,Net Phone paketi), nije migriran IPTV korisnik - SMART- reop',\n",
      "       u'Uklanjanje smetnje ADSL (VoIP) - prekid - SMART',\n",
      "       u'Uklanjanje smetnji (FTTH:Veleprodajni FTTH)- Regulirana, Komercijalna - OM',\n",
      "       u'Uklanjanje smetnji (FTTH:Internet,Halo,MAXTV)- Premium podr\\x9aka - OM- reopen',\n",
      "       u'Uklanjanje smetnje ADSL (Max TV) - degradacija- Hybrid Access - SMART- reopen',\n",
      "       u'Uklanjanje smetnji (FTTH:Internet,Halo)- Premium podr\\x9aka - OM',\n",
      "       u'Zamjena opreme preko tehni\\xe8ara- Hybrid Access, nije migriran IPTV korisnik- reopen',\n",
      "       u'Uklanjanje smetnje ADSL (VoIP, Max TV SA) - degradacija- Premium podr\\x9aka, nije migriran IPTV korisni',\n",
      "       u'Uklanjanje smetnje ADSL (VoIP, Max TV) - prekid, pokrenuta INS migracija po kartici, 45914064',\n",
      "       u'Uklanjanje smetnje ADSL - prekid - HALO BAS- 4G Backup',\n",
      "       u'Uklanjanje smetnje ADSL (Max TV) - degradacija, nije migriran IPTV korisnik - SMART- reopen',\n",
      "       u'Uklanjanje smetnje ADSL (Max TV) - prekid - HALO BAS',\n",
      "       u'Uklanjanje smetnje ADSL (Max TV) - degradacija- Premium podr\\x9aka, nije migriran IPTV korisnik - SMART',\n",
      "       u'Uklanjanje smetnje ADSL - prekid- Hybrid Access - OLD_SMART- 4G Backup',\n",
      "       u'Uklanjanje smetnje ADSL (VoIP) - prekid, automigracija spu\\x9atena na teren po kartici, 14386512 - Hybr',\n",
      "       u'Uklanjanje smetnje ADSL (VoIP) - prekid- Regulirana',\n",
      "       u'Uklanjanje smetnje (MSAN) - WLR - prekid- Regulirana, Komercijalna',\n",
      "       u'Uklanjanje smetnje EvoTv', None,\n",
      "       u'Uklanjanje smetnje Bitstream - prekid - WS_SLA1- Regulirana',\n",
      "       u'Uklanjanje smetnje (JTG)',\n",
      "       u'Uklanjanje smetnje Bitstream - prekid- Regulirana',\n",
      "       u'Zamjena opreme preko Distributera',\n",
      "       u'Uklanjanje smetnje Bitstream - prekid- Regulirana- reopen',\n",
      "       u'Uklanjanje smetnje ULL - prekid- Regulirana',\n",
      "       u'Uklanjanje smetnje (MSAN) - degradacija, hitna slu\\x9eba194',\n",
      "       u'Uklanjanje smetnje ULL - prekid- Regulirana- reopen',\n",
      "       u'Uklanjanje smetnje (MSAN) - WLR - prekid- Regulirana',\n",
      "       u'Uklanjanje smetnji (FTTH:Internet,Halo,MAXTV) - OM Drugi operator',\n",
      "       u'Uklanjanje smetnje (HotSpot) - prekid - SMART- 4G Backup',\n",
      "       u'Uklanjanje smetnje (MSAN) - prekid, hitna slu\\x9eba192',\n",
      "       u'Uklanjanje smetnji (FTTH:Veleprodajni FTTH)- Regulirana - OM',\n",
      "       u'Uklanjanje smetnje ADSL (VoIP, Max TV) - prekid- Premium podr\\x9aka, pokrenuta INS migracija po kartici',\n",
      "       u'Uklanjanje smetnje ADSL (VoIP, Max TV) - prekid- Premium podr\\x9aka',\n",
      "       u'Uklanjanje smetnje Bitstream - prekid - WS_SLA1- Regulirana- reopen',\n",
      "       u'Uklanjanje smetnji (FTTH:Internet,MAXTV,Net Phone paketi)- OM Drugi operator - SMART',\n",
      "       u'Uklanjanje smetnje ULL - prekid- Regulirana- aktivacijska smetnja',\n",
      "       u'Uklanjanje smetnje Bitstream - prekid - Regulirana, Komercijalna',\n",
      "       u'Uklanjanje smetnje POTS 2MB PBX - prekid',\n",
      "       u'Uklanjanje smetnje ULL - prekid',\n",
      "       u'Uklanjanje smetnji (FTTH:Internet,MAXTV)- Premium podr\\x9aka, nije migriran IPTV korisnik - OM Drugi op',\n",
      "       u'Uklanjanje smetnje ADSL (Max TV) - degradacija, nije migriran IPTV korisnik- reopen',\n",
      "       u'Uklanjanje smetnje (MSAN) - WLR - prekid - WS_SLA1- Regulirana',\n",
      "       u'Uklanjanje smetnje Bitstream - prekid- Regulirana- aktivacijska smetnja',\n",
      "       u'Uklanjanje smetnje ADSL (Max TV) - degradacija - PROSURF',\n",
      "       u'Uklanjanje smetnje ADSL (Max TV) - prekid - OLD_SMART',\n",
      "       u'Uklanjanje smetnje ADSL (VoIP, Max TV) - prekid- Premium podr\\x9aka - Hybrid Access',\n",
      "       u'Uklanjanje smetnje ADSL (Max TV SA) - prekid- Hybrid Access',\n",
      "       u'Uklanjanje smetnje (MSAN) - degradacija, hitna slu\\x9eba92',\n",
      "       u'Uklanjanje smetnje Bitstream - prekid - WS_SLA1- Regulirana- aktivacijska smetnja',\n",
      "       u'Uklanjanje smetnje ADSL (Max TV) - prekid - Hybrid Access',\n",
      "       u'Uklanjanje smetnje ADSL (Max TV) - prekid, pokrenuta INS migracija po kartici, 45913930',\n",
      "       u'Uklanjanje smetnje POTS - degradacija',\n",
      "       u'Uklanjanje smetnje ADSL - degradacija- Premium podr\\x9aka - PROSURF',\n",
      "       u'Uklanjanje smetnje ADSL (VoIP, Max TV) - prekid, pokrenuta INS migracija po kartici, 45780052',\n",
      "       u'Uklanjanje smetnje (MSAN) - WLR - prekid- Komercijalna, Regulirana',\n",
      "       u'Uklanjanje smetnje (MSAN) - WLR - prekid- Regulirana, Komercijalna- reopen',\n",
      "       u'Uklanjanje smetnje Bitstream - prekid- Regulirana- aktivacijska smetnja- reopen',\n",
      "       u'Uklanjanje smetnje (MSAN) - prekid- Hybrid Access',\n",
      "       u'Uklanjanje smetnji (FTTH:Internet,Halo,Net Phone paketi)- OM - SMART',\n",
      "       u'Uklanjanje smetnje ADSL (MaxTV DTH) - prekid - SMART- 4G Backup',\n",
      "       u'Uklanjanje smetnji (FTTH:Internet,MAXTV,Net Phone paketi)- Premium podr\\x9aka, nije migriran IPTV koris',\n",
      "       u'Uklanjanje smetnji (FTTH:Halo,MAXTV)',\n",
      "       u'Uklanjanje smetnji (FTTH:Internet,MAXTV), nije migriran IPTV korisnik - OM',\n",
      "       u'Uklanjanje smetnje (MSAN) - prekid- Premium podr\\x9aka',\n",
      "       u'Uklanjanje smetnje ULL - prekid - Regulirana',\n",
      "       u'Uklanjanje smetnje ADSL (VoIP, Max TV) - prekid, pokrenuta INS migracija po kartici, 45778821',\n",
      "       u'Uklanjanje smetnje (NetPhone paket) - degradacija- Premium podr\\x9aka - PROSURF',\n",
      "       u'Uklanjanje smetnji (FTTH:Internet,MAXTV,Net Phone paketi)- Premium podr\\x9aka - PROSURF',\n",
      "       u'Uklanjanje smetnje ULL - prekid - Regulirana, Komercijalna',\n",
      "       u'Uklanjanje smetnji (FTTH:Internet,Halo), nije migriran IPTV korisnik',\n",
      "       u'Uklanjanje smetnje Bitstream - prekid - WS_SLA1- Regulirana- aktivacijska smetnja- reopen',\n",
      "       u'Uklanjanje smetnje ULL - prekid - WS_SLA1- Regulirana',\n",
      "       u'Uklanjanje smetnji (FTTH:Internet,MAXTV,Net Phone paketi)- Premium podr\\x9aka - SMART',\n",
      "       u'Uklanjanje smetnji (FTTH:Veleprodajni FTTH)- Regulirana- aktivacijska smetnja',\n",
      "       u'Uklanjanje smetnje ADSL - prekid- OM - SMART',\n",
      "       u'Uklanjanje smetnje Bitstream - prekid',\n",
      "       u'Uklanjanje smetnje (NetPhone paket) - p - SMART',\n",
      "       u'Uklanjanje smetnje (MSAN) - prekid, hitna slu\\x9eba193',\n",
      "       u'Uklanjanje smetnji (FTTH:Veleprodajni FTTH)- Regulirana- aktivacijska smetnja - OM',\n",
      "       u'Uklanjanje smetnje ADSL (Max TV) - prekid- Premium podr\\x9aka - Hybrid Access',\n",
      "       u'Uklanjanje smetnje (MSAN) - prekid- Regulirana',\n",
      "       u'Uklanjanje smetnji (FTTH:Internet,MAXTV,Net Phone paketi) - PROSURF',\n",
      "       u'Uklanjanje smetnji (FTTH:Internet,Net Phone paketi)- OM - HALO BAS',\n",
      "       u'Uklanjanje smetnje ADSL (VoIP, Max TV) - degradacija- Hybrid Access - SMART',\n",
      "       u'Uklanjanje smetnje ADSL - degradacija- Premium podr\\x9aka - Hybrid Access- reopen',\n",
      "       u'Uklanjanje smetnje ADSL (VoIP, Max TV) - prekid - Hybrid Access',\n",
      "       u'Uklanjanje smetnje ADSL (VoIP) - degradacija- Premium podr\\x9aka - Hybrid Access- reopen',\n",
      "       u'Uklanjanje smetnje (MSAN) - degradacija, hitna slu\\x9eba060335577',\n",
      "       u'Uklanjanje smetnji (FTTH:Internet,MAXTV,Net Phone paketi)- OM Drugi operator - PROSURF',\n",
      "       u'Komercijalni NBSA-O FR - Infrastrukturni operator- Regulirana',\n",
      "       u'Uklanjanje smetnji (FTTH:Internet,Halo,MAXTV)- Premium podr\\x9aka, nije migriran IPTV korisnik- reopen',\n",
      "       u'Uklanjanje smetnje  - prekid',\n",
      "       u'Uklanjanje smetnje ADSL (VoIP, Max TV) - prekid, pokrenuta INS migracija po kartici, 45821432',\n",
      "       u'Uklanjanje smetnji (FTTH:Veleprodajni FTTH)- Regulirana- reopen',\n",
      "       u'Uklanjanje smetnji (FTTH:Internet,Net Phone paketi)- Premium podr\\x9aka - PROSURF',\n",
      "       u'Uklanjanje smetnje ADSL (VoIP) - degradacija- Premium podr\\x9aka, nije migriran IPTV korisnik',\n",
      "       u'Uklanjanje smetnje ADSL (Max TV) - degradacija, pokrenuta INS migracija po kartici, 45820756, nije m',\n",
      "       u'Uklanjanje smetnje (NetPhone paket) - degradacija- Premium podr\\x9aka - SMART',\n",
      "       u'Uklanjanje smetnje ADSL (VoIP, Max TV) - prekid, pokrenuta INS migracija po kartici, 45820632',\n",
      "       u'Uklanjanje smetnji (FTTB_FTTDP:Internet,Halo,MAXTV)- Premium podr\\x9aka',\n",
      "       u'Zamjena opreme preko tehni\\xe8ara, - DATA backup',\n",
      "       u'Uklanjanje smetnje ISDN PRA - prekid',\n",
      "       u'Uklanjanje smetnje (MSAN) - WLR - prekid',\n",
      "       u'Uklanjanje smetnji (FTTH:Internet,MAXTV,Net Phone paketi), nije migriran IPTV korisnik - OM - SMART',\n",
      "       u'Uklanjanje smetnji (FTTH:Internet,Halo,MAXTV) - OM',\n",
      "       u'Uklanjanje smetnje (NetPhone paket) - degradacija- Premium podr\\x9aka',\n",
      "       u'Uklanjanje smetnje ADSL (VoIP) - degradacija, nije migriran IPTV korisnik- reopen',\n",
      "       u'Uklanjanje smetnje (zajedni\\xe8ki pristup) - prekid- Regulirana',\n",
      "       u'Uklanjanje smetnje (NetPhone paket) - p',\n",
      "       u'Uklanjanje smetnje ADSL (VoIP, Max TV) - prekid, pokrenuta INS migracija po kartici, 45820545',\n",
      "       u'Uklanjanje smetnji (FTTH:Internet,Net Phone paketi)- OM Drugi operator - SMART',\n",
      "       u'Uklanjanje smetnje ADSL (VoIP) - prekid, pokrenuta INS migracija po kartici, 45835409- reopen',\n",
      "       u'Uklanjanje smetnje (MSAN) - prekid, hitna slu\\x9eba94',\n",
      "       u'Uklanjanje smetnje ADSL (VoIP) - prekid, hitna slu\\x9eba92',\n",
      "       u'Uklanjanje smetnje ADSL (VoIP, Max TV) - degradacija, pokrenuta INS migracija po kartici, 45778886, ',\n",
      "       u'Uklanjanje smetnje ADSL (VoIP, Max TV) - degradacija - Premium podr\\x9aka',\n",
      "       u'Uklanjanje smetnje ADSL (VoIP, Max TV) - prekid, automigracija u zavr\\x9anoj fazi po kartici , 14341647',\n",
      "       u'Uklanjanje smetnje ADSL (Max TV) - degradacija - Premium podr\\x9aka',\n",
      "       u'Uklanjanje smetnje ADSL (VoIP, Max TV) - prekid, pokrenuta INS migracija po kartici, 45820661',\n",
      "       u'Uklanjanje smetnje ADSL - degradacija - HALO BAS',\n",
      "       u'Uklanjanje smetnje Bitstream - prekid - Regulirana',\n",
      "       u'Uklanjanje smetnje ULL - prekid- Regulirana- aktivacijska smetnja- reopen',\n",
      "       u'Uklanjanje smetnje (NetPhone paket) - degradacija, hitna slu\\x9eba194',\n",
      "       u'Uklanjanje smetnje ADSL (VoIP) - prekid, nije migriran IPTV korisnik',\n",
      "       u'Uklanjanje smetnje ADSL - prekid, nije migriran IPTV korisnik',\n",
      "       u'Uklanjanje smetnje ADSL (MaxTV DTH) - degradacija - Premium podr\\x9aka',\n",
      "       u'Uklanjanje smetnje ADSL (VoIP) - prekid, pokrenuta INS migracija po kartici, 45820553- reopen',\n",
      "       u'Uklanjanje smetnje ADSL (VoIP, Max TV) - prekid, pokrenuta INS migracija po kartici, 45779295',\n",
      "       u'Uklanjanje smetnje Bitstream - prekid - WS_SLA0- Regulirana',\n",
      "       u'Uklanjanje smetnje ADSL (VoIP) - prekid, pokrenuta INS migracija po kartici, 45834025',\n",
      "       u'Uklanjanje smetnje ADSL - prekid, - DATA backup- reopen',\n",
      "       u'Uklanjanje smetnje ADSL (MaxTV DTH) - degradacija - SMART- 4G Backup',\n",
      "       u'Uklanjanje smetnje ADSL (VoIP) - prekid, pokrenuta INS migracija po kartici, 45778882',\n",
      "       u'Uklanjanje smetnje ADSL (VoIP, Max TV) (MaxTV DTH) - prekid- Premium podr\\x9aka, nije migriran IPTV kor',\n",
      "       u'Uklanjanje smetnje Bitstream - prekid - WS_SLA0- Regulirana- aktivacijska smetnja',\n",
      "       u'Uklanjanje smetnji (FTTH:Internet,Halo)- Premium podr\\x9aka - OM- reopen',\n",
      "       u'Uklanjanje smetnje ADSL (Max TV SA) - prekid, pokrenuta IPTV migracija po kartici, 38818189',\n",
      "       u'Uklanjanje smetnji (FTTH:Internet,MAXTV,Net Phone paketi), nije migriran IPTV korisnik - OM - OLD_SM',\n",
      "       u'Uklanjanje smetnji (FTTH:Internet,Net Phone paketi)- OM - PROSURF',\n",
      "       u'Uklanjanje smetnje (MSAN) - degradacija- Premium podr\\x9aka- reopen',\n",
      "       u'Uklanjanje smetnje ADSL - prekid - Hybrid Access',\n",
      "       u'Uklanjanje smetnje ADSL (MaxTV DTH) - prekid- Premium podr\\x9aka - SMART',\n",
      "       u'Uklanjanje smetnje ADSL (Max TV, HotSpot) - degradacija, nije migriran IPTV korisnik - SMART- 4G Bac',\n",
      "       u'Uklanjanje smetnje ADSL (MaxTV DTH) - prekid - Premium podr\\x9aka',\n",
      "       u'Zamjena opreme preko tehni\\xe8ara, pokrenuta INS migracija po kartici, 45781370',\n",
      "       u'Uklanjanje smetnje ADSL (VoIP, Max TV) - prekid, automigracija u zavr\\x9anoj fazi po kartici , 14286106',\n",
      "       u'Uklanjanje smetnje ADSL (MaxTV DTH) - prekid- Premium podr\\x9aka - Hybrid Access - SMART- 4G Backup',\n",
      "       u'Uklanjanje smetnje (MSAN) - prekid, hitna slu\\x9eba194',\n",
      "       u'Uklanjanje smetnje ADSL (Max TV) - degradacija- Premium podr\\x9aka - PROSURF',\n",
      "       u'Uklanjanje smetnji (FTTH:Internet,MAXTV,Net Phone paketi), nije migriran IPTV korisnik - OM - HALO B',\n",
      "       u'Uklanjanje smetnje ADSL (Max TV) - prekid - OLD_SMART- 4G Backup',\n",
      "       u'Uklanjanje smetnji (FTTB_FTTDP:Internet,MAXTV,Net Phone paketi), nije migriran IPTV korisnik - SMART',\n",
      "       u'Uklanjanje smetnje ADSL (VoIP, Max TV) - degradacija, pokrenuta INS migracija po kartici, 45835890',\n",
      "       u'Uklanjanje smetnji (FTTH:Internet,MAXTV), nije migriran IPTV korisnik - OM Drugi operator',\n",
      "       u'Uklanjanje smetnje ADSL (VoIP, Max TV SA) - prekid- Hybrid Access, nije migriran IPTV korisnik',\n",
      "       u'Uklanjanje smetnji (FTTH:Internet,Net Phone paketi)- PROSURF- reopen',\n",
      "       u'Uklanjanje smetnje ADSL (VoIP, Max TV) - prekid, pokrenuta INS migracija po kartici, 45780427, nije ',\n",
      "       u'Uklanjanje smetnje ADSL (VoIP) - prekid - SMART- 4G Backup',\n",
      "       u'Uklanjanje smetnje POTS 2MB PBX - degradacija',\n",
      "       u'Uklanjanje smetnje ADSL (VoIP, Max TV) - prekid, pokrenuta INS migracija po kartici, 45780447, nije ',\n",
      "       u'Uklanjanje smetnje ADSL (VoIP, Max TV) - degradacija- Premium podr\\x9aka, automigracija u zavr\\x9anoj fazi',\n",
      "       u'Uklanjanje smetnje ADSL (VoIP) - prekid, pokrenuta INS migracija po kartici, 45834111',\n",
      "       u'Uklanjanje smetnje Bitstream - prekid - WS_SLA0- Regulirana- reopen',\n",
      "       u'Uklanjanje smetnje ADSL (Max TV SA) - prekid - SMART',\n",
      "       u'Uklanjanje smetnje ADSL (Max TV) - prekid- 4G Backup',\n",
      "       u'Uklanjanje smetnji (FTTH:Veleprodajni FTTH)- Regulirana- aktivacijska smetnja- reopen',\n",
      "       u'Uklanjanje smetnje ADSL (Max TV) - prekid, nije migriran IPTV korisnik - OLD_SMART',\n",
      "       u'Uklanjanje smetnje Bitstream - prekid - WS_SLA1- Komercijalna',\n",
      "       u'Uklanjanje smetnje ADSL (VoIP, Max TV) - prekid, pokrenuta INS migracija po kartici, 45781630, nije ',\n",
      "       u'Uklanjanje smetnje ADSL (VoIP, Max TV) - degradacija- Premium podr\\x9aka, pokrenuta INS migracija po ka',\n",
      "       u'Uklanjanje smetnje (NetPhone paket) - prekid- HALO BAS- reopen',\n",
      "       u'Uklanjanje smetnje  - degradacija - SMART',\n",
      "       u'Uklanjanje smetnje ADSL (MaxTV DTH) - prekid, nije migriran IPTV korisnik',\n",
      "       u'Uklanjanje smetnje ADSL (MaxTV DTH) - degradacija- Premium podr\\x9aka - Hybrid Access - SMART- 4G Backu',\n",
      "       u'Uklanjanje smetnje ADSL (Max TV) - prekid, pokrenuta INS migracija po kartici, 45914347, nije migrir',\n",
      "       u'Uklanjanje smetnje (NetPhone paket) - prekid- SMART',\n",
      "       u'Uklanjanje smetnji (FTTB_FTTDP:Internet,Net Phone paketi) - SMART',\n",
      "       u'Uklanjanje smetnje ADSL (Max TV) - prekid, pokrenuta INS migracija po kartici, 45914036, nije migrir',\n",
      "       u'Uklanjanje smetnje (HotSpot) - degradacija - SMART',\n",
      "       u'Uklanjanje smetnje (HotSpot) - prekid- SMART- reopen',\n",
      "       u'Uklanjanje smetnje ADSL (Max TV) - degradacija- Premium podr\\x9aka - Hybrid Access, nije migriran IPTV ',\n",
      "       u'Uklanjanje smetnje ADSL (VoIP) - prekid, automigracija u zavr\\x9anoj fazi po kartici , 14331761 - Hybri',\n",
      "       u'Uklanjanje smetnje (NetPhone paket) - prekid, hitna slu\\x9eba193',\n",
      "       u'Uklanjanje smetnje ADSL (VoIP) - prekid, pokrenuta INS migracija po kartici, 45779398',\n",
      "       u'Uklanjanje smetnji (FTTB_FTTDP:Internet,MAXTV), nije migriran IPTV korisnik',\n",
      "       u'Uklanjanje smetnje ADSL (MaxTV DTH) - prekid- Hybrid Access- reopen',\n",
      "       u'Uklanjanje smetnje ICT',\n",
      "       u'Uklanjanje smetnje ADSL (VoIP, Max TV SA) - prekid, automigracija u zavr\\x9anoj fazi po kartici , 14320',\n",
      "       u'Uklanjanje smetnje ADSL (VoIP) - prekid, pokrenuta INS migracija po kartici, 45914050',\n",
      "       u'Uklanjanje smetnje ADSL (VoIP, Max TV) - prekid, pokrenuta INS migracija po kartici, 45821155',\n",
      "       u'Uklanjanje smetnje ADSL - prekid- SMART',\n",
      "       u'Uklanjanje smetnje ADSL (Max TV) - prekid- Premium podr\\x9aka - SMART',\n",
      "       u'Uklanjanje smetnje ADSL (VoIP, Max TV) - prekid, pokrenuta INS migracija po kartici, 45913950, nije ',\n",
      "       u'Uklanjanje smetnje ADSL (VoIP, Max TV) - degradacija, pokrenuta INS migracija po kartici, 45833739',\n",
      "       u'Uklanjanje smetnje ADSL (VoIP, Max TV) - degradacija, automigracija u zavr\\x9anoj fazi po kartici , 143',\n",
      "       u'Uklanjanje smetnje ADSL (VoIP, Max TV) - prekid, pokrenuta INS migracija po kartici, 45914740',\n",
      "       u'Uklanjanje smetnje ADSL (VoIP, Max TV) - prekid, pokrenuta INS migracija po kartici, 45914760, nije ',\n",
      "       u'Uklanjanje smetnje ADSL (Max TV) - degradacija- PROSURF- 4G Backup- reopen',\n",
      "       u'Uklanjanje smetnje ADSL (Max TV) - degradacija- Hybrid Access, nije migriran IPTV korisnik - SMART- ',\n",
      "       u'Uklanjanje smetnje ADSL (VoIP, Max TV SA) - degradacija, nije migriran IPTV korisnik- reopen',\n",
      "       u'Uklanjanje smetnje ADSL - degradacija- Premium podr\\x9aka - PROSURF- 4G Backup',\n",
      "       u'Uklanjanje smetnje ADSL (VoIP, Max TV) - prekid, pokrenuta INS migracija po kartici, 45914119- reope',\n",
      "       u'Uklanjanje smetnji (FTTH:Internet,MAXTV) - OM',\n",
      "       u'Uklanjanje smetnje ADSL (VoIP, Max TV) - degradacija- Hybrid Access, nije migriran IPTV korisnik - S',\n",
      "       u'Uklanjanje smetnje ADSL (Max TV SA) - prekid- Premium podr\\x9aka, nije migriran IPTV korisnik',\n",
      "       u'Uklanjanje smetnje ADSL (VoIP, Max TV) - prekid, pokrenuta INS migracija po kartici, 45820607',\n",
      "       u'Uklanjanje smetnje (MSAN) - degradacija- Hybrid Access',\n",
      "       u'Uklanjanje smetnje ADSL (VoIP) - prekid, pokrenuta INS migracija po kartici, 45913882',\n",
      "       u'Uklanjanje smetnje ADSL (MaxTV DTH) - prekid- Premium podr\\x9aka - Hybrid Access - SMART',\n",
      "       u'Uklanjanje smetnje ADSL - degradacija- Premium podr\\x9aka - SMART- 4G Backup- reopen',\n",
      "       u'Uklanjanje smetnje ADSL (VoIP, Max TV) - prekid- Premium podr\\x9aka - Hybrid Access- reopen',\n",
      "       u'Uklanjanje smetnje ADSL (VoIP, Max TV) - degradacija, pokrenuta INS migracija po kartici, 45820661',\n",
      "       u'Uklanjanje smetnji (FTTB_FTTDP:Internet,MAXTV), nije migriran IPTV korisnik- reopen',\n",
      "       u'Uklanjanje smetnje POTS - WLR - prekid- Regulirana, Komercijalna',\n",
      "       u'Uklanjanje smetnje ADSL (Max TV, HotSpot) - degradacija - SMART- 4G Backup',\n",
      "       u'Uklanjanje smetnje ADSL (VoIP, Max TV SA) - prekid- Premium podr\\x9aka, nije migriran IPTV korisnik',\n",
      "       u'Uklanjanje smetnje ADSL (VoIP, Max TV SA) - prekid, automigracija u zavr\\x9anoj fazi po kartici , 14383',\n",
      "       u'Uklanjanje smetnji (NBSA_FTTB_FTTDP)- Komercijalna, Regulirana',\n",
      "       u'Uklanjanje smetnje ADSL (VoIP, Max TV) - prekid- Premium podr\\x9aka, nije migriran IPTV korisnik',\n",
      "       u'Uklanjanje smetnje ADSL (VoIP, Max TV) - prekid, pokrenuta INS migracija po kartici, 45820388',\n",
      "       u'Uklanjanje smetnje ADSL (VoIP, Max TV) - prekid, pokrenuta INS migracija po kartici, 45834044, nije ',\n",
      "       u'Uklanjanje smetnje ADSL (VoIP, Max TV) - degradacija, pokrenuta INS migracija po kartici, 45914246, ',\n",
      "       u'Uklanjanje smetnje (MSAN) - degradacija, hitna slu\\x9eba192',\n",
      "       u'Uklanjanje smetnje ADSL (Max TV) - degradacija - OLD_SMART',\n",
      "       u'Uklanjanje smetnje ADSL - prekid- Hybrid Access - PROSURF- 4G Backup',\n",
      "       u'Uklanjanje smetnje ADSL - degradacija- Premium podr\\x9aka - OLD_SMART',\n",
      "       u'Uklanjanje smetnji (FTTH:Internet,MAXTV), nije migriran IPTV korisnik - SMART',\n",
      "       u'Uklanjanje smetnje ADSL - degradacija - Premium podr\\x9aka',\n",
      "       u'Uklanjanje smetnje ADSL (Max TV, HotSpot) - degradacija, nije migriran IPTV korisnik - SMART',\n",
      "       u'Uklanjanje smetnje ADSL (VoIP, Max TV) - prekid, pokrenuta INS migracija po kartici, 45780686',\n",
      "       u'Uklanjanje smetnji (FTTH:Internet,MAXTV,Net Phone paketi)- Premium podr\\x9aka - OM - SMART',\n",
      "       u'Uklanjanje smetnje ADSL (VoIP, Max TV) - degradacija, pokrenuta INS migracija po kartici, 45820715',\n",
      "       u'Uklanjanje smetnji (FTTH:Veleprodajni FTTH)- Regulirana, Komercijalna- reopen',\n",
      "       u'Uklanjanje smetnje ADSL (Max TV) - prekid - Hybrid Access, nije migriran IPTV korisnik',\n",
      "       u'Uklanjanje smetnje (NetPhone paket) - degradacija - Premium podr\\x9aka',\n",
      "       u'Uklanjanje smetnje ADSL - prekid- SMART- 4G Backup',\n",
      "       u'Uklanjanje smetnje ADSL (VoIP) - degradacija, pokrenuta INS migracija po kartici, 45821292',\n",
      "       u'Uklanjanje smetnje ADSL - prekid- Hybrid Access - HALO BAS',\n",
      "       u'Uklanjanje smetnje ADSL (Max TV) - prekid - Premium podr\\x9aka, nije migriran IPTV korisnik',\n",
      "       u'Uklanjanje smetnje ADSL (VoIP, Max TV) - prekid, pokrenuta INS migracija po kartici, 45781596',\n",
      "       u'Uklanjanje smetnje ADSL - degradacija - Hybrid Access',\n",
      "       u'Uklanjanje smetnji (FTTH:Internet,Halo,MAXTV)- Premium podr\\x9aka, nije migriran IPTV korisnik - OM',\n",
      "       u'Uklanjanje smetnje ADSL (VoIP, Max TV) - prekid, pokrenuta INS migracija po kartici, 45821352',\n",
      "       u'Uklanjanje smetnje ADSL (Max TV) - prekid, nije migriran IPTV korisnik - SMART- reopen',\n",
      "       u'Uklanjanje smetnje ADSL (VoIP, Max TV) - prekid, pokrenuta INS migracija po kartici, 45779328',\n",
      "       u'Uklanjanje smetnja CLOUD FAX',\n",
      "       u'Uklanjanje smetnji (FTTH:Internet)- Premium podr\\x9aka',\n",
      "       u'Uklanjanje smetnje ADSL (Max TV) - prekid, pokrenuta INS migracija po kartici, 45834592',\n",
      "       u'Uklanjanje smetnje ADSL (Max TV) - prekid- Premium podr\\x9aka - Hybrid Access - SMART',\n",
      "       u'Uklanjanje smetnje ADSL (VoIP) - prekid- 4G Backup',\n",
      "       u'Uklanjanje smetnje ADSL (VoIP, Max TV) - prekid, pokrenuta INS migracija po kartici, 45820236',\n",
      "       u'Zamjena - 8',\n",
      "       u'Uklanjanje smetnje (NetPhone paket) - degradacija- PROSURF- reopen',\n",
      "       u'Uklanjanje smetnje ADSL - degradacija, nije migriran IPTV korisnik',\n",
      "       u'Uklanjanje smetnje ADSL (Max TV SA) - degradacija- Premium podr\\x9aka',\n",
      "       u'Uklanjanje smetnje ADSL (MaxTV DTH) - prekid - HALO BAS',\n",
      "       u'Uklanjanje smetnji (FTTH:Internet,Halo)- OM Drugi operator- reopen',\n",
      "       u'Uklanjanje smetnje ADSL (VoIP, Max TV SA) - degradacija- Premium podr\\x9aka- reopen',\n",
      "       u'Uklanjanje smetnje ADSL - prekid, pokrenuta INS migracija po kartici, 45834457',\n",
      "       u'Uklanjanje smetnje (MSAN) - prekid, hitna slu\\x9eba060335577',\n",
      "       u'Uklanjanje smetnji (FTTH:Internet)- OM - SMART',\n",
      "       u'Uklanjanje smetnje ADSL (Max TV) - degradacija - Hybrid Access',\n",
      "       u'Uklanjanje smetnje ADSL (MaxTV DTH) - prekid- SMART',\n",
      "       u'Uklanjanje smetnje (MSAN) - prekid, hitna slu\\x9eba112',\n",
      "       u'Uklanjanje smetnje ADSL (Max TV) (MaxTV DTH) - prekid',\n",
      "       u'Uklanjanje smetnje ADSL (Max TV SA) - prekid- Hybrid Access, nije migriran IPTV korisnik',\n",
      "       u'Uklanjanje smetnje ADSL (MaxTV DTH) - prekid- Premium podr\\x9aka- reopen',\n",
      "       u'Uklanjanje smetnji (FTTH:Halo,MAXTV)- Premium podr\\x9aka',\n",
      "       u'Uklanjanje smetnje ADSL (VoIP) - prekid - Hybrid Access',\n",
      "       u'Uklanjanje smetnje ADSL (Max TV) - degradacija- Hybrid Access - PROSURF',\n",
      "       u'Uklanjanje smetnje ADSL - degradacija- Premium podr\\x9aka - SMART- reopen',\n",
      "       u'Uklanjanje smetnje ADSL (Max TV) - prekid, nije migriran IPTV korisnik - OLD_SMART- 4G Backup',\n",
      "       u'Uklanjanje smetnji (FTTH:Internet,Halo,MAXTV), nije migriran IPTV korisnik - OM Drugi operator- reop',\n",
      "       u'Uklanjanje smetnji (FTTH:Internet,Net Phone paketi), nije migriran IPTV korisnik - SMART- reopen',\n",
      "       u'Uklanjanje smetnji (FTTH:Internet,Halo)- Premium podr\\x9aka - OM Drugi operator',\n",
      "       u'Zamjena opreme preko tehni\\xe8ara- SMART- reopen',\n",
      "       u'Uklanjanje smetnje ADSL (Max TV) - degradacija- Premium podr\\x9aka - SMART- reopen',\n",
      "       u'Uklanjanje smetnje ADSL (VoIP, Max TV) - prekid, automigracija u zavr\\x9anoj fazi po kartici , 14340745',\n",
      "       u'Uklanjanje smetnje ADSL (Max TV) - degradacija- HALO BAS- 4G Backup- reopen',\n",
      "       u'Uklanjanje smetnje ADSL (Max TV) - prekid- SMART',\n",
      "       u'Uklanjanje smetnji (FTTH:Internet,MAXTV)- Premium podr\\x9aka, nije migriran IPTV korisnik - OM',\n",
      "       u'Uklanjanje smetnji (FTTH:Internet,MAXTV,Net Phone paketi) - HALO BAS',\n",
      "       u'Uklanjanje smetnje Bitstream - degradacija',\n",
      "       u'Uklanjanje smetnje ADSL (VoIP) - degradacija- 4G Backup',\n",
      "       u'Uklanjanje smetnje ADSL (Max TV) - degradacija- Premium podr\\x9aka - Hybrid Access- reopen',\n",
      "       u'Uklanjanje smetnje ADSL (VoIP, Max TV) - prekid, pokrenuta INS migracija po kartici, 45781636, nije ',\n",
      "       u'Uklanjanje smetnje ADSL (Max TV) - prekid, pokrenuta INS migracija po kartici, 45779563',\n",
      "       u'Uklanjanje smetnje ADSL (Max TV) - prekid, pokrenuta IPTV migracija po kartici, UNKNOWN',\n",
      "       u'Uklanjanje smetnje ADSL (VoIP, Max TV) - prekid, pokrenuta INS migracija po kartici, 45781233',\n",
      "       u'Uklanjanje smetnji (FTTH:Internet) - SMART',\n",
      "       u'Uklanjanje smetnje ADSL (Max TV) - prekid, pokrenuta INS migracija po kartici, 45820218',\n",
      "       u'Uklanjanje smetnje ADSL (Max TV) - prekid, pokrenuta INS migracija po kartici, 45834063',\n",
      "       u'Uklanjanje smetnje ADSL (VoIP, Max TV) - prekid, pokrenuta INS migracija po kartici, 45836454, nije ',\n",
      "       u'Uklanjanje smetnje ADSL (Max TV) - prekid, pokrenuta INS migracija po kartici, 45820286',\n",
      "       u'Uklanjanje smetnje ADSL (VoIP) - prekid, pokrenuta INS migracija po kartici, 45834636',\n",
      "       u'Uklanjanje smetnje ADSL (VoIP) - prekid, pokrenuta INS migracija po kartici, 45822172',\n",
      "       u'Uklanjanje smetnje ADSL (VoIP, Max TV) - prekid, pokrenuta INS migracija po kartici, 45833754, nije ',\n",
      "       u'Uklanjanje smetnje ADSL (Max TV, HotSpot) - prekid- SMART- 4G Backup- reopen',\n",
      "       u'Uklanjanje smetnje (HotSpot) - degradacija - SMART- 4G Backup',\n",
      "       u'Uklanjanje smetnje ADSL (VoIP, Max TV) - prekid, pokrenuta INS migracija po kartici, 45914363',\n",
      "       u'Uklanjanje smetnje ADSL (VoIP) - degradacija, pokrenuta INS migracija po kartici, 45914691',\n",
      "       u'Uklanjanje smetnje ADSL (VoIP, Max TV) - prekid, pokrenuta INS migracija po kartici, 45913943',\n",
      "       u'Uklanjanje smetnje ADSL (VoIP, Max TV) - degradacija, pokrenuta INS migracija po kartici, 45913922, ',\n",
      "       u'Uklanjanje smetnji (FTTH:Internet,MAXTV,Net Phone paketi)- OM - SMART- reopen',\n",
      "       u'Uklanjanje smetnje ADSL - prekid- Hybrid Access - SMART- 4G Backup',\n",
      "       u'Uklanjanje smetnje ADSL (VoIP, Max TV) - prekid, automigracija u zavr\\x9anoj fazi po kartici , 14291759',\n",
      "       u'Uklanjanje smetnje ADSL (VoIP, Max TV) - degradacija, pokrenuta INS migracija po kartici, 45914132',\n",
      "       u'Uklanjanje smetnje ADSL (VoIP, Max TV) - prekid, automigracija u zavr\\x9anoj fazi po kartici , 14238103',\n",
      "       u'Zamjena opreme preko tehni\\xe8ara, nije migriran IPTV korisnik - SMART- 4G Backup',\n",
      "       u'Uklanjanje smetnje ADSL (VoIP, Max TV) - prekid, pokrenuta INS migracija po kartici, 45973735',\n",
      "       u'Uklanjanje smetnje (HotSpot) - degradacija- SMART- reopen',\n",
      "       u'Uklanjanje smetnji (FTTH:Internet,Net Phone paketi)- Premium podr\\x9aka - SMART- reopen',\n",
      "       u'Uklanjanje smetnje ADSL (MaxTV DTH) - prekid- Premium podr\\x9aka - SMART- 4G Backup',\n",
      "       u'Uklanjanje smetnje ADSL (MaxTV DTH) - prekid - Hybrid Access',\n",
      "       u'Uklanjanje smetnje (MSAN) - WLR - prekid- Komercijalna',\n",
      "       u'Uklanjanje smetnje ADSL (VoIP) (MaxTV DTH) - prekid- Premium podr\\x9aka- reopen',\n",
      "       u'Uklanjanje smetnje ADSL - degradacija - HALO BAS- 4G Backup',\n",
      "       u'Uklanjanje smetnje (NetPhone paket) - p - PROSURF',\n",
      "       u'Uklanjanje smetnje (MSAN) - prekid, hitna slu\\x9eba92',\n",
      "       u'Uklanjanje smetnje ADSL (Max TV SA) - degradacija- reopen',\n",
      "       u'Uklanjanje smetnji (FTTH:MAXTV)',\n",
      "       u'Uklanjanje smetnje (MSAN) - WLR - prekid - Regulirana, Komercijalna',\n",
      "       u'Uklanjanje smetnje ADSL (VoIP, Max TV) - degradacija - Hybrid Access',\n",
      "       u'Uklanjanje smetnje ADSL (Max TV) - degradacija- Hybrid Access, nije migriran IPTV korisnik - PROSURF',\n",
      "       u'Uklanjanje smetnji (FTTH:Internet,MAXTV,Net Phone paketi)- OM - SMART- 4G Backup',\n",
      "       u'Uklanjanje smetnje ADSL (VoIP, Max TV) - degradacija- Premium podr\\x9aka - Hybrid Access - SMART',\n",
      "       u'Uklanjanje smetnje ADSL (VoIP, Max TV) - prekid, pokrenuta INS migracija po kartici, 45781635',\n",
      "       u'Uklanjanje smetnje ADSL (VoIP, Max TV) - degradacija, pokrenuta INS migracija po kartici, 45778863',\n",
      "       u'Uklanjanje smetnje ADSL (Max TV SA) - prekid, pokrenuta IPTV migracija po kartici, 38541526',\n",
      "       u'Uklanjanje smetnje ADSL (Max TV) - prekid, pokrenuta INS migracija po kartici, 45820522',\n",
      "       u'Uklanjanje smetnje ADSL (VoIP, Max TV) - prekid, pokrenuta INS migracija po kartici, 45833978',\n",
      "       u'Uklanjanje smetnje ADSL (VoIP, Max TV) (MaxTV DTH) - degradacija',\n",
      "       u'Uklanjanje smetnje ADSL (VoIP) - prekid, pokrenuta INS migracija po kartici, 45835254',\n",
      "       u'Uklanjanje smetnje ADSL (Max TV, HotSpot) - degradacija',\n",
      "       u'Uklanjanje smetnje ADSL (VoIP) - prekid, pokrenuta INS migracija po kartici, 45835332- reopen',\n",
      "       u'Uklanjanje smetnje ADSL (VoIP, Max TV) - prekid, pokrenuta INS migracija po kartici, 45835947, nije ',\n",
      "       u'Zamjena opreme preko tehni\\xe8ara, pokrenuta INS migracija po kartici, 45834629',\n",
      "       u'Uklanjanje smetnje ADSL (VoIP, Max TV) - prekid, pokrenuta INS migracija po kartici, 45821341',\n",
      "       u'Uklanjanje smetnje ADSL (VoIP, Max TV) - prekid, pokrenuta INS migracija po kartici, 45821365',\n",
      "       u'Uklanjanje smetnje ADSL (VoIP, Max TV) - prekid, pokrenuta INS migracija po kartici, 45834081, nije ',\n",
      "       u'Uklanjanje smetnje ADSL (Max TV) - prekid, nije migriran IPTV korisnik - SMART- 4G Backup- reopen',\n",
      "       u'Uklanjanje smetnje (MSAN) - degradacija, hitna slu\\x9eba193',\n",
      "       u'Uklanjanje smetnje ADSL (Max TV) - prekid, pokrenuta INS migracija po kartici, 45914088',\n",
      "       u'Uklanjanje smetnje ADSL (VoIP, Max TV) (MaxTV DTH) - prekid- Hybrid Access',\n",
      "       u'Uklanjanje smetnje ADSL (VoIP, Max TV) - prekid, automigracija u zavr\\x9anoj fazi po kartici , 14286125',\n",
      "       u'Uklanjanje smetnji (FTTH:Internet,Halo) - OM Drugi operator',\n",
      "       u'Uklanjanje smetnje ADSL (VoIP, Max TV) - PFR - ponovljena smetnja',\n",
      "       u'Uklanjanje smetnje ADSL (Max TV, HotSpot) - degradacija- Premium podr\\x9aka - SMART',\n",
      "       u'Uklanjanje smetnji (FTTH:Internet,MAXTV,Net Phone paketi), nije migriran IPTV korisnik - PROSURF- re',\n",
      "       u'Uklanjanje smetnje (MSAN) - degradacija, nije migriran IPTV korisnik',\n",
      "       u'Uklanjanje smetnji (FTTB_FTTDP:Internet,Halo,MAXTV)- Premium podr\\x9aka, nije migriran IPTV korisnik',\n",
      "       u'Uklanjanje smetnji (FTTH:Internet,Halo), nije migriran IPTV korisnik- reopen',\n",
      "       u'Uklanjanje smetnje ADSL (VoIP, Max TV) (MaxTV DTH) - prekid',\n",
      "       u'Uklanjanje smetnje ADSL (Max TV, HotSpot) - prekid, nije migriran IPTV korisnik - SMART',\n",
      "       u'Uklanjanje smetnji (FTTH:Internet,MAXTV,Net Phone paketi)- OM - PROSURF',\n",
      "       u'Uklanjanje smetnje ADSL - degradacija- OM - SMART- 4G Backup',\n",
      "       u'Uklanjanje smetnje ADSL (Max TV, HotSpot) - degradacija- Premium podr\\x9aka',\n",
      "       u'Uklanjanje smetnje ADSL (Max TV) - degradacija, nije migriran IPTV korisnik - OLD_SMART- 4G Backup',\n",
      "       u'Uklanjanje smetnje ADSL - degradacija- Hybrid Access - SMART- 4G Backup',\n",
      "       u'Uklanjanje smetnje ADSL (VoIP) (MaxTV DTH) - degradacija- Premium podr\\x9aka- reopen',\n",
      "       u'Uklanjanje smetnje ADSL (MaxTV DTH) - degradacija - Hybrid Access',\n",
      "       u'Uklanjanje smetnje ADSL (VoIP) - degradacija, pokrenuta INS migracija po kartici, 45781590',\n",
      "       u'Uklanjanje smetnje ADSL (VoIP, Max TV) - prekid, pokrenuta INS migracija po kartici, 45781242',\n",
      "       u'Uklanjanje smetnje ADSL (VoIP) - degradacija- Premium podr\\x9aka, pokrenuta INS migracija po kartici, 4',\n",
      "       u'Uklanjanje smetnje ADSL (VoIP) - prekid, pokrenuta INS migracija po kartici, 45781007',\n",
      "       u'Uklanjanje smetnje ADSL (VoIP, Max TV) - prekid, pokrenuta INS migracija po kartici, 45781309, nije ',\n",
      "       u'Uklanjanje smetnje ADSL (VoIP, Max TV) - prekid, pokrenuta INS migracija po kartici, 45780646',\n",
      "       u'Uklanjanje smetnje ADSL (VoIP, Max TV) - prekid, pokrenuta INS migracija po kartici, 45821277',\n",
      "       u'Uklanjanje smetnje ADSL (Max TV) - prekid, pokrenuta INS migracija po kartici, 45834118, nije migrir',\n",
      "       u'Uklanjanje smetnje ADSL (VoIP) - degradacija, nije migriran IPTV korisnik',\n",
      "       u'Uklanjanje smetnje ADSL (VoIP) - prekid, pokrenuta INS migracija po kartici, 45821542',\n",
      "       u'Uklanjanje smetnje ADSL (VoIP) - prekid, pokrenuta INS migracija po kartici, 45835225',\n",
      "       u'Uklanjanje smetnji (FTTB_FTTDP:Internet,MAXTV,Net Phone paketi)- Premium podr\\x9aka - SMART',\n",
      "       u'Uklanjanje smetnje ADSL (VoIP, Max TV) - prekid, pokrenuta INS migracija po kartici, 45834709',\n",
      "       u'Uklanjanje smetnje ADSL (Max TV) - degradacija- Premium podr\\x9aka, nije migriran IPTV korisnik- reopen',\n",
      "       u'Uklanjanje smetnje ADSL (VoIP) - prekid, automigracija spu\\x9atena na teren po kartici, 21845577',\n",
      "       u'Uklanjanje smetnje ADSL (Max TV) - prekid- Hybrid Access - PROSURF',\n",
      "       u'Uklanjanje smetnje POTS - degradacija - Premium podr\\x9aka',\n",
      "       u'Uklanjanje smetnji (FTTH:Internet,Halo) - OM',\n",
      "       u'Uklanjanje smetnje ADSL (MaxTV DTH) - prekid- Premium podr\\x9aka - SMART- reopen',\n",
      "       u'Uklanjanje smetnje ADSL (VoIP, Max TV) - prekid, automigracija u zavr\\x9anoj fazi po kartici , 14291867',\n",
      "       u'Uklanjanje smetnje ADSL (VoIP, Max TV) - prekid, pokrenuta INS migracija po kartici, 45914201',\n",
      "       u'Zamjena opreme preko tehni\\xe8ara, nije migriran IPTV korisnik- reopen',\n",
      "       u'Uklanjanje smetnji (FTTB_FTTDP:Internet,MAXTV)- Premium podr\\x9aka',\n",
      "       u'Uklanjanje smetnje ADSL (Max TV) - degradacija, nije migriran IPTV korisnik - OLD_SMART',\n",
      "       u'Uklanjanje smetnje ADSL (VoIP, Max TV) - degradacija, pokrenuta INS migracija po kartici, 45914311',\n",
      "       u'Uklanjanje smetnje POTS - degradacija - Premium podr\\x9aka, automigracija spu\\x9atena na teren po kartici,',\n",
      "       u'Uklanjanje smetnji (FTTH:Internet,MAXTV) - OM Drugi operator',\n",
      "       u'Uklanjanje smetnji (FTTB_FTTDP:Internet,Halo,MAXTV), nije migriran IPTV korisnik- reopen',\n",
      "       u'Uklanjanje smetnje  - prekid - SMART',\n",
      "       u'Uklanjanje smetnje ADSL (VoIP, Max TV) - degradacija, pokrenuta INS migracija po kartici, 45914740- ',\n",
      "       u'Uklanjanje smetnje ADSL (VoIP, Max TV) - prekid - Hybrid Access, nije migriran IPTV korisnik',\n",
      "       u'Uklanjanje smetnje ADSL (VoIP) (MaxTV DTH) - prekid - Hybrid Access',\n",
      "       u'Uklanjanje smetnje ULL - prekid - Regulirana- aktivacijska smetnja',\n",
      "       u'Uklanjanje smetnje Bitstream - prekid - WS_SLA1 - Regulirana',\n",
      "       u'Uklanjanje smetnje ULL - prekid - WS_SLA1 - Regulirana, Komercijalna',\n",
      "       u'Uklanjanje smetnje ADSL - prekid- Hybrid Access - OLD_SMART',\n",
      "       u'Uklanjanje smetnje ADSL - prekid, pokrenuta INS migracija po kartici, 45973915',\n",
      "       u'Uklanjanje smetnje ADSL (Max TV) - prekid, pokrenuta INS migracija po kartici, 45974221',\n",
      "       u'Uklanjanje smetnje ADSL (Max TV) - prekid, pokrenuta INS migracija po kartici, 45914924',\n",
      "       u'Uklanjanje smetnje ADSL (VoIP, Max TV) - degradacija - Premium podr\\x9aka - Hybrid Access',\n",
      "       u'Uklanjanje smetnje ADSL (MaxTV DTH) - prekid - Premium podr\\x9aka - Hybrid Access',\n",
      "       u'Uklanjanje smetnji (FTTB_FTTDP:Internet,MAXTV,Net Phone paketi)',\n",
      "       u'Uklanjanje smetnje ADSL (VoIP, Max TV) - degradacija - Hybrid Access, nije migriran IPTV korisnik',\n",
      "       u'Uklanjanje smetnje ADSL (VoIP) - degradacija - Hybrid Access',\n",
      "       u'Uklanjanje smetnje ADSL - degradacija- Premium podr\\x9aka, - DATA backup',\n",
      "       u'Uklanjanje smetnje ADSL (VoIP, Max TV) - prekid, automigracija u zavr\\x9anoj fazi po kartici , 14331410',\n",
      "       u'Nema podataka',\n",
      "       u'Uklanjanje smetnje ADSL - degradacija- PROSURF- reopen',\n",
      "       u'Uklanjanje smetnje ADSL (VoIP) - degradacija, automigracija u zavr\\x9anoj fazi po kartici , 14187285',\n",
      "       u'Uklanjanje smetnji (FTTH:Internet,Net Phone paketi) - HALO BAS'],\n",
      "      dtype=object)"
     ]
    }
   ],
   "source": [
    "df_tickets_1p['ACTION_TYPE'].unique()"
   ]
  },
  {
   "cell_type": "code",
   "execution_count": 8,
   "metadata": {},
   "outputs": [
    {
     "data": {
      "application/vnd.jupyter.widget-view+json": {
       "model_id": "",
       "version_major": 2,
       "version_minor": 0
      },
      "text/plain": [
       "FloatProgress(value=0.0, bar_style='info', description='Progress:', layout=Layout(height='25px', width='50%'),…"
      ]
     },
     "metadata": {},
     "output_type": "display_data"
    },
    {
     "name": "stdout",
     "output_type": "stream",
     "text": [
      "array([u'1.razina kod korisnika', u'Nepoznato', u'1.razina na mre\\x9ei',\n",
      "       u'Razina na agregaciji', u'Drugi operator',\n",
      "       u'2.razina na mre\\x9ei', u'Otkazana smetnja',\n",
      "       u'Automatska dijagnostika', u'Daljinski otklonjena smetnja', None,\n",
      "       u'Otklonjena smetnja - prekid - 1',\n",
      "       u'Otklonjena smetnja - degradacija 45',\n",
      "       u'Smetnja nije otklonjena - 35',\n",
      "       u'Po ispitivanju dobar (gre\\x9aka nije prona\\xf0ena) - 2',\n",
      "       u'Otkazana prijava (korisnik odjavio smetnju ili krivo prijavljena smetnja) - 30',\n",
      "       u'Usluga ne zadovoljava o\\xe8ekivanja korisnika (korisnik upu\\xe6en) - 31',\n",
      "       u'Privremeno otklonjena smetnja - 3', u'Nema podataka'],\n",
      "      dtype=object)"
     ]
    }
   ],
   "source": [
    "df_tickets_1p['FAULT_RESOLUTION'].unique() 'FAULT_RESOLUTION','Nacin_otklona','konacna_otklona'"
   ]
  },
  {
   "cell_type": "code",
   "execution_count": 9,
   "metadata": {},
   "outputs": [
    {
     "data": {
      "application/vnd.jupyter.widget-view+json": {
       "model_id": "",
       "version_major": 2,
       "version_minor": 0
      },
      "text/plain": [
       "FloatProgress(value=0.0, bar_style='info', description='Progress:', layout=Layout(height='25px', width='50%'),…"
      ]
     },
     "metadata": {},
     "output_type": "display_data"
    },
    {
     "name": "stdout",
     "output_type": "stream",
     "text": [
      "array([u'Zamjena - 8', u'Nepoznato', u'Popravak - 1',\n",
      "       u'Onemogu\\xe6en pristup prostoru u vlasni\\x9atvu korisnika - 5',\n",
      "       u'Vlastito odr\\x9eavanje korisnika - 6', u'Reset - 4',\n",
      "       u'Rekonfiguracija - 3', u'Promjena profila - 2',\n",
      "       u'\\xc8i\\x9a\\xe6enje opti\\xe8kih priklju\\xe8aka - 7',\n",
      "       u'Drugi operator - 9', None], dtype=object)"
     ]
    }
   ],
   "source": [
    "df_tickets_1p['Nacin_otklona'].unique()"
   ]
  },
  {
   "cell_type": "code",
   "execution_count": 10,
   "metadata": {},
   "outputs": [
    {
     "data": {
      "application/vnd.jupyter.widget-view+json": {
       "model_id": "",
       "version_major": 2,
       "version_minor": 0
      },
      "text/plain": [
       "FloatProgress(value=0.0, bar_style='info', description='Progress:', layout=Layout(height='25px', width='50%'),…"
      ]
     },
     "metadata": {},
     "output_type": "display_data"
    },
    {
     "name": "stdout",
     "output_type": "stream",
     "text": [
      "array([u'Otklonjena smetnja - prekid - 1', u'Nepoznato',\n",
      "       u'Otklonjena smetnja - degradacija 45',\n",
      "       u'Smetnja nije otklonjena - 35',\n",
      "       u'Po ispitivanju dobar (gre\\x9aka nije prona\\xf0ena) - 2',\n",
      "       u'Otkazana prijava (korisnik odjavio smetnju ili krivo prijavljena smetnja) - 30',\n",
      "       u'Automatskom dijagnostikom je utvr\\xf0ena gre\\x9aka na korisni\\xe8koj opremi',\n",
      "       u'Privremeno otklonjena smetnja - 3',\n",
      "       u'Usluga ne zadovoljava o\\xe8ekivanja korisnika (korisnik upu\\xe6en) - 31',\n",
      "       u'Isklju\\xe8enja zbog duga ili na zahtjev korisnika - 32',\n",
      "       u'Automatskom dijagnostikom nije utvr\\xf0eno postojanje smetnje',\n",
      "       None], dtype=object)"
     ]
    }
   ],
   "source": [
    "df_tickets_1p['Konacna_odjava'].unique()"
   ]
  },
  {
   "cell_type": "code",
   "execution_count": 11,
   "metadata": {},
   "outputs": [
    {
     "data": {
      "application/vnd.jupyter.widget-view+json": {
       "model_id": "",
       "version_major": 2,
       "version_minor": 0
      },
      "text/plain": [
       "FloatProgress(value=0.0, bar_style='info', description='Progress:', layout=Layout(height='25px', width='50%'),…"
      ]
     },
     "metadata": {},
     "output_type": "display_data"
    },
    {
     "name": "stdout",
     "output_type": "stream",
     "text": [
      "array([u'STB - 44', u'DSL modem - 30', u'Nepoznato', u'Parica - 110',\n",
      "       u'Nepoznato - 125', u'Oprema u vlasni\\x9atvu korisnika - 83',\n",
      "       u'DSLAM - 32', u'MDF/ODF - 69', u'Sat. antenski sustav - 102',\n",
      "       u'Ostalo - 113', u'Spojna pristupna mre\\x9ea',\n",
      "       u'Instalacija u vlasni\\x9atvu korisnika - 84', u'IP telefon - 56',\n",
      "       u'T-Box ure\\xf0aj-135', u'DSLAM port - 68', u'HA HGW IAD',\n",
      "       u'Voice gateway - 55',\n",
      "       u'Smetnja nije u podru\\xe8ju odgovornosti HT-a - 86',\n",
      "       u'Podzemni kabel - 70', u'ONT - 63', u'Izvod - 92',\n",
      "       u'HDF - HT strana - 87',\n",
      "       u'Posredni Kabel (izme\\xf0u HDF - MDF) - 88',\n",
      "       u'Uvodna kutija na objektu korisnika - 94',\n",
      "       u'Zra\\xe8ni kabel - 93', u'Platforma - 133', u'LTE modem',\n",
      "       u'WiFi postavke na modemu - 164', u'DSLAM plo\\xe8ica - 130',\n",
      "       u'DSL spliter - 31', u'Ostalo - 160',\n",
      "       u'Daljinski upravlja\\xe8 - 58', u'FGSM oprema - 24',\n",
      "       u'FTTB/FTTDP \\xe8vor/izvod', u'SIM kartica za HA',\n",
      "       u'DVB-T antenski sustav - 171', u'Wifi repeater',\n",
      "       u'IP - CPE Cisco - 170', u'antenski sustav - 172',\n",
      "       u'Opti\\xe8ka ku\\xe6na instalacija - 80',\n",
      "       u'Komutacija (AXE, EWSD) - 1', u'PLC ure\\xf0aj - 96',\n",
      "       u'OLT PON port - 118', u'Sekundarna oprema (PCM, PGS) - 71',\n",
      "       u'OLT - 60', u'Dekoderska kartica - 107',\n",
      "       u'SIM kartica za 4G backup', u'HAAP server - 168',\n",
      "       u'Priklju\\xe8na (izvodna) to\\xe8ka - 134',\n",
      "       u'Spliter dijeljenog pristupa - 90',\n",
      "       u'OLT servisna plo\\xe8ica - 117', u'Kabelski zdenac - 112', None,\n",
      "       u'Javna govornica - 39', u'Terastream HGW - 155',\n",
      "       u'Svjetlovodna distribucijska mre\\x9ea',\n",
      "       u'Opti\\xe8ki primarni/sekundarni izvod - 75',\n",
      "       u'Opti\\xe8ka spojnica - 114', u'IP - CPE HP - 169',\n",
      "       u'Distribucijski \\xe8vor - 129', u'Podzemni kabe (ULL) - 91',\n",
      "       u'OLT switch plo\\xe8ica - 116', u'Adapter za struju - 174',\n",
      "       u'Opti\\xe8ki djelitelj - 85', u'Terastream platforma',\n",
      "       u'OLT uplink plo\\xe8ica - 115', u'Nije komercijalna - 161',\n",
      "       u'CI CAM modul', u'Smetnja na strani Cloud Fax platforme',\n",
      "       u'Pristupni switch', u'STB (Terastream)'], dtype=object)"
     ]
    }
   ],
   "source": [
    "df_tickets_1p['Mjesto_smetnje'].unique()"
   ]
  },
  {
   "cell_type": "code",
   "execution_count": 4,
   "metadata": {},
   "outputs": [
    {
     "data": {
      "application/vnd.jupyter.widget-view+json": {
       "model_id": "",
       "version_major": 2,
       "version_minor": 0
      },
      "text/plain": [
       "FloatProgress(value=0.0, bar_style='info', description='Progress:', layout=Layout(height='25px', width='50%'),…"
      ]
     },
     "metadata": {},
     "output_type": "display_data"
    }
   ],
   "source": [
    "path_tickets_1 = \"hdfs://nameservicedev1//user/dt_srajan/predictive_care/tickets/Smetnje_0107-1510_2020.csv\"\n",
    "df_tickets_1 = spark.read.option(\"encoding\", \"ISO-8859-1\").option(\"inferSchema\", \"true\").csv(path_tickets_1,header = True,sep=\";\")\n",
    "df_tickets_1 = df_tickets_1.select('TICKET_ID','START_DATE_TIME_DONAT','ASSET_ID','Uzrok_smetnje', 'WORK_CODE','Vrsta_prijavljene_smetnje','SOURCE','SOLUTION_LEVEL','SUMMARY','FAULT_RESOLUTION','Nacin_otklona','Konacna_odjava')\n",
    "\n",
    "path_tickets_2 = \"hdfs://nameservicedev1//user/dt_srajan/predictive_care/tickets/FAULTS_E2E_01102020-31122020.csv\"\n",
    "df_tickets_2 = spark.read.option(\"encoding\", \"ISO-8859-1\").option(\"inferSchema\", \"true\").csv(path_tickets_2,header = True,sep=\";\")\n",
    "df_tickets_2 = df_tickets_2.select('TICKET_ID','START_DATE_TIME_DONAT','ASSET_ID','Uzrok_smetnje', 'WORK_CODE','Vrsta_prijavljene_smetnje','SOURCE','SOLUTION_LEVEL','SUMMARY','FAULT_RESOLUTION','Nacin_otklona','Konacna_odjava')\n",
    "\n",
    "path_tickets_3 = \"hdfs://nameservicedev1//user/dt_srajan/predictive_care/tickets/FAULTS_01012020-30062020.csv\"\n",
    "df_tickets_3 = spark.read.option(\"encoding\", \"ISO-8859-1\").option(\"inferSchema\", \"true\").csv(path_tickets_3,header = True,sep=\";\")\n",
    "df_tickets_3 = df_tickets_3.select('TICKET_ID','START_DATE_TIME_DONAT','ASSET_ID','Uzrok_smetnje', 'WORK_CODE','Vrsta_prijavljene_smetnje','SOURCE','SOLUTION_LEVEL','SUMMARY','FAULT_RESOLUTION','Nacin_otklona','Konacna_odjava')\n",
    "\n",
    "path_tickets_4 = \"hdfs://nameservicedev1//user/dt_srajan/predictive_care/tickets/FAULTS_01012021-30042021.csv\"\n",
    "df_tickets_4 = spark.read.option(\"encoding\", \"ISO-8859-1\").option(\"inferSchema\", \"true\").csv(path_tickets_4,header = True,sep=\";\")\n",
    "df_tickets_4 = df_tickets_4.select('TICKET_ID','START_DATE_TIME_DONAT','ASSET_ID','Uzrok_smetnje', 'WORK_CODE','Vrsta_prijavljene_smetnje','SOURCE','SOLUTION_LEVEL','SUMMARY','FAULT_RESOLUTION','Nacin_otklona','Konacna_odjava')\n",
    "\n",
    "df_tickets_1 = df_tickets_1.select('TICKET_ID','START_DATE_TIME_DONAT','ASSET_ID','Uzrok_smetnje','WORK_CODE','Vrsta_prijavljene_smetnje','SOURCE','SOLUTION_LEVEL','SUMMARY','FAULT_RESOLUTION','Nacin_otklona','Konacna_odjava')\n",
    "df_tickets_1 = df_tickets_1.withColumn('START_DATE_TICKET',F.unix_timestamp('START_DATE_TIME_DONAT', \"yyyy-MM-dd'T'HH:mm:ss\").cast(types.TimestampType()))\n",
    "df_tickets_1 = df_tickets_1.withColumn('START_DATE_TICKET',F.date_format(F.col(\"START_DATE_TICKET\"), \"yyy-MM-dd HH:mm:ss\"))\n",
    "\n",
    "df_tickets_2 = df_tickets_2.select('TICKET_ID','START_DATE_TIME_DONAT','ASSET_ID','Uzrok_smetnje','WORK_CODE','Vrsta_prijavljene_smetnje','SOURCE','SOLUTION_LEVEL','SUMMARY','FAULT_RESOLUTION','Nacin_otklona','Konacna_odjava')\n",
    "df_tickets_2 = df_tickets_2.withColumn('START_DATE_TICKET',F.unix_timestamp('START_DATE_TIME_DONAT', \"yyyy-MM-dd HH:mm:ss\").cast(types.TimestampType()))\n",
    "df_tickets_2 = df_tickets_2.withColumn('START_DATE_TICKET',F.date_format(F.col(\"START_DATE_TICKET\"), \"yyy-MM-dd HH:mm:ss\"))\n",
    "\n",
    "df_tickets_3 = df_tickets_3.select('TICKET_ID','START_DATE_TIME_DONAT','ASSET_ID','Uzrok_smetnje','WORK_CODE','Vrsta_prijavljene_smetnje','SOURCE','SOLUTION_LEVEL','SUMMARY','FAULT_RESOLUTION','Nacin_otklona','Konacna_odjava')\n",
    "df_tickets_3 = df_tickets_3.withColumn('START_DATE_TICKET',F.unix_timestamp('START_DATE_TIME_DONAT', \"yyyy-MM-dd'T'HH:mm:ss\").cast(types.TimestampType()))\n",
    "df_tickets_3 = df_tickets_3.withColumn('START_DATE_TICKET',F.date_format(F.col(\"START_DATE_TICKET\"), \"yyy-MM-dd HH:mm:ss\"))\n",
    "\n",
    "df_tickets_4 = df_tickets_4.select('TICKET_ID','START_DATE_TIME_DONAT','ASSET_ID','Uzrok_smetnje','WORK_CODE','Vrsta_prijavljene_smetnje','SOURCE','SOLUTION_LEVEL','SUMMARY','FAULT_RESOLUTION','Nacin_otklona','Konacna_odjava')\n",
    "df_tickets_4 = df_tickets_4.withColumn('START_DATE_TICKET',F.unix_timestamp('START_DATE_TIME_DONAT', \"yyyy-MM-dd'T'HH:mm:ss\").cast(types.TimestampType()))\n",
    "df_tickets_4 = df_tickets_4.withColumn('START_DATE_TICKET',F.date_format(F.col(\"START_DATE_TICKET\"), \"yyy-MM-dd HH:mm:ss\"))\n",
    "\n",
    "df_tickets = df_tickets_1.union(df_tickets_2)\n",
    "df_tickets = df_tickets.union(df_tickets_3)\n",
    "df_tickets = df_tickets.union(df_tickets_4)\n",
    "df_tickets = df_tickets.dropDuplicates()\n",
    "df_tickets = df_tickets.withColumnRenamed('Uzrok_smetnje', 'TICKET_TENTATIVE_ROOT_CAUSE')\n",
    "df_tickets = df_tickets.withColumnRenamed('Vrsta_prijavljene_smetnje', 'Type_of_reported_interference')\n",
    "df_tickets = df_tickets.withColumnRenamed('Nacin_otklona', 'deviation_mode')\n",
    "df_tickets = df_tickets.withColumnRenamed('Konacna_odjava', 'final_logout')\n",
    "df_tickets = df_tickets.drop('START_DATE_TIME_DONAT')\n",
    "\n",
    "df_tickets = df_tickets.dropDuplicates()"
   ]
  },
  {
   "cell_type": "code",
   "execution_count": 5,
   "metadata": {},
   "outputs": [
    {
     "data": {
      "application/vnd.jupyter.widget-view+json": {
       "model_id": "",
       "version_major": 2,
       "version_minor": 0
      },
      "text/plain": [
       "FloatProgress(value=0.0, bar_style='info', description='Progress:', layout=Layout(height='25px', width='50%'),…"
      ]
     },
     "metadata": {},
     "output_type": "display_data"
    },
    {
     "name": "stdout",
     "output_type": "stream",
     "text": [
      "+-------------------+\n",
      "|  START_DATE_TICKET|\n",
      "+-------------------+\n",
      "|            1218714|\n",
      "|               null|\n",
      "|               null|\n",
      "|2020-01-01 00:13:34|\n",
      "|2021-04-30 23:57:23|\n",
      "+-------------------+"
     ]
    }
   ],
   "source": [
    "df_tickets.describe().select('START_DATE_TICKET').show()"
   ]
  },
  {
   "cell_type": "code",
   "execution_count": 6,
   "metadata": {},
   "outputs": [
    {
     "data": {
      "application/vnd.jupyter.widget-view+json": {
       "model_id": "",
       "version_major": 2,
       "version_minor": 0
      },
      "text/plain": [
       "FloatProgress(value=0.0, bar_style='info', description='Progress:', layout=Layout(height='25px', width='50%'),…"
      ]
     },
     "metadata": {},
     "output_type": "display_data"
    },
    {
     "name": "stdout",
     "output_type": "stream",
     "text": [
      "('Number of Unique AssetID in tickets dattabase:', 658190)"
     ]
    }
   ],
   "source": [
    "print('Number of Unique AssetID in tickets dattabase:',df_tickets.select('ASSET_ID').distinct().count())"
   ]
  },
  {
   "cell_type": "markdown",
   "metadata": {},
   "source": [
    "##  3. Loading Poll day agg data<a class=\"anchor\" id=\"sec6\"></a>\n",
    "\n",
    "Load pol aggregated dat for the same timeframe as tickets dataset"
   ]
  },
  {
   "cell_type": "code",
   "execution_count": 5,
   "metadata": {},
   "outputs": [
    {
     "data": {
      "application/vnd.jupyter.widget-view+json": {
       "model_id": "",
       "version_major": 2,
       "version_minor": 0
      },
      "text/plain": [
       "FloatProgress(value=0.0, bar_style='info', description='Progress:', layout=Layout(height='25px', width='50%'),…"
      ]
     },
     "metadata": {},
     "output_type": "display_data"
    }
   ],
   "source": [
    "def rename_cols(df, prefix):\n",
    "    \"\"\"Column renameb by adding a prefix.\n",
    "    \n",
    "    Args:\n",
    "        df (dataframe): Input dataframe.\n",
    "        \n",
    "    Returns:\n",
    "        df (dataframe): Output datframe witha ppended prefix to columns.\n",
    "    \"\"\"\n",
    "    for feature in df.columns:\n",
    "        df = df.withColumnRenamed(feature,prefix+feature)\n",
    "    return df\n",
    "\n",
    "def parsing_date_format(datetime_str, target_date_format):\n",
    "    \"\"\"Fuction to modify the date format.\n",
    "    \n",
    "    Args:\n",
    "        datetime_str (str): Date in original format. expected \"%Y-%m-%d\".\n",
    "        target_date_format (str): Desire date format e.g \"%Y%m%d\".\n",
    "    \n",
    "    Returns\n",
    "        str: Date in target format.\n",
    "    \"\"\"\n",
    "    date_obj = datetime.strptime(datetime_str, \"%Y-%m-%d\").date()\n",
    "    return date_obj.strftime(target_date_format)\n",
    "\n",
    "def data_import(database, table, start_time, end_time, spark):\n",
    "    \"\"\"Function to load data from Hive tables based on start time and end time.\n",
    "    \n",
    "    Args:\n",
    "        database (string): Database name in HIVE.\n",
    "        table (string): Table name in HIVE.\n",
    "        start_time (str): Start time for the query.\n",
    "        end_time (str): End time for the query.\n",
    "        spark (obj): Spark session object.\n",
    "        \n",
    "    Returns:\n",
    "        dataframe :  spark dataframe with loaded data.\n",
    "    \"\"\"\n",
    "    #start_time = parsing_date_format(start_time, \"%Y-%m-%d\")\n",
    "    #end_time = parsing_date_format(end_time, \"%Y-%m-%d\")\n",
    "\n",
    "    df = spark.sql(\"select * from {0}.{1} where {2} between '{3}' and '{4}' \" \\\n",
    "              .format(database, table, 'datum', start_time, end_time))\n",
    "    return df\n",
    "\n",
    "def spark_init():\n",
    "    \"\"\"Init Spark session.\n",
    "    Returns:\n",
    "        object: spark session.\n",
    "    \"\"\"\n",
    "    spark = SparkSession.builder \\\n",
    "        .master('yarn') \\\n",
    "        .appName('predictive_care') \\\n",
    "        .enableHiveSupport() \\\n",
    "        .getOrCreate()\n",
    "    spark.sparkContext.setLogLevel(\"ERROR\")\n",
    "    return spark\n",
    "\n",
    "spark=spark_init()\n",
    "start_time, end_time = '2020-01-01', '2021-04-30'\n",
    "df_dslam = data_import('cdl_blos', 'pol_day_aggregation', start_time, end_time, spark) #per day\n",
    "\n",
    "    \n",
    "#dropping missing keys\n",
    "df_dslam =df_dslam.na.drop(subset=['assetid','datum'])\n",
    "    \n",
    "# Drop multiple samples per day\n",
    "df_dslam = df_dslam.dropDuplicates(['assetid','datum'])\n",
    "    \n",
    "#Renamming for conditional join\n",
    "df_dslam = rename_cols(df_dslam, 'dslam_')"
   ]
  },
  {
   "cell_type": "code",
   "execution_count": 10,
   "metadata": {},
   "outputs": [
    {
     "data": {
      "application/vnd.jupyter.widget-view+json": {
       "model_id": "",
       "version_major": 2,
       "version_minor": 0
      },
      "text/plain": [
       "FloatProgress(value=0.0, bar_style='info', description='Progress:', layout=Layout(height='25px', width='50%'),…"
      ]
     },
     "metadata": {},
     "output_type": "display_data"
    },
    {
     "name": "stdout",
     "output_type": "stream",
     "text": [
      "['dslam_date_inserted', 'dslam_dns_device', 'dslam_slot', 'dslam_port', 'dslam_ip_device', 'dslam_dis_device', 'dslam_distinct_modulation', 'dslam_no_of_dominant_modulation', 'dslam_code_of_dominant_modulation', 'dslam_avg_bitrate_us', 'dslam_max_bitrate_us', 'dslam_min_bitrate_us', 'dslam_avg_bitrate_ds', 'dslam_max_bitrate_ds', 'dslam_min_bitrate_ds', 'dslam_avg_attenuation_ds', 'dslam_max_attenuation_ds', 'dslam_min_attenuation_ds', 'dslam_avg_attenuation_us', 'dslam_max_attenuation_us', 'dslam_min_attenuation_us', 'dslam_avg_power_us', 'dslam_max_power_us', 'dslam_min_power_us', 'dslam_avg_power_ds', 'dslam_max_power_ds', 'dslam_min_power_ds', 'dslam_avg_att_bitrate_us', 'dslam_max_att_bitrate_us', 'dslam_min_att_bitrate_us', 'dslam_avg_att_bitrate_ds', 'dslam_max_att_bitrate_ds', 'dslam_min_att_bitrate_ds', 'dslam_avg_snr_us', 'dslam_max_snr_us', 'dslam_min_snr_us', 'dslam_avg_snr_ds', 'dslam_max_snr_ds', 'dslam_min_snr_ds', 'dslam_no_counts', 'dslam_avg_bandline_ds', 'dslam_max_bandline_ds', 'dslam_min_bandline_ds', 'dslam_avg_bandline_us', 'dslam_max_bandline_us', 'dslam_min_bandline_us', 'dslam_avg_net_datarate_ds', 'dslam_max_net_datarate_ds', 'dslam_min_net_datarate_ds', 'dslam_avg_net_datarate_us', 'dslam_max_net_datarate_us', 'dslam_min_net_datarate_us', 'dslam_sum_cv_us', 'dslam_count_cv_us', 'dslam_sum_cv_ds', 'dslam_count_cv_ds', 'dslam_sum_es_ds', 'dslam_count_es_ds', 'dslam_sum_es_us', 'dslam_count_es_us', 'dslam_sum_ses_ds', 'dslam_count_ses_ds', 'dslam_sum_ses_us', 'dslam_count_ses_us', 'dslam_sum_fec_ds', 'dslam_count_fec_ds', 'dslam_sum_fec_us', 'dslam_count_fec_us', 'dslam_inits', 'dslam_platforma', 'dslam_model', 'dslam_dis_dslam_name', 'dslam_dis_dslam_slot_port', 'dslam_em_dslam_name', 'dslam_em_dslam_slot_port', 'dslam_card_type', 'dslam_port_access_id', 'dslam_status_porta', 'dslam_bandwidth', 'dslam_vdsl_adsl', 'dslam_vendor', 'dslam_assetid', 'dslam_status', 'dslam_port_inst_id', 'dslam_internet', 'dslam_iptv', 'dslam_voip', 'dslam_servis', 'dslam_regija', 'dslam_razdjelnik', 'dslam_rg_port', 'dslam_rg_port_inst_id', 'dslam_prim_izvod', 'dslam_prim_izvod_inst_id', 'dslam_prim_parica', 'dslam_sek_izvod', 'dslam_sek_parica', 'dslam_em_profil', 'dslam_datum']"
     ]
    }
   ],
   "source": [
    "df_dslam.columns"
   ]
  },
  {
   "cell_type": "code",
   "execution_count": 6,
   "metadata": {},
   "outputs": [
    {
     "data": {
      "application/vnd.jupyter.widget-view+json": {
       "model_id": "",
       "version_major": 2,
       "version_minor": 0
      },
      "text/plain": [
       "FloatProgress(value=0.0, bar_style='info', description='Progress:', layout=Layout(height='25px', width='50%'),…"
      ]
     },
     "metadata": {},
     "output_type": "display_data"
    }
   ],
   "source": [
    "df_ticket_filtered_dsl = df_tickets.join(df_dslam,df_tickets.ASSET_ID == df_dslam.dslam_assetid, how = 'inner')"
   ]
  },
  {
   "cell_type": "code",
   "execution_count": 17,
   "metadata": {},
   "outputs": [
    {
     "data": {
      "application/vnd.jupyter.widget-view+json": {
       "model_id": "",
       "version_major": 2,
       "version_minor": 0
      },
      "text/plain": [
       "FloatProgress(value=0.0, bar_style='info', description='Progress:', layout=Layout(height='25px', width='50%'),…"
      ]
     },
     "metadata": {},
     "output_type": "display_data"
    },
    {
     "name": "stdout",
     "output_type": "stream",
     "text": [
      "('Number of assetid which are related to DSL issues:', 320253)"
     ]
    }
   ],
   "source": [
    "print('Number of assetid which are related to DSL issues:',df_ticket_filtered_dsl.select('ASSET_ID').distinct().count())"
   ]
  },
  {
   "cell_type": "code",
   "execution_count": 7,
   "metadata": {},
   "outputs": [
    {
     "data": {
      "application/vnd.jupyter.widget-view+json": {
       "model_id": "",
       "version_major": 2,
       "version_minor": 0
      },
      "text/plain": [
       "FloatProgress(value=0.0, bar_style='info', description='Progress:', layout=Layout(height='25px', width='50%'),…"
      ]
     },
     "metadata": {},
     "output_type": "display_data"
    },
    {
     "name": "stdout",
     "output_type": "stream",
     "text": [
      "-RECORD 0------------------------------------------------------------------------\n",
      " TICKET_ID                     | 46588210                                        \n",
      " ASSET_ID                      | 2095669                                         \n",
      " TICKET_TENTATIVE_ROOT_CAUSE   | Oteæenje zbog radova (Nisu radovi T-HT-a) - 35 \n",
      " WORK_CODE                     | FAULTREPAIR                                     \n",
      " Type_of_reported_interference | prekid                                          \n",
      " SOURCE                        | WWMS                                            \n",
      " SOLUTION_LEVEL                | 2                                               \n",
      " SUMMARY                       | DSL SINHRONIZACIJA - PREKID                     \n",
      " FAULT_RESOLUTION              | Daljinski otklonjena smetnja                    \n",
      " deviation_mode                | Reset - 4                                       \n",
      " final_logout                  | Otklonjena smetnja - prekid - 1                 \n",
      " START_DATE_TICKET             | 2020-12-30 08:00:23                             \n",
      "-RECORD 1------------------------------------------------------------------------\n",
      " TICKET_ID                     | 46588210                                        \n",
      " ASSET_ID                      | 2095669                                         \n",
      " TICKET_TENTATIVE_ROOT_CAUSE   | Oteæenje zbog radova (Nisu radovi T-HT-a) - 35 \n",
      " WORK_CODE                     | FAULTREPAIR                                     \n",
      " Type_of_reported_interference | prekid                                          \n",
      " SOURCE                        | WWMS                                            \n",
      " SOLUTION_LEVEL                | 2                                               \n",
      " SUMMARY                       | DSL SINHRONIZACIJA - PREKID                     \n",
      " FAULT_RESOLUTION              | Daljinski otklonjena smetnja                    \n",
      " deviation_mode                | Reset - 4                                       \n",
      " final_logout                  | Otklonjena smetnja - prekid - 1                 \n",
      " START_DATE_TICKET             | 2020-12-30 08:00:23                             \n",
      "-RECORD 2------------------------------------------------------------------------\n",
      " TICKET_ID                     | 46588210                                        \n",
      " ASSET_ID                      | 2095669                                         \n",
      " TICKET_TENTATIVE_ROOT_CAUSE   | Oteæenje zbog radova (Nisu radovi T-HT-a) - 35 \n",
      " WORK_CODE                     | FAULTREPAIR                                     \n",
      " Type_of_reported_interference | prekid                                          \n",
      " SOURCE                        | WWMS                                            \n",
      " SOLUTION_LEVEL                | 2                                               \n",
      " SUMMARY                       | DSL SINHRONIZACIJA - PREKID                     \n",
      " FAULT_RESOLUTION              | Daljinski otklonjena smetnja                    \n",
      " deviation_mode                | Reset - 4                                       \n",
      " final_logout                  | Otklonjena smetnja - prekid - 1                 \n",
      " START_DATE_TICKET             | 2020-12-30 08:00:23"
     ]
    }
   ],
   "source": [
    "df_ticket_filtered_dsl = df_ticket_filtered_dsl.drop('dslam_date_inserted', 'dslam_dns_device', 'dslam_slot', 'dslam_port', 'dslam_ip_device', 'dslam_dis_device', 'dslam_distinct_modulation', 'dslam_no_of_dominant_modulation', 'dslam_code_of_dominant_modulation', 'dslam_avg_bitrate_us', 'dslam_max_bitrate_us', 'dslam_min_bitrate_us', 'dslam_avg_bitrate_ds', 'dslam_max_bitrate_ds', 'dslam_min_bitrate_ds', 'dslam_avg_attenuation_ds', 'dslam_max_attenuation_ds', 'dslam_min_attenuation_ds', 'dslam_avg_attenuation_us', 'dslam_max_attenuation_us', 'dslam_min_attenuation_us', 'dslam_avg_power_us', 'dslam_max_power_us', 'dslam_min_power_us', 'dslam_avg_power_ds', 'dslam_max_power_ds', 'dslam_min_power_ds', 'dslam_avg_att_bitrate_us', 'dslam_max_att_bitrate_us', 'dslam_min_att_bitrate_us', 'dslam_avg_att_bitrate_ds', 'dslam_max_att_bitrate_ds', 'dslam_min_att_bitrate_ds', 'dslam_avg_snr_us', 'dslam_max_snr_us', 'dslam_min_snr_us', 'dslam_avg_snr_ds', 'dslam_max_snr_ds', 'dslam_min_snr_ds', 'dslam_no_counts', 'dslam_avg_bandline_ds', 'dslam_max_bandline_ds', 'dslam_min_bandline_ds', 'dslam_avg_bandline_us', 'dslam_max_bandline_us', 'dslam_min_bandline_us', 'dslam_avg_net_datarate_ds', 'dslam_max_net_datarate_ds', 'dslam_min_net_datarate_ds', 'dslam_avg_net_datarate_us', 'dslam_max_net_datarate_us', 'dslam_min_net_datarate_us', 'dslam_sum_cv_us', 'dslam_count_cv_us', 'dslam_sum_cv_ds', 'dslam_count_cv_ds', 'dslam_sum_es_ds', 'dslam_count_es_ds', 'dslam_sum_es_us', 'dslam_count_es_us', 'dslam_sum_ses_ds', 'dslam_count_ses_ds', 'dslam_sum_ses_us', 'dslam_count_ses_us', 'dslam_sum_fec_ds', 'dslam_count_fec_ds', 'dslam_sum_fec_us', 'dslam_count_fec_us', 'dslam_inits', 'dslam_platforma', 'dslam_model', 'dslam_dis_dslam_name', 'dslam_dis_dslam_slot_port', 'dslam_em_dslam_name', 'dslam_em_dslam_slot_port', 'dslam_card_type', 'dslam_port_access_id', 'dslam_status_porta', 'dslam_bandwidth', 'dslam_vdsl_adsl', 'dslam_vendor', 'dslam_assetid', 'dslam_status', 'dslam_port_inst_id', 'dslam_internet', 'dslam_iptv', 'dslam_voip', 'dslam_servis', 'dslam_regija', 'dslam_razdjelnik', 'dslam_rg_port', 'dslam_rg_port_inst_id', 'dslam_prim_izvod', 'dslam_prim_izvod_inst_id', 'dslam_prim_parica', 'dslam_sek_izvod', 'dslam_sek_parica', 'dslam_em_profil', 'dslam_datum')\n",
    "df_ticket_filtered_dsl.limit(3).show(200,truncate=False, vertical=True)"
   ]
  },
  {
   "cell_type": "code",
   "execution_count": 13,
   "metadata": {},
   "outputs": [
    {
     "data": {
      "application/vnd.jupyter.widget-view+json": {
       "model_id": "",
       "version_major": 2,
       "version_minor": 0
      },
      "text/plain": [
       "FloatProgress(value=0.0, bar_style='info', description='Progress:', layout=Layout(height='25px', width='50%'),…"
      ]
     },
     "metadata": {},
     "output_type": "display_data"
    },
    {
     "name": "stdout",
     "output_type": "stream",
     "text": [
      "+--------------+-------------+\n",
      "|SOLUTION_LEVEL|count_assetid|\n",
      "+--------------+-------------+\n",
      "|          null|           14|\n",
      "|             1|       130131|\n",
      "|             3|       219888|\n",
      "|             4|        34736|\n",
      "|             2|        79467|\n",
      "|             0|         2277|\n",
      "+--------------+-------------+"
     ]
    }
   ],
   "source": [
    "df_ticket_filtered_dsl.groupBy(\"SOLUTION_LEVEL\") \\\n",
    "    .agg(F.countDistinct(\"ASSET_ID\").alias(\"count_assetid\")).show()"
   ]
  },
  {
   "cell_type": "markdown",
   "metadata": {},
   "source": [
    "## 4. Loading different data<a class=\"anchor\" id=\"sec7\"></a>"
   ]
  },
  {
   "cell_type": "markdown",
   "metadata": {},
   "source": [
    "### 4.1 Loading Replacement data<a class=\"anchor\" id=\"sec8\"></a>"
   ]
  },
  {
   "cell_type": "code",
   "execution_count": 8,
   "metadata": {},
   "outputs": [
    {
     "data": {
      "application/vnd.jupyter.widget-view+json": {
       "model_id": "",
       "version_major": 2,
       "version_minor": 0
      },
      "text/plain": [
       "FloatProgress(value=0.0, bar_style='info', description='Progress:', layout=Layout(height='25px', width='50%'),…"
      ]
     },
     "metadata": {},
     "output_type": "display_data"
    }
   ],
   "source": [
    "path_cpe_replacement1 = \"hdfs://nameservicedev1//user/dt_srajan/predictive_care/replacement/cpe_replacement.csv\"\n",
    "df_cpe_replacement1 = spark.read.option(\"encoding\", \"ISO-8859-1\").option(\"inferSchema\", \"true\").csv(path_cpe_replacement1,header = True,sep=\";\")\n",
    "\n",
    "path_cpe_replacement2 = \"hdfs://nameservicedev1//user/dt_srajan/predictive_care/replacement/replacement_new_data/CPE replacement_2020_01-06.csv\"\n",
    "df_cpe_replacement2 = spark.read.option(\"encoding\", \"ISO-8859-1\").option(\"inferSchema\", \"true\").csv(path_cpe_replacement2,header = True,sep=\";\")\n",
    "\n",
    "path_cpe_replacement3 = \"hdfs://nameservicedev1//user/dt_srajan/predictive_care/replacement/replacement_new_data/CPE replacement_2021_01-07.csv\"\n",
    "df_cpe_replacement3 = spark.read.option(\"encoding\", \"ISO-8859-1\").option(\"inferSchema\", \"true\").csv(path_cpe_replacement3,header = True,sep=\";\")\n",
    "df_cpe_replacement3 = df_cpe_replacement3.filter((df_cpe_replacement3.Month == 1) | (df_cpe_replacement3.Month == 2) | (df_cpe_replacement3.Month == 3) | (df_cpe_replacement3.Month == 4))\n",
    "\n",
    "df_cpe_replacement1 = df_cpe_replacement1.select('TICKET_ID','ASSET_ID', 'CPE_SERIAL_NUMBER')\n",
    "df_cpe_replacement2 = df_cpe_replacement2.select('TICKET_ID','ASSET_ID', 'CPE_SERIAL_NUMBER')\n",
    "df_cpe_replacement3 = df_cpe_replacement3.select('TICKET_ID','ASSET_ID', 'CPE_SERIAL_NUMBER')\n",
    "df_cpe_replacement = df_cpe_replacement1.union(df_cpe_replacement2).union(df_cpe_replacement3)\n",
    "df_cpe_replacement = df_cpe_replacement.dropDuplicates()\n",
    "df_cpe_replacement = df_cpe_replacement.na.drop(subset=['TICKET_ID','ASSET_ID','CPE_SERIAL_NUMBER'])"
   ]
  },
  {
   "cell_type": "markdown",
   "metadata": {},
   "source": [
    "### 4.2 Loading Refurbishment data<a class=\"anchor\" id=\"sec9\"></a>"
   ]
  },
  {
   "cell_type": "code",
   "execution_count": 9,
   "metadata": {},
   "outputs": [
    {
     "data": {
      "application/vnd.jupyter.widget-view+json": {
       "model_id": "",
       "version_major": 2,
       "version_minor": 0
      },
      "text/plain": [
       "FloatProgress(value=0.0, bar_style='info', description='Progress:', layout=Layout(height='25px', width='50%'),…"
      ]
     },
     "metadata": {},
     "output_type": "display_data"
    },
    {
     "name": "stdout",
     "output_type": "stream",
     "text": [
      "+-------+-------------------+-------------------+\n",
      "|summary|    DATE_SCAN_START|      DATE_SCAN_END|\n",
      "+-------+-------------------+-------------------+\n",
      "|  count|              90920|              90920|\n",
      "|   mean|               null|               null|\n",
      "| stddev|               null|               null|\n",
      "|    min|2020-01-02 00:00:00|2020-01-14 00:00:00|\n",
      "|    max|2021-04-23 00:00:00|2021-04-30 00:00:00|\n",
      "+-------+-------------------+-------------------+\n",
      "\n",
      "-RECORD 0------------------------------------------\n",
      " CPE_SERIAL_NUMBER | j835bh004425                  \n",
      " DATE_SCAN_START   | 2020-01-14 00:00:00           \n",
      " DATE_SCAN_END     | 2020-01-14 00:00:00           \n",
      " CPE_ISSUE         | minor_physical_thermal_damage \n",
      "-RECORD 1------------------------------------------\n",
      " CPE_SERIAL_NUMBER | J833BH004104                  \n",
      " DATE_SCAN_START   | 2020-01-14 00:00:00           \n",
      " DATE_SCAN_END     | 2020-01-14 00:00:00           \n",
      " CPE_ISSUE         | minor_physical_thermal_damage \n",
      "-RECORD 2------------------------------------------\n",
      " CPE_SERIAL_NUMBER | J902BH013132                  \n",
      " DATE_SCAN_START   | 2020-01-14 00:00:00           \n",
      " DATE_SCAN_END     | 2020-01-14 00:00:00           \n",
      " CPE_ISSUE         | minor_physical_thermal_damage"
     ]
    }
   ],
   "source": [
    "path_cpe_refurbishment = \"hdfs://nameservicedev1//user/dt_srajan/predictive_care/replacement/CPE_refurbishment_2020_2021.csv\"\n",
    "df_cpe_refurbishment = spark.read.option(\"encoding\", \"ISO-8859-1\").option(\"inferSchema\", \"true\").csv(path_cpe_refurbishment,header = True,sep=\",\")\n",
    "\n",
    "from pyspark.sql.types import *\n",
    "\n",
    "df_cpe_refurbishment = df_cpe_refurbishment.withColumn('DATE_SCAN_END',F.when(F.unix_timestamp('Datum_izlaznog_skeniranja', \"dd/MM/yyyy\").cast(TimestampType()).isNotNull (),\\\n",
    "                                                                      F.unix_timestamp('Datum_izlaznog_skeniranja', \"dd/MM/yyyy\").cast(TimestampType()))\\\n",
    "                                                                .otherwise(None))\\\n",
    "                                            .withColumn('DATE_SCAN_START',F.when(F.unix_timestamp('Datum_ulaznog_skeniranja', \"dd/MM/yyyy\").cast(TimestampType()).isNotNull (),\\\n",
    "                                                                      F.unix_timestamp('Datum_ulaznog_skeniranja', \"dd/MM/yyyy\").cast(TimestampType()))\\\n",
    "                                                                .otherwise(None))\n",
    "\n",
    "df_cpe_refurbishment = df_cpe_refurbishment.withColumn('DATE_SCAN_END',F.date_format(F.col(\"DATE_SCAN_END\"), \"yyyy-MM-dd HH:mm:ss\"))\\\n",
    "                                            .withColumn('DATE_SCAN_START',F.date_format(F.col(\"DATE_SCAN_START\"), \"yyyy-MM-dd HH:mm:ss\"))\n",
    "\n",
    "df_cpe_refurbishment = df_cpe_refurbishment.withColumnRenamed('Vrsta kvara', 'Vrsta_kvara')\n",
    "\n",
    "df_cpe_refurbishment.select('DATE_SCAN_START',  \"DATE_SCAN_END\").describe().show()\n",
    "\n",
    "df_cpe_refurbishment = df_cpe_refurbishment.filter(df_cpe_refurbishment.Vrsta_kvara != 'NULL')\n",
    "df_cpe_refurbishment = df_cpe_refurbishment.withColumn('Vrsta_kvara', F.regexp_replace('Vrsta_kvara', 'Napajanje', 'power_supply')) \\\n",
    "     .withColumn('Vrsta_kvara', F.regexp_replace('Vrsta_kvara', 'ZnaÄajno fiziÄko oÅ¡teÄenje - nepopravljivo', 'significant_physical_damage_irreparable')) \\\n",
    "     .withColumn('Vrsta_kvara', F.regexp_replace('Vrsta_kvara', 'Ne prijavljuje se u ACS', 'does_not_log_into_acs')) \\\n",
    "     .withColumn('Vrsta_kvara', F.regexp_replace('Vrsta_kvara', 'Reset ne radi', 'reset_not_work')) \\\n",
    "     .withColumn('Vrsta_kvara', F.regexp_replace('Vrsta_kvara', 'Manje fiziÄko ili toplinsko oÅ¡teÄenje', 'minor_physical_thermal_damage')) \\\n",
    "     .withColumn('Vrsta_kvara', F.regexp_replace('Vrsta_kvara', 'Ispravan', 'no_problem')) \\\n",
    "     .withColumn('Vrsta_kvara', F.regexp_replace('Vrsta_kvara', 'OptiÄki port', 'optical_port')) \\\n",
    "     .withColumn('Vrsta_kvara', F.regexp_replace('Vrsta_kvara', 'SIM utor', 'sim_slot')) \\\n",
    "     .withColumn('Vrsta_kvara', F.regexp_replace('Vrsta_kvara', 'WIFI', 'wifi')) \\\n",
    "     .withColumn('Vrsta_kvara', F.regexp_replace('Vrsta_kvara', 'Blokiran', 'blocked')) \\\n",
    "     .withColumn('Vrsta_kvara', F.regexp_replace('Vrsta_kvara', 'Resetira se sam', 'reset_itself')) \\\n",
    "     .withColumn('Vrsta_kvara', F.regexp_replace('Vrsta_kvara', 'Internet ne radi', 'internet_not_working')) \\\n",
    "     .withColumn('Vrsta_kvara', F.regexp_replace('Vrsta_kvara', 'DSL port', 'dsl_port')) \\\n",
    "     .withColumn('Vrsta_kvara', F.regexp_replace('Vrsta_kvara', 'Pregrijavanje ureÄaja', 'device_overheating')) \\\n",
    "     .withColumn('Vrsta_kvara', F.regexp_replace('Vrsta_kvara', 'LAN port', 'lan_port')) \\\n",
    "     .withColumn('Vrsta_kvara', F.regexp_replace('Vrsta_kvara', 'Slaba brzina', 'poor_speed')) \\\n",
    "     .withColumn('Vrsta_kvara', F.regexp_replace('Vrsta_kvara', 'Telefon port', 'telefon_port')) \\\n",
    "     .withColumn('Vrsta_kvara', F.regexp_replace('Vrsta_kvara', 'Software', 'software'))\n",
    "\n",
    "df_cpe_refurbishment = df_cpe_refurbishment.withColumnRenamed('Vrsta_kvara', 'CPE_ISSUE')\\\n",
    "                                            .withColumnRenamed('Serijski_broj', 'CPE_SERIAL_NUMBER')\n",
    "spaceDeleteUDF = F.udf(lambda s: s.replace(\"/ \", \"/\"), StringType())\n",
    "df_cpe_refurbishment = df_cpe_refurbishment.withColumn(\"CPE_ISSUE\", spaceDeleteUDF(\"CPE_ISSUE\"))\n",
    "\n",
    "df_cpe_refurbishment = df_cpe_refurbishment.select('CPE_SERIAL_NUMBER', 'DATE_SCAN_START','DATE_SCAN_END','CPE_ISSUE')\n",
    "df_cpe_refurbishment.limit(3).show(200,truncate=False, vertical=True)"
   ]
  },
  {
   "cell_type": "markdown",
   "metadata": {},
   "source": [
    "### 4.3 Joining replacement and refurbishment data <a class=\"anchor\" id=\"sec10\"></a>"
   ]
  },
  {
   "cell_type": "code",
   "execution_count": 10,
   "metadata": {},
   "outputs": [
    {
     "data": {
      "application/vnd.jupyter.widget-view+json": {
       "model_id": "",
       "version_major": 2,
       "version_minor": 0
      },
      "text/plain": [
       "FloatProgress(value=0.0, bar_style='info', description='Progress:', layout=Layout(height='25px', width='50%'),…"
      ]
     },
     "metadata": {},
     "output_type": "display_data"
    },
    {
     "name": "stdout",
     "output_type": "stream",
     "text": [
      "+--------------------+-------------+\n",
      "|           CPE_ISSUE|count_assetid|\n",
      "+--------------------+-------------+\n",
      "|power_supply/lan_...|          128|\n",
      "|          no_problem|        16605|\n",
      "|minor_physical_th...|         1429|\n",
      "|power_supply/dsl_...|          385|\n",
      "|reset_itself/rese...|            1|\n",
      "|telefon_port/powe...|           17|\n",
      "|telefon_port/inte...|            2|\n",
      "|                wifi|          187|\n",
      "|does_not_log_into...|          206|\n",
      "|reset_itself/dsl_...|            5|\n",
      "|telefon_port/dsl_...|           16|\n",
      "|telefon_port/lan_...|           15|\n",
      "|internet_not_work...|            1|\n",
      "|            software|            2|\n",
      "|minor_physical_th...|            1|\n",
      "|        power_supply|         4134|\n",
      "|telefon_port/lan_...|            5|\n",
      "|reset_itself/powe...|            1|\n",
      "|            dsl_port|         4472|\n",
      "|            lan_port|          301|\n",
      "+--------------------+-------------+\n",
      "only showing top 20 rows"
     ]
    }
   ],
   "source": [
    "df = df_cpe_replacement.join(df_cpe_refurbishment, on = 'CPE_SERIAL_NUMBER', how = 'inner' )\n",
    "df.groupBy(\"CPE_ISSUE\") \\\n",
    "    .agg(F.countDistinct(\"ASSET_ID\").alias(\"count_assetid\")).show()"
   ]
  },
  {
   "cell_type": "markdown",
   "metadata": {},
   "source": [
    "### 4.4  Filtering CPEs with no_problem issue type <a class=\"anchor\" id=\"sec11\"></a>"
   ]
  },
  {
   "cell_type": "code",
   "execution_count": 11,
   "metadata": {},
   "outputs": [
    {
     "data": {
      "application/vnd.jupyter.widget-view+json": {
       "model_id": "",
       "version_major": 2,
       "version_minor": 0
      },
      "text/plain": [
       "FloatProgress(value=0.0, bar_style='info', description='Progress:', layout=Layout(height='25px', width='50%'),…"
      ]
     },
     "metadata": {},
     "output_type": "display_data"
    },
    {
     "name": "stdout",
     "output_type": "stream",
     "text": [
      "+--------------------+-------------+\n",
      "|           CPE_ISSUE|count_assetid|\n",
      "+--------------------+-------------+\n",
      "|power_supply/lan_...|          128|\n",
      "|minor_physical_th...|         1429|\n",
      "|power_supply/dsl_...|          385|\n",
      "|reset_itself/rese...|            1|\n",
      "|telefon_port/powe...|           17|\n",
      "|telefon_port/inte...|            2|\n",
      "|                wifi|          187|\n",
      "|does_not_log_into...|          206|\n",
      "|reset_itself/dsl_...|            5|\n",
      "|telefon_port/dsl_...|           16|\n",
      "|telefon_port/lan_...|           15|\n",
      "|internet_not_work...|            1|\n",
      "|            software|            2|\n",
      "|minor_physical_th...|            1|\n",
      "|        power_supply|         4134|\n",
      "|telefon_port/lan_...|            5|\n",
      "|reset_itself/powe...|            1|\n",
      "|            dsl_port|         4472|\n",
      "|            lan_port|          301|\n",
      "|  device_overheating|          114|\n",
      "+--------------------+-------------+\n",
      "only showing top 20 rows"
     ]
    }
   ],
   "source": [
    "df = df.filter(df.CPE_ISSUE != 'no_problem')\n",
    "df.groupBy(\"CPE_ISSUE\") \\\n",
    "    .agg(F.countDistinct(\"ASSET_ID\").alias(\"count_assetid\")).show()"
   ]
  },
  {
   "cell_type": "markdown",
   "metadata": {},
   "source": [
    "### 4.5  Filtering CPEs with some issues  <a class=\"anchor\" id=\"sec12\"></a>\n",
    "\n",
    "We are filtering out the CPEs which are actually had any issues except \"no_problem\""
   ]
  },
  {
   "cell_type": "code",
   "execution_count": 12,
   "metadata": {},
   "outputs": [
    {
     "data": {
      "application/vnd.jupyter.widget-view+json": {
       "model_id": "",
       "version_major": 2,
       "version_minor": 0
      },
      "text/plain": [
       "FloatProgress(value=0.0, bar_style='info', description='Progress:', layout=Layout(height='25px', width='50%'),…"
      ]
     },
     "metadata": {},
     "output_type": "display_data"
    }
   ],
   "source": [
    "df_ticket_filtered_dsl = df_ticket_filtered_dsl.join(df,on = 'ASSET_ID', how = 'left_anti')\n",
    "df_ticket_filtered_dsl = df_ticket_filtered_dsl.dropDuplicates()"
   ]
  },
  {
   "cell_type": "code",
   "execution_count": 14,
   "metadata": {},
   "outputs": [
    {
     "data": {
      "application/vnd.jupyter.widget-view+json": {
       "model_id": "",
       "version_major": 2,
       "version_minor": 0
      },
      "text/plain": [
       "FloatProgress(value=0.0, bar_style='info', description='Progress:', layout=Layout(height='25px', width='50%'),…"
      ]
     },
     "metadata": {},
     "output_type": "display_data"
    },
    {
     "name": "stdout",
     "output_type": "stream",
     "text": [
      "('Total count:', 645368)\n",
      "('Unique CPEs:', 307036)"
     ]
    }
   ],
   "source": [
    "print('Total count:',df_ticket_filtered_dsl.count())\n",
    "print('Unique CPEs:',df_ticket_filtered_dsl.select('ASSET_ID').distinct().count())"
   ]
  },
  {
   "cell_type": "markdown",
   "metadata": {},
   "source": [
    "## 5. Filtering tickets data for DSL lines with all levels and exluding Thunderstorm cases  <a class=\"anchor\" id=\"sec13\"></a>"
   ]
  },
  {
   "cell_type": "code",
   "execution_count": 15,
   "metadata": {},
   "outputs": [
    {
     "data": {
      "application/vnd.jupyter.widget-view+json": {
       "model_id": "",
       "version_major": 2,
       "version_minor": 0
      },
      "text/plain": [
       "FloatProgress(value=0.0, bar_style='info', description='Progress:', layout=Layout(height='25px', width='50%'),…"
      ]
     },
     "metadata": {},
     "output_type": "display_data"
    }
   ],
   "source": [
    "df_ticket_filtered_dsl_a = df_ticket_filtered_dsl.select('SOURCE','SOLUTION_LEVEL').dropDuplicates() "
   ]
  },
  {
   "cell_type": "code",
   "execution_count": 16,
   "metadata": {},
   "outputs": [
    {
     "data": {
      "application/vnd.jupyter.widget-view+json": {
       "model_id": "",
       "version_major": 2,
       "version_minor": 0
      },
      "text/plain": [
       "FloatProgress(value=0.0, bar_style='info', description='Progress:', layout=Layout(height='25px', width='50%'),…"
      ]
     },
     "metadata": {},
     "output_type": "display_data"
    }
   ],
   "source": [
    "df_ticket_filtered_dsl_p = df_ticket_filtered_dsl_a.toPandas()"
   ]
  },
  {
   "cell_type": "code",
   "execution_count": 17,
   "metadata": {},
   "outputs": [
    {
     "data": {
      "application/vnd.jupyter.widget-view+json": {
       "model_id": "",
       "version_major": 2,
       "version_minor": 0
      },
      "text/plain": [
       "FloatProgress(value=0.0, bar_style='info', description='Progress:', layout=Layout(height='25px', width='50%'),…"
      ]
     },
     "metadata": {},
     "output_type": "display_data"
    },
    {
     "name": "stdout",
     "output_type": "stream",
     "text": [
      "SOURCE\n",
      "0915763509\"                                                                  [nan]\n",
      "098705584\"                                                                   [nan]\n",
      "?\\t?Korisnik potvrdio da nema opasnosti za zdravlje tehnièara?\"              [nan]\n",
      "BBSA                                                                         [0.0]\n",
      "DONAT                                                                        [1.0]\n",
      "Ivana\"                                                                       [nan]\n",
      "KB 385922509978\"                                                             [nan]\n",
      "KB : 385955812189\"                                                           [nan]\n",
      "KB: 0959029975.\"                                                             [nan]\n",
      "KB: 385917909536\"                                                            [nan]\n",
      "Korisnik potvrdio da nema opasnosti za zdravlje tehnièara - da\"              [nan]\n",
      "LP\"                                                                          [nan]\n",
      "Slae se sa dolaskom tehnièara\"                                              [nan]\n",
      "WWMS                                                               [3.0, 2.0, 4.0]\n",
      "pristaje na dplazak tehnicara i nema opasnosti za zdravlje\"                  [nan]\n",
      "zgrada 4. kat\"                                                               [nan]\n",
      "Name: SOLUTION_LEVEL, dtype: object"
     ]
    }
   ],
   "source": [
    "df_ticket_filtered_dsl_p.groupby('SOURCE')['SOLUTION_LEVEL'].unique()"
   ]
  },
  {
   "cell_type": "markdown",
   "metadata": {},
   "source": [
    "**Insights:**\n",
    "> Possible `Source` and `Solution Level` are:-\n",
    "\n",
    "> When `Source` : BBSA possible `Solution Level` : 0\n",
    ">\n",
    "> When `Source` : DONAT possible `Solution Level` : 1\n",
    ">\n",
    "> When `Source` : WWMS possible `Solution Level` : [2,3,4]"
   ]
  },
  {
   "cell_type": "markdown",
   "metadata": {},
   "source": [
    "<div class=\"alert alert-block alert-info\">\n",
    "<b>Check:</b> Let's check if same `TICKET_ID` raised multiple number of times for a particular `ASSET_ID`.\n",
    "</div>"
   ]
  },
  {
   "cell_type": "code",
   "execution_count": 16,
   "metadata": {},
   "outputs": [
    {
     "data": {
      "application/vnd.jupyter.widget-view+json": {
       "model_id": "",
       "version_major": 2,
       "version_minor": 0
      },
      "text/plain": [
       "FloatProgress(value=0.0, bar_style='info', description='Progress:', layout=Layout(height='25px', width='50%'),…"
      ]
     },
     "metadata": {},
     "output_type": "display_data"
    },
    {
     "name": "stdout",
     "output_type": "stream",
     "text": [
      "+----------+\n",
      "|max(count)|\n",
      "+----------+\n",
      "|         2|\n",
      "+----------+\n",
      "\n",
      "None"
     ]
    }
   ],
   "source": [
    "c = df_ticket_filtered_dsl.groupby('ASSET_ID','TICKET_ID').count().filter(\"'count'>'1'\")\n",
    "print(c.select(F.max('count')).show())"
   ]
  },
  {
   "cell_type": "code",
   "execution_count": 51,
   "metadata": {},
   "outputs": [
    {
     "data": {
      "application/vnd.jupyter.widget-view+json": {
       "model_id": "",
       "version_major": 2,
       "version_minor": 0
      },
      "text/plain": [
       "FloatProgress(value=0.0, bar_style='info', description='Progress:', layout=Layout(height='25px', width='50%'),…"
      ]
     },
     "metadata": {},
     "output_type": "display_data"
    }
   ],
   "source": [
    "d = c.filter(F.col('count')>1)"
   ]
  },
  {
   "cell_type": "markdown",
   "metadata": {},
   "source": [
    "\n",
    "<div class=\"alert alert-block alert-danger\">\n",
    "<b>Alert:</b> It shows a particluar cpes have same tickets raised maximum 2 times. So let's get the last ticket raised on same `ticket_id`.\n",
    "</div>"
   ]
  },
  {
   "cell_type": "code",
   "execution_count": 17,
   "metadata": {},
   "outputs": [
    {
     "data": {
      "application/vnd.jupyter.widget-view+json": {
       "model_id": "",
       "version_major": 2,
       "version_minor": 0
      },
      "text/plain": [
       "FloatProgress(value=0.0, bar_style='info', description='Progress:', layout=Layout(height='25px', width='50%'),…"
      ]
     },
     "metadata": {},
     "output_type": "display_data"
    },
    {
     "name": "stdout",
     "output_type": "stream",
     "text": [
      "['ASSET_ID', 'TICKET_ID', 'TICKET_TENTATIVE_ROOT_CAUSE', 'WORK_CODE', 'Type_of_reported_interference', 'SOURCE', 'SOLUTION_LEVEL', 'SUMMARY', 'FAULT_RESOLUTION', 'deviation_mode', 'final_logout', 'START_DATE_TICKET']"
     ]
    }
   ],
   "source": [
    "df_ticket_filtered_dsl.columns"
   ]
  },
  {
   "cell_type": "code",
   "execution_count": 18,
   "metadata": {},
   "outputs": [
    {
     "data": {
      "application/vnd.jupyter.widget-view+json": {
       "model_id": "",
       "version_major": 2,
       "version_minor": 0
      },
      "text/plain": [
       "FloatProgress(value=0.0, bar_style='info', description='Progress:', layout=Layout(height='25px', width='50%'),…"
      ]
     },
     "metadata": {},
     "output_type": "display_data"
    }
   ],
   "source": [
    "path = '/user/tsystems_vkumar/tickets/df_all_tkts.parquet'\n",
    "df_ticket_filtered_dsl.repartition(1).write.format('parquet').mode('overwrite').option('header','true').save(path)"
   ]
  },
  {
   "cell_type": "code",
   "execution_count": 19,
   "metadata": {},
   "outputs": [
    {
     "data": {
      "application/vnd.jupyter.widget-view+json": {
       "model_id": "",
       "version_major": 2,
       "version_minor": 0
      },
      "text/plain": [
       "FloatProgress(value=0.0, bar_style='info', description='Progress:', layout=Layout(height='25px', width='50%'),…"
      ]
     },
     "metadata": {},
     "output_type": "display_data"
    },
    {
     "name": "stdout",
     "output_type": "stream",
     "text": [
      "+--------+---------+---------------------------+-------------+-----------------------------+------+--------------+-----------------+--------------------+--------------+--------------------+-------------------+\n",
      "|ASSET_ID|TICKET_ID|TICKET_TENTATIVE_ROOT_CAUSE|    WORK_CODE|Type_of_reported_interference|SOURCE|SOLUTION_LEVEL|          SUMMARY|    FAULT_RESOLUTION|deviation_mode|        final_logout|  START_DATE_TICKET|\n",
      "+--------+---------+---------------------------+-------------+-----------------------------+------+--------------+-----------------+--------------------+--------------+--------------------+-------------------+\n",
      "|28513467|420084268|                       null|Nema podataka|                         null| DONAT|             1|    Nema podataka|       Nema podataka|          null|                null|2020-04-15 00:02:47|\n",
      "|36648835| 44731364|               Blokada - 39|  FAULTREPAIR|                       prekid|  WWMS|             2|NEMA TEL. SIGNALA|Daljinski otklonj...|     Reset - 4|Otklonjena smetnj...|2020-02-08 20:03:56|\n",
      "+--------+---------+---------------------------+-------------+-----------------------------+------+--------------+-----------------+--------------------+--------------+--------------------+-------------------+\n",
      "only showing top 2 rows"
     ]
    }
   ],
   "source": [
    "df_ticket_filtered_dsl.show(2)"
   ]
  },
  {
   "cell_type": "code",
   "execution_count": 26,
   "metadata": {},
   "outputs": [
    {
     "data": {
      "application/vnd.jupyter.widget-view+json": {
       "model_id": "",
       "version_major": 2,
       "version_minor": 0
      },
      "text/plain": [
       "FloatProgress(value=0.0, bar_style='info', description='Progress:', layout=Layout(height='25px', width='50%'),…"
      ]
     },
     "metadata": {},
     "output_type": "display_data"
    }
   ],
   "source": [
    "from pyspark.sql.functions import *\n",
    "from pyspark.sql.window import Window\n",
    "\n",
    "w = Window.partitionBy(['ASSET_ID','TICKET_ID']).orderBy(desc('SOLUTION_LEVEL'),desc('START_DATE_TICKET'))\n",
    "df_ticket_filtered_dsl_1 = df_ticket_filtered_dsl.withColumn('Rank',dense_rank().over(w))"
   ]
  },
  {
   "cell_type": "code",
   "execution_count": 27,
   "metadata": {},
   "outputs": [
    {
     "data": {
      "application/vnd.jupyter.widget-view+json": {
       "model_id": "",
       "version_major": 2,
       "version_minor": 0
      },
      "text/plain": [
       "FloatProgress(value=0.0, bar_style='info', description='Progress:', layout=Layout(height='25px', width='50%'),…"
      ]
     },
     "metadata": {},
     "output_type": "display_data"
    },
    {
     "name": "stdout",
     "output_type": "stream",
     "text": [
      "+---------+\n",
      "|max(Rank)|\n",
      "+---------+\n",
      "|        2|\n",
      "+---------+"
     ]
    }
   ],
   "source": [
    "df_ticket_filtered_dsl_1.select(F.max('Rank')).show()"
   ]
  },
  {
   "cell_type": "code",
   "execution_count": 28,
   "metadata": {},
   "outputs": [
    {
     "data": {
      "application/vnd.jupyter.widget-view+json": {
       "model_id": "",
       "version_major": 2,
       "version_minor": 0
      },
      "text/plain": [
       "FloatProgress(value=0.0, bar_style='info', description='Progress:', layout=Layout(height='25px', width='50%'),…"
      ]
     },
     "metadata": {},
     "output_type": "display_data"
    }
   ],
   "source": [
    "df_ticket_filtered_dsl_1 = df_ticket_filtered_dsl_1.filter(df_ticket_filtered_dsl_1.Rank==1)\n",
    "df_ticket_filtered_dsl_1 = df_ticket_filtered_dsl_1.drop('Rank')"
   ]
  },
  {
   "cell_type": "code",
   "execution_count": null,
   "metadata": {},
   "outputs": [],
   "source": [
    "path = '/user/tsystems_vkumar/tickets/df_all_tkts.parquet'\n",
    "df_ticket_filtered_dsl.repartition(1).write.format('parquet').mode('overwrite').option('header','true').save(path)"
   ]
  },
  {
   "cell_type": "markdown",
   "metadata": {},
   "source": [
    "> Get the final dataset for **tickets** and save it for future analysis"
   ]
  },
  {
   "cell_type": "code",
   "execution_count": 38,
   "metadata": {},
   "outputs": [
    {
     "data": {
      "application/vnd.jupyter.widget-view+json": {
       "model_id": "",
       "version_major": 2,
       "version_minor": 0
      },
      "text/plain": [
       "FloatProgress(value=0.0, bar_style='info', description='Progress:', layout=Layout(height='25px', width='50%'),…"
      ]
     },
     "metadata": {},
     "output_type": "display_data"
    }
   ],
   "source": [
    "df_tickets = df_ticket_filtered_dsl_1.select(['ASSET_ID','START_DATE_TICKET','SOURCE','SOLUTION_LEVEL','SUMMARY','TICKET_TENTATIVE_ROOT_CAUSE','FAULT_RESOLUTION','deviation_mode','final_logout']).dropDuplicates()\n",
    "\n",
    "#Remove the thunderstorm cases and save the data for further analysis\n",
    "df_tickets = df_tickets.filter(F.col('TICKET_TENTATIVE_ROOT_CAUSE') != 'Grmljavina - 7')\n",
    "\n",
    "#Select the columns\n",
    "df_tickets = df_tickets.select(['ASSET_ID','START_DATE_TICKET','SOURCE','SOLUTION_LEVEL','SUMMARY','FAULT_RESOLUTION','deviation_mode','final_logout']).dropDuplicates()\n"
   ]
  },
  {
   "cell_type": "code",
   "execution_count": 39,
   "metadata": {},
   "outputs": [
    {
     "data": {
      "application/vnd.jupyter.widget-view+json": {
       "model_id": "",
       "version_major": 2,
       "version_minor": 0
      },
      "text/plain": [
       "FloatProgress(value=0.0, bar_style='info', description='Progress:', layout=Layout(height='25px', width='50%'),…"
      ]
     },
     "metadata": {},
     "output_type": "display_data"
    }
   ],
   "source": [
    "path = '/user/tsystems_vkumar/dsl_tickets/df_all_tkts_wo_thunder.parquet'\n",
    "df_tickets.repartition(1).write.format('parquet').mode('overwrite').option('header','true').save(path)"
   ]
  },
  {
   "cell_type": "code",
   "execution_count": 34,
   "metadata": {},
   "outputs": [
    {
     "data": {
      "application/vnd.jupyter.widget-view+json": {
       "model_id": "",
       "version_major": 2,
       "version_minor": 0
      },
      "text/plain": [
       "FloatProgress(value=0.0, bar_style='info', description='Progress:', layout=Layout(height='25px', width='50%'),…"
      ]
     },
     "metadata": {},
     "output_type": "display_data"
    },
    {
     "name": "stdout",
     "output_type": "stream",
     "text": [
      "+---------+-------------------+------+--------------+--------------------+--------------------+--------------+--------------------+\n",
      "| ASSET_ID|  START_DATE_TICKET|SOURCE|SOLUTION_LEVEL|             SUMMARY|    FAULT_RESOLUTION|deviation_mode|        final_logout|\n",
      "+---------+-------------------+------+--------------+--------------------+--------------------+--------------+--------------------+\n",
      "| 45068665|2021-01-17 17:01:36| DONAT|             1|       Nema podataka|       Nema podataka|          null|                null|\n",
      "| 28730371|2020-12-03 08:48:50|  WWMS|             2|    NEISPRAVAN MODEM|    Otkazana smetnja|     Nepoznato|Otkazana prijava ...|\n",
      "| 44403229|2020-09-04 11:04:18| DONAT|             1|       Nema podataka|       Nema podataka|          null|                null|\n",
      "|100873084|2020-06-02 18:43:25|  WWMS|             3|DSL SINHRONIZACIJ...|1.razina kod kori...|  Popravak - 1|Otklonjena smetnj...|\n",
      "| 32871718|2021-01-02 22:26:24|  WWMS|             3|DSL SINHRONIZACIJ...|1.razina kod kori...|   Zamjena - 8|Otklonjena smetnj...|\n",
      "+---------+-------------------+------+--------------+--------------------+--------------------+--------------+--------------------+\n",
      "only showing top 5 rows"
     ]
    }
   ],
   "source": [
    "df_tickets.show(5)"
   ]
  },
  {
   "cell_type": "code",
   "execution_count": 6,
   "metadata": {},
   "outputs": [
    {
     "data": {
      "application/vnd.jupyter.widget-view+json": {
       "model_id": "",
       "version_major": 2,
       "version_minor": 0
      },
      "text/plain": [
       "FloatProgress(value=0.0, bar_style='info', description='Progress:', layout=Layout(height='25px', width='50%'),…"
      ]
     },
     "metadata": {},
     "output_type": "display_data"
    }
   ],
   "source": [
    "df_tickets =  spark.read.option(\"header\",\"true\").parquet('hdfs://nameservicedev1////user/tsystems_vkumar/dsl_tickets/df_all_tkts_wo_thunder.parquet')"
   ]
  },
  {
   "cell_type": "markdown",
   "metadata": {},
   "source": [
    " ### 5.1 Filter all DSL lines tickets irrespective of levels  <a class=\"anchor\" id=\"sec14\"></a>"
   ]
  },
  {
   "cell_type": "markdown",
   "metadata": {},
   "source": [
    "Now for predicting issues related to DSL lines we need to do some filtering and need to consider all levels."
   ]
  },
  {
   "cell_type": "code",
   "execution_count": 7,
   "metadata": {},
   "outputs": [
    {
     "data": {
      "application/vnd.jupyter.widget-view+json": {
       "model_id": "",
       "version_major": 2,
       "version_minor": 0
      },
      "text/plain": [
       "FloatProgress(value=0.0, bar_style='info', description='Progress:', layout=Layout(height='25px', width='50%'),…"
      ]
     },
     "metadata": {},
     "output_type": "display_data"
    }
   ],
   "source": [
    "def get_specific_issue_data(df,summary):\n",
    "    '''This Funtion filter the issue data as per the choice and exclude Thunderstorm cases\n",
    "    \n",
    "    Args:\n",
    "        df (dataframe): Tickets dataset\n",
    "        summary (str): Issue related to CPE\n",
    "        \n",
    "    Returns:\n",
    "        df (dataframe) :  spark dataframe with filtered data.\n",
    "    \n",
    "    '''\n",
    "    df = df.filter(F.col('SUMMARY').contains(summary))\n",
    "    df = df.filter(df.SOURCE.isin(['BBSA','DONAT','WWMS']))\n",
    "    df = df.dropDuplicates()\n",
    "    \n",
    "    cols = ['ASSET_ID','SOLUTION_LEVEL','START_DATE_TICKET']\n",
    "    df = df.select(['ASSET_ID','SOLUTION_LEVEL','START_DATE_TICKET','FAULT_RESOLUTION','deviation_mode','final_logout']).distinct()\n",
    "    df = df.orderBy(*cols, ascending=False)\n",
    "    return df"
   ]
  },
  {
   "cell_type": "markdown",
   "metadata": {},
   "source": [
    "<div class=\"alert alert-block alert-info\">\n",
    "<b>Tip:</b> We will be analysing on all th raised issues and check the 'Solutions' provided.\n",
    "</div>"
   ]
  },
  {
   "cell_type": "code",
   "execution_count": 8,
   "metadata": {},
   "outputs": [
    {
     "data": {
      "application/vnd.jupyter.widget-view+json": {
       "model_id": "",
       "version_major": 2,
       "version_minor": 0
      },
      "text/plain": [
       "FloatProgress(value=0.0, bar_style='info', description='Progress:', layout=Layout(height='25px', width='50%'),…"
      ]
     },
     "metadata": {},
     "output_type": "display_data"
    }
   ],
   "source": [
    "df_ticket_filtered_dsl_f = get_specific_issue_data(df_tickets,summary='DSL SINHRONIZACIJ')"
   ]
  },
  {
   "cell_type": "code",
   "execution_count": 9,
   "metadata": {},
   "outputs": [
    {
     "data": {
      "application/vnd.jupyter.widget-view+json": {
       "model_id": "",
       "version_major": 2,
       "version_minor": 0
      },
      "text/plain": [
       "FloatProgress(value=0.0, bar_style='info', description='Progress:', layout=Layout(height='25px', width='50%'),…"
      ]
     },
     "metadata": {},
     "output_type": "display_data"
    },
    {
     "name": "stdout",
     "output_type": "stream",
     "text": [
      "146123\n",
      "108400"
     ]
    }
   ],
   "source": [
    "print(df_ticket_filtered_dsl_f.count())\n",
    "df_ticket_filtered_dsl_f.select('ASSET_ID').distinct().count()"
   ]
  },
  {
   "cell_type": "code",
   "execution_count": 41,
   "metadata": {},
   "outputs": [
    {
     "data": {
      "application/vnd.jupyter.widget-view+json": {
       "model_id": "",
       "version_major": 2,
       "version_minor": 0
      },
      "text/plain": [
       "FloatProgress(value=0.0, bar_style='info', description='Progress:', layout=Layout(height='25px', width='50%'),…"
      ]
     },
     "metadata": {},
     "output_type": "display_data"
    },
    {
     "name": "stdout",
     "output_type": "stream",
     "text": [
      "146123\n",
      "108400"
     ]
    }
   ],
   "source": [
    "print(df_ticket_filtered_dsl_f.count())\n",
    "df_ticket_filtered_dsl_f.select('ASSET_ID').distinct().count()"
   ]
  },
  {
   "cell_type": "markdown",
   "metadata": {},
   "source": [
    "That means each `asset_id` has raised tickets on multiple levels. And our analysis should be on to capture the tickets raised by any cpe at their maximum level."
   ]
  },
  {
   "cell_type": "markdown",
   "metadata": {},
   "source": [
    "<div class=\"alert alert-block alert-success\">\n",
    "<b>Filter:</b> Let's check the resoltion provided for the different `level`\n",
    "</div>"
   ]
  },
  {
   "cell_type": "code",
   "execution_count": 22,
   "metadata": {},
   "outputs": [
    {
     "data": {
      "application/vnd.jupyter.widget-view+json": {
       "model_id": "",
       "version_major": 2,
       "version_minor": 0
      },
      "text/plain": [
       "FloatProgress(value=0.0, bar_style='info', description='Progress:', layout=Layout(height='25px', width='50%'),…"
      ]
     },
     "metadata": {},
     "output_type": "display_data"
    },
    {
     "name": "stdout",
     "output_type": "stream",
     "text": [
      "[u'Po ispitivanju dobar (gre\\x9aka nije prona\\xf0ena) - 2', u'Otklonjena smetnja - prekid - 1', u'Otklonjena smetnja - degradacija 45', u'Usluga ne zadovoljava o\\xe8ekivanja korisnika (korisnik upu\\xe6en) - 31', u'Otkazana prijava (korisnik odjavio smetnju ili krivo prijavljena smetnja) - 30', u'Nepoznato', u'Smetnja nije otklonjena - 35', u'Privremeno otklonjena smetnja - 3', u'Isklju\\xe8enja zbog duga ili na zahtjev korisnika - 32', u'Automatskom dijagnostikom nije utvr\\xf0eno postojanje smetnje']"
     ]
    }
   ],
   "source": [
    "a = list(df_ticket_filtered_dsl_fp.final_logout.unique())\n",
    "a"
   ]
  },
  {
   "cell_type": "code",
   "execution_count": 23,
   "metadata": {},
   "outputs": [
    {
     "data": {
      "application/vnd.jupyter.widget-view+json": {
       "model_id": "",
       "version_major": 2,
       "version_minor": 0
      },
      "text/plain": [
       "FloatProgress(value=0.0, bar_style='info', description='Progress:', layout=Layout(height='25px', width='50%'),…"
      ]
     },
     "metadata": {},
     "output_type": "display_data"
    },
    {
     "name": "stdout",
     "output_type": "stream",
     "text": [
      "Po ispitivanju dobar (greka nije pronaðena) - 2\n",
      "Otklonjena smetnja - prekid - 1\n",
      "Otklonjena smetnja - degradacija 45\n",
      "Usluga ne zadovoljava oèekivanja korisnika (korisnik upuæen) - 31\n",
      "Otkazana prijava (korisnik odjavio smetnju ili krivo prijavljena smetnja) - 30\n",
      "Nepoznato\n",
      "Smetnja nije otklonjena - 35\n",
      "Privremeno otklonjena smetnja - 3\n",
      "Iskljuèenja zbog duga ili na zahtjev korisnika - 32\n",
      "Automatskom dijagnostikom nije utvrðeno postojanje smetnje"
     ]
    }
   ],
   "source": [
    "for i,element in enumerate(a):\n",
    "    print(element)"
   ]
  },
  {
   "cell_type": "code",
   "execution_count": 10,
   "metadata": {},
   "outputs": [
    {
     "data": {
      "application/vnd.jupyter.widget-view+json": {
       "model_id": "",
       "version_major": 2,
       "version_minor": 0
      },
      "text/plain": [
       "FloatProgress(value=0.0, bar_style='info', description='Progress:', layout=Layout(height='25px', width='50%'),…"
      ]
     },
     "metadata": {},
     "output_type": "display_data"
    }
   ],
   "source": [
    "mapping_1 = { '1.razina kod korisnika' : '1st level with user',\n",
    "    'Razina na agregaciji': 'Level on aggregation',\n",
    "            '2.razina na mrei': '2nd level online',\n",
    "                '1.razina na mrei': '1st level online',\n",
    "                'Daljinski otklonjena smetnja': 'Remote interference',\n",
    "                'Otkazana smetnja': 'Canceled interference',\n",
    "            'Nepoznato':'Unknown',\n",
    "            'Drugi operator': 'Other operator',\n",
    "                'Automatska dijagnostika': 'Automatic diagnostics'}\n",
    "\n",
    "mapping_2 = {'Nepoznato':'Unknown',\n",
    "'Promjena profila - 2': 'Change profile - 2',\n",
    "'Zamjena - 8': 'Replacement - 8',\n",
    "'Rekonfiguracija - 3': 'Reconfiguration - 3',\n",
    "'Popravak - 1': 'Repair - 1',\n",
    "'Reset - 4': 'Reset - 4',\n",
    "'Vlastito odravanje korisnika - 6': 'Own user maintenance - 6',\n",
    "'Onemoguæen pristup prostoru u vlasnitvu korisnika - 5': 'Disabled access to user-owned space - 5',\n",
    "'Drugi operator - 9': 'Second operator - 9'}\n",
    "\n",
    "mapping_3 = { 'Po ispitivanju dobar (greka nije pronaðena) - 2': 'After testing good (error not found) - 2',\n",
    "'Otklonjena smetnja - prekid - 1': 'Fault rectified - interrupt - 1',\n",
    "'Otklonjena smetnja - degradacija 45': 'Troubleshooting - degradation 45',\n",
    "'Usluga ne zadovoljava oèekivanja korisnika (korisnik upuæen) - 31': 'Service does not meet user expectations (user referred) - 31',\n",
    "'Otkazana prijava (korisnik odjavio smetnju ili krivo prijavljena smetnja) - 30': 'Canceled login (user checked out the fault or incorrectly reported the fault) - 30',\n",
    "'Nepoznato': 'Unknown',\n",
    "'Smetnja nije otklonjena - 35': 'Troubleshooting - 35',\n",
    "'Privremeno otklonjena smetnja - 3': 'Temporarily removed interference - 3',\n",
    "'Iskljuèenja zbog duga ili na zahtjev korisnika - 32': 'Exclusions due to debt or at the request of the user - 32',\n",
    "'Automatskom dijagnostikom nije utvrðeno postojanje smetnje': 'Self-diagnosis does not detect the presence of a fault'}\n",
    "\n",
    "df_ticket_filtered_dsl_f = df_ticket_filtered_dsl_f.replace(to_replace=mapping_1,subset=['FAULT_RESOLUTION'])\n",
    "df_ticket_filtered_dsl_f = df_ticket_filtered_dsl_f.replace(to_replace=mapping_2,subset=['deviation_mode'])\n",
    "df_ticket_filtered_dsl_f = df_ticket_filtered_dsl_f.replace(to_replace=mapping_3,subset=['final_logout'])"
   ]
  },
  {
   "cell_type": "code",
   "execution_count": 26,
   "metadata": {},
   "outputs": [
    {
     "data": {
      "application/vnd.jupyter.widget-view+json": {
       "model_id": "",
       "version_major": 2,
       "version_minor": 0
      },
      "text/plain": [
       "FloatProgress(value=0.0, bar_style='info', description='Progress:', layout=Layout(height='25px', width='50%'),…"
      ]
     },
     "metadata": {},
     "output_type": "display_data"
    },
    {
     "name": "stdout",
     "output_type": "stream",
     "text": [
      "+--------------------+\n",
      "|    FAULT_RESOLUTION|\n",
      "+--------------------+\n",
      "|Automatic diagnos...|\n",
      "|    2nd level online|\n",
      "| Remote interference|\n",
      "|      Other operator|\n",
      "|             Unknown|\n",
      "| 1st level with user|\n",
      "|    1st level online|\n",
      "|Canceled interfer...|\n",
      "|Level on aggregation|\n",
      "+--------------------+"
     ]
    }
   ],
   "source": [
    "df_ticket_filtered_dsl_f.select(F.col('FAULT_RESOLUTION')).distinct().show()"
   ]
  },
  {
   "cell_type": "code",
   "execution_count": 27,
   "metadata": {},
   "outputs": [
    {
     "data": {
      "application/vnd.jupyter.widget-view+json": {
       "model_id": "",
       "version_major": 2,
       "version_minor": 0
      },
      "text/plain": [
       "FloatProgress(value=0.0, bar_style='info', description='Progress:', layout=Layout(height='25px', width='50%'),…"
      ]
     },
     "metadata": {},
     "output_type": "display_data"
    },
    {
     "name": "stdout",
     "output_type": "stream",
     "text": [
      "+--------------------+\n",
      "|      deviation_mode|\n",
      "+--------------------+\n",
      "|Disabled access t...|\n",
      "|     Replacement - 8|\n",
      "|             Unknown|\n",
      "| Reconfiguration - 3|\n",
      "| Second operator - 9|\n",
      "|Own user maintena...|\n",
      "|  Change profile - 2|\n",
      "|          Repair - 1|\n",
      "|           Reset - 4|\n",
      "+--------------------+"
     ]
    }
   ],
   "source": [
    "df_ticket_filtered_dsl_f.select(F.col('deviation_mode')).distinct().show()"
   ]
  },
  {
   "cell_type": "code",
   "execution_count": 28,
   "metadata": {},
   "outputs": [
    {
     "data": {
      "application/vnd.jupyter.widget-view+json": {
       "model_id": "",
       "version_major": 2,
       "version_minor": 0
      },
      "text/plain": [
       "FloatProgress(value=0.0, bar_style='info', description='Progress:', layout=Layout(height='25px', width='50%'),…"
      ]
     },
     "metadata": {},
     "output_type": "display_data"
    },
    {
     "name": "stdout",
     "output_type": "stream",
     "text": [
      "+--------------------+\n",
      "|        final_logout|\n",
      "+--------------------+\n",
      "|Exclusions due to...|\n",
      "|Fault rectified -...|\n",
      "|             Unknown|\n",
      "|Canceled login (u...|\n",
      "|Troubleshooting -...|\n",
      "|Service does not ...|\n",
      "|After testing goo...|\n",
      "|Temporarily remov...|\n",
      "|Self-diagnosis do...|\n",
      "|Troubleshooting - 35|\n",
      "+--------------------+"
     ]
    }
   ],
   "source": [
    "df_ticket_filtered_dsl_f.select(F.col('final_logout')).distinct().show()"
   ]
  },
  {
   "cell_type": "code",
   "execution_count": 11,
   "metadata": {},
   "outputs": [
    {
     "data": {
      "application/vnd.jupyter.widget-view+json": {
       "model_id": "",
       "version_major": 2,
       "version_minor": 0
      },
      "text/plain": [
       "FloatProgress(value=0.0, bar_style='info', description='Progress:', layout=Layout(height='25px', width='50%'),…"
      ]
     },
     "metadata": {},
     "output_type": "display_data"
    },
    {
     "name": "stdout",
     "output_type": "stream",
     "text": [
      "+--------+--------------+-------------------+--------------------+-------------------+--------------------+\n",
      "|ASSET_ID|SOLUTION_LEVEL|  START_DATE_TICKET|    FAULT_RESOLUTION|     deviation_mode|        final_logout|\n",
      "+--------+--------------+-------------------+--------------------+-------------------+--------------------+\n",
      "|99999823|             3|2020-02-17 14:34:16|    1st level online|    Replacement - 8|Fault rectified -...|\n",
      "|99999615|             2|2020-08-25 11:13:06| Remote interference|Reconfiguration - 3|Fault rectified -...|\n",
      "|99999432|             2|2020-03-24 08:51:38|Level on aggregation|          Reset - 4|Fault rectified -...|\n",
      "|99997653|             2|2020-07-11 21:22:39|Level on aggregation|          Reset - 4|Fault rectified -...|\n",
      "|99997653|             2|2020-06-03 18:35:17|Level on aggregation|          Reset - 4|Troubleshooting -...|\n",
      "+--------+--------------+-------------------+--------------------+-------------------+--------------------+\n",
      "only showing top 5 rows"
     ]
    }
   ],
   "source": [
    "df_ticket_filtered_dsl_f.show(5)"
   ]
  },
  {
   "cell_type": "code",
   "execution_count": 12,
   "metadata": {},
   "outputs": [
    {
     "data": {
      "application/vnd.jupyter.widget-view+json": {
       "model_id": "",
       "version_major": 2,
       "version_minor": 0
      },
      "text/plain": [
       "FloatProgress(value=0.0, bar_style='info', description='Progress:', layout=Layout(height='25px', width='50%'),…"
      ]
     },
     "metadata": {},
     "output_type": "display_data"
    }
   ],
   "source": [
    "path = '/user/tsystems_vkumar/dsl_tickets/filtered_cpe_dsl_all_lvl.parquet'\n",
    "df_ticket_filtered_dsl_f.repartition(1).write.format('parquet').mode('overwrite').option('header','true').save(path)"
   ]
  },
  {
   "cell_type": "code",
   "execution_count": 17,
   "metadata": {},
   "outputs": [
    {
     "data": {
      "application/vnd.jupyter.widget-view+json": {
       "model_id": "",
       "version_major": 2,
       "version_minor": 0
      },
      "text/plain": [
       "FloatProgress(value=0.0, bar_style='info', description='Progress:', layout=Layout(height='25px', width='50%'),…"
      ]
     },
     "metadata": {},
     "output_type": "display_data"
    }
   ],
   "source": [
    "#df_ticket_filtered_dsl_f =  spark.read.option(\"header\",\"true\").parquet('hdfs://nameservicedev1////user/tsystems_vkumar/dsl_tickets/filtered_cpe_dsl_all_lvl.parquet')"
   ]
  },
  {
   "cell_type": "code",
   "execution_count": 13,
   "metadata": {},
   "outputs": [
    {
     "data": {
      "application/vnd.jupyter.widget-view+json": {
       "model_id": "",
       "version_major": 2,
       "version_minor": 0
      },
      "text/plain": [
       "FloatProgress(value=0.0, bar_style='info', description='Progress:', layout=Layout(height='25px', width='50%'),…"
      ]
     },
     "metadata": {},
     "output_type": "display_data"
    }
   ],
   "source": [
    "df_ticket_filtered_dsl_fp = df_ticket_filtered_dsl_f.toPandas()"
   ]
  },
  {
   "cell_type": "code",
   "execution_count": 14,
   "metadata": {},
   "outputs": [
    {
     "data": {
      "application/vnd.jupyter.widget-view+json": {
       "model_id": "",
       "version_major": 2,
       "version_minor": 0
      },
      "text/plain": [
       "FloatProgress(value=0.0, bar_style='info', description='Progress:', layout=Layout(height='25px', width='50%'),…"
      ]
     },
     "metadata": {},
     "output_type": "display_data"
    },
    {
     "name": "stdout",
     "output_type": "stream",
     "text": [
      "SOLUTION_LEVEL  deviation_mode                         \n",
      "2               Unknown                                    36.950803\n",
      "                Reset - 4                                  31.697358\n",
      "                Repair - 1                                 15.061447\n",
      "                Reconfiguration - 3                        12.599631\n",
      "                Change profile - 2                          2.120225\n",
      "                Own user maintenance - 6                    0.993364\n",
      "                Replacement - 8                             0.545762\n",
      "                Disabled access to user-owned space - 5     0.031411\n",
      "3               Repair - 1                                 43.164225\n",
      "                Replacement - 8                            24.770751\n",
      "                Unknown                                    12.052916\n",
      "                Own user maintenance - 6                    8.381962\n",
      "                Reset - 4                                   5.568457\n",
      "                Reconfiguration - 3                         3.972649\n",
      "                Change profile - 2                          1.601763\n",
      "                Disabled access to user-owned space - 5     0.486285\n",
      "                Second operator - 9                         0.000992\n",
      "4               Repair - 1                                 41.940674\n",
      "                Unknown                                    32.131724\n",
      "                Replacement - 8                            25.661136\n",
      "                Change profile - 2                          0.075415\n",
      "                Own user maintenance - 6                    0.075415\n",
      "                Reconfiguration - 3                         0.050277\n",
      "                Reset - 4                                   0.040221\n",
      "                Disabled access to user-owned space - 5     0.025138\n",
      "Name: deviation_mode, dtype: float64"
     ]
    }
   ],
   "source": [
    "(df_ticket_filtered_dsl_fp.groupby('SOLUTION_LEVEL')['deviation_mode'].value_counts()/df_ticket_filtered_dsl_fp.groupby('SOLUTION_LEVEL')['deviation_mode'].count())*100"
   ]
  },
  {
   "cell_type": "code",
   "execution_count": 15,
   "metadata": {},
   "outputs": [
    {
     "data": {
      "application/vnd.jupyter.widget-view+json": {
       "model_id": "",
       "version_major": 2,
       "version_minor": 0
      },
      "text/plain": [
       "FloatProgress(value=0.0, bar_style='info', description='Progress:', layout=Layout(height='25px', width='50%'),…"
      ]
     },
     "metadata": {},
     "output_type": "display_data"
    },
    {
     "name": "stdout",
     "output_type": "stream",
     "text": [
      "SOLUTION_LEVEL  FAULT_RESOLUTION     \n",
      "2               Remote interference       53.539597\n",
      "                Level on aggregation      36.208724\n",
      "                Canceled interference      9.340767\n",
      "                1st level with user        0.577172\n",
      "                1st level online           0.325886\n",
      "                Automatic diagnostics      0.003926\n",
      "                Unknown                    0.003926\n",
      "3               1st level with user       53.455599\n",
      "                1st level online          33.806717\n",
      "                Level on aggregation       6.913183\n",
      "                Canceled interference      3.020920\n",
      "                Remote interference        1.486642\n",
      "                Unknown                    1.199833\n",
      "                Other operator             0.117105\n",
      "4               2nd level online         100.000000\n",
      "Name: FAULT_RESOLUTION, dtype: float64"
     ]
    }
   ],
   "source": [
    "(df_ticket_filtered_dsl_fp.groupby('SOLUTION_LEVEL')['FAULT_RESOLUTION'].value_counts()/df_ticket_filtered_dsl_fp.groupby('SOLUTION_LEVEL')['FAULT_RESOLUTION'].count())*100"
   ]
  },
  {
   "cell_type": "code",
   "execution_count": 16,
   "metadata": {},
   "outputs": [
    {
     "data": {
      "application/vnd.jupyter.widget-view+json": {
       "model_id": "",
       "version_major": 2,
       "version_minor": 0
      },
      "text/plain": [
       "FloatProgress(value=0.0, bar_style='info', description='Progress:', layout=Layout(height='25px', width='50%'),…"
      ]
     },
     "metadata": {},
     "output_type": "display_data"
    },
    {
     "name": "stdout",
     "output_type": "stream",
     "text": [
      "SOLUTION_LEVEL  final_logout                                                                      \n",
      "2               Fault rectified - interrupt - 1                                                       56.876988\n",
      "                Troubleshooting - degradation 45                                                      29.109898\n",
      "                Canceled login (user checked out the fault or incorrectly reported the fault) - 30     9.340767\n",
      "                After testing good (error not found) - 2                                               4.142291\n",
      "                Troubleshooting - 35                                                                   0.168833\n",
      "                Unknown                                                                                0.125643\n",
      "                Exclusions due to debt or at the request of the user - 32                              0.117790\n",
      "                Service does not meet user expectations (user referred) - 31                           0.070674\n",
      "                Temporarily removed interference - 3                                                   0.043190\n",
      "                Self-diagnosis does not detect the presence of a fault                                 0.003926\n",
      "3               Fault rectified - interrupt - 1                                                       60.181216\n",
      "                Troubleshooting - degradation 45                                                      23.490532\n",
      "                After testing good (error not found) - 2                                               5.560518\n",
      "                Troubleshooting - 35                                                                   5.035529\n",
      "                Canceled login (user checked out the fault or incorrectly reported the fault) - 30     3.025882\n",
      "                Unknown                                                                                1.187924\n",
      "                Service does not meet user expectations (user referred) - 31                           0.857449\n",
      "                Temporarily removed interference - 3                                                   0.562701\n",
      "                Exclusions due to debt or at the request of the user - 32                              0.098249\n",
      "4               Fault rectified - interrupt - 1                                                       89.758673\n",
      "                Troubleshooting - degradation 45                                                       7.445953\n",
      "                Unknown                                                                                1.251885\n",
      "                Temporarily removed interference - 3                                                   0.864756\n",
      "                After testing good (error not found) - 2                                               0.346908\n",
      "                Troubleshooting - 35                                                                   0.326797\n",
      "                Exclusions due to debt or at the request of the user - 32                              0.005028\n",
      "Name: final_logout, dtype: float64"
     ]
    }
   ],
   "source": [
    "(df_ticket_filtered_dsl_fp.groupby('SOLUTION_LEVEL')['final_logout'].value_counts()/df_ticket_filtered_dsl_fp.groupby('SOLUTION_LEVEL')['final_logout'].count())*100"
   ]
  },
  {
   "cell_type": "markdown",
   "metadata": {},
   "source": [
    "> It has been seen that a particular `asset_id` raised issue later also in higher `solution_level` to get fix their DSL lines. So it makes sense to take the highest `solution_level` reached for them."
   ]
  },
  {
   "cell_type": "markdown",
   "metadata": {},
   "source": [
    "<div class=\"alert alert-block alert-danger\">\n",
    "<b>Must:</b> Prepare the data with per asset id we see their tickets reached at the maximum level at any period of time.\n",
    "</div>"
   ]
  },
  {
   "cell_type": "code",
   "execution_count": 18,
   "metadata": {},
   "outputs": [
    {
     "data": {
      "application/vnd.jupyter.widget-view+json": {
       "model_id": "",
       "version_major": 2,
       "version_minor": 0
      },
      "text/plain": [
       "FloatProgress(value=0.0, bar_style='info', description='Progress:', layout=Layout(height='25px', width='50%'),…"
      ]
     },
     "metadata": {},
     "output_type": "display_data"
    }
   ],
   "source": [
    "df_ticket_filtered_dsl_f1 = df_ticket_filtered_dsl_f.select('ASSET_ID','SOLUTION_LEVEL','START_DATE_TICKET').distinct()"
   ]
  },
  {
   "cell_type": "code",
   "execution_count": 19,
   "metadata": {},
   "outputs": [
    {
     "data": {
      "application/vnd.jupyter.widget-view+json": {
       "model_id": "",
       "version_major": 2,
       "version_minor": 0
      },
      "text/plain": [
       "FloatProgress(value=0.0, bar_style='info', description='Progress:', layout=Layout(height='25px', width='50%'),…"
      ]
     },
     "metadata": {},
     "output_type": "display_data"
    }
   ],
   "source": [
    "df_ticket_filtered_dsl_f1 = df_ticket_filtered_dsl_f1.na.drop(subset=['START_DATE_TICKET'])"
   ]
  },
  {
   "cell_type": "code",
   "execution_count": 20,
   "metadata": {},
   "outputs": [
    {
     "data": {
      "application/vnd.jupyter.widget-view+json": {
       "model_id": "",
       "version_major": 2,
       "version_minor": 0
      },
      "text/plain": [
       "FloatProgress(value=0.0, bar_style='info', description='Progress:', layout=Layout(height='25px', width='50%'),…"
      ]
     },
     "metadata": {},
     "output_type": "display_data"
    }
   ],
   "source": [
    "df_ticket_filtered_dsl_f2 = df_ticket_filtered_dsl_f1.groupby('ASSET_ID').agg(F.max('SOLUTION_LEVEL').alias('SOLUTION_LEVEL'))\n",
    "df_ticket_filtered_dsl_f2 = df_ticket_filtered_dsl_f2.join(df_ticket_filtered_dsl_f1,on=['ASSET_ID','SOLUTION_LEVEL'],how='left')\n",
    "df_ticket_filtered_dsl_f2 = df_ticket_filtered_dsl_f2.groupby(['ASSET_ID','SOLUTION_LEVEL']).agg(F.max('START_DATE_TICKET').alias('START_DATE_TICKET'))"
   ]
  },
  {
   "cell_type": "code",
   "execution_count": 59,
   "metadata": {},
   "outputs": [
    {
     "data": {
      "application/vnd.jupyter.widget-view+json": {
       "model_id": "",
       "version_major": 2,
       "version_minor": 0
      },
      "text/plain": [
       "FloatProgress(value=0.0, bar_style='info', description='Progress:', layout=Layout(height='25px', width='50%'),…"
      ]
     },
     "metadata": {},
     "output_type": "display_data"
    },
    {
     "name": "stdout",
     "output_type": "stream",
     "text": [
      "root\n",
      " |-- ASSET_ID: string (nullable = true)\n",
      " |-- SOLUTION_LEVEL: integer (nullable = true)\n",
      " |-- START_DATE_TICKET: string (nullable = true)"
     ]
    }
   ],
   "source": [
    "df_ticket_filtered_dsl_f2.printSchema()"
   ]
  },
  {
   "cell_type": "code",
   "execution_count": 60,
   "metadata": {},
   "outputs": [
    {
     "data": {
      "application/vnd.jupyter.widget-view+json": {
       "model_id": "",
       "version_major": 2,
       "version_minor": 0
      },
      "text/plain": [
       "FloatProgress(value=0.0, bar_style='info', description='Progress:', layout=Layout(height='25px', width='50%'),…"
      ]
     },
     "metadata": {},
     "output_type": "display_data"
    },
    {
     "name": "stdout",
     "output_type": "stream",
     "text": [
      "+---------+--------------+-------------------+\n",
      "| ASSET_ID|SOLUTION_LEVEL|  START_DATE_TICKET|\n",
      "+---------+--------------+-------------------+\n",
      "|100065331|             3|2020-11-25 20:16:43|\n",
      "|100942825|             3|2021-04-09 09:14:53|\n",
      "|101203934|             3|2021-03-30 21:07:14|\n",
      "|101519291|             3|2020-11-20 12:35:59|\n",
      "|101852767|             4|2021-03-04 08:42:29|\n",
      "+---------+--------------+-------------------+\n",
      "only showing top 5 rows"
     ]
    }
   ],
   "source": [
    "df_ticket_filtered_dsl_f2.show(5)"
   ]
  },
  {
   "cell_type": "code",
   "execution_count": 24,
   "metadata": {},
   "outputs": [
    {
     "data": {
      "application/vnd.jupyter.widget-view+json": {
       "model_id": "",
       "version_major": 2,
       "version_minor": 0
      },
      "text/plain": [
       "FloatProgress(value=0.0, bar_style='info', description='Progress:', layout=Layout(height='25px', width='50%'),…"
      ]
     },
     "metadata": {},
     "output_type": "display_data"
    },
    {
     "name": "stdout",
     "output_type": "stream",
     "text": [
      "107307\n",
      "107307"
     ]
    }
   ],
   "source": [
    "print(df_ticket_filtered_dsl_f2.count())\n",
    "df_ticket_filtered_dsl_f2.select('ASSET_ID').distinct().count()"
   ]
  },
  {
   "cell_type": "code",
   "execution_count": 22,
   "metadata": {},
   "outputs": [
    {
     "data": {
      "application/vnd.jupyter.widget-view+json": {
       "model_id": "",
       "version_major": 2,
       "version_minor": 0
      },
      "text/plain": [
       "FloatProgress(value=0.0, bar_style='info', description='Progress:', layout=Layout(height='25px', width='50%'),…"
      ]
     },
     "metadata": {},
     "output_type": "display_data"
    }
   ],
   "source": [
    "df_ticket_filtered_dsl_f2p = df_ticket_filtered_dsl_f2.toPandas"
   ]
  },
  {
   "cell_type": "markdown",
   "metadata": {},
   "source": [
    "<div class=\"alert alert-block alert-info\">\n",
    "<b>Distribution:</b> Distribution of Tickets per level\n",
    "</div>"
   ]
  },
  {
   "cell_type": "code",
   "execution_count": 30,
   "metadata": {},
   "outputs": [
    {
     "data": {
      "application/vnd.jupyter.widget-view+json": {
       "model_id": "",
       "version_major": 2,
       "version_minor": 0
      },
      "text/plain": [
       "FloatProgress(value=0.0, bar_style='info', description='Progress:', layout=Layout(height='25px', width='50%'),…"
      ]
     },
     "metadata": {},
     "output_type": "display_data"
    },
    {
     "name": "stdout",
     "output_type": "stream",
     "text": [
      "3    68.762522\n",
      "4    16.425769\n",
      "2    14.811708\n",
      "Name: SOLUTION_LEVEL, dtype: float64"
     ]
    }
   ],
   "source": [
    "(df_ticket_filtered_dsl_f2p.SOLUTION_LEVEL.value_counts()/df_ticket_filtered_dsl_f2p.shape[0])*100"
   ]
  },
  {
   "cell_type": "code",
   "execution_count": 25,
   "metadata": {},
   "outputs": [
    {
     "data": {
      "application/vnd.jupyter.widget-view+json": {
       "model_id": "",
       "version_major": 2,
       "version_minor": 0
      },
      "text/plain": [
       "FloatProgress(value=0.0, bar_style='info', description='Progress:', layout=Layout(height='25px', width='50%'),…"
      ]
     },
     "metadata": {},
     "output_type": "display_data"
    },
    {
     "name": "stdout",
     "output_type": "stream",
     "text": [
      "(107573, 6)\n",
      "107307"
     ]
    }
   ],
   "source": [
    "df_ticket_filtered_dsl_f2p1 = df_ticket_filtered_dsl_f2p.merge(df_ticket_filtered_dsl_fp,on=['ASSET_ID','SOLUTION_LEVEL','START_DATE_TICKET'],how='inner')\n",
    "print(df_ticket_filtered_dsl_f2p1.shape)\n",
    "print(df_ticket_filtered_dsl_f2p1.ASSET_ID.nunique())"
   ]
  },
  {
   "cell_type": "code",
   "execution_count": 27,
   "metadata": {},
   "outputs": [
    {
     "data": {
      "application/vnd.jupyter.widget-view+json": {
       "model_id": "",
       "version_major": 2,
       "version_minor": 0
      },
      "text/plain": [
       "FloatProgress(value=0.0, bar_style='info', description='Progress:', layout=Layout(height='25px', width='50%'),…"
      ]
     },
     "metadata": {},
     "output_type": "display_data"
    },
    {
     "name": "stdout",
     "output_type": "stream",
     "text": [
      "SOLUTION_LEVEL  deviation_mode                         \n",
      "2               Unknown                                    23.082964\n",
      "                Reset - 4                                  19.600298\n",
      "                Repair - 1                                  9.482116\n",
      "                Reconfiguration - 3                         7.935137\n",
      "                Change profile - 2                          1.346735\n",
      "                Own user maintenance - 6                    0.632141\n",
      "                Replacement - 8                             0.337665\n",
      "                Disabled access to user-owned space - 5     0.015705\n",
      "3               Repair - 1                                 32.519551\n",
      "                Replacement - 8                            18.359732\n",
      "                Unknown                                     8.415704\n",
      "                Own user maintenance - 6                    6.018022\n",
      "                Reset - 4                                   3.899210\n",
      "                Reconfiguration - 3                         2.848239\n",
      "                Change profile - 2                          1.044024\n",
      "                Disabled access to user-owned space - 5     0.318566\n",
      "                Second operator - 9                         0.000992\n",
      "4               Repair - 1                                 37.531423\n",
      "                Unknown                                    27.908497\n",
      "                Replacement - 8                            23.227753\n",
      "                Change profile - 2                          0.075415\n",
      "                Own user maintenance - 6                    0.070387\n",
      "                Reconfiguration - 3                         0.045249\n",
      "                Reset - 4                                   0.040221\n",
      "                Disabled access to user-owned space - 5     0.025138\n",
      "Name: deviation_mode, dtype: float64"
     ]
    }
   ],
   "source": [
    "(df_ticket_filtered_dsl_f2p1.groupby('SOLUTION_LEVEL')['deviation_mode'].value_counts()/df_ticket_filtered_dsl_fp.groupby('SOLUTION_LEVEL')['deviation_mode'].count())*100"
   ]
  },
  {
   "cell_type": "code",
   "execution_count": 28,
   "metadata": {},
   "outputs": [
    {
     "data": {
      "application/vnd.jupyter.widget-view+json": {
       "model_id": "",
       "version_major": 2,
       "version_minor": 0
      },
      "text/plain": [
       "FloatProgress(value=0.0, bar_style='info', description='Progress:', layout=Layout(height='25px', width='50%'),…"
      ]
     },
     "metadata": {},
     "output_type": "display_data"
    },
    {
     "name": "stdout",
     "output_type": "stream",
     "text": [
      "SOLUTION_LEVEL  FAULT_RESOLUTION     \n",
      "2               Remote interference      32.847776\n",
      "                Level on aggregation     23.067258\n",
      "                Canceled interference     5.968040\n",
      "                1st level with user       0.325886\n",
      "                1st level online          0.219875\n",
      "                Automatic diagnostics     0.003926\n",
      "3               1st level with user      39.337462\n",
      "                1st level online         24.979159\n",
      "                Level on aggregation      4.982930\n",
      "                Canceled interference     2.096979\n",
      "                Remote interference       1.037077\n",
      "                Unknown                   0.907070\n",
      "                Other operator            0.083363\n",
      "4               2nd level online         88.924082\n",
      "Name: FAULT_RESOLUTION, dtype: float64"
     ]
    }
   ],
   "source": [
    "(df_ticket_filtered_dsl_f2p1.groupby('SOLUTION_LEVEL')['FAULT_RESOLUTION'].value_counts()/df_ticket_filtered_dsl_fp.groupby('SOLUTION_LEVEL')['FAULT_RESOLUTION'].count())*100"
   ]
  },
  {
   "cell_type": "code",
   "execution_count": 29,
   "metadata": {},
   "outputs": [
    {
     "data": {
      "application/vnd.jupyter.widget-view+json": {
       "model_id": "",
       "version_major": 2,
       "version_minor": 0
      },
      "text/plain": [
       "FloatProgress(value=0.0, bar_style='info', description='Progress:', layout=Layout(height='25px', width='50%'),…"
      ]
     },
     "metadata": {},
     "output_type": "display_data"
    },
    {
     "name": "stdout",
     "output_type": "stream",
     "text": [
      "SOLUTION_LEVEL  final_logout                                                                      \n",
      "2               Fault rectified - interrupt - 1                                                       35.914249\n",
      "                Troubleshooting - degradation 45                                                      17.955161\n",
      "                Canceled login (user checked out the fault or incorrectly reported the fault) - 30     5.968040\n",
      "                After testing good (error not found) - 2                                               2.281205\n",
      "                Troubleshooting - 35                                                                   0.109938\n",
      "                Unknown                                                                                0.090306\n",
      "                Exclusions due to debt or at the request of the user - 32                              0.054969\n",
      "                Temporarily removed interference - 3                                                   0.031411\n",
      "                Service does not meet user expectations (user referred) - 31                           0.023558\n",
      "                Self-diagnosis does not detect the presence of a fault                                 0.003926\n",
      "3               Fault rectified - interrupt - 1                                                       45.550990\n",
      "                Troubleshooting - degradation 45                                                      16.556508\n",
      "                After testing good (error not found) - 2                                               3.749355\n",
      "                Troubleshooting - 35                                                                   3.557818\n",
      "                Canceled login (user checked out the fault or incorrectly reported the fault) - 30     2.099956\n",
      "                Unknown                                                                                0.912032\n",
      "                Service does not meet user expectations (user referred) - 31                           0.579572\n",
      "                Temporarily removed interference - 3                                                   0.341392\n",
      "                Exclusions due to debt or at the request of the user - 32                              0.076416\n",
      "4               Fault rectified - interrupt - 1                                                       79.678230\n",
      "                Troubleshooting - degradation 45                                                       6.721971\n",
      "                Unknown                                                                                1.196581\n",
      "                Temporarily removed interference - 3                                                   0.759175\n",
      "                After testing good (error not found) - 2                                               0.301659\n",
      "                Troubleshooting - 35                                                                   0.261438\n",
      "                Exclusions due to debt or at the request of the user - 32                              0.005028\n",
      "Name: final_logout, dtype: float64"
     ]
    }
   ],
   "source": [
    "(df_ticket_filtered_dsl_f2p1.groupby('SOLUTION_LEVEL')['final_logout'].value_counts()/df_ticket_filtered_dsl_fp.groupby('SOLUTION_LEVEL')['final_logout'].count())*100"
   ]
  },
  {
   "cell_type": "markdown",
   "metadata": {},
   "source": [
    "> Now we hav the list of `assetid` which have the `START_DATE_TICKET` reached to the maximum level. However, we should also verify that all `assetid` are available in our inventory database(common overlapping period for all databases in the given period).\n",
    "\n",
    "> So let's get the list of all `assetid` which are present in the inventory."
   ]
  },
  {
   "cell_type": "code",
   "execution_count": 32,
   "metadata": {},
   "outputs": [
    {
     "data": {
      "application/vnd.jupyter.widget-view+json": {
       "model_id": "",
       "version_major": 2,
       "version_minor": 0
      },
      "text/plain": [
       "FloatProgress(value=0.0, bar_style='info', description='Progress:', layout=Layout(height='25px', width='50%'),…"
      ]
     },
     "metadata": {},
     "output_type": "display_data"
    }
   ],
   "source": [
    "df_ticket_filtered_dsl_f2 = df_ticket_filtered_dsl_f2.withColumn('label',F.lit('DSL synchronization'))\n",
    "df_ticket_filtered_dsl_f2 = df_ticket_filtered_dsl_f2.select(F.col('ASSET_ID').alias('assetid')\\\n",
    "                                                             ,F.col('START_DATE_TICKET').alias('incident_date')\\\n",
    "                                                             ,F.col('label').alias('label')\\\n",
    "                                                             ,F.col('SOLUTION_LEVEL').alias('level'))"
   ]
  },
  {
   "cell_type": "markdown",
   "metadata": {},
   "source": [
    "<div class=\"alert alert-block alert-warning\">\n",
    "<b>Filter</b> After having the asset ids with tickets at their maximum levels. We need to filter only thoses asset ids which are there in the inventory. \n",
    "</div>"
   ]
  },
  {
   "cell_type": "code",
   "execution_count": 33,
   "metadata": {},
   "outputs": [
    {
     "data": {
      "application/vnd.jupyter.widget-view+json": {
       "model_id": "",
       "version_major": 2,
       "version_minor": 0
      },
      "text/plain": [
       "FloatProgress(value=0.0, bar_style='info', description='Progress:', layout=Layout(height='25px', width='50%'),…"
      ]
     },
     "metadata": {},
     "output_type": "display_data"
    }
   ],
   "source": [
    "df_tkts_inventory =  spark.read.option(\"header\",\"true\").parquet('hdfs://nameservicedev1//user/dt_srajan/inventory_filtered_with_tickets')"
   ]
  },
  {
   "cell_type": "code",
   "execution_count": 34,
   "metadata": {},
   "outputs": [
    {
     "data": {
      "application/vnd.jupyter.widget-view+json": {
       "model_id": "",
       "version_major": 2,
       "version_minor": 0
      },
      "text/plain": [
       "FloatProgress(value=0.0, bar_style='info', description='Progress:', layout=Layout(height='25px', width='50%'),…"
      ]
     },
     "metadata": {},
     "output_type": "display_data"
    }
   ],
   "source": [
    "df_ticket_filtered_dsl_f3 = df_ticket_filtered_dsl_f2.join(df_tkts_inventory,on='assetid',how='inner')"
   ]
  },
  {
   "cell_type": "code",
   "execution_count": 69,
   "metadata": {},
   "outputs": [
    {
     "data": {
      "application/vnd.jupyter.widget-view+json": {
       "model_id": "",
       "version_major": 2,
       "version_minor": 0
      },
      "text/plain": [
       "FloatProgress(value=0.0, bar_style='info', description='Progress:', layout=Layout(height='25px', width='50%'),…"
      ]
     },
     "metadata": {},
     "output_type": "display_data"
    },
    {
     "name": "stdout",
     "output_type": "stream",
     "text": [
      "+---------+-------------------+-------------------+-----+\n",
      "|  assetid|      incident_date|              label|level|\n",
      "+---------+-------------------+-------------------+-----+\n",
      "|100065331|2020-11-25 20:16:43|DSL synchronization|    3|\n",
      "|100942825|2021-04-09 09:14:53|DSL synchronization|    3|\n",
      "|101203934|2021-03-30 21:07:14|DSL synchronization|    3|\n",
      "|101852767|2021-03-04 08:42:29|DSL synchronization|    4|\n",
      "|101858212|2021-01-14 15:10:41|DSL synchronization|    3|\n",
      "+---------+-------------------+-------------------+-----+\n",
      "only showing top 5 rows"
     ]
    }
   ],
   "source": [
    "df_ticket_filtered_dsl_f3.show(5)"
   ]
  },
  {
   "cell_type": "code",
   "execution_count": 35,
   "metadata": {},
   "outputs": [
    {
     "data": {
      "application/vnd.jupyter.widget-view+json": {
       "model_id": "",
       "version_major": 2,
       "version_minor": 0
      },
      "text/plain": [
       "FloatProgress(value=0.0, bar_style='info', description='Progress:', layout=Layout(height='25px', width='50%'),…"
      ]
     },
     "metadata": {},
     "output_type": "display_data"
    },
    {
     "name": "stdout",
     "output_type": "stream",
     "text": [
      "104058\n",
      "104058"
     ]
    }
   ],
   "source": [
    "print(df_ticket_filtered_dsl_f3.count())\n",
    "df_ticket_filtered_dsl_f3.select('assetid').distinct().count()"
   ]
  },
  {
   "cell_type": "code",
   "execution_count": 71,
   "metadata": {},
   "outputs": [
    {
     "data": {
      "application/vnd.jupyter.widget-view+json": {
       "model_id": "",
       "version_major": 2,
       "version_minor": 0
      },
      "text/plain": [
       "FloatProgress(value=0.0, bar_style='info', description='Progress:', layout=Layout(height='25px', width='50%'),…"
      ]
     },
     "metadata": {},
     "output_type": "display_data"
    },
    {
     "name": "stdout",
     "output_type": "stream",
     "text": [
      "('Level 0 tickets:', 0)\n",
      "\n",
      "\n",
      "('Level 1 tickets:', 0)\n",
      "\n",
      "\n",
      "('Level 2 tickets:', 15382)\n",
      "\n",
      "\n",
      "('Level 3 tickets:', 71589)\n",
      "\n",
      "\n",
      "('Level 4 tickets:', 17087)"
     ]
    }
   ],
   "source": [
    "print('Level 0 tickets:',df_ticket_filtered_dsl_f3.filter(F.col('level')==0).count())\n",
    "print('\\n')\n",
    "print('Level 1 tickets:',df_ticket_filtered_dsl_f3.filter(F.col('level')==1).count())\n",
    "print('\\n')\n",
    "print('Level 2 tickets:',df_ticket_filtered_dsl_f3.filter(F.col('level')==2).count())\n",
    "print('\\n')\n",
    "print('Level 3 tickets:',df_ticket_filtered_dsl_f3.filter(F.col('level')==3).count())\n",
    "print('\\n')\n",
    "print('Level 4 tickets:',df_ticket_filtered_dsl_f3.filter(F.col('level')==4).count())"
   ]
  },
  {
   "cell_type": "code",
   "execution_count": 39,
   "metadata": {},
   "outputs": [
    {
     "data": {
      "application/vnd.jupyter.widget-view+json": {
       "model_id": "",
       "version_major": 2,
       "version_minor": 0
      },
      "text/plain": [
       "FloatProgress(value=0.0, bar_style='info', description='Progress:', layout=Layout(height='25px', width='50%'),…"
      ]
     },
     "metadata": {},
     "output_type": "display_data"
    }
   ],
   "source": [
    "path = '/user/tsystems_vkumar/dsl_tickets/dsl_tkts_all_lvls_uniq_n.parquet'\n",
    "df_ticket_filtered_dsl_f3.repartition(1).write.format('parquet').mode('overwrite').option('header','true').save(path)"
   ]
  },
  {
   "cell_type": "code",
   "execution_count": 40,
   "metadata": {},
   "outputs": [
    {
     "data": {
      "application/vnd.jupyter.widget-view+json": {
       "model_id": "",
       "version_major": 2,
       "version_minor": 0
      },
      "text/plain": [
       "FloatProgress(value=0.0, bar_style='info', description='Progress:', layout=Layout(height='25px', width='50%'),…"
      ]
     },
     "metadata": {},
     "output_type": "display_data"
    }
   ],
   "source": [
    "df_ticket_filtered_dsl_f4 = df_ticket_filtered_dsl_f3.select('assetid','incident_date','label')"
   ]
  },
  {
   "cell_type": "code",
   "execution_count": 41,
   "metadata": {},
   "outputs": [
    {
     "data": {
      "application/vnd.jupyter.widget-view+json": {
       "model_id": "",
       "version_major": 2,
       "version_minor": 0
      },
      "text/plain": [
       "FloatProgress(value=0.0, bar_style='info', description='Progress:', layout=Layout(height='25px', width='50%'),…"
      ]
     },
     "metadata": {},
     "output_type": "display_data"
    }
   ],
   "source": [
    "path = '/user/tsystems_vkumar/dsl_tickets/dsl_tkts_all_lvls_uniq_wolbl.parquet'\n",
    "df_ticket_filtered_dsl_f4.repartition(1).write.format('parquet').mode('overwrite').option('header','true').save(path)"
   ]
  },
  {
   "cell_type": "markdown",
   "metadata": {},
   "source": [
    "## 6. Filter Non DSL tickets for healthy dataset <a class=\"anchor\" id=\"sec15\"></a>"
   ]
  },
  {
   "cell_type": "markdown",
   "metadata": {},
   "source": [
    "Load the created tickets dataset with all issues except Thunderstorm cases."
   ]
  },
  {
   "cell_type": "code",
   "execution_count": 43,
   "metadata": {},
   "outputs": [
    {
     "data": {
      "application/vnd.jupyter.widget-view+json": {
       "model_id": "",
       "version_major": 2,
       "version_minor": 0
      },
      "text/plain": [
       "FloatProgress(value=0.0, bar_style='info', description='Progress:', layout=Layout(height='25px', width='50%'),…"
      ]
     },
     "metadata": {},
     "output_type": "display_data"
    }
   ],
   "source": [
    "df_tickets =  spark.read.option(\"header\",\"true\").parquet('hdfs://nameservicedev1////user/tsystems_vkumar/dsl_tickets/df_all_tkts_wo_thunder.parquet')"
   ]
  },
  {
   "cell_type": "markdown",
   "metadata": {},
   "source": [
    "<div class=\"alert alert-block alert-success\">\n",
    "<b>Conditions:</b> We need to consider Non-DSL tickets which can be included in our healthy dataset to add noise. So after shortlisting below are the non-DSL issues which have been included.\n",
    "</div>\n",
    "\n"
   ]
  },
  {
   "cell_type": "code",
   "execution_count": 44,
   "metadata": {},
   "outputs": [
    {
     "data": {
      "application/vnd.jupyter.widget-view+json": {
       "model_id": "",
       "version_major": 2,
       "version_minor": 0
      },
      "text/plain": [
       "FloatProgress(value=0.0, bar_style='info', description='Progress:', layout=Layout(height='25px', width='50%'),…"
      ]
     },
     "metadata": {},
     "output_type": "display_data"
    }
   ],
   "source": [
    "#df_tickets_dth = df_tickets.filter(F.col(\"SUMMARY\").contains(\"DTH\"))\n",
    "df_tickets_radi = df_tickets.filter(F.col(\"SUMMARY\")=='BEIÈNA VEZA NE RADI')\n",
    "df_tickets_a = df_tickets.filter(F.col(\"SUMMARY\")=='STALNO ZAUZET')\n",
    "df_tickets_b = df_tickets.filter(F.col(\"SUMMARY\")=='NE RADE DOLAZNI NI ODLAZNI POZIVI (VOIP)')\n",
    "df_tickets_c = df_tickets.filter(F.col(\"SUMMARY\")=='DODATNE USLUGE')\n",
    "df_tickets_d = df_tickets.filter(F.col(\"SUMMARY\")=='2. STB SE NE BOOTA')\n",
    "df_tickets_e = df_tickets.filter(F.col(\"SUMMARY\")=='NEISPRAVAN STB')\n",
    "df_tickets_f = df_tickets.filter(F.col(\"SUMMARY\")=='STB SE POVREMENO GASI')\n",
    "df_tickets_g = df_tickets.filter(F.col(\"SUMMARY\")=='NEISPRAVAN DALJINSKI UPRAVLJAÈ')\n",
    "df_tickets_h = df_tickets.filter(F.col(\"SUMMARY\")=='SMETNJA NA VIDEOTECI')"
   ]
  },
  {
   "cell_type": "code",
   "execution_count": 24,
   "metadata": {},
   "outputs": [
    {
     "data": {
      "application/vnd.jupyter.widget-view+json": {
       "model_id": "",
       "version_major": 2,
       "version_minor": 0
      },
      "text/plain": [
       "FloatProgress(value=0.0, bar_style='info', description='Progress:', layout=Layout(height='25px', width='50%'),…"
      ]
     },
     "metadata": {},
     "output_type": "display_data"
    }
   ],
   "source": [
    "#df_tkts_comb = df_tickets_dth.union(df_tickets_radi).union(df_tickets_a).union(df_tickets_c)\\\n",
    " #                            .union(df_tickets_d).union(df_tickets_e).union(df_tickets_f).union(df_tickets_g)\\\n",
    "  #                              .union(df_tickets_h)"
   ]
  },
  {
   "cell_type": "code",
   "execution_count": 46,
   "metadata": {},
   "outputs": [
    {
     "data": {
      "application/vnd.jupyter.widget-view+json": {
       "model_id": "",
       "version_major": 2,
       "version_minor": 0
      },
      "text/plain": [
       "FloatProgress(value=0.0, bar_style='info', description='Progress:', layout=Layout(height='25px', width='50%'),…"
      ]
     },
     "metadata": {},
     "output_type": "display_data"
    }
   ],
   "source": [
    "df_tkts_comb = df_tickets_radi.union(df_tickets_a).union(df_tickets_c)\\\n",
    "                             .union(df_tickets_d).union(df_tickets_e).union(df_tickets_f).union(df_tickets_g)\\\n",
    "                                .union(df_tickets_h)"
   ]
  },
  {
   "cell_type": "code",
   "execution_count": 47,
   "metadata": {},
   "outputs": [
    {
     "data": {
      "application/vnd.jupyter.widget-view+json": {
       "model_id": "",
       "version_major": 2,
       "version_minor": 0
      },
      "text/plain": [
       "FloatProgress(value=0.0, bar_style='info', description='Progress:', layout=Layout(height='25px', width='50%'),…"
      ]
     },
     "metadata": {},
     "output_type": "display_data"
    },
    {
     "name": "stdout",
     "output_type": "stream",
     "text": [
      "array([u'2. STB SE NE BOOTA', u'NEISPRAVAN STB', u'STALNO ZAUZET',\n",
      "       u'BE\\x8eI\\xc8NA VEZA NE RADI', u'SMETNJA NA VIDEOTECI',\n",
      "       u'NEISPRAVAN DALJINSKI UPRAVLJA\\xc8', u'DODATNE USLUGE',\n",
      "       u'STB SE POVREMENO GASI'], dtype=object)"
     ]
    }
   ],
   "source": [
    "df_tkts_comb.select(F.col('SUMMARY')).distinct().toPandas().SUMMARY.unique()"
   ]
  },
  {
   "cell_type": "code",
   "execution_count": 48,
   "metadata": {},
   "outputs": [
    {
     "data": {
      "application/vnd.jupyter.widget-view+json": {
       "model_id": "",
       "version_major": 2,
       "version_minor": 0
      },
      "text/plain": [
       "FloatProgress(value=0.0, bar_style='info', description='Progress:', layout=Layout(height='25px', width='50%'),…"
      ]
     },
     "metadata": {},
     "output_type": "display_data"
    },
    {
     "name": "stdout",
     "output_type": "stream",
     "text": [
      "51019\n",
      "44899"
     ]
    }
   ],
   "source": [
    "df_tkts_comb = df_tkts_comb.dropDuplicates()\n",
    "print(df_tkts_comb.count())\n",
    "df_tkts_comb.select(F.col('ASSET_ID')).distinct().count()"
   ]
  },
  {
   "cell_type": "code",
   "execution_count": 26,
   "metadata": {},
   "outputs": [
    {
     "data": {
      "application/vnd.jupyter.widget-view+json": {
       "model_id": "",
       "version_major": 2,
       "version_minor": 0
      },
      "text/plain": [
       "FloatProgress(value=0.0, bar_style='info', description='Progress:', layout=Layout(height='25px', width='50%'),…"
      ]
     },
     "metadata": {},
     "output_type": "display_data"
    }
   ],
   "source": [
    "df_tkts_comb = spark.read.option(\"header\",\"true\").parquet('hdfs://nameservicedev1///user/tsystems_vkumar/dsl_tickets/df_tkts_non_dsl.parquet')"
   ]
  },
  {
   "cell_type": "markdown",
   "metadata": {},
   "source": [
    "We need to take the lastest issue recorded for all the filtered issue type"
   ]
  },
  {
   "cell_type": "code",
   "execution_count": 49,
   "metadata": {},
   "outputs": [
    {
     "data": {
      "application/vnd.jupyter.widget-view+json": {
       "model_id": "",
       "version_major": 2,
       "version_minor": 0
      },
      "text/plain": [
       "FloatProgress(value=0.0, bar_style='info', description='Progress:', layout=Layout(height='25px', width='50%'),…"
      ]
     },
     "metadata": {},
     "output_type": "display_data"
    }
   ],
   "source": [
    "df_tkts_comb_agg_1 = df_tkts_comb.groupby('ASSET_ID','SUMMARY').agg(F.max('START_DATE_TICKET').alias('START_DATE_TICKET'))"
   ]
  },
  {
   "cell_type": "code",
   "execution_count": 50,
   "metadata": {},
   "outputs": [
    {
     "data": {
      "application/vnd.jupyter.widget-view+json": {
       "model_id": "",
       "version_major": 2,
       "version_minor": 0
      },
      "text/plain": [
       "FloatProgress(value=0.0, bar_style='info', description='Progress:', layout=Layout(height='25px', width='50%'),…"
      ]
     },
     "metadata": {},
     "output_type": "display_data"
    },
    {
     "name": "stdout",
     "output_type": "stream",
     "text": [
      "47540\n",
      "44899"
     ]
    }
   ],
   "source": [
    "print(df_tkts_comb_agg_1.count())\n",
    "df_tkts_comb_agg_1.select(F.col('ASSET_ID')).distinct().count()"
   ]
  },
  {
   "cell_type": "code",
   "execution_count": 51,
   "metadata": {},
   "outputs": [
    {
     "data": {
      "application/vnd.jupyter.widget-view+json": {
       "model_id": "",
       "version_major": 2,
       "version_minor": 0
      },
      "text/plain": [
       "FloatProgress(value=0.0, bar_style='info', description='Progress:', layout=Layout(height='25px', width='50%'),…"
      ]
     },
     "metadata": {},
     "output_type": "display_data"
    },
    {
     "name": "stdout",
     "output_type": "stream",
     "text": [
      "+--------+-------+-----------------+\n",
      "|ASSET_ID|SUMMARY|START_DATE_TICKET|\n",
      "+--------+-------+-----------------+\n",
      "|       0|      0|              560|\n",
      "+--------+-------+-----------------+"
     ]
    }
   ],
   "source": [
    "#Check null count\n",
    "df_tkts_comb_agg_1.select([F.count(F.when(F.isnan(c) | col(c).isNull(), c)).alias(c) for c in df_tkts_comb_agg_1.columns]).show()"
   ]
  },
  {
   "cell_type": "code",
   "execution_count": 52,
   "metadata": {},
   "outputs": [
    {
     "data": {
      "application/vnd.jupyter.widget-view+json": {
       "model_id": "",
       "version_major": 2,
       "version_minor": 0
      },
      "text/plain": [
       "FloatProgress(value=0.0, bar_style='info', description='Progress:', layout=Layout(height='25px', width='50%'),…"
      ]
     },
     "metadata": {},
     "output_type": "display_data"
    }
   ],
   "source": [
    "df_tkts_comb_agg_1 = df_tkts_comb_agg_1.na.drop()"
   ]
  },
  {
   "cell_type": "code",
   "execution_count": 53,
   "metadata": {},
   "outputs": [
    {
     "data": {
      "application/vnd.jupyter.widget-view+json": {
       "model_id": "",
       "version_major": 2,
       "version_minor": 0
      },
      "text/plain": [
       "FloatProgress(value=0.0, bar_style='info', description='Progress:', layout=Layout(height='25px', width='50%'),…"
      ]
     },
     "metadata": {},
     "output_type": "display_data"
    },
    {
     "name": "stdout",
     "output_type": "stream",
     "text": [
      "+---------+-------------------+--------------------+\n",
      "|  assetid|      incident_date|               label|\n",
      "+---------+-------------------+--------------------+\n",
      "|100424784|2021-03-26 16:03:55|       STALNO ZAUZET|\n",
      "|101866361|2020-04-04 20:13:56|       STALNO ZAUZET|\n",
      "|102594887|2020-09-22 14:33:38|       STALNO ZAUZET|\n",
      "|103232787|2020-11-27 08:09:41|NEISPRAVAN DALJIN...|\n",
      "|103318378|2021-01-18 17:31:26|BEIÈNA VEZA NE RADI|\n",
      "+---------+-------------------+--------------------+\n",
      "only showing top 5 rows"
     ]
    }
   ],
   "source": [
    "df_tkts_comb_agg = df_tkts_comb_agg_1.select(F.col('ASSET_ID').alias('assetid'),F.col('START_DATE_TICKET').alias('incident_date'),F.col('SUMMARY').alias('label'))\n",
    "df_tkts_comb_agg.show(5)"
   ]
  },
  {
   "cell_type": "code",
   "execution_count": 54,
   "metadata": {},
   "outputs": [
    {
     "data": {
      "application/vnd.jupyter.widget-view+json": {
       "model_id": "",
       "version_major": 2,
       "version_minor": 0
      },
      "text/plain": [
       "FloatProgress(value=0.0, bar_style='info', description='Progress:', layout=Layout(height='25px', width='50%'),…"
      ]
     },
     "metadata": {},
     "output_type": "display_data"
    },
    {
     "name": "stdout",
     "output_type": "stream",
     "text": [
      "+--------+-------------------+-------------+\n",
      "| assetid|      incident_date|        label|\n",
      "+--------+-------------------+-------------+\n",
      "|39919302|2021-02-09 13:33:12|Non-DSL issue|\n",
      "|49008735|2020-01-18 14:25:24|Non-DSL issue|\n",
      "|47177519|2020-09-09 14:17:01|Non-DSL issue|\n",
      "|61693123|2020-06-01 10:51:53|Non-DSL issue|\n",
      "|83961484|2020-02-20 15:57:03|Non-DSL issue|\n",
      "+--------+-------------------+-------------+\n",
      "only showing top 5 rows"
     ]
    }
   ],
   "source": [
    "df_tkts_comb_agg_1 = df_tkts_comb_agg.drop('label')\n",
    "df_tkts_comb_agg_1 = df_tkts_comb_agg.withColumn('label',F.lit('Non-DSL issue'))\n",
    "df_tkts_comb_agg_1 = df_tkts_comb_agg_1.dropDuplicates()\n",
    "df_tkts_comb_agg_1.show(5)"
   ]
  },
  {
   "cell_type": "markdown",
   "metadata": {},
   "source": [
    "<div class=\"alert alert-block alert-warning\">\n",
    "<b>Filter</b> After having the asset ids with Non-DSL tickets. We need to filter only thoses asset ids which are there in the inventory.\n",
    "</div>"
   ]
  },
  {
   "cell_type": "code",
   "execution_count": 55,
   "metadata": {},
   "outputs": [
    {
     "data": {
      "application/vnd.jupyter.widget-view+json": {
       "model_id": "",
       "version_major": 2,
       "version_minor": 0
      },
      "text/plain": [
       "FloatProgress(value=0.0, bar_style='info', description='Progress:', layout=Layout(height='25px', width='50%'),…"
      ]
     },
     "metadata": {},
     "output_type": "display_data"
    }
   ],
   "source": [
    "df_tkts_comb_agg_2 = df_tkts_comb_agg_1.join(df_tkts_inventory,on='assetid',how='inner')"
   ]
  },
  {
   "cell_type": "code",
   "execution_count": 42,
   "metadata": {},
   "outputs": [
    {
     "data": {
      "application/vnd.jupyter.widget-view+json": {
       "model_id": "",
       "version_major": 2,
       "version_minor": 0
      },
      "text/plain": [
       "FloatProgress(value=0.0, bar_style='info', description='Progress:', layout=Layout(height='25px', width='50%'),…"
      ]
     },
     "metadata": {},
     "output_type": "display_data"
    }
   ],
   "source": [
    "#df_tkts_comb_agg_1 = df_tkts_comb_agg_1.withColumn('incident_date',F.col('incident_date').cast('date'))"
   ]
  },
  {
   "cell_type": "code",
   "execution_count": 57,
   "metadata": {},
   "outputs": [
    {
     "data": {
      "application/vnd.jupyter.widget-view+json": {
       "model_id": "",
       "version_major": 2,
       "version_minor": 0
      },
      "text/plain": [
       "FloatProgress(value=0.0, bar_style='info', description='Progress:', layout=Layout(height='25px', width='50%'),…"
      ]
     },
     "metadata": {},
     "output_type": "display_data"
    }
   ],
   "source": [
    "df_tkts_comb_agg_2 = df_tkts_comb_agg_2.dropDuplicates()"
   ]
  },
  {
   "cell_type": "code",
   "execution_count": 58,
   "metadata": {},
   "outputs": [
    {
     "data": {
      "application/vnd.jupyter.widget-view+json": {
       "model_id": "",
       "version_major": 2,
       "version_minor": 0
      },
      "text/plain": [
       "FloatProgress(value=0.0, bar_style='info', description='Progress:', layout=Layout(height='25px', width='50%'),…"
      ]
     },
     "metadata": {},
     "output_type": "display_data"
    },
    {
     "name": "stdout",
     "output_type": "stream",
     "text": [
      "46097\n",
      "43530"
     ]
    }
   ],
   "source": [
    "print(df_tkts_comb_agg_2.count())\n",
    "df_tkts_comb_agg_2.select(F.col('assetid')).distinct().count()"
   ]
  },
  {
   "cell_type": "code",
   "execution_count": null,
   "metadata": {},
   "outputs": [],
   "source": [
    "from pyspark.sql.functions import *\n",
    "from pyspark.sql.window import Window\n",
    "\n",
    "w = Window.partitionBy(['assetid']).orderBy(desc('incident_date')\n",
    "df_tkts_comb_agg_2 = df_tkts_comb_agg_2.withColumn('Rank',dense_rank().over(w))\n",
    "df_tkts_comb_agg_2 = df_tkts_comb_agg_2.fiter(df_tkts_comb_agg_2.Rank==1)  \n",
    "df_tkts_comb_agg_2.drop(subset=['Rank'])"
   ]
  },
  {
   "cell_type": "code",
   "execution_count": 59,
   "metadata": {},
   "outputs": [
    {
     "data": {
      "application/vnd.jupyter.widget-view+json": {
       "model_id": "",
       "version_major": 2,
       "version_minor": 0
      },
      "text/plain": [
       "FloatProgress(value=0.0, bar_style='info', description='Progress:', layout=Layout(height='25px', width='50%'),…"
      ]
     },
     "metadata": {},
     "output_type": "display_data"
    }
   ],
   "source": [
    "path = '/user/tsystems_vkumar/non_dsl_tickets/non_dsl_tkts_n.parquet'\n",
    "df_tkts_comb_agg_2.repartition(1).write.format('parquet').mode('overwrite').option('header','true').save(path)"
   ]
  },
  {
   "cell_type": "code",
   "execution_count": null,
   "metadata": {},
   "outputs": [],
   "source": []
  },
  {
   "cell_type": "code",
   "execution_count": null,
   "metadata": {},
   "outputs": [],
   "source": []
  },
  {
   "cell_type": "code",
   "execution_count": null,
   "metadata": {},
   "outputs": [],
   "source": []
  },
  {
   "cell_type": "code",
   "execution_count": null,
   "metadata": {},
   "outputs": [],
   "source": []
  },
  {
   "cell_type": "code",
   "execution_count": null,
   "metadata": {},
   "outputs": [],
   "source": []
  },
  {
   "cell_type": "code",
   "execution_count": null,
   "metadata": {},
   "outputs": [],
   "source": []
  },
  {
   "cell_type": "code",
   "execution_count": null,
   "metadata": {},
   "outputs": [],
   "source": []
  },
  {
   "cell_type": "code",
   "execution_count": null,
   "metadata": {},
   "outputs": [],
   "source": []
  },
  {
   "cell_type": "code",
   "execution_count": null,
   "metadata": {},
   "outputs": [],
   "source": []
  },
  {
   "cell_type": "code",
   "execution_count": null,
   "metadata": {},
   "outputs": [],
   "source": []
  },
  {
   "cell_type": "code",
   "execution_count": null,
   "metadata": {},
   "outputs": [],
   "source": []
  },
  {
   "cell_type": "code",
   "execution_count": null,
   "metadata": {},
   "outputs": [],
   "source": []
  },
  {
   "cell_type": "code",
   "execution_count": null,
   "metadata": {},
   "outputs": [],
   "source": []
  },
  {
   "cell_type": "markdown",
   "metadata": {},
   "source": [
    "### Not required  but it's for translation"
   ]
  },
  {
   "cell_type": "code",
   "execution_count": 21,
   "metadata": {},
   "outputs": [
    {
     "data": {
      "application/vnd.jupyter.widget-view+json": {
       "model_id": "",
       "version_major": 2,
       "version_minor": 0
      },
      "text/plain": [
       "FloatProgress(value=0.0, bar_style='info', description='Progress:', layout=Layout(height='25px', width='50%'),…"
      ]
     },
     "metadata": {},
     "output_type": "display_data"
    }
   ],
   "source": [
    "mapping = {'NEISPRAVAN MODEM - TEHNIÈAR':'DEFECTIVE MODEM - TECHNICIAN',\n",
    "'OPTIKA - NEISPRAVAN ONT':'OPTICS - DEFECTIVE ONT',\n",
    "'DSL SINHRONIZIRAN: POVREMENI PREKIDI KONEKCIJE':'DSL SYNCHRONIZED, OCCASIONAL INTERRUPTIONS',\n",
    "'NEMA TEL. SIGNALA':'NO TEL. SIGNAL',\n",
    "'NEISPRAVAN MODEM':'DEFECTIVE MODEM',\n",
    "'STALNO ZAUZET':'CONSTANTLY OCCUPIED',\n",
    "'NE PROLAZI BOOT PROCEDURA':'DOES NOT PASS THE BOOT PROCEDURE',\n",
    "'MAXNET MINI':'MAXNET MINI',\n",
    "'KORISNIÈKA OPREMA':'USER EQUIPMENT',\n",
    "'DSL SINHRONIZACIJA - PREKID':'DSL SYNCHRONIZATION - INTERRUPTION',\n",
    "'POTEKOÆA S BRZINOM':'DIFFICULTY WITH SPEED',\n",
    "'NE RADE DOLAZNI NI ODLAZNI POZIVI (VOIP)':'INBOUT OR OUTFLOW CALLS (VOIP) DO NOT WORK',\n",
    "'DSL SINHRONIZACIJA - POVREMENI PREKIDI':'DSL SYNCHRONIZATION - OCCASIONAL INTERRUPTIONS',\n",
    "'DTH - POVREMENO SE GUBI SATELITSKI SIGNAL':'DTH - OCCASIONALLY LOSS SATELLITE SIGNAL',\n",
    "'NEMOGUÆE UTVRDITI':'IMPOSSIBLE TO DETERMINE',\n",
    "'BEIÈNA VEZA NE RADI':'WIRELESS DOES NOT WORK',\n",
    "'MODEM NEISPRAVAN (GRMLJAVINA)':'MODEM FAULT (THUNDERSTORM)',\n",
    "'NEISPRAVAN MODEM (GRMLJAVINA)':'DEFECTIVE MODEM (THUNDERSTORM)',\n",
    "'NE RADE DOLAZNI POZIVI':'INCOMING CALLS DO NOT WORK',\n",
    "'MODEM NEISPRAVAN (GRMLJAVINA) - TEHNIÈAR':'MODEM FAULT (THUNDERSTORM) - TECHNICIAN',\n",
    "'DODATNE USLUGE':'ADDITIONAL SERVICES',\n",
    "'DTH - NEMA SATELITSKOG SIGNALA':'DTH - NO SATELLITE SIGNAL',\n",
    "'NE RADE DOLAZNI NI ODLAZNI POZIVI':'INCOMING OR OUTGOING CALLS DO NOT WORK',\n",
    "'NEISPRAVAN IP TELEFON':'DEFECTIVE IP PHONE',\n",
    "'DTH - NEUSPJENO UPARIVANJE':'DTH - PAIR FAILURE',\n",
    "'NEISPRAVAN MODEM (VoIP) - TEHNIÈAR':'DEFECTIVE MODEM (VoIP) - TECHNICIAN',\n",
    "'2. STB SE NE BOOTA':'2. STB SE NE BOOTA',\n",
    "'NEISPRAVAN STB':'DEFECTIVE STB',\n",
    "'NEISPRAVAN MODEM (GRMLJAVINA) - TEHNIÈAR':'DEFECTIVE MODEM (THUNDERSTORM) - TECHNICIAN',\n",
    "'STB SE POVREMENO GASI':'STB IS OCCASIONALLY EXTINGUISHED',\n",
    "'USER SPOJEN: NE OTVARA STRANICE':'USER CONNECTED, DOES NOT OPEN PAGES',\n",
    "'ZAMRZAVANJE SLIKE':'PICTURE FREEZING',\n",
    "'NEISPRAVAN DALJINSKI UPRAVLJAÈ':'DEFECTIVE REMOTE CONTROL',\n",
    "'NE RADI SWITCH':'SWITCH DOES NOT WORK',\n",
    "'OPTIKA - POVREMENI PREKIDI /NEMA OPTIÈKOG LINKA':'OPTICS - OCCASIONAL INTERRUPTIONS / NO OPTICAL LINK',\n",
    "'SMETNJA NA SNIMALICI':'INTERFERENCE ON THE RECORDER',\n",
    "'DSL SINHRONIZIRAN: USER SE NE SPAJA':'DSL SYNCHRONIZED, USER DOES NOT CONNECT',\n",
    "'NE VIDE SE POJEDINI KANALI':'INDIVIDUAL CHANNELS CANNOT BE SEEN',\n",
    "'OPTIKA - NEMA AKTIVACIJE MODEMA':'OPTICS - NO MODEM ACTIVATION',\n",
    "'NEISPRAVAN STB (GRMLJAVINA)':'DEFECTIVE STB (THUNDERSTORM)',\n",
    "'NEMA ZVUKA':'NO SOUND',\n",
    "'DTH - NEISPRAVNA DEKODERSKA KARTICA':'DTH - DEFECTIVE DECODER CARD',\n",
    "'GREKA NA KUÆNOJ INSTALACIJI':'HOUSEHOLD INSTALLATION ERROR',\n",
    "'NEISPRAVAN MODEM (VoIP)':'FAULT MODEM (VoIP)',\n",
    "'NE RADE SAMO DOLAZNI POZIVI':'ONLY INCOMING CALLS DO NOT WORK',\n",
    "'NEISPRAVAN MEDIATRIX':'DEFECTIVE MEDIATRIX',\n",
    "'PROBLEMI S DALJINSKIM UPRAVLJAÈEM':'REMOTE CONTROL PROBLEMS',\n",
    "'OPTIKA - OTEÆENA KUÆNA OPTIÈKA INSTALACIJA':'OPTICS - DAMAGED HOME OPTICAL INSTALLATION',\n",
    "'OPTIKA - NEISPRAVAN ONT (GRMLJAVINA)':'OPTICS - DEFECTIVE ONT (THUNDER)',\n",
    "'IÈNA VEZA MODEM  - PC NE RADI':'WIRE CONNECTION MODEM - PC DOES NOT WORK',\n",
    "'TRZANJE SLIKE':'PICTURE PICTURE',\n",
    "'SLABA ÈUJNOST':'POOR HEARING',\n",
    "'NE RADE SAMO ODLAZNI POZIVI':'ONLY OUTSTANDING CALLS DO NOT WORK',\n",
    "'DTH - novi transponder':'DTH - new transponder',\n",
    "'Prekid HA usluge':'Termination of HA service',\n",
    "'Prekid usluga i prekid 4G backup-a':'Interruption of services and termination of 4G backup',\n",
    "'PREKID VEZE KOD JAVLJANJA':'DISCONNECTION AT THE REPORT',\n",
    "'DTH - OTEÆEN ANTENSKI SUSTAV':'DTH - DAMAGED ANTENNA SYSTEM',\n",
    "'SMETNJE U TOKU VEZE (UM)':'INTERFERENCE DURING CONNECTION (NOISE)',\n",
    "'NE RADI - JTG':'NOT WORKING - JTG',\n",
    "'STALNO ZVONI':'CONSTANTLY RINGS',\n",
    "'SMETNJA NA USLUZI SIGURAN DOM':'INTERFERENCE WITH SAFE HOME SERVICE',\n",
    "'OPTIKA - IMA LINKA - NEMA AKTIVACIJE ONT-a':'OPTIKA - THERE IS A LINK - NO ONT ACTIVATION',\n",
    "'SMETNJE U TOKU VEZE (JEKA:KANJENJE GLASA)':'INTERFERENCE DURING THE COMMUNICATION (Echo, VOICE DELAY)',\n",
    "'TeraStream ? prekid':'TeraStream? break',\n",
    "'DTH - NEMA ZEMALJSKIH KANALA':'DTH - NO EARTH CHANNELS',\n",
    "'SMETNJA NA VIDEOTECI':'INTERFERENCE AT THE VIDEO LIBRARY',\n",
    "'DTH - KANAL KODIRAN':'DTH - CHANNEL CHANNEL',\n",
    "'PRESLUAVANJE U TOKU RAZGOVORA':'LISTENING DURING THE INTERVIEW',\n",
    "'ZAMJENA BROJEVA':'NUMBER REPLACEMENT',\n",
    "'NE RADE ODLAZNI POZIVI':'DETAILED CALLS DO NOT WORK',\n",
    "'Multi Office - POTEKOÆA KOD PRISTUPA LOKACIJAMA':'Multi Office - DIFFICULTIES IN ACCESSING LOCATIONS',\n",
    "'JEDNOSTRANA ÈUJNOST':'UNILATERAL HEARING',\n",
    "'NE RADI INTERNET (DIAL - UP)':'THE INTERNET DOES NOT WORK (DIAL - UP)',\n",
    "'MaxTv2Go':'MaxTv2Go',\n",
    "'HotSpotFon':'HotSpotFon',\n",
    "'NE RADE DODATNE OPCIJE (TXT: WIDGET: EPG)':'ADDITIONAL OPTIONS (TXT, WIDGET, EPG) DO NOT WORK',\n",
    "'POS APARAT NE RADI':'POS APPLIANCE DOES NOT WORK',\n",
    "'NEISPRAVAN MODEM - TCENTAR':'DEFECTIVE MODEM - TCENTAR',\n",
    "'Nema podataka':'No data',\n",
    "'MODEM NEISPRAVAN (GRMLJAVINA) - DISTRIBUTER':'MODEM DEFECTIVE (THUNDERSTORM) - DISTRIBUTOR',\n",
    "'NEMA REGISTRACIJE BROJA':'NO NUMBER REGISTRATION',\n",
    "'NEISPRAVAN MODEM - DISTRIBUTER':'DEFECTIVE MODEM - DISTRIBUTOR',\n",
    "'MODEM NEISPRAVAN (GRMLJAVINA) - TCENTAR':'MODEM DEFECTIVE (THUNDERSTORM) - TCENTAR',\n",
    "'SPLITER NEISPRAVAN':'SPLITTER DEFECTIVE',\n",
    "'NEISPRAVAN MODEM (GRMLJAVINA) - DISTRIBUTER':'DEFECTIVE MODEM (THUNDERSTORM) - DISTRIBUTOR',\n",
    "'NEISPRAVAN MODEM (VoIP) - TCENTAR':'FAULT MODEM (VoIP) - TCENTAR',\n",
    "'NEISPRAVAN MODEM (GRMLJAVINA) - TCENTAR':'DEFECTIVE MODEM (THUNDERSTORM) - TCENTAR',\n",
    "'NE RADI FAX':'FAX WORKS',\n",
    "'Terastream ? neispravan modem':'Terastream? faulty modem',\n",
    "'NE RADI POS APARAT':'POS APARTMENT DOES NOT WORK',\n",
    "'Terastream ?  degradacija':'Terastream? degradation',\n",
    "'TeraStream - povremeni prekidi':'TeraStream - intermittent interruptions',\n",
    "'NEISPRAVAN MODEM (VoIP) - DISTRIBUTER':'DEFECTIVE MODEM (VoIP) - DISTRIBUTOR'}"
   ]
  },
  {
   "cell_type": "code",
   "execution_count": 22,
   "metadata": {},
   "outputs": [
    {
     "data": {
      "application/vnd.jupyter.widget-view+json": {
       "model_id": "",
       "version_major": 2,
       "version_minor": 0
      },
      "text/plain": [
       "FloatProgress(value=0.0, bar_style='info', description='Progress:', layout=Layout(height='25px', width='50%'),…"
      ]
     },
     "metadata": {},
     "output_type": "display_data"
    }
   ],
   "source": [
    "df_tkts_comb_agg_3 = df_tkts_comb_agg_2.replace(to_replace=mapping,subset=['LABEL'])"
   ]
  },
  {
   "cell_type": "code",
   "execution_count": 23,
   "metadata": {},
   "outputs": [
    {
     "data": {
      "application/vnd.jupyter.widget-view+json": {
       "model_id": "",
       "version_major": 2,
       "version_minor": 0
      },
      "text/plain": [
       "FloatProgress(value=0.0, bar_style='info', description='Progress:', layout=Layout(height='25px', width='50%'),…"
      ]
     },
     "metadata": {},
     "output_type": "display_data"
    },
    {
     "name": "stdout",
     "output_type": "stream",
     "text": [
      "+--------------------+\n",
      "|               LABEL|\n",
      "+--------------------+\n",
      "|  2. STB SE NE BOOTA|\n",
      "|DTH - OCCASIONALL...|\n",
      "|DEFECTIVE REMOTE ...|\n",
      "| ADDITIONAL SERVICES|\n",
      "|DTH - NO EARTH CH...|\n",
      "| CONSTANTLY OCCUPIED|\n",
      "|WIRELESS DOES NOT...|\n",
      "|STB IS OCCASIONAL...|\n",
      "|DTH - DAMAGED ANT...|\n",
      "|  DTH - PAIR FAILURE|\n",
      "|DTH - CHANNEL CHA...|\n",
      "|DTH - NO SATELLIT...|\n",
      "|INTERFERENCE AT T...|\n",
      "|DTH - new transpo...|\n",
      "|DTH - DEFECTIVE D...|\n",
      "|       DEFECTIVE STB|\n",
      "+--------------------+"
     ]
    }
   ],
   "source": [
    "df_tkts_comb_agg_3.select(F.col('LABEL')).distinct().show()"
   ]
  },
  {
   "cell_type": "code",
   "execution_count": 24,
   "metadata": {},
   "outputs": [
    {
     "data": {
      "application/vnd.jupyter.widget-view+json": {
       "model_id": "",
       "version_major": 2,
       "version_minor": 0
      },
      "text/plain": [
       "FloatProgress(value=0.0, bar_style='info', description='Progress:', layout=Layout(height='25px', width='50%'),…"
      ]
     },
     "metadata": {},
     "output_type": "display_data"
    },
    {
     "name": "stdout",
     "output_type": "stream",
     "text": [
      "+---------+-------------------+--------------------+\n",
      "| ASSET_ID|         START_DATE|               LABEL|\n",
      "+---------+-------------------+--------------------+\n",
      "|100424784|2021-03-26 16:03:55| CONSTANTLY OCCUPIED|\n",
      "|101866361|2020-04-04 20:13:56| CONSTANTLY OCCUPIED|\n",
      "|102594887|2020-09-22 14:33:38| CONSTANTLY OCCUPIED|\n",
      "|103232787|2020-11-27 08:09:41|DEFECTIVE REMOTE ...|\n",
      "|103318378|2021-01-18 17:31:26|WIRELESS DOES NOT...|\n",
      "+---------+-------------------+--------------------+\n",
      "only showing top 5 rows"
     ]
    }
   ],
   "source": [
    "df_tkts_comb_agg_3.show(5)"
   ]
  },
  {
   "cell_type": "code",
   "execution_count": 25,
   "metadata": {},
   "outputs": [
    {
     "data": {
      "application/vnd.jupyter.widget-view+json": {
       "model_id": "",
       "version_major": 2,
       "version_minor": 0
      },
      "text/plain": [
       "FloatProgress(value=0.0, bar_style='info', description='Progress:', layout=Layout(height='25px', width='50%'),…"
      ]
     },
     "metadata": {},
     "output_type": "display_data"
    }
   ],
   "source": [
    "path = '/user/tsystems_vkumar/dsl_tickets/df_tkts_non_dsl_sel_final.parquet'\n",
    "df_tkts_comb_agg_3.repartition(1).write.format('parquet').mode('overwrite').option('header','true').save(path)"
   ]
  },
  {
   "cell_type": "code",
   "execution_count": null,
   "metadata": {},
   "outputs": [],
   "source": []
  },
  {
   "cell_type": "code",
   "execution_count": null,
   "metadata": {},
   "outputs": [],
   "source": []
  }
 ],
 "metadata": {
  "kernelspec": {
   "display_name": "PySpark",
   "language": "",
   "name": "pysparkkernel"
  },
  "language_info": {
   "codemirror_mode": {
    "name": "python",
    "version": 3
   },
   "mimetype": "text/x-python",
   "name": "pyspark",
   "pygments_lexer": "python3"
  }
 },
 "nbformat": 4,
 "nbformat_minor": 4
}
